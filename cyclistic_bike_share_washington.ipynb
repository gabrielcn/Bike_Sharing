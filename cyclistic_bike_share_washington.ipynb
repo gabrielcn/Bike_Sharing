{
  "nbformat": 4,
  "nbformat_minor": 0,
  "metadata": {
    "colab": {
      "name": "cyclistic_bike_share_washington.ipynb",
      "provenance": [],
      "collapsed_sections": [],
      "toc_visible": true,
      "authorship_tag": "ABX9TyMgHFxUuBuZj3Cox8+0KXiG",
      "include_colab_link": true
    },
    "kernelspec": {
      "name": "python3",
      "display_name": "Python 3"
    },
    "language_info": {
      "name": "python"
    }
  },
  "cells": [
    {
      "cell_type": "markdown",
      "metadata": {
        "id": "view-in-github",
        "colab_type": "text"
      },
      "source": [
        "<a href=\"https://colab.research.google.com/github/gabrielcn/Bike_Sharing/blob/main/cyclistic_bike_share_washington.ipynb\" target=\"_parent\"><img src=\"https://colab.research.google.com/assets/colab-badge.svg\" alt=\"Open In Colab\"/></a>"
      ]
    },
    {
      "cell_type": "markdown",
      "source": [
        "### ***Compartilhamento de bicicletas em Washington - 2016 (Capitalbikeshare)***\n"
      ],
      "metadata": {
        "id": "95ExmNg-CTyA"
      }
    },
    {
      "cell_type": "code",
      "execution_count": 1,
      "metadata": {
        "id": "Y9hkAQRU-P-9"
      },
      "outputs": [],
      "source": [
        "import pandas as pd #Importa a biblioteca pandas para ler o arquivo\n",
        "import seaborn as sns #Importa a biblioteca seaborn\n",
        "import matplotlib.pyplot as plt #Importa a bilbioteca matplotlib\n",
        "import csv \n",
        "from datetime import datetime #operações para analisar datas"
      ]
    },
    {
      "cell_type": "code",
      "source": [
        "df_was = pd.read_csv(\"Washington-2016-Summary.csv\") #Atribui a uma variável "
      ],
      "metadata": {
        "id": "PVTQ0gv4_O1k"
      },
      "execution_count": 2,
      "outputs": []
    },
    {
      "cell_type": "code",
      "source": [
        "df_was"
      ],
      "metadata": {
        "colab": {
          "base_uri": "https://localhost:8080/",
          "height": 424
        },
        "id": "BZkb8uGfCKR9",
        "outputId": "2d4f5fee-97dd-4fd4-8028-b6bc1d42e746"
      },
      "execution_count": 3,
      "outputs": [
        {
          "output_type": "execute_result",
          "data": {
            "text/plain": [
              "        duration  month  hour day_of_week   user_type\n",
              "0       7.123117      3    22    Thursday  Subscriber\n",
              "1       9.792517      3    22    Thursday  Subscriber\n",
              "2       6.632983      3    22    Thursday  Subscriber\n",
              "3       7.404700      3    22    Thursday  Subscriber\n",
              "4      13.014583      3    22    Thursday  Subscriber\n",
              "...          ...    ...   ...         ...         ...\n",
              "66321  15.421933     10     8    Saturday  Subscriber\n",
              "66322   6.355217     10     5    Saturday  Subscriber\n",
              "66323  17.632783     10     2    Saturday  Subscriber\n",
              "66324   3.377233     10     0    Saturday  Subscriber\n",
              "66325   4.341450     10     0    Saturday  Subscriber\n",
              "\n",
              "[66326 rows x 5 columns]"
            ],
            "text/html": [
              "\n",
              "  <div id=\"df-95575bd9-56f7-4e64-a6ad-6a24ff7e8773\">\n",
              "    <div class=\"colab-df-container\">\n",
              "      <div>\n",
              "<style scoped>\n",
              "    .dataframe tbody tr th:only-of-type {\n",
              "        vertical-align: middle;\n",
              "    }\n",
              "\n",
              "    .dataframe tbody tr th {\n",
              "        vertical-align: top;\n",
              "    }\n",
              "\n",
              "    .dataframe thead th {\n",
              "        text-align: right;\n",
              "    }\n",
              "</style>\n",
              "<table border=\"1\" class=\"dataframe\">\n",
              "  <thead>\n",
              "    <tr style=\"text-align: right;\">\n",
              "      <th></th>\n",
              "      <th>duration</th>\n",
              "      <th>month</th>\n",
              "      <th>hour</th>\n",
              "      <th>day_of_week</th>\n",
              "      <th>user_type</th>\n",
              "    </tr>\n",
              "  </thead>\n",
              "  <tbody>\n",
              "    <tr>\n",
              "      <th>0</th>\n",
              "      <td>7.123117</td>\n",
              "      <td>3</td>\n",
              "      <td>22</td>\n",
              "      <td>Thursday</td>\n",
              "      <td>Subscriber</td>\n",
              "    </tr>\n",
              "    <tr>\n",
              "      <th>1</th>\n",
              "      <td>9.792517</td>\n",
              "      <td>3</td>\n",
              "      <td>22</td>\n",
              "      <td>Thursday</td>\n",
              "      <td>Subscriber</td>\n",
              "    </tr>\n",
              "    <tr>\n",
              "      <th>2</th>\n",
              "      <td>6.632983</td>\n",
              "      <td>3</td>\n",
              "      <td>22</td>\n",
              "      <td>Thursday</td>\n",
              "      <td>Subscriber</td>\n",
              "    </tr>\n",
              "    <tr>\n",
              "      <th>3</th>\n",
              "      <td>7.404700</td>\n",
              "      <td>3</td>\n",
              "      <td>22</td>\n",
              "      <td>Thursday</td>\n",
              "      <td>Subscriber</td>\n",
              "    </tr>\n",
              "    <tr>\n",
              "      <th>4</th>\n",
              "      <td>13.014583</td>\n",
              "      <td>3</td>\n",
              "      <td>22</td>\n",
              "      <td>Thursday</td>\n",
              "      <td>Subscriber</td>\n",
              "    </tr>\n",
              "    <tr>\n",
              "      <th>...</th>\n",
              "      <td>...</td>\n",
              "      <td>...</td>\n",
              "      <td>...</td>\n",
              "      <td>...</td>\n",
              "      <td>...</td>\n",
              "    </tr>\n",
              "    <tr>\n",
              "      <th>66321</th>\n",
              "      <td>15.421933</td>\n",
              "      <td>10</td>\n",
              "      <td>8</td>\n",
              "      <td>Saturday</td>\n",
              "      <td>Subscriber</td>\n",
              "    </tr>\n",
              "    <tr>\n",
              "      <th>66322</th>\n",
              "      <td>6.355217</td>\n",
              "      <td>10</td>\n",
              "      <td>5</td>\n",
              "      <td>Saturday</td>\n",
              "      <td>Subscriber</td>\n",
              "    </tr>\n",
              "    <tr>\n",
              "      <th>66323</th>\n",
              "      <td>17.632783</td>\n",
              "      <td>10</td>\n",
              "      <td>2</td>\n",
              "      <td>Saturday</td>\n",
              "      <td>Subscriber</td>\n",
              "    </tr>\n",
              "    <tr>\n",
              "      <th>66324</th>\n",
              "      <td>3.377233</td>\n",
              "      <td>10</td>\n",
              "      <td>0</td>\n",
              "      <td>Saturday</td>\n",
              "      <td>Subscriber</td>\n",
              "    </tr>\n",
              "    <tr>\n",
              "      <th>66325</th>\n",
              "      <td>4.341450</td>\n",
              "      <td>10</td>\n",
              "      <td>0</td>\n",
              "      <td>Saturday</td>\n",
              "      <td>Subscriber</td>\n",
              "    </tr>\n",
              "  </tbody>\n",
              "</table>\n",
              "<p>66326 rows × 5 columns</p>\n",
              "</div>\n",
              "      <button class=\"colab-df-convert\" onclick=\"convertToInteractive('df-95575bd9-56f7-4e64-a6ad-6a24ff7e8773')\"\n",
              "              title=\"Convert this dataframe to an interactive table.\"\n",
              "              style=\"display:none;\">\n",
              "        \n",
              "  <svg xmlns=\"http://www.w3.org/2000/svg\" height=\"24px\"viewBox=\"0 0 24 24\"\n",
              "       width=\"24px\">\n",
              "    <path d=\"M0 0h24v24H0V0z\" fill=\"none\"/>\n",
              "    <path d=\"M18.56 5.44l.94 2.06.94-2.06 2.06-.94-2.06-.94-.94-2.06-.94 2.06-2.06.94zm-11 1L8.5 8.5l.94-2.06 2.06-.94-2.06-.94L8.5 2.5l-.94 2.06-2.06.94zm10 10l.94 2.06.94-2.06 2.06-.94-2.06-.94-.94-2.06-.94 2.06-2.06.94z\"/><path d=\"M17.41 7.96l-1.37-1.37c-.4-.4-.92-.59-1.43-.59-.52 0-1.04.2-1.43.59L10.3 9.45l-7.72 7.72c-.78.78-.78 2.05 0 2.83L4 21.41c.39.39.9.59 1.41.59.51 0 1.02-.2 1.41-.59l7.78-7.78 2.81-2.81c.8-.78.8-2.07 0-2.86zM5.41 20L4 18.59l7.72-7.72 1.47 1.35L5.41 20z\"/>\n",
              "  </svg>\n",
              "      </button>\n",
              "      \n",
              "  <style>\n",
              "    .colab-df-container {\n",
              "      display:flex;\n",
              "      flex-wrap:wrap;\n",
              "      gap: 12px;\n",
              "    }\n",
              "\n",
              "    .colab-df-convert {\n",
              "      background-color: #E8F0FE;\n",
              "      border: none;\n",
              "      border-radius: 50%;\n",
              "      cursor: pointer;\n",
              "      display: none;\n",
              "      fill: #1967D2;\n",
              "      height: 32px;\n",
              "      padding: 0 0 0 0;\n",
              "      width: 32px;\n",
              "    }\n",
              "\n",
              "    .colab-df-convert:hover {\n",
              "      background-color: #E2EBFA;\n",
              "      box-shadow: 0px 1px 2px rgba(60, 64, 67, 0.3), 0px 1px 3px 1px rgba(60, 64, 67, 0.15);\n",
              "      fill: #174EA6;\n",
              "    }\n",
              "\n",
              "    [theme=dark] .colab-df-convert {\n",
              "      background-color: #3B4455;\n",
              "      fill: #D2E3FC;\n",
              "    }\n",
              "\n",
              "    [theme=dark] .colab-df-convert:hover {\n",
              "      background-color: #434B5C;\n",
              "      box-shadow: 0px 1px 3px 1px rgba(0, 0, 0, 0.15);\n",
              "      filter: drop-shadow(0px 1px 2px rgba(0, 0, 0, 0.3));\n",
              "      fill: #FFFFFF;\n",
              "    }\n",
              "  </style>\n",
              "\n",
              "      <script>\n",
              "        const buttonEl =\n",
              "          document.querySelector('#df-95575bd9-56f7-4e64-a6ad-6a24ff7e8773 button.colab-df-convert');\n",
              "        buttonEl.style.display =\n",
              "          google.colab.kernel.accessAllowed ? 'block' : 'none';\n",
              "\n",
              "        async function convertToInteractive(key) {\n",
              "          const element = document.querySelector('#df-95575bd9-56f7-4e64-a6ad-6a24ff7e8773');\n",
              "          const dataTable =\n",
              "            await google.colab.kernel.invokeFunction('convertToInteractive',\n",
              "                                                     [key], {});\n",
              "          if (!dataTable) return;\n",
              "\n",
              "          const docLinkHtml = 'Like what you see? Visit the ' +\n",
              "            '<a target=\"_blank\" href=https://colab.research.google.com/notebooks/data_table.ipynb>data table notebook</a>'\n",
              "            + ' to learn more about interactive tables.';\n",
              "          element.innerHTML = '';\n",
              "          dataTable['output_type'] = 'display_data';\n",
              "          await google.colab.output.renderOutput(dataTable, element);\n",
              "          const docLink = document.createElement('div');\n",
              "          docLink.innerHTML = docLinkHtml;\n",
              "          element.appendChild(docLink);\n",
              "        }\n",
              "      </script>\n",
              "    </div>\n",
              "  </div>\n",
              "  "
            ]
          },
          "metadata": {},
          "execution_count": 3
        }
      ]
    },
    {
      "cell_type": "code",
      "source": [
        "df_was.shape #Formato da tabela"
      ],
      "metadata": {
        "id": "PR3mlGGJ3kR_",
        "colab": {
          "base_uri": "https://localhost:8080/"
        },
        "outputId": "8fa545d6-03af-4321-99f9-79bb838c81ca"
      },
      "execution_count": 4,
      "outputs": [
        {
          "output_type": "execute_result",
          "data": {
            "text/plain": [
              "(66326, 5)"
            ]
          },
          "metadata": {},
          "execution_count": 4
        }
      ]
    },
    {
      "cell_type": "code",
      "source": [
        "df_was.columns = [\"duracao\" , \"mes\" , \"hora\" , \"dia_semana\", \"tipo_usuario\"] #renomear colunas [] lista (columns é um atributo do pandas)\n",
        "df_was.head()"
      ],
      "metadata": {
        "colab": {
          "base_uri": "https://localhost:8080/",
          "height": 206
        },
        "id": "2kwAfu4CGHyq",
        "outputId": "9ba70bdf-de8e-463b-fd0a-cf9501789487"
      },
      "execution_count": 5,
      "outputs": [
        {
          "output_type": "execute_result",
          "data": {
            "text/plain": [
              "     duracao  mes  hora dia_semana tipo_usuario\n",
              "0   7.123117    3    22   Thursday   Subscriber\n",
              "1   9.792517    3    22   Thursday   Subscriber\n",
              "2   6.632983    3    22   Thursday   Subscriber\n",
              "3   7.404700    3    22   Thursday   Subscriber\n",
              "4  13.014583    3    22   Thursday   Subscriber"
            ],
            "text/html": [
              "\n",
              "  <div id=\"df-be8cccf0-dc30-4926-960f-777216af816c\">\n",
              "    <div class=\"colab-df-container\">\n",
              "      <div>\n",
              "<style scoped>\n",
              "    .dataframe tbody tr th:only-of-type {\n",
              "        vertical-align: middle;\n",
              "    }\n",
              "\n",
              "    .dataframe tbody tr th {\n",
              "        vertical-align: top;\n",
              "    }\n",
              "\n",
              "    .dataframe thead th {\n",
              "        text-align: right;\n",
              "    }\n",
              "</style>\n",
              "<table border=\"1\" class=\"dataframe\">\n",
              "  <thead>\n",
              "    <tr style=\"text-align: right;\">\n",
              "      <th></th>\n",
              "      <th>duracao</th>\n",
              "      <th>mes</th>\n",
              "      <th>hora</th>\n",
              "      <th>dia_semana</th>\n",
              "      <th>tipo_usuario</th>\n",
              "    </tr>\n",
              "  </thead>\n",
              "  <tbody>\n",
              "    <tr>\n",
              "      <th>0</th>\n",
              "      <td>7.123117</td>\n",
              "      <td>3</td>\n",
              "      <td>22</td>\n",
              "      <td>Thursday</td>\n",
              "      <td>Subscriber</td>\n",
              "    </tr>\n",
              "    <tr>\n",
              "      <th>1</th>\n",
              "      <td>9.792517</td>\n",
              "      <td>3</td>\n",
              "      <td>22</td>\n",
              "      <td>Thursday</td>\n",
              "      <td>Subscriber</td>\n",
              "    </tr>\n",
              "    <tr>\n",
              "      <th>2</th>\n",
              "      <td>6.632983</td>\n",
              "      <td>3</td>\n",
              "      <td>22</td>\n",
              "      <td>Thursday</td>\n",
              "      <td>Subscriber</td>\n",
              "    </tr>\n",
              "    <tr>\n",
              "      <th>3</th>\n",
              "      <td>7.404700</td>\n",
              "      <td>3</td>\n",
              "      <td>22</td>\n",
              "      <td>Thursday</td>\n",
              "      <td>Subscriber</td>\n",
              "    </tr>\n",
              "    <tr>\n",
              "      <th>4</th>\n",
              "      <td>13.014583</td>\n",
              "      <td>3</td>\n",
              "      <td>22</td>\n",
              "      <td>Thursday</td>\n",
              "      <td>Subscriber</td>\n",
              "    </tr>\n",
              "  </tbody>\n",
              "</table>\n",
              "</div>\n",
              "      <button class=\"colab-df-convert\" onclick=\"convertToInteractive('df-be8cccf0-dc30-4926-960f-777216af816c')\"\n",
              "              title=\"Convert this dataframe to an interactive table.\"\n",
              "              style=\"display:none;\">\n",
              "        \n",
              "  <svg xmlns=\"http://www.w3.org/2000/svg\" height=\"24px\"viewBox=\"0 0 24 24\"\n",
              "       width=\"24px\">\n",
              "    <path d=\"M0 0h24v24H0V0z\" fill=\"none\"/>\n",
              "    <path d=\"M18.56 5.44l.94 2.06.94-2.06 2.06-.94-2.06-.94-.94-2.06-.94 2.06-2.06.94zm-11 1L8.5 8.5l.94-2.06 2.06-.94-2.06-.94L8.5 2.5l-.94 2.06-2.06.94zm10 10l.94 2.06.94-2.06 2.06-.94-2.06-.94-.94-2.06-.94 2.06-2.06.94z\"/><path d=\"M17.41 7.96l-1.37-1.37c-.4-.4-.92-.59-1.43-.59-.52 0-1.04.2-1.43.59L10.3 9.45l-7.72 7.72c-.78.78-.78 2.05 0 2.83L4 21.41c.39.39.9.59 1.41.59.51 0 1.02-.2 1.41-.59l7.78-7.78 2.81-2.81c.8-.78.8-2.07 0-2.86zM5.41 20L4 18.59l7.72-7.72 1.47 1.35L5.41 20z\"/>\n",
              "  </svg>\n",
              "      </button>\n",
              "      \n",
              "  <style>\n",
              "    .colab-df-container {\n",
              "      display:flex;\n",
              "      flex-wrap:wrap;\n",
              "      gap: 12px;\n",
              "    }\n",
              "\n",
              "    .colab-df-convert {\n",
              "      background-color: #E8F0FE;\n",
              "      border: none;\n",
              "      border-radius: 50%;\n",
              "      cursor: pointer;\n",
              "      display: none;\n",
              "      fill: #1967D2;\n",
              "      height: 32px;\n",
              "      padding: 0 0 0 0;\n",
              "      width: 32px;\n",
              "    }\n",
              "\n",
              "    .colab-df-convert:hover {\n",
              "      background-color: #E2EBFA;\n",
              "      box-shadow: 0px 1px 2px rgba(60, 64, 67, 0.3), 0px 1px 3px 1px rgba(60, 64, 67, 0.15);\n",
              "      fill: #174EA6;\n",
              "    }\n",
              "\n",
              "    [theme=dark] .colab-df-convert {\n",
              "      background-color: #3B4455;\n",
              "      fill: #D2E3FC;\n",
              "    }\n",
              "\n",
              "    [theme=dark] .colab-df-convert:hover {\n",
              "      background-color: #434B5C;\n",
              "      box-shadow: 0px 1px 3px 1px rgba(0, 0, 0, 0.15);\n",
              "      filter: drop-shadow(0px 1px 2px rgba(0, 0, 0, 0.3));\n",
              "      fill: #FFFFFF;\n",
              "    }\n",
              "  </style>\n",
              "\n",
              "      <script>\n",
              "        const buttonEl =\n",
              "          document.querySelector('#df-be8cccf0-dc30-4926-960f-777216af816c button.colab-df-convert');\n",
              "        buttonEl.style.display =\n",
              "          google.colab.kernel.accessAllowed ? 'block' : 'none';\n",
              "\n",
              "        async function convertToInteractive(key) {\n",
              "          const element = document.querySelector('#df-be8cccf0-dc30-4926-960f-777216af816c');\n",
              "          const dataTable =\n",
              "            await google.colab.kernel.invokeFunction('convertToInteractive',\n",
              "                                                     [key], {});\n",
              "          if (!dataTable) return;\n",
              "\n",
              "          const docLinkHtml = 'Like what you see? Visit the ' +\n",
              "            '<a target=\"_blank\" href=https://colab.research.google.com/notebooks/data_table.ipynb>data table notebook</a>'\n",
              "            + ' to learn more about interactive tables.';\n",
              "          element.innerHTML = '';\n",
              "          dataTable['output_type'] = 'display_data';\n",
              "          await google.colab.output.renderOutput(dataTable, element);\n",
              "          const docLink = document.createElement('div');\n",
              "          docLink.innerHTML = docLinkHtml;\n",
              "          element.appendChild(docLink);\n",
              "        }\n",
              "      </script>\n",
              "    </div>\n",
              "  </div>\n",
              "  "
            ]
          },
          "metadata": {},
          "execution_count": 5
        }
      ]
    },
    {
      "cell_type": "code",
      "source": [
        "df_was['mes'].unique() #Todos os valores que foram colocados na coluna mes"
      ],
      "metadata": {
        "colab": {
          "base_uri": "https://localhost:8080/"
        },
        "id": "zujbQNa6GSCo",
        "outputId": "929aabfb-3bf4-4d30-fd0b-af215e61a90d"
      },
      "execution_count": 6,
      "outputs": [
        {
          "output_type": "execute_result",
          "data": {
            "text/plain": [
              "array([ 3,  2,  1,  4,  5,  6,  8,  7,  9, 12, 11, 10])"
            ]
          },
          "metadata": {},
          "execution_count": 6
        }
      ]
    },
    {
      "cell_type": "code",
      "source": [
        "df_was['mes'].value_counts() #Quantas vezes em cada mes"
      ],
      "metadata": {
        "colab": {
          "base_uri": "https://localhost:8080/"
        },
        "id": "A1hWVzAjGZ54",
        "outputId": "7ffbb999-38d2-4dd3-ad07-262c9a539c24"
      },
      "execution_count": 7,
      "outputs": [
        {
          "output_type": "execute_result",
          "data": {
            "text/plain": [
              "7     7341\n",
              "6     7320\n",
              "8     7198\n",
              "9     6878\n",
              "10    6792\n",
              "5     5768\n",
              "4     5602\n",
              "3     5571\n",
              "11    5214\n",
              "12    3354\n",
              "2     2854\n",
              "1     2434\n",
              "Name: mes, dtype: int64"
            ]
          },
          "metadata": {},
          "execution_count": 7
        }
      ]
    },
    {
      "cell_type": "code",
      "source": [
        "df_was['dia_semana'].value_counts() #Quantas vezes em cada dia"
      ],
      "metadata": {
        "colab": {
          "base_uri": "https://localhost:8080/"
        },
        "id": "MHMT1k9lGn2Q",
        "outputId": "b8aef1d3-2315-4566-cbdc-14c5aee6b78b"
      },
      "execution_count": 8,
      "outputs": [
        {
          "output_type": "execute_result",
          "data": {
            "text/plain": [
              "Wednesday    10103\n",
              "Thursday      9984\n",
              "Friday        9970\n",
              "Tuesday       9748\n",
              "Monday        9394\n",
              "Saturday      8900\n",
              "Sunday        8227\n",
              "Name: dia_semana, dtype: int64"
            ]
          },
          "metadata": {},
          "execution_count": 8
        }
      ]
    },
    {
      "cell_type": "markdown",
      "source": [
        "**Quantidade de viagens por dia no ano de 2016**"
      ],
      "metadata": {
        "id": "5dlDbHzb43m5"
      }
    },
    {
      "cell_type": "code",
      "source": [
        "qtd_viagem_por_dia_was = df_was['dia_semana'].value_counts() #Quantas vezes em cada dia"
      ],
      "metadata": {
        "id": "W4dOoZkD8Pdu"
      },
      "execution_count": 9,
      "outputs": []
    },
    {
      "cell_type": "code",
      "source": [
        "qtd_viagem_por_dia_was #Washington"
      ],
      "metadata": {
        "id": "eNeHzxFDIXWA",
        "colab": {
          "base_uri": "https://localhost:8080/"
        },
        "outputId": "f542de07-f0c9-4353-ef4d-c1e0f55ab5ff"
      },
      "execution_count": 10,
      "outputs": [
        {
          "output_type": "execute_result",
          "data": {
            "text/plain": [
              "Wednesday    10103\n",
              "Thursday      9984\n",
              "Friday        9970\n",
              "Tuesday       9748\n",
              "Monday        9394\n",
              "Saturday      8900\n",
              "Sunday        8227\n",
              "Name: dia_semana, dtype: int64"
            ]
          },
          "metadata": {},
          "execution_count": 10
        }
      ]
    },
    {
      "cell_type": "code",
      "source": [
        "qtd_viagem_por_dia_was.to_frame()"
      ],
      "metadata": {
        "id": "Waqr7-sEIdhg",
        "colab": {
          "base_uri": "https://localhost:8080/",
          "height": 269
        },
        "outputId": "c5b246f6-e9bd-46d7-89f4-8d15609b8cf3"
      },
      "execution_count": 11,
      "outputs": [
        {
          "output_type": "execute_result",
          "data": {
            "text/plain": [
              "           dia_semana\n",
              "Wednesday       10103\n",
              "Thursday         9984\n",
              "Friday           9970\n",
              "Tuesday          9748\n",
              "Monday           9394\n",
              "Saturday         8900\n",
              "Sunday           8227"
            ],
            "text/html": [
              "\n",
              "  <div id=\"df-a504ad62-0675-42d9-b914-4796d227cf5b\">\n",
              "    <div class=\"colab-df-container\">\n",
              "      <div>\n",
              "<style scoped>\n",
              "    .dataframe tbody tr th:only-of-type {\n",
              "        vertical-align: middle;\n",
              "    }\n",
              "\n",
              "    .dataframe tbody tr th {\n",
              "        vertical-align: top;\n",
              "    }\n",
              "\n",
              "    .dataframe thead th {\n",
              "        text-align: right;\n",
              "    }\n",
              "</style>\n",
              "<table border=\"1\" class=\"dataframe\">\n",
              "  <thead>\n",
              "    <tr style=\"text-align: right;\">\n",
              "      <th></th>\n",
              "      <th>dia_semana</th>\n",
              "    </tr>\n",
              "  </thead>\n",
              "  <tbody>\n",
              "    <tr>\n",
              "      <th>Wednesday</th>\n",
              "      <td>10103</td>\n",
              "    </tr>\n",
              "    <tr>\n",
              "      <th>Thursday</th>\n",
              "      <td>9984</td>\n",
              "    </tr>\n",
              "    <tr>\n",
              "      <th>Friday</th>\n",
              "      <td>9970</td>\n",
              "    </tr>\n",
              "    <tr>\n",
              "      <th>Tuesday</th>\n",
              "      <td>9748</td>\n",
              "    </tr>\n",
              "    <tr>\n",
              "      <th>Monday</th>\n",
              "      <td>9394</td>\n",
              "    </tr>\n",
              "    <tr>\n",
              "      <th>Saturday</th>\n",
              "      <td>8900</td>\n",
              "    </tr>\n",
              "    <tr>\n",
              "      <th>Sunday</th>\n",
              "      <td>8227</td>\n",
              "    </tr>\n",
              "  </tbody>\n",
              "</table>\n",
              "</div>\n",
              "      <button class=\"colab-df-convert\" onclick=\"convertToInteractive('df-a504ad62-0675-42d9-b914-4796d227cf5b')\"\n",
              "              title=\"Convert this dataframe to an interactive table.\"\n",
              "              style=\"display:none;\">\n",
              "        \n",
              "  <svg xmlns=\"http://www.w3.org/2000/svg\" height=\"24px\"viewBox=\"0 0 24 24\"\n",
              "       width=\"24px\">\n",
              "    <path d=\"M0 0h24v24H0V0z\" fill=\"none\"/>\n",
              "    <path d=\"M18.56 5.44l.94 2.06.94-2.06 2.06-.94-2.06-.94-.94-2.06-.94 2.06-2.06.94zm-11 1L8.5 8.5l.94-2.06 2.06-.94-2.06-.94L8.5 2.5l-.94 2.06-2.06.94zm10 10l.94 2.06.94-2.06 2.06-.94-2.06-.94-.94-2.06-.94 2.06-2.06.94z\"/><path d=\"M17.41 7.96l-1.37-1.37c-.4-.4-.92-.59-1.43-.59-.52 0-1.04.2-1.43.59L10.3 9.45l-7.72 7.72c-.78.78-.78 2.05 0 2.83L4 21.41c.39.39.9.59 1.41.59.51 0 1.02-.2 1.41-.59l7.78-7.78 2.81-2.81c.8-.78.8-2.07 0-2.86zM5.41 20L4 18.59l7.72-7.72 1.47 1.35L5.41 20z\"/>\n",
              "  </svg>\n",
              "      </button>\n",
              "      \n",
              "  <style>\n",
              "    .colab-df-container {\n",
              "      display:flex;\n",
              "      flex-wrap:wrap;\n",
              "      gap: 12px;\n",
              "    }\n",
              "\n",
              "    .colab-df-convert {\n",
              "      background-color: #E8F0FE;\n",
              "      border: none;\n",
              "      border-radius: 50%;\n",
              "      cursor: pointer;\n",
              "      display: none;\n",
              "      fill: #1967D2;\n",
              "      height: 32px;\n",
              "      padding: 0 0 0 0;\n",
              "      width: 32px;\n",
              "    }\n",
              "\n",
              "    .colab-df-convert:hover {\n",
              "      background-color: #E2EBFA;\n",
              "      box-shadow: 0px 1px 2px rgba(60, 64, 67, 0.3), 0px 1px 3px 1px rgba(60, 64, 67, 0.15);\n",
              "      fill: #174EA6;\n",
              "    }\n",
              "\n",
              "    [theme=dark] .colab-df-convert {\n",
              "      background-color: #3B4455;\n",
              "      fill: #D2E3FC;\n",
              "    }\n",
              "\n",
              "    [theme=dark] .colab-df-convert:hover {\n",
              "      background-color: #434B5C;\n",
              "      box-shadow: 0px 1px 3px 1px rgba(0, 0, 0, 0.15);\n",
              "      filter: drop-shadow(0px 1px 2px rgba(0, 0, 0, 0.3));\n",
              "      fill: #FFFFFF;\n",
              "    }\n",
              "  </style>\n",
              "\n",
              "      <script>\n",
              "        const buttonEl =\n",
              "          document.querySelector('#df-a504ad62-0675-42d9-b914-4796d227cf5b button.colab-df-convert');\n",
              "        buttonEl.style.display =\n",
              "          google.colab.kernel.accessAllowed ? 'block' : 'none';\n",
              "\n",
              "        async function convertToInteractive(key) {\n",
              "          const element = document.querySelector('#df-a504ad62-0675-42d9-b914-4796d227cf5b');\n",
              "          const dataTable =\n",
              "            await google.colab.kernel.invokeFunction('convertToInteractive',\n",
              "                                                     [key], {});\n",
              "          if (!dataTable) return;\n",
              "\n",
              "          const docLinkHtml = 'Like what you see? Visit the ' +\n",
              "            '<a target=\"_blank\" href=https://colab.research.google.com/notebooks/data_table.ipynb>data table notebook</a>'\n",
              "            + ' to learn more about interactive tables.';\n",
              "          element.innerHTML = '';\n",
              "          dataTable['output_type'] = 'display_data';\n",
              "          await google.colab.output.renderOutput(dataTable, element);\n",
              "          const docLink = document.createElement('div');\n",
              "          docLink.innerHTML = docLinkHtml;\n",
              "          element.appendChild(docLink);\n",
              "        }\n",
              "      </script>\n",
              "    </div>\n",
              "  </div>\n",
              "  "
            ]
          },
          "metadata": {},
          "execution_count": 11
        }
      ]
    },
    {
      "cell_type": "code",
      "source": [
        "df_qtd_viagem_por_dia_was = qtd_viagem_por_dia_was.to_frame().reset_index()"
      ],
      "metadata": {
        "id": "xbxCKTngJB1b"
      },
      "execution_count": 12,
      "outputs": []
    },
    {
      "cell_type": "code",
      "source": [
        "df_qtd_viagem_por_dia_was #Quantidade total de viagens por dia em 2016"
      ],
      "metadata": {
        "id": "lxT_zka8JH8_",
        "colab": {
          "base_uri": "https://localhost:8080/",
          "height": 269
        },
        "outputId": "b772549d-8d84-44bb-a21b-67c2823689b4"
      },
      "execution_count": 13,
      "outputs": [
        {
          "output_type": "execute_result",
          "data": {
            "text/plain": [
              "       index  dia_semana\n",
              "0  Wednesday       10103\n",
              "1   Thursday        9984\n",
              "2     Friday        9970\n",
              "3    Tuesday        9748\n",
              "4     Monday        9394\n",
              "5   Saturday        8900\n",
              "6     Sunday        8227"
            ],
            "text/html": [
              "\n",
              "  <div id=\"df-2ab43701-3fb5-44ac-857b-164868ac6d12\">\n",
              "    <div class=\"colab-df-container\">\n",
              "      <div>\n",
              "<style scoped>\n",
              "    .dataframe tbody tr th:only-of-type {\n",
              "        vertical-align: middle;\n",
              "    }\n",
              "\n",
              "    .dataframe tbody tr th {\n",
              "        vertical-align: top;\n",
              "    }\n",
              "\n",
              "    .dataframe thead th {\n",
              "        text-align: right;\n",
              "    }\n",
              "</style>\n",
              "<table border=\"1\" class=\"dataframe\">\n",
              "  <thead>\n",
              "    <tr style=\"text-align: right;\">\n",
              "      <th></th>\n",
              "      <th>index</th>\n",
              "      <th>dia_semana</th>\n",
              "    </tr>\n",
              "  </thead>\n",
              "  <tbody>\n",
              "    <tr>\n",
              "      <th>0</th>\n",
              "      <td>Wednesday</td>\n",
              "      <td>10103</td>\n",
              "    </tr>\n",
              "    <tr>\n",
              "      <th>1</th>\n",
              "      <td>Thursday</td>\n",
              "      <td>9984</td>\n",
              "    </tr>\n",
              "    <tr>\n",
              "      <th>2</th>\n",
              "      <td>Friday</td>\n",
              "      <td>9970</td>\n",
              "    </tr>\n",
              "    <tr>\n",
              "      <th>3</th>\n",
              "      <td>Tuesday</td>\n",
              "      <td>9748</td>\n",
              "    </tr>\n",
              "    <tr>\n",
              "      <th>4</th>\n",
              "      <td>Monday</td>\n",
              "      <td>9394</td>\n",
              "    </tr>\n",
              "    <tr>\n",
              "      <th>5</th>\n",
              "      <td>Saturday</td>\n",
              "      <td>8900</td>\n",
              "    </tr>\n",
              "    <tr>\n",
              "      <th>6</th>\n",
              "      <td>Sunday</td>\n",
              "      <td>8227</td>\n",
              "    </tr>\n",
              "  </tbody>\n",
              "</table>\n",
              "</div>\n",
              "      <button class=\"colab-df-convert\" onclick=\"convertToInteractive('df-2ab43701-3fb5-44ac-857b-164868ac6d12')\"\n",
              "              title=\"Convert this dataframe to an interactive table.\"\n",
              "              style=\"display:none;\">\n",
              "        \n",
              "  <svg xmlns=\"http://www.w3.org/2000/svg\" height=\"24px\"viewBox=\"0 0 24 24\"\n",
              "       width=\"24px\">\n",
              "    <path d=\"M0 0h24v24H0V0z\" fill=\"none\"/>\n",
              "    <path d=\"M18.56 5.44l.94 2.06.94-2.06 2.06-.94-2.06-.94-.94-2.06-.94 2.06-2.06.94zm-11 1L8.5 8.5l.94-2.06 2.06-.94-2.06-.94L8.5 2.5l-.94 2.06-2.06.94zm10 10l.94 2.06.94-2.06 2.06-.94-2.06-.94-.94-2.06-.94 2.06-2.06.94z\"/><path d=\"M17.41 7.96l-1.37-1.37c-.4-.4-.92-.59-1.43-.59-.52 0-1.04.2-1.43.59L10.3 9.45l-7.72 7.72c-.78.78-.78 2.05 0 2.83L4 21.41c.39.39.9.59 1.41.59.51 0 1.02-.2 1.41-.59l7.78-7.78 2.81-2.81c.8-.78.8-2.07 0-2.86zM5.41 20L4 18.59l7.72-7.72 1.47 1.35L5.41 20z\"/>\n",
              "  </svg>\n",
              "      </button>\n",
              "      \n",
              "  <style>\n",
              "    .colab-df-container {\n",
              "      display:flex;\n",
              "      flex-wrap:wrap;\n",
              "      gap: 12px;\n",
              "    }\n",
              "\n",
              "    .colab-df-convert {\n",
              "      background-color: #E8F0FE;\n",
              "      border: none;\n",
              "      border-radius: 50%;\n",
              "      cursor: pointer;\n",
              "      display: none;\n",
              "      fill: #1967D2;\n",
              "      height: 32px;\n",
              "      padding: 0 0 0 0;\n",
              "      width: 32px;\n",
              "    }\n",
              "\n",
              "    .colab-df-convert:hover {\n",
              "      background-color: #E2EBFA;\n",
              "      box-shadow: 0px 1px 2px rgba(60, 64, 67, 0.3), 0px 1px 3px 1px rgba(60, 64, 67, 0.15);\n",
              "      fill: #174EA6;\n",
              "    }\n",
              "\n",
              "    [theme=dark] .colab-df-convert {\n",
              "      background-color: #3B4455;\n",
              "      fill: #D2E3FC;\n",
              "    }\n",
              "\n",
              "    [theme=dark] .colab-df-convert:hover {\n",
              "      background-color: #434B5C;\n",
              "      box-shadow: 0px 1px 3px 1px rgba(0, 0, 0, 0.15);\n",
              "      filter: drop-shadow(0px 1px 2px rgba(0, 0, 0, 0.3));\n",
              "      fill: #FFFFFF;\n",
              "    }\n",
              "  </style>\n",
              "\n",
              "      <script>\n",
              "        const buttonEl =\n",
              "          document.querySelector('#df-2ab43701-3fb5-44ac-857b-164868ac6d12 button.colab-df-convert');\n",
              "        buttonEl.style.display =\n",
              "          google.colab.kernel.accessAllowed ? 'block' : 'none';\n",
              "\n",
              "        async function convertToInteractive(key) {\n",
              "          const element = document.querySelector('#df-2ab43701-3fb5-44ac-857b-164868ac6d12');\n",
              "          const dataTable =\n",
              "            await google.colab.kernel.invokeFunction('convertToInteractive',\n",
              "                                                     [key], {});\n",
              "          if (!dataTable) return;\n",
              "\n",
              "          const docLinkHtml = 'Like what you see? Visit the ' +\n",
              "            '<a target=\"_blank\" href=https://colab.research.google.com/notebooks/data_table.ipynb>data table notebook</a>'\n",
              "            + ' to learn more about interactive tables.';\n",
              "          element.innerHTML = '';\n",
              "          dataTable['output_type'] = 'display_data';\n",
              "          await google.colab.output.renderOutput(dataTable, element);\n",
              "          const docLink = document.createElement('div');\n",
              "          docLink.innerHTML = docLinkHtml;\n",
              "          element.appendChild(docLink);\n",
              "        }\n",
              "      </script>\n",
              "    </div>\n",
              "  </div>\n",
              "  "
            ]
          },
          "metadata": {},
          "execution_count": 13
        }
      ]
    },
    {
      "cell_type": "code",
      "source": [
        "df_qtd_viagem_por_dia_was.columns = [\"dias\", \"total\"]\n",
        "df_qtd_viagem_por_dia_was"
      ],
      "metadata": {
        "id": "SdMgBkvmJKq5",
        "colab": {
          "base_uri": "https://localhost:8080/",
          "height": 269
        },
        "outputId": "682d0633-313d-4099-bc41-d2b215759ff1"
      },
      "execution_count": 14,
      "outputs": [
        {
          "output_type": "execute_result",
          "data": {
            "text/plain": [
              "        dias  total\n",
              "0  Wednesday  10103\n",
              "1   Thursday   9984\n",
              "2     Friday   9970\n",
              "3    Tuesday   9748\n",
              "4     Monday   9394\n",
              "5   Saturday   8900\n",
              "6     Sunday   8227"
            ],
            "text/html": [
              "\n",
              "  <div id=\"df-c11807e6-5897-4909-b0c9-3270f50188ac\">\n",
              "    <div class=\"colab-df-container\">\n",
              "      <div>\n",
              "<style scoped>\n",
              "    .dataframe tbody tr th:only-of-type {\n",
              "        vertical-align: middle;\n",
              "    }\n",
              "\n",
              "    .dataframe tbody tr th {\n",
              "        vertical-align: top;\n",
              "    }\n",
              "\n",
              "    .dataframe thead th {\n",
              "        text-align: right;\n",
              "    }\n",
              "</style>\n",
              "<table border=\"1\" class=\"dataframe\">\n",
              "  <thead>\n",
              "    <tr style=\"text-align: right;\">\n",
              "      <th></th>\n",
              "      <th>dias</th>\n",
              "      <th>total</th>\n",
              "    </tr>\n",
              "  </thead>\n",
              "  <tbody>\n",
              "    <tr>\n",
              "      <th>0</th>\n",
              "      <td>Wednesday</td>\n",
              "      <td>10103</td>\n",
              "    </tr>\n",
              "    <tr>\n",
              "      <th>1</th>\n",
              "      <td>Thursday</td>\n",
              "      <td>9984</td>\n",
              "    </tr>\n",
              "    <tr>\n",
              "      <th>2</th>\n",
              "      <td>Friday</td>\n",
              "      <td>9970</td>\n",
              "    </tr>\n",
              "    <tr>\n",
              "      <th>3</th>\n",
              "      <td>Tuesday</td>\n",
              "      <td>9748</td>\n",
              "    </tr>\n",
              "    <tr>\n",
              "      <th>4</th>\n",
              "      <td>Monday</td>\n",
              "      <td>9394</td>\n",
              "    </tr>\n",
              "    <tr>\n",
              "      <th>5</th>\n",
              "      <td>Saturday</td>\n",
              "      <td>8900</td>\n",
              "    </tr>\n",
              "    <tr>\n",
              "      <th>6</th>\n",
              "      <td>Sunday</td>\n",
              "      <td>8227</td>\n",
              "    </tr>\n",
              "  </tbody>\n",
              "</table>\n",
              "</div>\n",
              "      <button class=\"colab-df-convert\" onclick=\"convertToInteractive('df-c11807e6-5897-4909-b0c9-3270f50188ac')\"\n",
              "              title=\"Convert this dataframe to an interactive table.\"\n",
              "              style=\"display:none;\">\n",
              "        \n",
              "  <svg xmlns=\"http://www.w3.org/2000/svg\" height=\"24px\"viewBox=\"0 0 24 24\"\n",
              "       width=\"24px\">\n",
              "    <path d=\"M0 0h24v24H0V0z\" fill=\"none\"/>\n",
              "    <path d=\"M18.56 5.44l.94 2.06.94-2.06 2.06-.94-2.06-.94-.94-2.06-.94 2.06-2.06.94zm-11 1L8.5 8.5l.94-2.06 2.06-.94-2.06-.94L8.5 2.5l-.94 2.06-2.06.94zm10 10l.94 2.06.94-2.06 2.06-.94-2.06-.94-.94-2.06-.94 2.06-2.06.94z\"/><path d=\"M17.41 7.96l-1.37-1.37c-.4-.4-.92-.59-1.43-.59-.52 0-1.04.2-1.43.59L10.3 9.45l-7.72 7.72c-.78.78-.78 2.05 0 2.83L4 21.41c.39.39.9.59 1.41.59.51 0 1.02-.2 1.41-.59l7.78-7.78 2.81-2.81c.8-.78.8-2.07 0-2.86zM5.41 20L4 18.59l7.72-7.72 1.47 1.35L5.41 20z\"/>\n",
              "  </svg>\n",
              "      </button>\n",
              "      \n",
              "  <style>\n",
              "    .colab-df-container {\n",
              "      display:flex;\n",
              "      flex-wrap:wrap;\n",
              "      gap: 12px;\n",
              "    }\n",
              "\n",
              "    .colab-df-convert {\n",
              "      background-color: #E8F0FE;\n",
              "      border: none;\n",
              "      border-radius: 50%;\n",
              "      cursor: pointer;\n",
              "      display: none;\n",
              "      fill: #1967D2;\n",
              "      height: 32px;\n",
              "      padding: 0 0 0 0;\n",
              "      width: 32px;\n",
              "    }\n",
              "\n",
              "    .colab-df-convert:hover {\n",
              "      background-color: #E2EBFA;\n",
              "      box-shadow: 0px 1px 2px rgba(60, 64, 67, 0.3), 0px 1px 3px 1px rgba(60, 64, 67, 0.15);\n",
              "      fill: #174EA6;\n",
              "    }\n",
              "\n",
              "    [theme=dark] .colab-df-convert {\n",
              "      background-color: #3B4455;\n",
              "      fill: #D2E3FC;\n",
              "    }\n",
              "\n",
              "    [theme=dark] .colab-df-convert:hover {\n",
              "      background-color: #434B5C;\n",
              "      box-shadow: 0px 1px 3px 1px rgba(0, 0, 0, 0.15);\n",
              "      filter: drop-shadow(0px 1px 2px rgba(0, 0, 0, 0.3));\n",
              "      fill: #FFFFFF;\n",
              "    }\n",
              "  </style>\n",
              "\n",
              "      <script>\n",
              "        const buttonEl =\n",
              "          document.querySelector('#df-c11807e6-5897-4909-b0c9-3270f50188ac button.colab-df-convert');\n",
              "        buttonEl.style.display =\n",
              "          google.colab.kernel.accessAllowed ? 'block' : 'none';\n",
              "\n",
              "        async function convertToInteractive(key) {\n",
              "          const element = document.querySelector('#df-c11807e6-5897-4909-b0c9-3270f50188ac');\n",
              "          const dataTable =\n",
              "            await google.colab.kernel.invokeFunction('convertToInteractive',\n",
              "                                                     [key], {});\n",
              "          if (!dataTable) return;\n",
              "\n",
              "          const docLinkHtml = 'Like what you see? Visit the ' +\n",
              "            '<a target=\"_blank\" href=https://colab.research.google.com/notebooks/data_table.ipynb>data table notebook</a>'\n",
              "            + ' to learn more about interactive tables.';\n",
              "          element.innerHTML = '';\n",
              "          dataTable['output_type'] = 'display_data';\n",
              "          await google.colab.output.renderOutput(dataTable, element);\n",
              "          const docLink = document.createElement('div');\n",
              "          docLink.innerHTML = docLinkHtml;\n",
              "          element.appendChild(docLink);\n",
              "        }\n",
              "      </script>\n",
              "    </div>\n",
              "  </div>\n",
              "  "
            ]
          },
          "metadata": {},
          "execution_count": 14
        }
      ]
    },
    {
      "cell_type": "code",
      "source": [
        "sns.catplot(x=\"dias\", y=\"total\", data = df_qtd_viagem_por_dia_was, aspect = 2)"
      ],
      "metadata": {
        "id": "mf8grmYpJOwX",
        "colab": {
          "base_uri": "https://localhost:8080/",
          "height": 386
        },
        "outputId": "f9eca260-1507-4b06-cfee-e9ccda03eb82"
      },
      "execution_count": 15,
      "outputs": [
        {
          "output_type": "execute_result",
          "data": {
            "text/plain": [
              "<seaborn.axisgrid.FacetGrid at 0x7fde197ca1d0>"
            ]
          },
          "metadata": {},
          "execution_count": 15
        },
        {
          "output_type": "display_data",
          "data": {
            "text/plain": [
              "<Figure size 720x360 with 1 Axes>"
            ],
            "image/png": "[encoded data removed]"
          },
          "metadata": {
            "needs_background": "light"
          }
        }
      ]
    },
    {
      "cell_type": "code",
      "source": [
        "plt.figure(figsize=(10,6)) #Configura o tamanho da figura (10 para direita e 6 para baixo)\n",
        "sns.barplot(x=\"dias\", y=\"total\", data = df_qtd_viagem_por_dia_was, palette = \"viridis\") #pallete, atributo que permite escolher um palete de cor, no caso é viridis"
      ],
      "metadata": {
        "id": "qK3I2QQPJR2z",
        "colab": {
          "base_uri": "https://localhost:8080/",
          "height": 405
        },
        "outputId": "d54bd09c-36f9-410c-c0dd-0cb39fd0ccef"
      },
      "execution_count": 16,
      "outputs": [
        {
          "output_type": "execute_result",
          "data": {
            "text/plain": [
              "<matplotlib.axes._subplots.AxesSubplot at 0x7fde18ed6750>"
            ]
          },
          "metadata": {},
          "execution_count": 16
        },
        {
          "output_type": "display_data",
          "data": {
            "text/plain": [
              "<Figure size 720x432 with 1 Axes>"
            ],
            "image/png": "[encoded data removed]"
          },
          "metadata": {
            "needs_background": "light"
          }
        }
      ]
    },
    {
      "cell_type": "markdown",
      "source": [
        "**Usuarios Inscritos e Usuarios \"Visitantes\"**"
      ],
      "metadata": {
        "id": "R-F0r4ntFU3I"
      }
    },
    {
      "cell_type": "code",
      "source": [
        "subscriber_was = df_was.loc[df_was.tipo_usuario=='Subscriber'].value_counts().sum()"
      ],
      "metadata": {
        "id": "5U3Ldzyn9WAT"
      },
      "execution_count": 17,
      "outputs": []
    },
    {
      "cell_type": "code",
      "source": [
        "subscriber_was"
      ],
      "metadata": {
        "colab": {
          "base_uri": "https://localhost:8080/"
        },
        "id": "z33W4BMN-rg1",
        "outputId": "dcda5e12-551a-42a3-aac5-774b6dc5b096"
      },
      "execution_count": 18,
      "outputs": [
        {
          "output_type": "execute_result",
          "data": {
            "text/plain": [
              "51753"
            ]
          },
          "metadata": {},
          "execution_count": 18
        }
      ]
    },
    {
      "cell_type": "code",
      "source": [
        "customer_was = df_was.loc[df_was.tipo_usuario=='Customer'].value_counts().sum()"
      ],
      "metadata": {
        "id": "TCkLWclb-t-c"
      },
      "execution_count": 19,
      "outputs": []
    },
    {
      "cell_type": "code",
      "source": [
        "customer_was"
      ],
      "metadata": {
        "colab": {
          "base_uri": "https://localhost:8080/"
        },
        "id": "umEfUktoBOsv",
        "outputId": "5a08fbfc-967d-4753-82d9-3dc342461995"
      },
      "execution_count": 20,
      "outputs": [
        {
          "output_type": "execute_result",
          "data": {
            "text/plain": [
              "14573"
            ]
          },
          "metadata": {},
          "execution_count": 20
        }
      ]
    },
    {
      "cell_type": "markdown",
      "source": [
        "**Frequencia dos tipos de usuários em relação ao horário**"
      ],
      "metadata": {
        "id": "uFZ_nMU4c7JI"
      }
    },
    {
      "cell_type": "markdown",
      "source": [
        ""
      ],
      "metadata": {
        "id": "9jrQA3WvE13B"
      }
    },
    {
      "cell_type": "markdown",
      "source": [
        "Quartis: Os quartis dividem os dados em quatro partes. Ordenando os dados cada quartil vai possuir 25% das observações. Ou seja, os primeiros 25% das observação estarão até o corte do 1º quartil, os próximos 25% até o corte do 2º quartil, etc.\n",
        "\n",
        "Limites: O limite inferior é calculado sendo, geralmente, 1,5 vezes o corte do 1º quartil e o limite superior sendo 1,5 vezes o corte do 3º quartil.\n",
        "O corte do segundo quartil é igual a mediana.\n",
        "\n",
        "Outliers são observações atípicas, muito afastadas da maioria dos dados. Num boxplot esses valores ficam abaixo do limite inferior ou acima do limite superior.\n",
        "\n",
        "![boxplot.png](data:image/png;base64,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)"
      ],
      "metadata": {
        "id": "WmzTSLLNGeWM"
      }
    },
    {
      "cell_type": "code",
      "source": [
        "plt.figure(figsize=(10,8))\n",
        "sns.boxplot(x=\"tipo_usuario\", y=\"hora\", data = df_was) "
      ],
      "metadata": {
        "colab": {
          "base_uri": "https://localhost:8080/",
          "height": 515
        },
        "id": "sii7AqEeBRfp",
        "outputId": "409ac3a4-7c48-48a9-b61a-0b494949e759"
      },
      "execution_count": 21,
      "outputs": [
        {
          "output_type": "execute_result",
          "data": {
            "text/plain": [
              "<matplotlib.axes._subplots.AxesSubplot at 0x7fde161cdcd0>"
            ]
          },
          "metadata": {},
          "execution_count": 21
        },
        {
          "output_type": "display_data",
          "data": {
            "text/plain": [
              "<Figure size 720x576 with 1 Axes>"
            ],
            "image/png": "[encoded data removed]"
          },
          "metadata": {
            "needs_background": "light"
          }
        }
      ]
    },
    {
      "cell_type": "code",
      "source": [
        "df_was.groupby(\"tipo_usuario\").median()[\"hora\"] # Mediana"
      ],
      "metadata": {
        "colab": {
          "base_uri": "https://localhost:8080/"
        },
        "id": "d3AFrXtEE5k3",
        "outputId": "53bcbbc5-085c-4d78-9af0-bdeb7d66a52d"
      },
      "execution_count": 22,
      "outputs": [
        {
          "output_type": "execute_result",
          "data": {
            "text/plain": [
              "tipo_usuario\n",
              "Customer      15.0\n",
              "Subscriber    15.0\n",
              "Name: hora, dtype: float64"
            ]
          },
          "metadata": {},
          "execution_count": 22
        }
      ]
    },
    {
      "cell_type": "markdown",
      "source": [
        "**Explorando viagens por hora e por mes**"
      ],
      "metadata": {
        "id": "JEOKypJ1PnIG"
      }
    },
    {
      "cell_type": "code",
      "source": [
        "#Substitui valores da coluna por condição em pandas\n",
        "df_was.loc[df_was.mes==1, \"mes\"]='jan'\n",
        "df_was.loc[df_was.mes==2, \"mes\"]='fev'\n",
        "df_was.loc[df_was.mes==3, \"mes\"]='mar'\n",
        "df_was.loc[df_was.mes==4, \"mes\"]='abr'\n",
        "df_was.loc[df_was.mes==5, \"mes\"]='mai'\n",
        "df_was.loc[df_was.mes==6, \"mes\"]='jun'\n",
        "df_was.loc[df_was.mes==7, \"mes\"]='jul'\n",
        "df_was.loc[df_was.mes==8, \"mes\"]='ago'\n",
        "df_was.loc[df_was.mes==9, \"mes\"]='set'\n",
        "df_was.loc[df_was.mes==10, \"mes\"]='out'\n",
        "df_was.loc[df_was.mes==11, \"mes\"]='nov'\n",
        "df_was.loc[df_was.mes==12, \"mes\"]='dez'"
      ],
      "metadata": {
        "id": "DR6HlxKSESFQ"
      },
      "execution_count": 23,
      "outputs": []
    },
    {
      "cell_type": "code",
      "source": [
        "df_was[\"mes\"].value_counts() #Quantidade de viagens por mes em Chicago"
      ],
      "metadata": {
        "colab": {
          "base_uri": "https://localhost:8080/"
        },
        "id": "E7kPPiVcNpdc",
        "outputId": "211b326d-bbc3-4ad1-bfd4-d3319114e7ed"
      },
      "execution_count": 24,
      "outputs": [
        {
          "output_type": "execute_result",
          "data": {
            "text/plain": [
              "jul    7341\n",
              "jun    7320\n",
              "ago    7198\n",
              "set    6878\n",
              "out    6792\n",
              "mai    5768\n",
              "abr    5602\n",
              "mar    5571\n",
              "nov    5214\n",
              "dez    3354\n",
              "fev    2854\n",
              "jan    2434\n",
              "Name: mes, dtype: int64"
            ]
          },
          "metadata": {},
          "execution_count": 24
        }
      ]
    },
    {
      "cell_type": "code",
      "source": [
        "qtd_viagem_mes_was = df_was['mes'].value_counts()"
      ],
      "metadata": {
        "id": "w-JXeNqAOqrY"
      },
      "execution_count": 25,
      "outputs": []
    },
    {
      "cell_type": "code",
      "source": [
        "qtd_viagem_mes_was = qtd_viagem_mes_was.to_frame().reset_index()"
      ],
      "metadata": {
        "id": "kpMJye8GO91I"
      },
      "execution_count": 26,
      "outputs": []
    },
    {
      "cell_type": "code",
      "source": [
        "qtd_viagem_mes_was.columns = [\"mes\", \"total\"]\n",
        "qtd_viagem_mes_was"
      ],
      "metadata": {
        "colab": {
          "base_uri": "https://localhost:8080/",
          "height": 426
        },
        "id": "LifwMtKhPAXY",
        "outputId": "bd279375-7e2d-433f-8992-dbfb52231906"
      },
      "execution_count": 27,
      "outputs": [
        {
          "output_type": "execute_result",
          "data": {
            "text/plain": [
              "    mes  total\n",
              "0   jul   7341\n",
              "1   jun   7320\n",
              "2   ago   7198\n",
              "3   set   6878\n",
              "4   out   6792\n",
              "5   mai   5768\n",
              "6   abr   5602\n",
              "7   mar   5571\n",
              "8   nov   5214\n",
              "9   dez   3354\n",
              "10  fev   2854\n",
              "11  jan   2434"
            ],
            "text/html": [
              "\n",
              "  <div id=\"df-e2b472bd-8516-45fd-82d8-95ed039f1e4f\">\n",
              "    <div class=\"colab-df-container\">\n",
              "      <div>\n",
              "<style scoped>\n",
              "    .dataframe tbody tr th:only-of-type {\n",
              "        vertical-align: middle;\n",
              "    }\n",
              "\n",
              "    .dataframe tbody tr th {\n",
              "        vertical-align: top;\n",
              "    }\n",
              "\n",
              "    .dataframe thead th {\n",
              "        text-align: right;\n",
              "    }\n",
              "</style>\n",
              "<table border=\"1\" class=\"dataframe\">\n",
              "  <thead>\n",
              "    <tr style=\"text-align: right;\">\n",
              "      <th></th>\n",
              "      <th>mes</th>\n",
              "      <th>total</th>\n",
              "    </tr>\n",
              "  </thead>\n",
              "  <tbody>\n",
              "    <tr>\n",
              "      <th>0</th>\n",
              "      <td>jul</td>\n",
              "      <td>7341</td>\n",
              "    </tr>\n",
              "    <tr>\n",
              "      <th>1</th>\n",
              "      <td>jun</td>\n",
              "      <td>7320</td>\n",
              "    </tr>\n",
              "    <tr>\n",
              "      <th>2</th>\n",
              "      <td>ago</td>\n",
              "      <td>7198</td>\n",
              "    </tr>\n",
              "    <tr>\n",
              "      <th>3</th>\n",
              "      <td>set</td>\n",
              "      <td>6878</td>\n",
              "    </tr>\n",
              "    <tr>\n",
              "      <th>4</th>\n",
              "      <td>out</td>\n",
              "      <td>6792</td>\n",
              "    </tr>\n",
              "    <tr>\n",
              "      <th>5</th>\n",
              "      <td>mai</td>\n",
              "      <td>5768</td>\n",
              "    </tr>\n",
              "    <tr>\n",
              "      <th>6</th>\n",
              "      <td>abr</td>\n",
              "      <td>5602</td>\n",
              "    </tr>\n",
              "    <tr>\n",
              "      <th>7</th>\n",
              "      <td>mar</td>\n",
              "      <td>5571</td>\n",
              "    </tr>\n",
              "    <tr>\n",
              "      <th>8</th>\n",
              "      <td>nov</td>\n",
              "      <td>5214</td>\n",
              "    </tr>\n",
              "    <tr>\n",
              "      <th>9</th>\n",
              "      <td>dez</td>\n",
              "      <td>3354</td>\n",
              "    </tr>\n",
              "    <tr>\n",
              "      <th>10</th>\n",
              "      <td>fev</td>\n",
              "      <td>2854</td>\n",
              "    </tr>\n",
              "    <tr>\n",
              "      <th>11</th>\n",
              "      <td>jan</td>\n",
              "      <td>2434</td>\n",
              "    </tr>\n",
              "  </tbody>\n",
              "</table>\n",
              "</div>\n",
              "      <button class=\"colab-df-convert\" onclick=\"convertToInteractive('df-e2b472bd-8516-45fd-82d8-95ed039f1e4f')\"\n",
              "              title=\"Convert this dataframe to an interactive table.\"\n",
              "              style=\"display:none;\">\n",
              "        \n",
              "  <svg xmlns=\"http://www.w3.org/2000/svg\" height=\"24px\"viewBox=\"0 0 24 24\"\n",
              "       width=\"24px\">\n",
              "    <path d=\"M0 0h24v24H0V0z\" fill=\"none\"/>\n",
              "    <path d=\"M18.56 5.44l.94 2.06.94-2.06 2.06-.94-2.06-.94-.94-2.06-.94 2.06-2.06.94zm-11 1L8.5 8.5l.94-2.06 2.06-.94-2.06-.94L8.5 2.5l-.94 2.06-2.06.94zm10 10l.94 2.06.94-2.06 2.06-.94-2.06-.94-.94-2.06-.94 2.06-2.06.94z\"/><path d=\"M17.41 7.96l-1.37-1.37c-.4-.4-.92-.59-1.43-.59-.52 0-1.04.2-1.43.59L10.3 9.45l-7.72 7.72c-.78.78-.78 2.05 0 2.83L4 21.41c.39.39.9.59 1.41.59.51 0 1.02-.2 1.41-.59l7.78-7.78 2.81-2.81c.8-.78.8-2.07 0-2.86zM5.41 20L4 18.59l7.72-7.72 1.47 1.35L5.41 20z\"/>\n",
              "  </svg>\n",
              "      </button>\n",
              "      \n",
              "  <style>\n",
              "    .colab-df-container {\n",
              "      display:flex;\n",
              "      flex-wrap:wrap;\n",
              "      gap: 12px;\n",
              "    }\n",
              "\n",
              "    .colab-df-convert {\n",
              "      background-color: #E8F0FE;\n",
              "      border: none;\n",
              "      border-radius: 50%;\n",
              "      cursor: pointer;\n",
              "      display: none;\n",
              "      fill: #1967D2;\n",
              "      height: 32px;\n",
              "      padding: 0 0 0 0;\n",
              "      width: 32px;\n",
              "    }\n",
              "\n",
              "    .colab-df-convert:hover {\n",
              "      background-color: #E2EBFA;\n",
              "      box-shadow: 0px 1px 2px rgba(60, 64, 67, 0.3), 0px 1px 3px 1px rgba(60, 64, 67, 0.15);\n",
              "      fill: #174EA6;\n",
              "    }\n",
              "\n",
              "    [theme=dark] .colab-df-convert {\n",
              "      background-color: #3B4455;\n",
              "      fill: #D2E3FC;\n",
              "    }\n",
              "\n",
              "    [theme=dark] .colab-df-convert:hover {\n",
              "      background-color: #434B5C;\n",
              "      box-shadow: 0px 1px 3px 1px rgba(0, 0, 0, 0.15);\n",
              "      filter: drop-shadow(0px 1px 2px rgba(0, 0, 0, 0.3));\n",
              "      fill: #FFFFFF;\n",
              "    }\n",
              "  </style>\n",
              "\n",
              "      <script>\n",
              "        const buttonEl =\n",
              "          document.querySelector('#df-e2b472bd-8516-45fd-82d8-95ed039f1e4f button.colab-df-convert');\n",
              "        buttonEl.style.display =\n",
              "          google.colab.kernel.accessAllowed ? 'block' : 'none';\n",
              "\n",
              "        async function convertToInteractive(key) {\n",
              "          const element = document.querySelector('#df-e2b472bd-8516-45fd-82d8-95ed039f1e4f');\n",
              "          const dataTable =\n",
              "            await google.colab.kernel.invokeFunction('convertToInteractive',\n",
              "                                                     [key], {});\n",
              "          if (!dataTable) return;\n",
              "\n",
              "          const docLinkHtml = 'Like what you see? Visit the ' +\n",
              "            '<a target=\"_blank\" href=https://colab.research.google.com/notebooks/data_table.ipynb>data table notebook</a>'\n",
              "            + ' to learn more about interactive tables.';\n",
              "          element.innerHTML = '';\n",
              "          dataTable['output_type'] = 'display_data';\n",
              "          await google.colab.output.renderOutput(dataTable, element);\n",
              "          const docLink = document.createElement('div');\n",
              "          docLink.innerHTML = docLinkHtml;\n",
              "          element.appendChild(docLink);\n",
              "        }\n",
              "      </script>\n",
              "    </div>\n",
              "  </div>\n",
              "  "
            ]
          },
          "metadata": {},
          "execution_count": 27
        }
      ]
    },
    {
      "cell_type": "markdown",
      "source": [
        "**Análise geral por mes (todos os usuários, customer e subscriber)**"
      ],
      "metadata": {
        "id": "IU0oHCq-PpZ5"
      }
    },
    {
      "cell_type": "markdown",
      "source": [
        "**Opção 1**"
      ],
      "metadata": {
        "id": "4DikPd_qSbSs"
      }
    },
    {
      "cell_type": "code",
      "source": [
        "sns.catplot(x=\"mes\", kind=\"count\", data = df_was, aspect = 2, order = df_was['mes'].value_counts().index)\n",
        "# usando alto nível, o sns.catplot vai plotar categoricamente as categorias de \"mes\", de maneira que conte (kind=\"count\") quantas vezes aparece, e o data = df_chicago (está usando o DF df_chicago que importamos)\n",
        "# aspect configura o tamanho da figura, colocando o 2 para trazer o dobro (retangulo) do quadrado.\n",
        "# E o order define a ordem como é apresentado o gráfico, no caso é a ordem da série df_chicago['mes'].value_counts().index e o \".index\" é o indice que está definida a ordem. index da série."
      ],
      "metadata": {
        "colab": {
          "base_uri": "https://localhost:8080/",
          "height": 386
        },
        "id": "akjG8bd-PpHZ",
        "outputId": "6850e895-8eb0-4fbe-f2d2-5c5122e72bb4"
      },
      "execution_count": 28,
      "outputs": [
        {
          "output_type": "execute_result",
          "data": {
            "text/plain": [
              "<seaborn.axisgrid.FacetGrid at 0x7fde16136990>"
            ]
          },
          "metadata": {},
          "execution_count": 28
        },
        {
          "output_type": "display_data",
          "data": {
            "text/plain": [
              "<Figure size 720x360 with 1 Axes>"
            ],
            "image/png": "[encoded data removed]"
          },
          "metadata": {
            "needs_background": "light"
          }
        }
      ]
    },
    {
      "cell_type": "markdown",
      "source": [
        "**Opção 2**"
      ],
      "metadata": {
        "id": "r9Y5Oh-kSgN2"
      }
    },
    {
      "cell_type": "code",
      "source": [
        "plt.figure(figsize=(10,6)) #Configura o tamanho da figura (10 para direita e 6 para baixo)\n",
        "sns.barplot(x=\"mes\", y=\"total\", data = qtd_viagem_mes_was)"
      ],
      "metadata": {
        "colab": {
          "base_uri": "https://localhost:8080/",
          "height": 405
        },
        "id": "zwedrImgPRok",
        "outputId": "ad58b4c8-0cab-4425-b90f-ce15cae14ea6"
      },
      "execution_count": 29,
      "outputs": [
        {
          "output_type": "execute_result",
          "data": {
            "text/plain": [
              "<matplotlib.axes._subplots.AxesSubplot at 0x7fde15e523d0>"
            ]
          },
          "metadata": {},
          "execution_count": 29
        },
        {
          "output_type": "display_data",
          "data": {
            "text/plain": [
              "<Figure size 720x432 with 1 Axes>"
            ],
            "image/png": "[encoded data removed]"
          },
          "metadata": {
            "needs_background": "light"
          }
        }
      ]
    },
    {
      "cell_type": "markdown",
      "source": [
        "**Explorando por horário (todos os usuários)**"
      ],
      "metadata": {
        "id": "WbS0vAySSx2G"
      }
    },
    {
      "cell_type": "code",
      "source": [
        "df_was['hora'].value_counts() #Quantidade de viagens no ano de 2016 por horário"
      ],
      "metadata": {
        "colab": {
          "base_uri": "https://localhost:8080/"
        },
        "id": "DuH5rbpZSKyi",
        "outputId": "2ee3ecd3-67d0-4928-e8f0-4f3db74a8b8d"
      },
      "execution_count": 30,
      "outputs": [
        {
          "output_type": "execute_result",
          "data": {
            "text/plain": [
              "17    7600\n",
              "18    6111\n",
              "8     5615\n",
              "16    5104\n",
              "19    4188\n",
              "15    3829\n",
              "7     3779\n",
              "12    3667\n",
              "13    3638\n",
              "14    3620\n",
              "9     3375\n",
              "11    2984\n",
              "20    2911\n",
              "10    2608\n",
              "21    2072\n",
              "22    1459\n",
              "6     1347\n",
              "23     858\n",
              "0      515\n",
              "5      407\n",
              "1      299\n",
              "2      184\n",
              "3       89\n",
              "4       67\n",
              "Name: hora, dtype: int64"
            ]
          },
          "metadata": {},
          "execution_count": 30
        }
      ]
    },
    {
      "cell_type": "code",
      "source": [
        "qtd_viagem_hora_was = df_was['hora'].value_counts()"
      ],
      "metadata": {
        "id": "aEMz0HefTDXP"
      },
      "execution_count": 31,
      "outputs": []
    },
    {
      "cell_type": "code",
      "source": [
        "qtd_viagem_hora_was"
      ],
      "metadata": {
        "colab": {
          "base_uri": "https://localhost:8080/"
        },
        "id": "yb8hHEIKTILI",
        "outputId": "429942a2-6b07-464c-a81c-3b6d1d02976b"
      },
      "execution_count": 32,
      "outputs": [
        {
          "output_type": "execute_result",
          "data": {
            "text/plain": [
              "17    7600\n",
              "18    6111\n",
              "8     5615\n",
              "16    5104\n",
              "19    4188\n",
              "15    3829\n",
              "7     3779\n",
              "12    3667\n",
              "13    3638\n",
              "14    3620\n",
              "9     3375\n",
              "11    2984\n",
              "20    2911\n",
              "10    2608\n",
              "21    2072\n",
              "22    1459\n",
              "6     1347\n",
              "23     858\n",
              "0      515\n",
              "5      407\n",
              "1      299\n",
              "2      184\n",
              "3       89\n",
              "4       67\n",
              "Name: hora, dtype: int64"
            ]
          },
          "metadata": {},
          "execution_count": 32
        }
      ]
    },
    {
      "cell_type": "code",
      "source": [
        "qtd_viagem_hora_was = qtd_viagem_hora_was.to_frame().reset_index()"
      ],
      "metadata": {
        "id": "-x24GwNoTN4s"
      },
      "execution_count": 33,
      "outputs": []
    },
    {
      "cell_type": "code",
      "source": [
        "qtd_viagem_hora_was"
      ],
      "metadata": {
        "colab": {
          "base_uri": "https://localhost:8080/",
          "height": 802
        },
        "id": "Z7mDjvK_TZAw",
        "outputId": "6f50330d-d233-4115-cb91-c2d036b1f5f6"
      },
      "execution_count": 34,
      "outputs": [
        {
          "output_type": "execute_result",
          "data": {
            "text/plain": [
              "    index  hora\n",
              "0      17  7600\n",
              "1      18  6111\n",
              "2       8  5615\n",
              "3      16  5104\n",
              "4      19  4188\n",
              "5      15  3829\n",
              "6       7  3779\n",
              "7      12  3667\n",
              "8      13  3638\n",
              "9      14  3620\n",
              "10      9  3375\n",
              "11     11  2984\n",
              "12     20  2911\n",
              "13     10  2608\n",
              "14     21  2072\n",
              "15     22  1459\n",
              "16      6  1347\n",
              "17     23   858\n",
              "18      0   515\n",
              "19      5   407\n",
              "20      1   299\n",
              "21      2   184\n",
              "22      3    89\n",
              "23      4    67"
            ],
            "text/html": [
              "\n",
              "  <div id=\"df-dabe866b-6f44-4dff-91f4-76ad93809639\">\n",
              "    <div class=\"colab-df-container\">\n",
              "      <div>\n",
              "<style scoped>\n",
              "    .dataframe tbody tr th:only-of-type {\n",
              "        vertical-align: middle;\n",
              "    }\n",
              "\n",
              "    .dataframe tbody tr th {\n",
              "        vertical-align: top;\n",
              "    }\n",
              "\n",
              "    .dataframe thead th {\n",
              "        text-align: right;\n",
              "    }\n",
              "</style>\n",
              "<table border=\"1\" class=\"dataframe\">\n",
              "  <thead>\n",
              "    <tr style=\"text-align: right;\">\n",
              "      <th></th>\n",
              "      <th>index</th>\n",
              "      <th>hora</th>\n",
              "    </tr>\n",
              "  </thead>\n",
              "  <tbody>\n",
              "    <tr>\n",
              "      <th>0</th>\n",
              "      <td>17</td>\n",
              "      <td>7600</td>\n",
              "    </tr>\n",
              "    <tr>\n",
              "      <th>1</th>\n",
              "      <td>18</td>\n",
              "      <td>6111</td>\n",
              "    </tr>\n",
              "    <tr>\n",
              "      <th>2</th>\n",
              "      <td>8</td>\n",
              "      <td>5615</td>\n",
              "    </tr>\n",
              "    <tr>\n",
              "      <th>3</th>\n",
              "      <td>16</td>\n",
              "      <td>5104</td>\n",
              "    </tr>\n",
              "    <tr>\n",
              "      <th>4</th>\n",
              "      <td>19</td>\n",
              "      <td>4188</td>\n",
              "    </tr>\n",
              "    <tr>\n",
              "      <th>5</th>\n",
              "      <td>15</td>\n",
              "      <td>3829</td>\n",
              "    </tr>\n",
              "    <tr>\n",
              "      <th>6</th>\n",
              "      <td>7</td>\n",
              "      <td>3779</td>\n",
              "    </tr>\n",
              "    <tr>\n",
              "      <th>7</th>\n",
              "      <td>12</td>\n",
              "      <td>3667</td>\n",
              "    </tr>\n",
              "    <tr>\n",
              "      <th>8</th>\n",
              "      <td>13</td>\n",
              "      <td>3638</td>\n",
              "    </tr>\n",
              "    <tr>\n",
              "      <th>9</th>\n",
              "      <td>14</td>\n",
              "      <td>3620</td>\n",
              "    </tr>\n",
              "    <tr>\n",
              "      <th>10</th>\n",
              "      <td>9</td>\n",
              "      <td>3375</td>\n",
              "    </tr>\n",
              "    <tr>\n",
              "      <th>11</th>\n",
              "      <td>11</td>\n",
              "      <td>2984</td>\n",
              "    </tr>\n",
              "    <tr>\n",
              "      <th>12</th>\n",
              "      <td>20</td>\n",
              "      <td>2911</td>\n",
              "    </tr>\n",
              "    <tr>\n",
              "      <th>13</th>\n",
              "      <td>10</td>\n",
              "      <td>2608</td>\n",
              "    </tr>\n",
              "    <tr>\n",
              "      <th>14</th>\n",
              "      <td>21</td>\n",
              "      <td>2072</td>\n",
              "    </tr>\n",
              "    <tr>\n",
              "      <th>15</th>\n",
              "      <td>22</td>\n",
              "      <td>1459</td>\n",
              "    </tr>\n",
              "    <tr>\n",
              "      <th>16</th>\n",
              "      <td>6</td>\n",
              "      <td>1347</td>\n",
              "    </tr>\n",
              "    <tr>\n",
              "      <th>17</th>\n",
              "      <td>23</td>\n",
              "      <td>858</td>\n",
              "    </tr>\n",
              "    <tr>\n",
              "      <th>18</th>\n",
              "      <td>0</td>\n",
              "      <td>515</td>\n",
              "    </tr>\n",
              "    <tr>\n",
              "      <th>19</th>\n",
              "      <td>5</td>\n",
              "      <td>407</td>\n",
              "    </tr>\n",
              "    <tr>\n",
              "      <th>20</th>\n",
              "      <td>1</td>\n",
              "      <td>299</td>\n",
              "    </tr>\n",
              "    <tr>\n",
              "      <th>21</th>\n",
              "      <td>2</td>\n",
              "      <td>184</td>\n",
              "    </tr>\n",
              "    <tr>\n",
              "      <th>22</th>\n",
              "      <td>3</td>\n",
              "      <td>89</td>\n",
              "    </tr>\n",
              "    <tr>\n",
              "      <th>23</th>\n",
              "      <td>4</td>\n",
              "      <td>67</td>\n",
              "    </tr>\n",
              "  </tbody>\n",
              "</table>\n",
              "</div>\n",
              "      <button class=\"colab-df-convert\" onclick=\"convertToInteractive('df-dabe866b-6f44-4dff-91f4-76ad93809639')\"\n",
              "              title=\"Convert this dataframe to an interactive table.\"\n",
              "              style=\"display:none;\">\n",
              "        \n",
              "  <svg xmlns=\"http://www.w3.org/2000/svg\" height=\"24px\"viewBox=\"0 0 24 24\"\n",
              "       width=\"24px\">\n",
              "    <path d=\"M0 0h24v24H0V0z\" fill=\"none\"/>\n",
              "    <path d=\"M18.56 5.44l.94 2.06.94-2.06 2.06-.94-2.06-.94-.94-2.06-.94 2.06-2.06.94zm-11 1L8.5 8.5l.94-2.06 2.06-.94-2.06-.94L8.5 2.5l-.94 2.06-2.06.94zm10 10l.94 2.06.94-2.06 2.06-.94-2.06-.94-.94-2.06-.94 2.06-2.06.94z\"/><path d=\"M17.41 7.96l-1.37-1.37c-.4-.4-.92-.59-1.43-.59-.52 0-1.04.2-1.43.59L10.3 9.45l-7.72 7.72c-.78.78-.78 2.05 0 2.83L4 21.41c.39.39.9.59 1.41.59.51 0 1.02-.2 1.41-.59l7.78-7.78 2.81-2.81c.8-.78.8-2.07 0-2.86zM5.41 20L4 18.59l7.72-7.72 1.47 1.35L5.41 20z\"/>\n",
              "  </svg>\n",
              "      </button>\n",
              "      \n",
              "  <style>\n",
              "    .colab-df-container {\n",
              "      display:flex;\n",
              "      flex-wrap:wrap;\n",
              "      gap: 12px;\n",
              "    }\n",
              "\n",
              "    .colab-df-convert {\n",
              "      background-color: #E8F0FE;\n",
              "      border: none;\n",
              "      border-radius: 50%;\n",
              "      cursor: pointer;\n",
              "      display: none;\n",
              "      fill: #1967D2;\n",
              "      height: 32px;\n",
              "      padding: 0 0 0 0;\n",
              "      width: 32px;\n",
              "    }\n",
              "\n",
              "    .colab-df-convert:hover {\n",
              "      background-color: #E2EBFA;\n",
              "      box-shadow: 0px 1px 2px rgba(60, 64, 67, 0.3), 0px 1px 3px 1px rgba(60, 64, 67, 0.15);\n",
              "      fill: #174EA6;\n",
              "    }\n",
              "\n",
              "    [theme=dark] .colab-df-convert {\n",
              "      background-color: #3B4455;\n",
              "      fill: #D2E3FC;\n",
              "    }\n",
              "\n",
              "    [theme=dark] .colab-df-convert:hover {\n",
              "      background-color: #434B5C;\n",
              "      box-shadow: 0px 1px 3px 1px rgba(0, 0, 0, 0.15);\n",
              "      filter: drop-shadow(0px 1px 2px rgba(0, 0, 0, 0.3));\n",
              "      fill: #FFFFFF;\n",
              "    }\n",
              "  </style>\n",
              "\n",
              "      <script>\n",
              "        const buttonEl =\n",
              "          document.querySelector('#df-dabe866b-6f44-4dff-91f4-76ad93809639 button.colab-df-convert');\n",
              "        buttonEl.style.display =\n",
              "          google.colab.kernel.accessAllowed ? 'block' : 'none';\n",
              "\n",
              "        async function convertToInteractive(key) {\n",
              "          const element = document.querySelector('#df-dabe866b-6f44-4dff-91f4-76ad93809639');\n",
              "          const dataTable =\n",
              "            await google.colab.kernel.invokeFunction('convertToInteractive',\n",
              "                                                     [key], {});\n",
              "          if (!dataTable) return;\n",
              "\n",
              "          const docLinkHtml = 'Like what you see? Visit the ' +\n",
              "            '<a target=\"_blank\" href=https://colab.research.google.com/notebooks/data_table.ipynb>data table notebook</a>'\n",
              "            + ' to learn more about interactive tables.';\n",
              "          element.innerHTML = '';\n",
              "          dataTable['output_type'] = 'display_data';\n",
              "          await google.colab.output.renderOutput(dataTable, element);\n",
              "          const docLink = document.createElement('div');\n",
              "          docLink.innerHTML = docLinkHtml;\n",
              "          element.appendChild(docLink);\n",
              "        }\n",
              "      </script>\n",
              "    </div>\n",
              "  </div>\n",
              "  "
            ]
          },
          "metadata": {},
          "execution_count": 34
        }
      ]
    },
    {
      "cell_type": "code",
      "source": [
        "qtd_viagem_hora_was.columns = ['hora', 'total']\n",
        "qtd_viagem_hora_was"
      ],
      "metadata": {
        "colab": {
          "base_uri": "https://localhost:8080/",
          "height": 802
        },
        "id": "lNeqNlouTfLO",
        "outputId": "965e3a01-fd81-4da8-d7a1-52e61e2b34e6"
      },
      "execution_count": 35,
      "outputs": [
        {
          "output_type": "execute_result",
          "data": {
            "text/plain": [
              "    hora  total\n",
              "0     17   7600\n",
              "1     18   6111\n",
              "2      8   5615\n",
              "3     16   5104\n",
              "4     19   4188\n",
              "5     15   3829\n",
              "6      7   3779\n",
              "7     12   3667\n",
              "8     13   3638\n",
              "9     14   3620\n",
              "10     9   3375\n",
              "11    11   2984\n",
              "12    20   2911\n",
              "13    10   2608\n",
              "14    21   2072\n",
              "15    22   1459\n",
              "16     6   1347\n",
              "17    23    858\n",
              "18     0    515\n",
              "19     5    407\n",
              "20     1    299\n",
              "21     2    184\n",
              "22     3     89\n",
              "23     4     67"
            ],
            "text/html": [
              "\n",
              "  <div id=\"df-260b4552-63dd-417c-947f-9ea4e94d8d1e\">\n",
              "    <div class=\"colab-df-container\">\n",
              "      <div>\n",
              "<style scoped>\n",
              "    .dataframe tbody tr th:only-of-type {\n",
              "        vertical-align: middle;\n",
              "    }\n",
              "\n",
              "    .dataframe tbody tr th {\n",
              "        vertical-align: top;\n",
              "    }\n",
              "\n",
              "    .dataframe thead th {\n",
              "        text-align: right;\n",
              "    }\n",
              "</style>\n",
              "<table border=\"1\" class=\"dataframe\">\n",
              "  <thead>\n",
              "    <tr style=\"text-align: right;\">\n",
              "      <th></th>\n",
              "      <th>hora</th>\n",
              "      <th>total</th>\n",
              "    </tr>\n",
              "  </thead>\n",
              "  <tbody>\n",
              "    <tr>\n",
              "      <th>0</th>\n",
              "      <td>17</td>\n",
              "      <td>7600</td>\n",
              "    </tr>\n",
              "    <tr>\n",
              "      <th>1</th>\n",
              "      <td>18</td>\n",
              "      <td>6111</td>\n",
              "    </tr>\n",
              "    <tr>\n",
              "      <th>2</th>\n",
              "      <td>8</td>\n",
              "      <td>5615</td>\n",
              "    </tr>\n",
              "    <tr>\n",
              "      <th>3</th>\n",
              "      <td>16</td>\n",
              "      <td>5104</td>\n",
              "    </tr>\n",
              "    <tr>\n",
              "      <th>4</th>\n",
              "      <td>19</td>\n",
              "      <td>4188</td>\n",
              "    </tr>\n",
              "    <tr>\n",
              "      <th>5</th>\n",
              "      <td>15</td>\n",
              "      <td>3829</td>\n",
              "    </tr>\n",
              "    <tr>\n",
              "      <th>6</th>\n",
              "      <td>7</td>\n",
              "      <td>3779</td>\n",
              "    </tr>\n",
              "    <tr>\n",
              "      <th>7</th>\n",
              "      <td>12</td>\n",
              "      <td>3667</td>\n",
              "    </tr>\n",
              "    <tr>\n",
              "      <th>8</th>\n",
              "      <td>13</td>\n",
              "      <td>3638</td>\n",
              "    </tr>\n",
              "    <tr>\n",
              "      <th>9</th>\n",
              "      <td>14</td>\n",
              "      <td>3620</td>\n",
              "    </tr>\n",
              "    <tr>\n",
              "      <th>10</th>\n",
              "      <td>9</td>\n",
              "      <td>3375</td>\n",
              "    </tr>\n",
              "    <tr>\n",
              "      <th>11</th>\n",
              "      <td>11</td>\n",
              "      <td>2984</td>\n",
              "    </tr>\n",
              "    <tr>\n",
              "      <th>12</th>\n",
              "      <td>20</td>\n",
              "      <td>2911</td>\n",
              "    </tr>\n",
              "    <tr>\n",
              "      <th>13</th>\n",
              "      <td>10</td>\n",
              "      <td>2608</td>\n",
              "    </tr>\n",
              "    <tr>\n",
              "      <th>14</th>\n",
              "      <td>21</td>\n",
              "      <td>2072</td>\n",
              "    </tr>\n",
              "    <tr>\n",
              "      <th>15</th>\n",
              "      <td>22</td>\n",
              "      <td>1459</td>\n",
              "    </tr>\n",
              "    <tr>\n",
              "      <th>16</th>\n",
              "      <td>6</td>\n",
              "      <td>1347</td>\n",
              "    </tr>\n",
              "    <tr>\n",
              "      <th>17</th>\n",
              "      <td>23</td>\n",
              "      <td>858</td>\n",
              "    </tr>\n",
              "    <tr>\n",
              "      <th>18</th>\n",
              "      <td>0</td>\n",
              "      <td>515</td>\n",
              "    </tr>\n",
              "    <tr>\n",
              "      <th>19</th>\n",
              "      <td>5</td>\n",
              "      <td>407</td>\n",
              "    </tr>\n",
              "    <tr>\n",
              "      <th>20</th>\n",
              "      <td>1</td>\n",
              "      <td>299</td>\n",
              "    </tr>\n",
              "    <tr>\n",
              "      <th>21</th>\n",
              "      <td>2</td>\n",
              "      <td>184</td>\n",
              "    </tr>\n",
              "    <tr>\n",
              "      <th>22</th>\n",
              "      <td>3</td>\n",
              "      <td>89</td>\n",
              "    </tr>\n",
              "    <tr>\n",
              "      <th>23</th>\n",
              "      <td>4</td>\n",
              "      <td>67</td>\n",
              "    </tr>\n",
              "  </tbody>\n",
              "</table>\n",
              "</div>\n",
              "      <button class=\"colab-df-convert\" onclick=\"convertToInteractive('df-260b4552-63dd-417c-947f-9ea4e94d8d1e')\"\n",
              "              title=\"Convert this dataframe to an interactive table.\"\n",
              "              style=\"display:none;\">\n",
              "        \n",
              "  <svg xmlns=\"http://www.w3.org/2000/svg\" height=\"24px\"viewBox=\"0 0 24 24\"\n",
              "       width=\"24px\">\n",
              "    <path d=\"M0 0h24v24H0V0z\" fill=\"none\"/>\n",
              "    <path d=\"M18.56 5.44l.94 2.06.94-2.06 2.06-.94-2.06-.94-.94-2.06-.94 2.06-2.06.94zm-11 1L8.5 8.5l.94-2.06 2.06-.94-2.06-.94L8.5 2.5l-.94 2.06-2.06.94zm10 10l.94 2.06.94-2.06 2.06-.94-2.06-.94-.94-2.06-.94 2.06-2.06.94z\"/><path d=\"M17.41 7.96l-1.37-1.37c-.4-.4-.92-.59-1.43-.59-.52 0-1.04.2-1.43.59L10.3 9.45l-7.72 7.72c-.78.78-.78 2.05 0 2.83L4 21.41c.39.39.9.59 1.41.59.51 0 1.02-.2 1.41-.59l7.78-7.78 2.81-2.81c.8-.78.8-2.07 0-2.86zM5.41 20L4 18.59l7.72-7.72 1.47 1.35L5.41 20z\"/>\n",
              "  </svg>\n",
              "      </button>\n",
              "      \n",
              "  <style>\n",
              "    .colab-df-container {\n",
              "      display:flex;\n",
              "      flex-wrap:wrap;\n",
              "      gap: 12px;\n",
              "    }\n",
              "\n",
              "    .colab-df-convert {\n",
              "      background-color: #E8F0FE;\n",
              "      border: none;\n",
              "      border-radius: 50%;\n",
              "      cursor: pointer;\n",
              "      display: none;\n",
              "      fill: #1967D2;\n",
              "      height: 32px;\n",
              "      padding: 0 0 0 0;\n",
              "      width: 32px;\n",
              "    }\n",
              "\n",
              "    .colab-df-convert:hover {\n",
              "      background-color: #E2EBFA;\n",
              "      box-shadow: 0px 1px 2px rgba(60, 64, 67, 0.3), 0px 1px 3px 1px rgba(60, 64, 67, 0.15);\n",
              "      fill: #174EA6;\n",
              "    }\n",
              "\n",
              "    [theme=dark] .colab-df-convert {\n",
              "      background-color: #3B4455;\n",
              "      fill: #D2E3FC;\n",
              "    }\n",
              "\n",
              "    [theme=dark] .colab-df-convert:hover {\n",
              "      background-color: #434B5C;\n",
              "      box-shadow: 0px 1px 3px 1px rgba(0, 0, 0, 0.15);\n",
              "      filter: drop-shadow(0px 1px 2px rgba(0, 0, 0, 0.3));\n",
              "      fill: #FFFFFF;\n",
              "    }\n",
              "  </style>\n",
              "\n",
              "      <script>\n",
              "        const buttonEl =\n",
              "          document.querySelector('#df-260b4552-63dd-417c-947f-9ea4e94d8d1e button.colab-df-convert');\n",
              "        buttonEl.style.display =\n",
              "          google.colab.kernel.accessAllowed ? 'block' : 'none';\n",
              "\n",
              "        async function convertToInteractive(key) {\n",
              "          const element = document.querySelector('#df-260b4552-63dd-417c-947f-9ea4e94d8d1e');\n",
              "          const dataTable =\n",
              "            await google.colab.kernel.invokeFunction('convertToInteractive',\n",
              "                                                     [key], {});\n",
              "          if (!dataTable) return;\n",
              "\n",
              "          const docLinkHtml = 'Like what you see? Visit the ' +\n",
              "            '<a target=\"_blank\" href=https://colab.research.google.com/notebooks/data_table.ipynb>data table notebook</a>'\n",
              "            + ' to learn more about interactive tables.';\n",
              "          element.innerHTML = '';\n",
              "          dataTable['output_type'] = 'display_data';\n",
              "          await google.colab.output.renderOutput(dataTable, element);\n",
              "          const docLink = document.createElement('div');\n",
              "          docLink.innerHTML = docLinkHtml;\n",
              "          element.appendChild(docLink);\n",
              "        }\n",
              "      </script>\n",
              "    </div>\n",
              "  </div>\n",
              "  "
            ]
          },
          "metadata": {},
          "execution_count": 35
        }
      ]
    },
    {
      "cell_type": "markdown",
      "source": [
        "**Analise por hora de todos os usuários**"
      ],
      "metadata": {
        "id": "GjIdY_e2U8y8"
      }
    },
    {
      "cell_type": "code",
      "source": [
        "plt.figure(figsize=(12,8)) #Configura o tamanho da figura (12 para direita e 8 para baixo)\n",
        "sns.barplot(x=\"hora\", y=\"total\", data = qtd_viagem_hora_was, order = df_was['hora'].value_counts().index)\n",
        "# Quantidade total de viagens de todos os usuários por horário"
      ],
      "metadata": {
        "colab": {
          "base_uri": "https://localhost:8080/",
          "height": 514
        },
        "id": "30Rh32z1T94d",
        "outputId": "7cb70b9e-3a29-4b0f-cec7-22a36db737b3"
      },
      "execution_count": 36,
      "outputs": [
        {
          "output_type": "execute_result",
          "data": {
            "text/plain": [
              "<matplotlib.axes._subplots.AxesSubplot at 0x7fde26b96110>"
            ]
          },
          "metadata": {},
          "execution_count": 36
        },
        {
          "output_type": "display_data",
          "data": {
            "text/plain": [
              "<Figure size 864x576 with 1 Axes>"
            ],
            "image/png": "[encoded data removed]"
          },
          "metadata": {
            "needs_background": "light"
          }
        }
      ]
    },
    {
      "cell_type": "markdown",
      "source": [
        "**Quantidade ou frequencia de usuários por categoria (Subscriber e Customer)**"
      ],
      "metadata": {
        "id": "9lmtYIwLVDaM"
      }
    },
    {
      "cell_type": "code",
      "source": [
        "subscriber_was = df_was.loc[df_was.tipo_usuario=='Subscriber'].value_counts().sum()"
      ],
      "metadata": {
        "id": "cPxOjVDMXcAP"
      },
      "execution_count": 37,
      "outputs": []
    },
    {
      "cell_type": "code",
      "source": [
        "subscriber_was"
      ],
      "metadata": {
        "id": "25Ql1zCuU4Jz",
        "colab": {
          "base_uri": "https://localhost:8080/"
        },
        "outputId": "08b5563a-f89f-463a-c252-fb4bf46c9eeb"
      },
      "execution_count": 38,
      "outputs": [
        {
          "output_type": "execute_result",
          "data": {
            "text/plain": [
              "51753"
            ]
          },
          "metadata": {},
          "execution_count": 38
        }
      ]
    },
    {
      "cell_type": "code",
      "source": [
        "customer_was = df_was.loc[df_was.tipo_usuario=='Customer'].value_counts().sum()"
      ],
      "metadata": {
        "id": "2yhTJlPbXjyW"
      },
      "execution_count": 39,
      "outputs": []
    },
    {
      "cell_type": "code",
      "source": [
        "customer_was"
      ],
      "metadata": {
        "colab": {
          "base_uri": "https://localhost:8080/"
        },
        "id": "WFD6iphNHTs8",
        "outputId": "bc608e68-1d89-4ebe-e657-3a945548ec5b"
      },
      "execution_count": 40,
      "outputs": [
        {
          "output_type": "execute_result",
          "data": {
            "text/plain": [
              "14573"
            ]
          },
          "metadata": {},
          "execution_count": 40
        }
      ]
    },
    {
      "cell_type": "code",
      "source": [
        "df_usuarios_was = {\n",
        "    'tipo' : ['subscriber', 'customer'],\n",
        "    'total' : [subscriber_was, customer_was]\n",
        "    # {} dicionário do python\n",
        "}\n",
        "\n",
        "df_usuarios_was"
      ],
      "metadata": {
        "colab": {
          "base_uri": "https://localhost:8080/"
        },
        "id": "eilNiWJpHUxQ",
        "outputId": "721d2a0c-6aa0-401a-806d-c42bf6680feb"
      },
      "execution_count": 41,
      "outputs": [
        {
          "output_type": "execute_result",
          "data": {
            "text/plain": [
              "{'tipo': ['subscriber', 'customer'], 'total': [51753, 14573]}"
            ]
          },
          "metadata": {},
          "execution_count": 41
        }
      ]
    },
    {
      "cell_type": "code",
      "source": [
        "pd.DataFrame(df_usuarios_was) #Cria ou transforma em dataframe em cima de 'df_usuarios_chicago' que acabei de criar como dicionario"
      ],
      "metadata": {
        "colab": {
          "base_uri": "https://localhost:8080/",
          "height": 112
        },
        "id": "on4LeE__HdJg",
        "outputId": "e1ad8d55-e668-40e1-87ee-1d0117c66b28"
      },
      "execution_count": 42,
      "outputs": [
        {
          "output_type": "execute_result",
          "data": {
            "text/plain": [
              "         tipo  total\n",
              "0  subscriber  51753\n",
              "1    customer  14573"
            ],
            "text/html": [
              "\n",
              "  <div id=\"df-9a179542-78af-465c-8e6a-e16da7d0edc9\">\n",
              "    <div class=\"colab-df-container\">\n",
              "      <div>\n",
              "<style scoped>\n",
              "    .dataframe tbody tr th:only-of-type {\n",
              "        vertical-align: middle;\n",
              "    }\n",
              "\n",
              "    .dataframe tbody tr th {\n",
              "        vertical-align: top;\n",
              "    }\n",
              "\n",
              "    .dataframe thead th {\n",
              "        text-align: right;\n",
              "    }\n",
              "</style>\n",
              "<table border=\"1\" class=\"dataframe\">\n",
              "  <thead>\n",
              "    <tr style=\"text-align: right;\">\n",
              "      <th></th>\n",
              "      <th>tipo</th>\n",
              "      <th>total</th>\n",
              "    </tr>\n",
              "  </thead>\n",
              "  <tbody>\n",
              "    <tr>\n",
              "      <th>0</th>\n",
              "      <td>subscriber</td>\n",
              "      <td>51753</td>\n",
              "    </tr>\n",
              "    <tr>\n",
              "      <th>1</th>\n",
              "      <td>customer</td>\n",
              "      <td>14573</td>\n",
              "    </tr>\n",
              "  </tbody>\n",
              "</table>\n",
              "</div>\n",
              "      <button class=\"colab-df-convert\" onclick=\"convertToInteractive('df-9a179542-78af-465c-8e6a-e16da7d0edc9')\"\n",
              "              title=\"Convert this dataframe to an interactive table.\"\n",
              "              style=\"display:none;\">\n",
              "        \n",
              "  <svg xmlns=\"http://www.w3.org/2000/svg\" height=\"24px\"viewBox=\"0 0 24 24\"\n",
              "       width=\"24px\">\n",
              "    <path d=\"M0 0h24v24H0V0z\" fill=\"none\"/>\n",
              "    <path d=\"M18.56 5.44l.94 2.06.94-2.06 2.06-.94-2.06-.94-.94-2.06-.94 2.06-2.06.94zm-11 1L8.5 8.5l.94-2.06 2.06-.94-2.06-.94L8.5 2.5l-.94 2.06-2.06.94zm10 10l.94 2.06.94-2.06 2.06-.94-2.06-.94-.94-2.06-.94 2.06-2.06.94z\"/><path d=\"M17.41 7.96l-1.37-1.37c-.4-.4-.92-.59-1.43-.59-.52 0-1.04.2-1.43.59L10.3 9.45l-7.72 7.72c-.78.78-.78 2.05 0 2.83L4 21.41c.39.39.9.59 1.41.59.51 0 1.02-.2 1.41-.59l7.78-7.78 2.81-2.81c.8-.78.8-2.07 0-2.86zM5.41 20L4 18.59l7.72-7.72 1.47 1.35L5.41 20z\"/>\n",
              "  </svg>\n",
              "      </button>\n",
              "      \n",
              "  <style>\n",
              "    .colab-df-container {\n",
              "      display:flex;\n",
              "      flex-wrap:wrap;\n",
              "      gap: 12px;\n",
              "    }\n",
              "\n",
              "    .colab-df-convert {\n",
              "      background-color: #E8F0FE;\n",
              "      border: none;\n",
              "      border-radius: 50%;\n",
              "      cursor: pointer;\n",
              "      display: none;\n",
              "      fill: #1967D2;\n",
              "      height: 32px;\n",
              "      padding: 0 0 0 0;\n",
              "      width: 32px;\n",
              "    }\n",
              "\n",
              "    .colab-df-convert:hover {\n",
              "      background-color: #E2EBFA;\n",
              "      box-shadow: 0px 1px 2px rgba(60, 64, 67, 0.3), 0px 1px 3px 1px rgba(60, 64, 67, 0.15);\n",
              "      fill: #174EA6;\n",
              "    }\n",
              "\n",
              "    [theme=dark] .colab-df-convert {\n",
              "      background-color: #3B4455;\n",
              "      fill: #D2E3FC;\n",
              "    }\n",
              "\n",
              "    [theme=dark] .colab-df-convert:hover {\n",
              "      background-color: #434B5C;\n",
              "      box-shadow: 0px 1px 3px 1px rgba(0, 0, 0, 0.15);\n",
              "      filter: drop-shadow(0px 1px 2px rgba(0, 0, 0, 0.3));\n",
              "      fill: #FFFFFF;\n",
              "    }\n",
              "  </style>\n",
              "\n",
              "      <script>\n",
              "        const buttonEl =\n",
              "          document.querySelector('#df-9a179542-78af-465c-8e6a-e16da7d0edc9 button.colab-df-convert');\n",
              "        buttonEl.style.display =\n",
              "          google.colab.kernel.accessAllowed ? 'block' : 'none';\n",
              "\n",
              "        async function convertToInteractive(key) {\n",
              "          const element = document.querySelector('#df-9a179542-78af-465c-8e6a-e16da7d0edc9');\n",
              "          const dataTable =\n",
              "            await google.colab.kernel.invokeFunction('convertToInteractive',\n",
              "                                                     [key], {});\n",
              "          if (!dataTable) return;\n",
              "\n",
              "          const docLinkHtml = 'Like what you see? Visit the ' +\n",
              "            '<a target=\"_blank\" href=https://colab.research.google.com/notebooks/data_table.ipynb>data table notebook</a>'\n",
              "            + ' to learn more about interactive tables.';\n",
              "          element.innerHTML = '';\n",
              "          dataTable['output_type'] = 'display_data';\n",
              "          await google.colab.output.renderOutput(dataTable, element);\n",
              "          const docLink = document.createElement('div');\n",
              "          docLink.innerHTML = docLinkHtml;\n",
              "          element.appendChild(docLink);\n",
              "        }\n",
              "      </script>\n",
              "    </div>\n",
              "  </div>\n",
              "  "
            ]
          },
          "metadata": {},
          "execution_count": 42
        }
      ]
    },
    {
      "cell_type": "code",
      "source": [
        " df_usuarios_was = pd.DataFrame(df_usuarios_was)\n",
        " df_usuarios_was"
      ],
      "metadata": {
        "colab": {
          "base_uri": "https://localhost:8080/",
          "height": 112
        },
        "id": "676uIoCEHoc3",
        "outputId": "d58d1352-a2fe-4004-9ebe-74b096eab6d0"
      },
      "execution_count": 43,
      "outputs": [
        {
          "output_type": "execute_result",
          "data": {
            "text/plain": [
              "         tipo  total\n",
              "0  subscriber  51753\n",
              "1    customer  14573"
            ],
            "text/html": [
              "\n",
              "  <div id=\"df-18b8d381-7075-42a0-9420-70ddfb5a3141\">\n",
              "    <div class=\"colab-df-container\">\n",
              "      <div>\n",
              "<style scoped>\n",
              "    .dataframe tbody tr th:only-of-type {\n",
              "        vertical-align: middle;\n",
              "    }\n",
              "\n",
              "    .dataframe tbody tr th {\n",
              "        vertical-align: top;\n",
              "    }\n",
              "\n",
              "    .dataframe thead th {\n",
              "        text-align: right;\n",
              "    }\n",
              "</style>\n",
              "<table border=\"1\" class=\"dataframe\">\n",
              "  <thead>\n",
              "    <tr style=\"text-align: right;\">\n",
              "      <th></th>\n",
              "      <th>tipo</th>\n",
              "      <th>total</th>\n",
              "    </tr>\n",
              "  </thead>\n",
              "  <tbody>\n",
              "    <tr>\n",
              "      <th>0</th>\n",
              "      <td>subscriber</td>\n",
              "      <td>51753</td>\n",
              "    </tr>\n",
              "    <tr>\n",
              "      <th>1</th>\n",
              "      <td>customer</td>\n",
              "      <td>14573</td>\n",
              "    </tr>\n",
              "  </tbody>\n",
              "</table>\n",
              "</div>\n",
              "      <button class=\"colab-df-convert\" onclick=\"convertToInteractive('df-18b8d381-7075-42a0-9420-70ddfb5a3141')\"\n",
              "              title=\"Convert this dataframe to an interactive table.\"\n",
              "              style=\"display:none;\">\n",
              "        \n",
              "  <svg xmlns=\"http://www.w3.org/2000/svg\" height=\"24px\"viewBox=\"0 0 24 24\"\n",
              "       width=\"24px\">\n",
              "    <path d=\"M0 0h24v24H0V0z\" fill=\"none\"/>\n",
              "    <path d=\"M18.56 5.44l.94 2.06.94-2.06 2.06-.94-2.06-.94-.94-2.06-.94 2.06-2.06.94zm-11 1L8.5 8.5l.94-2.06 2.06-.94-2.06-.94L8.5 2.5l-.94 2.06-2.06.94zm10 10l.94 2.06.94-2.06 2.06-.94-2.06-.94-.94-2.06-.94 2.06-2.06.94z\"/><path d=\"M17.41 7.96l-1.37-1.37c-.4-.4-.92-.59-1.43-.59-.52 0-1.04.2-1.43.59L10.3 9.45l-7.72 7.72c-.78.78-.78 2.05 0 2.83L4 21.41c.39.39.9.59 1.41.59.51 0 1.02-.2 1.41-.59l7.78-7.78 2.81-2.81c.8-.78.8-2.07 0-2.86zM5.41 20L4 18.59l7.72-7.72 1.47 1.35L5.41 20z\"/>\n",
              "  </svg>\n",
              "      </button>\n",
              "      \n",
              "  <style>\n",
              "    .colab-df-container {\n",
              "      display:flex;\n",
              "      flex-wrap:wrap;\n",
              "      gap: 12px;\n",
              "    }\n",
              "\n",
              "    .colab-df-convert {\n",
              "      background-color: #E8F0FE;\n",
              "      border: none;\n",
              "      border-radius: 50%;\n",
              "      cursor: pointer;\n",
              "      display: none;\n",
              "      fill: #1967D2;\n",
              "      height: 32px;\n",
              "      padding: 0 0 0 0;\n",
              "      width: 32px;\n",
              "    }\n",
              "\n",
              "    .colab-df-convert:hover {\n",
              "      background-color: #E2EBFA;\n",
              "      box-shadow: 0px 1px 2px rgba(60, 64, 67, 0.3), 0px 1px 3px 1px rgba(60, 64, 67, 0.15);\n",
              "      fill: #174EA6;\n",
              "    }\n",
              "\n",
              "    [theme=dark] .colab-df-convert {\n",
              "      background-color: #3B4455;\n",
              "      fill: #D2E3FC;\n",
              "    }\n",
              "\n",
              "    [theme=dark] .colab-df-convert:hover {\n",
              "      background-color: #434B5C;\n",
              "      box-shadow: 0px 1px 3px 1px rgba(0, 0, 0, 0.15);\n",
              "      filter: drop-shadow(0px 1px 2px rgba(0, 0, 0, 0.3));\n",
              "      fill: #FFFFFF;\n",
              "    }\n",
              "  </style>\n",
              "\n",
              "      <script>\n",
              "        const buttonEl =\n",
              "          document.querySelector('#df-18b8d381-7075-42a0-9420-70ddfb5a3141 button.colab-df-convert');\n",
              "        buttonEl.style.display =\n",
              "          google.colab.kernel.accessAllowed ? 'block' : 'none';\n",
              "\n",
              "        async function convertToInteractive(key) {\n",
              "          const element = document.querySelector('#df-18b8d381-7075-42a0-9420-70ddfb5a3141');\n",
              "          const dataTable =\n",
              "            await google.colab.kernel.invokeFunction('convertToInteractive',\n",
              "                                                     [key], {});\n",
              "          if (!dataTable) return;\n",
              "\n",
              "          const docLinkHtml = 'Like what you see? Visit the ' +\n",
              "            '<a target=\"_blank\" href=https://colab.research.google.com/notebooks/data_table.ipynb>data table notebook</a>'\n",
              "            + ' to learn more about interactive tables.';\n",
              "          element.innerHTML = '';\n",
              "          dataTable['output_type'] = 'display_data';\n",
              "          await google.colab.output.renderOutput(dataTable, element);\n",
              "          const docLink = document.createElement('div');\n",
              "          docLink.innerHTML = docLinkHtml;\n",
              "          element.appendChild(docLink);\n",
              "        }\n",
              "      </script>\n",
              "    </div>\n",
              "  </div>\n",
              "  "
            ]
          },
          "metadata": {},
          "execution_count": 43
        }
      ]
    },
    {
      "cell_type": "markdown",
      "source": [
        "**Analise de frequencia ou quantidades de usuarios**"
      ],
      "metadata": {
        "id": "PRVkde7gYdry"
      }
    },
    {
      "cell_type": "code",
      "source": [
        "sns.barplot(x=\"tipo\", y=\"total\", data = df_usuarios_was, palette = \"viridis\") #Gráfico de barras com seaborn, definindo o \"tipo\" no eixo x e o \"total\" no eixo y, extraido do DF df_usuarios_chicago"
      ],
      "metadata": {
        "colab": {
          "base_uri": "https://localhost:8080/",
          "height": 296
        },
        "id": "XLXR6hMCHvrI",
        "outputId": "4968319a-fb4e-4031-dc55-b53692268b42"
      },
      "execution_count": 44,
      "outputs": [
        {
          "output_type": "execute_result",
          "data": {
            "text/plain": [
              "<matplotlib.axes._subplots.AxesSubplot at 0x7fde161908d0>"
            ]
          },
          "metadata": {},
          "execution_count": 44
        },
        {
          "output_type": "display_data",
          "data": {
            "text/plain": [
              "<Figure size 432x288 with 1 Axes>"
            ],
            "image/png": "[encoded data removed]"
          },
          "metadata": {
            "needs_background": "light"
          }
        }
      ]
    },
    {
      "cell_type": "markdown",
      "source": [
        "**Mediana de viagem por tipo de usuário**"
      ],
      "metadata": {
        "id": "ffcVoD3hIkl7"
      }
    },
    {
      "cell_type": "code",
      "source": [
        "df_was.groupby(\"tipo_usuario\").median()[\"duracao\"] # Mediana"
      ],
      "metadata": {
        "colab": {
          "base_uri": "https://localhost:8080/"
        },
        "id": "hy7z7Hxvc-Ve",
        "outputId": "cf816691-7249-48de-b8ee-f6e3742800ee"
      },
      "execution_count": 45,
      "outputs": [
        {
          "output_type": "execute_result",
          "data": {
            "text/plain": [
              "tipo_usuario\n",
              "Customer      24.896717\n",
              "Subscriber     9.733217\n",
              "Name: duracao, dtype: float64"
            ]
          },
          "metadata": {},
          "execution_count": 45
        }
      ]
    },
    {
      "cell_type": "code",
      "source": [
        "df_mediana_viagem_users_was = df_was.groupby(\"tipo_usuario\").median()[\"duracao\"].to_frame().reset_index()"
      ],
      "metadata": {
        "id": "88az6hAyctzr"
      },
      "execution_count": 46,
      "outputs": []
    },
    {
      "cell_type": "code",
      "source": [
        "df_mediana_viagem_users_was"
      ],
      "metadata": {
        "colab": {
          "base_uri": "https://localhost:8080/",
          "height": 112
        },
        "id": "tUKT-x1EcywF",
        "outputId": "f1a9b4b3-35fa-42c0-87c6-d1d7e069be38"
      },
      "execution_count": 47,
      "outputs": [
        {
          "output_type": "execute_result",
          "data": {
            "text/plain": [
              "  tipo_usuario    duracao\n",
              "0     Customer  24.896717\n",
              "1   Subscriber   9.733217"
            ],
            "text/html": [
              "\n",
              "  <div id=\"df-b3e439a1-17d3-4c1d-b576-abeb68dea5b0\">\n",
              "    <div class=\"colab-df-container\">\n",
              "      <div>\n",
              "<style scoped>\n",
              "    .dataframe tbody tr th:only-of-type {\n",
              "        vertical-align: middle;\n",
              "    }\n",
              "\n",
              "    .dataframe tbody tr th {\n",
              "        vertical-align: top;\n",
              "    }\n",
              "\n",
              "    .dataframe thead th {\n",
              "        text-align: right;\n",
              "    }\n",
              "</style>\n",
              "<table border=\"1\" class=\"dataframe\">\n",
              "  <thead>\n",
              "    <tr style=\"text-align: right;\">\n",
              "      <th></th>\n",
              "      <th>tipo_usuario</th>\n",
              "      <th>duracao</th>\n",
              "    </tr>\n",
              "  </thead>\n",
              "  <tbody>\n",
              "    <tr>\n",
              "      <th>0</th>\n",
              "      <td>Customer</td>\n",
              "      <td>24.896717</td>\n",
              "    </tr>\n",
              "    <tr>\n",
              "      <th>1</th>\n",
              "      <td>Subscriber</td>\n",
              "      <td>9.733217</td>\n",
              "    </tr>\n",
              "  </tbody>\n",
              "</table>\n",
              "</div>\n",
              "      <button class=\"colab-df-convert\" onclick=\"convertToInteractive('df-b3e439a1-17d3-4c1d-b576-abeb68dea5b0')\"\n",
              "              title=\"Convert this dataframe to an interactive table.\"\n",
              "              style=\"display:none;\">\n",
              "        \n",
              "  <svg xmlns=\"http://www.w3.org/2000/svg\" height=\"24px\"viewBox=\"0 0 24 24\"\n",
              "       width=\"24px\">\n",
              "    <path d=\"M0 0h24v24H0V0z\" fill=\"none\"/>\n",
              "    <path d=\"M18.56 5.44l.94 2.06.94-2.06 2.06-.94-2.06-.94-.94-2.06-.94 2.06-2.06.94zm-11 1L8.5 8.5l.94-2.06 2.06-.94-2.06-.94L8.5 2.5l-.94 2.06-2.06.94zm10 10l.94 2.06.94-2.06 2.06-.94-2.06-.94-.94-2.06-.94 2.06-2.06.94z\"/><path d=\"M17.41 7.96l-1.37-1.37c-.4-.4-.92-.59-1.43-.59-.52 0-1.04.2-1.43.59L10.3 9.45l-7.72 7.72c-.78.78-.78 2.05 0 2.83L4 21.41c.39.39.9.59 1.41.59.51 0 1.02-.2 1.41-.59l7.78-7.78 2.81-2.81c.8-.78.8-2.07 0-2.86zM5.41 20L4 18.59l7.72-7.72 1.47 1.35L5.41 20z\"/>\n",
              "  </svg>\n",
              "      </button>\n",
              "      \n",
              "  <style>\n",
              "    .colab-df-container {\n",
              "      display:flex;\n",
              "      flex-wrap:wrap;\n",
              "      gap: 12px;\n",
              "    }\n",
              "\n",
              "    .colab-df-convert {\n",
              "      background-color: #E8F0FE;\n",
              "      border: none;\n",
              "      border-radius: 50%;\n",
              "      cursor: pointer;\n",
              "      display: none;\n",
              "      fill: #1967D2;\n",
              "      height: 32px;\n",
              "      padding: 0 0 0 0;\n",
              "      width: 32px;\n",
              "    }\n",
              "\n",
              "    .colab-df-convert:hover {\n",
              "      background-color: #E2EBFA;\n",
              "      box-shadow: 0px 1px 2px rgba(60, 64, 67, 0.3), 0px 1px 3px 1px rgba(60, 64, 67, 0.15);\n",
              "      fill: #174EA6;\n",
              "    }\n",
              "\n",
              "    [theme=dark] .colab-df-convert {\n",
              "      background-color: #3B4455;\n",
              "      fill: #D2E3FC;\n",
              "    }\n",
              "\n",
              "    [theme=dark] .colab-df-convert:hover {\n",
              "      background-color: #434B5C;\n",
              "      box-shadow: 0px 1px 3px 1px rgba(0, 0, 0, 0.15);\n",
              "      filter: drop-shadow(0px 1px 2px rgba(0, 0, 0, 0.3));\n",
              "      fill: #FFFFFF;\n",
              "    }\n",
              "  </style>\n",
              "\n",
              "      <script>\n",
              "        const buttonEl =\n",
              "          document.querySelector('#df-b3e439a1-17d3-4c1d-b576-abeb68dea5b0 button.colab-df-convert');\n",
              "        buttonEl.style.display =\n",
              "          google.colab.kernel.accessAllowed ? 'block' : 'none';\n",
              "\n",
              "        async function convertToInteractive(key) {\n",
              "          const element = document.querySelector('#df-b3e439a1-17d3-4c1d-b576-abeb68dea5b0');\n",
              "          const dataTable =\n",
              "            await google.colab.kernel.invokeFunction('convertToInteractive',\n",
              "                                                     [key], {});\n",
              "          if (!dataTable) return;\n",
              "\n",
              "          const docLinkHtml = 'Like what you see? Visit the ' +\n",
              "            '<a target=\"_blank\" href=https://colab.research.google.com/notebooks/data_table.ipynb>data table notebook</a>'\n",
              "            + ' to learn more about interactive tables.';\n",
              "          element.innerHTML = '';\n",
              "          dataTable['output_type'] = 'display_data';\n",
              "          await google.colab.output.renderOutput(dataTable, element);\n",
              "          const docLink = document.createElement('div');\n",
              "          docLink.innerHTML = docLinkHtml;\n",
              "          element.appendChild(docLink);\n",
              "        }\n",
              "      </script>\n",
              "    </div>\n",
              "  </div>\n",
              "  "
            ]
          },
          "metadata": {},
          "execution_count": 47
        }
      ]
    },
    {
      "cell_type": "code",
      "source": [
        "df_mediana_viagem_users_was.columns = ['users', 'duracao']"
      ],
      "metadata": {
        "id": "U05cH03gc26h"
      },
      "execution_count": 48,
      "outputs": []
    },
    {
      "cell_type": "code",
      "source": [
        "df_mediana_viagem_users_was.style.set_table_styles([{'selector' : '',\n",
        "                            'props' : [('border',\n",
        "                                        '2.5px solid black')]}])"
      ],
      "metadata": {
        "colab": {
          "base_uri": "https://localhost:8080/",
          "height": 117
        },
        "id": "uyvFsfVqc48M",
        "outputId": "5a2a1526-6926-4043-d4bc-95ec01d297f0"
      },
      "execution_count": 49,
      "outputs": [
        {
          "output_type": "execute_result",
          "data": {
            "text/plain": [
              "<pandas.io.formats.style.Styler at 0x7fde15daffd0>"
            ],
            "text/html": [
              "<style type=\"text/css\">\n",
              "#T_09106_  {\n",
              "  border: 2.5px solid black;\n",
              "}\n",
              "</style>\n",
              "<table id=\"T_09106_\" class=\"dataframe\">\n",
              "  <thead>\n",
              "    <tr>\n",
              "      <th class=\"blank level0\" >&nbsp;</th>\n",
              "      <th class=\"col_heading level0 col0\" >users</th>\n",
              "      <th class=\"col_heading level0 col1\" >duracao</th>\n",
              "    </tr>\n",
              "  </thead>\n",
              "  <tbody>\n",
              "    <tr>\n",
              "      <th id=\"T_09106_level0_row0\" class=\"row_heading level0 row0\" >0</th>\n",
              "      <td id=\"T_09106_row0_col0\" class=\"data row0 col0\" >Customer</td>\n",
              "      <td id=\"T_09106_row0_col1\" class=\"data row0 col1\" >24.896717</td>\n",
              "    </tr>\n",
              "    <tr>\n",
              "      <th id=\"T_09106_level0_row1\" class=\"row_heading level0 row1\" >1</th>\n",
              "      <td id=\"T_09106_row1_col0\" class=\"data row1 col0\" >Subscriber</td>\n",
              "      <td id=\"T_09106_row1_col1\" class=\"data row1 col1\" >9.733217</td>\n",
              "    </tr>\n",
              "  </tbody>\n",
              "</table>\n"
            ]
          },
          "metadata": {},
          "execution_count": 49
        }
      ]
    },
    {
      "cell_type": "markdown",
      "source": [
        "**Média de viagem por tipo de usuário**"
      ],
      "metadata": {
        "id": "D-R07NvYI2Dp"
      }
    },
    {
      "cell_type": "code",
      "source": [
        "df_was.groupby(\"tipo_usuario\").mean()[\"duracao\"] # Duração média por tipo de usuário"
      ],
      "metadata": {
        "colab": {
          "base_uri": "https://localhost:8080/"
        },
        "id": "7475pkhnIrPx",
        "outputId": "3b7860c9-667d-4b32-e203-84b99cbf89c1"
      },
      "execution_count": 50,
      "outputs": [
        {
          "output_type": "execute_result",
          "data": {
            "text/plain": [
              "tipo_usuario\n",
              "Customer      41.678031\n",
              "Subscriber    12.528120\n",
              "Name: duracao, dtype: float64"
            ]
          },
          "metadata": {},
          "execution_count": 50
        }
      ]
    },
    {
      "cell_type": "code",
      "source": [
        "df_media_viagem_users_was = df_was.groupby(\"tipo_usuario\").mean()[\"duracao\"].to_frame().reset_index()\n",
        "df_media_viagem_users_was"
      ],
      "metadata": {
        "colab": {
          "base_uri": "https://localhost:8080/",
          "height": 112
        },
        "id": "rg_M_UVocWVt",
        "outputId": "b103a7f7-d804-4a6b-ccef-f8cdfd4511b6"
      },
      "execution_count": 51,
      "outputs": [
        {
          "output_type": "execute_result",
          "data": {
            "text/plain": [
              "  tipo_usuario    duracao\n",
              "0     Customer  41.678031\n",
              "1   Subscriber  12.528120"
            ],
            "text/html": [
              "\n",
              "  <div id=\"df-e3e46684-7821-4cbc-9c5b-f8b7af860f0e\">\n",
              "    <div class=\"colab-df-container\">\n",
              "      <div>\n",
              "<style scoped>\n",
              "    .dataframe tbody tr th:only-of-type {\n",
              "        vertical-align: middle;\n",
              "    }\n",
              "\n",
              "    .dataframe tbody tr th {\n",
              "        vertical-align: top;\n",
              "    }\n",
              "\n",
              "    .dataframe thead th {\n",
              "        text-align: right;\n",
              "    }\n",
              "</style>\n",
              "<table border=\"1\" class=\"dataframe\">\n",
              "  <thead>\n",
              "    <tr style=\"text-align: right;\">\n",
              "      <th></th>\n",
              "      <th>tipo_usuario</th>\n",
              "      <th>duracao</th>\n",
              "    </tr>\n",
              "  </thead>\n",
              "  <tbody>\n",
              "    <tr>\n",
              "      <th>0</th>\n",
              "      <td>Customer</td>\n",
              "      <td>41.678031</td>\n",
              "    </tr>\n",
              "    <tr>\n",
              "      <th>1</th>\n",
              "      <td>Subscriber</td>\n",
              "      <td>12.528120</td>\n",
              "    </tr>\n",
              "  </tbody>\n",
              "</table>\n",
              "</div>\n",
              "      <button class=\"colab-df-convert\" onclick=\"convertToInteractive('df-e3e46684-7821-4cbc-9c5b-f8b7af860f0e')\"\n",
              "              title=\"Convert this dataframe to an interactive table.\"\n",
              "              style=\"display:none;\">\n",
              "        \n",
              "  <svg xmlns=\"http://www.w3.org/2000/svg\" height=\"24px\"viewBox=\"0 0 24 24\"\n",
              "       width=\"24px\">\n",
              "    <path d=\"M0 0h24v24H0V0z\" fill=\"none\"/>\n",
              "    <path d=\"M18.56 5.44l.94 2.06.94-2.06 2.06-.94-2.06-.94-.94-2.06-.94 2.06-2.06.94zm-11 1L8.5 8.5l.94-2.06 2.06-.94-2.06-.94L8.5 2.5l-.94 2.06-2.06.94zm10 10l.94 2.06.94-2.06 2.06-.94-2.06-.94-.94-2.06-.94 2.06-2.06.94z\"/><path d=\"M17.41 7.96l-1.37-1.37c-.4-.4-.92-.59-1.43-.59-.52 0-1.04.2-1.43.59L10.3 9.45l-7.72 7.72c-.78.78-.78 2.05 0 2.83L4 21.41c.39.39.9.59 1.41.59.51 0 1.02-.2 1.41-.59l7.78-7.78 2.81-2.81c.8-.78.8-2.07 0-2.86zM5.41 20L4 18.59l7.72-7.72 1.47 1.35L5.41 20z\"/>\n",
              "  </svg>\n",
              "      </button>\n",
              "      \n",
              "  <style>\n",
              "    .colab-df-container {\n",
              "      display:flex;\n",
              "      flex-wrap:wrap;\n",
              "      gap: 12px;\n",
              "    }\n",
              "\n",
              "    .colab-df-convert {\n",
              "      background-color: #E8F0FE;\n",
              "      border: none;\n",
              "      border-radius: 50%;\n",
              "      cursor: pointer;\n",
              "      display: none;\n",
              "      fill: #1967D2;\n",
              "      height: 32px;\n",
              "      padding: 0 0 0 0;\n",
              "      width: 32px;\n",
              "    }\n",
              "\n",
              "    .colab-df-convert:hover {\n",
              "      background-color: #E2EBFA;\n",
              "      box-shadow: 0px 1px 2px rgba(60, 64, 67, 0.3), 0px 1px 3px 1px rgba(60, 64, 67, 0.15);\n",
              "      fill: #174EA6;\n",
              "    }\n",
              "\n",
              "    [theme=dark] .colab-df-convert {\n",
              "      background-color: #3B4455;\n",
              "      fill: #D2E3FC;\n",
              "    }\n",
              "\n",
              "    [theme=dark] .colab-df-convert:hover {\n",
              "      background-color: #434B5C;\n",
              "      box-shadow: 0px 1px 3px 1px rgba(0, 0, 0, 0.15);\n",
              "      filter: drop-shadow(0px 1px 2px rgba(0, 0, 0, 0.3));\n",
              "      fill: #FFFFFF;\n",
              "    }\n",
              "  </style>\n",
              "\n",
              "      <script>\n",
              "        const buttonEl =\n",
              "          document.querySelector('#df-e3e46684-7821-4cbc-9c5b-f8b7af860f0e button.colab-df-convert');\n",
              "        buttonEl.style.display =\n",
              "          google.colab.kernel.accessAllowed ? 'block' : 'none';\n",
              "\n",
              "        async function convertToInteractive(key) {\n",
              "          const element = document.querySelector('#df-e3e46684-7821-4cbc-9c5b-f8b7af860f0e');\n",
              "          const dataTable =\n",
              "            await google.colab.kernel.invokeFunction('convertToInteractive',\n",
              "                                                     [key], {});\n",
              "          if (!dataTable) return;\n",
              "\n",
              "          const docLinkHtml = 'Like what you see? Visit the ' +\n",
              "            '<a target=\"_blank\" href=https://colab.research.google.com/notebooks/data_table.ipynb>data table notebook</a>'\n",
              "            + ' to learn more about interactive tables.';\n",
              "          element.innerHTML = '';\n",
              "          dataTable['output_type'] = 'display_data';\n",
              "          await google.colab.output.renderOutput(dataTable, element);\n",
              "          const docLink = document.createElement('div');\n",
              "          docLink.innerHTML = docLinkHtml;\n",
              "          element.appendChild(docLink);\n",
              "        }\n",
              "      </script>\n",
              "    </div>\n",
              "  </div>\n",
              "  "
            ]
          },
          "metadata": {},
          "execution_count": 51
        }
      ]
    },
    {
      "cell_type": "code",
      "source": [
        "df_media_viagem_users_was.columns = ['users', 'duracao']"
      ],
      "metadata": {
        "id": "f4dQOl8Dcawb"
      },
      "execution_count": 52,
      "outputs": []
    },
    {
      "cell_type": "code",
      "source": [
        "df_media_viagem_users_was.style.set_table_styles([{'selector' : '',\n",
        "                            'props' : [('border',\n",
        "                                        '2.5px solid black')]}])"
      ],
      "metadata": {
        "colab": {
          "base_uri": "https://localhost:8080/",
          "height": 117
        },
        "id": "gldXulMhcctw",
        "outputId": "9b4ea864-a4ab-4741-d7c5-4895bc66dce0"
      },
      "execution_count": 53,
      "outputs": [
        {
          "output_type": "execute_result",
          "data": {
            "text/plain": [
              "<pandas.io.formats.style.Styler at 0x7fde15a62a50>"
            ],
            "text/html": [
              "<style type=\"text/css\">\n",
              "#T_2b013_  {\n",
              "  border: 2.5px solid black;\n",
              "}\n",
              "</style>\n",
              "<table id=\"T_2b013_\" class=\"dataframe\">\n",
              "  <thead>\n",
              "    <tr>\n",
              "      <th class=\"blank level0\" >&nbsp;</th>\n",
              "      <th class=\"col_heading level0 col0\" >users</th>\n",
              "      <th class=\"col_heading level0 col1\" >duracao</th>\n",
              "    </tr>\n",
              "  </thead>\n",
              "  <tbody>\n",
              "    <tr>\n",
              "      <th id=\"T_2b013_level0_row0\" class=\"row_heading level0 row0\" >0</th>\n",
              "      <td id=\"T_2b013_row0_col0\" class=\"data row0 col0\" >Customer</td>\n",
              "      <td id=\"T_2b013_row0_col1\" class=\"data row0 col1\" >41.678031</td>\n",
              "    </tr>\n",
              "    <tr>\n",
              "      <th id=\"T_2b013_level0_row1\" class=\"row_heading level0 row1\" >1</th>\n",
              "      <td id=\"T_2b013_row1_col0\" class=\"data row1 col0\" >Subscriber</td>\n",
              "      <td id=\"T_2b013_row1_col1\" class=\"data row1 col1\" >12.528120</td>\n",
              "    </tr>\n",
              "  </tbody>\n",
              "</table>\n"
            ]
          },
          "metadata": {},
          "execution_count": 53
        }
      ]
    },
    {
      "cell_type": "markdown",
      "source": [
        "**Explorando a frequencia (mes e hora) de usuários customizados e usuários cadastrados**"
      ],
      "metadata": {
        "id": "4mq3vAuoJHz6"
      }
    },
    {
      "cell_type": "code",
      "source": [
        "total_tipo_usuarios_was = df_was.tipo_usuario.value_counts()"
      ],
      "metadata": {
        "id": "I6-lF1pKI5kx"
      },
      "execution_count": 54,
      "outputs": []
    },
    {
      "cell_type": "code",
      "source": [
        "total_tipo_usuarios_was"
      ],
      "metadata": {
        "colab": {
          "base_uri": "https://localhost:8080/"
        },
        "id": "vAPTJpGMJMeB",
        "outputId": "8cc18a66-6238-4956-ea9a-0015dc8fd7b2"
      },
      "execution_count": 55,
      "outputs": [
        {
          "output_type": "execute_result",
          "data": {
            "text/plain": [
              "Subscriber    51753\n",
              "Customer      14573\n",
              "Name: tipo_usuario, dtype: int64"
            ]
          },
          "metadata": {},
          "execution_count": 55
        }
      ]
    },
    {
      "cell_type": "code",
      "source": [
        ""
      ],
      "metadata": {
        "id": "gEvhX-FdcfuD"
      },
      "execution_count": 55,
      "outputs": []
    },
    {
      "cell_type": "code",
      "source": [
        "df_was2 = df_was.copy()"
      ],
      "metadata": {
        "id": "H0xeNA4NJPFZ"
      },
      "execution_count": 56,
      "outputs": []
    },
    {
      "cell_type": "code",
      "source": [
        "df_was2"
      ],
      "metadata": {
        "colab": {
          "base_uri": "https://localhost:8080/",
          "height": 424
        },
        "id": "jGrsIYBIJnGa",
        "outputId": "9ecdef8c-e530-426c-aca8-4f714c2ec963"
      },
      "execution_count": 57,
      "outputs": [
        {
          "output_type": "execute_result",
          "data": {
            "text/plain": [
              "         duracao  mes  hora dia_semana tipo_usuario\n",
              "0       7.123117  mar    22   Thursday   Subscriber\n",
              "1       9.792517  mar    22   Thursday   Subscriber\n",
              "2       6.632983  mar    22   Thursday   Subscriber\n",
              "3       7.404700  mar    22   Thursday   Subscriber\n",
              "4      13.014583  mar    22   Thursday   Subscriber\n",
              "...          ...  ...   ...        ...          ...\n",
              "66321  15.421933  out     8   Saturday   Subscriber\n",
              "66322   6.355217  out     5   Saturday   Subscriber\n",
              "66323  17.632783  out     2   Saturday   Subscriber\n",
              "66324   3.377233  out     0   Saturday   Subscriber\n",
              "66325   4.341450  out     0   Saturday   Subscriber\n",
              "\n",
              "[66326 rows x 5 columns]"
            ],
            "text/html": [
              "\n",
              "  <div id=\"df-43c3fb30-7d8f-4051-a89b-861b294f1cea\">\n",
              "    <div class=\"colab-df-container\">\n",
              "      <div>\n",
              "<style scoped>\n",
              "    .dataframe tbody tr th:only-of-type {\n",
              "        vertical-align: middle;\n",
              "    }\n",
              "\n",
              "    .dataframe tbody tr th {\n",
              "        vertical-align: top;\n",
              "    }\n",
              "\n",
              "    .dataframe thead th {\n",
              "        text-align: right;\n",
              "    }\n",
              "</style>\n",
              "<table border=\"1\" class=\"dataframe\">\n",
              "  <thead>\n",
              "    <tr style=\"text-align: right;\">\n",
              "      <th></th>\n",
              "      <th>duracao</th>\n",
              "      <th>mes</th>\n",
              "      <th>hora</th>\n",
              "      <th>dia_semana</th>\n",
              "      <th>tipo_usuario</th>\n",
              "    </tr>\n",
              "  </thead>\n",
              "  <tbody>\n",
              "    <tr>\n",
              "      <th>0</th>\n",
              "      <td>7.123117</td>\n",
              "      <td>mar</td>\n",
              "      <td>22</td>\n",
              "      <td>Thursday</td>\n",
              "      <td>Subscriber</td>\n",
              "    </tr>\n",
              "    <tr>\n",
              "      <th>1</th>\n",
              "      <td>9.792517</td>\n",
              "      <td>mar</td>\n",
              "      <td>22</td>\n",
              "      <td>Thursday</td>\n",
              "      <td>Subscriber</td>\n",
              "    </tr>\n",
              "    <tr>\n",
              "      <th>2</th>\n",
              "      <td>6.632983</td>\n",
              "      <td>mar</td>\n",
              "      <td>22</td>\n",
              "      <td>Thursday</td>\n",
              "      <td>Subscriber</td>\n",
              "    </tr>\n",
              "    <tr>\n",
              "      <th>3</th>\n",
              "      <td>7.404700</td>\n",
              "      <td>mar</td>\n",
              "      <td>22</td>\n",
              "      <td>Thursday</td>\n",
              "      <td>Subscriber</td>\n",
              "    </tr>\n",
              "    <tr>\n",
              "      <th>4</th>\n",
              "      <td>13.014583</td>\n",
              "      <td>mar</td>\n",
              "      <td>22</td>\n",
              "      <td>Thursday</td>\n",
              "      <td>Subscriber</td>\n",
              "    </tr>\n",
              "    <tr>\n",
              "      <th>...</th>\n",
              "      <td>...</td>\n",
              "      <td>...</td>\n",
              "      <td>...</td>\n",
              "      <td>...</td>\n",
              "      <td>...</td>\n",
              "    </tr>\n",
              "    <tr>\n",
              "      <th>66321</th>\n",
              "      <td>15.421933</td>\n",
              "      <td>out</td>\n",
              "      <td>8</td>\n",
              "      <td>Saturday</td>\n",
              "      <td>Subscriber</td>\n",
              "    </tr>\n",
              "    <tr>\n",
              "      <th>66322</th>\n",
              "      <td>6.355217</td>\n",
              "      <td>out</td>\n",
              "      <td>5</td>\n",
              "      <td>Saturday</td>\n",
              "      <td>Subscriber</td>\n",
              "    </tr>\n",
              "    <tr>\n",
              "      <th>66323</th>\n",
              "      <td>17.632783</td>\n",
              "      <td>out</td>\n",
              "      <td>2</td>\n",
              "      <td>Saturday</td>\n",
              "      <td>Subscriber</td>\n",
              "    </tr>\n",
              "    <tr>\n",
              "      <th>66324</th>\n",
              "      <td>3.377233</td>\n",
              "      <td>out</td>\n",
              "      <td>0</td>\n",
              "      <td>Saturday</td>\n",
              "      <td>Subscriber</td>\n",
              "    </tr>\n",
              "    <tr>\n",
              "      <th>66325</th>\n",
              "      <td>4.341450</td>\n",
              "      <td>out</td>\n",
              "      <td>0</td>\n",
              "      <td>Saturday</td>\n",
              "      <td>Subscriber</td>\n",
              "    </tr>\n",
              "  </tbody>\n",
              "</table>\n",
              "<p>66326 rows × 5 columns</p>\n",
              "</div>\n",
              "      <button class=\"colab-df-convert\" onclick=\"convertToInteractive('df-43c3fb30-7d8f-4051-a89b-861b294f1cea')\"\n",
              "              title=\"Convert this dataframe to an interactive table.\"\n",
              "              style=\"display:none;\">\n",
              "        \n",
              "  <svg xmlns=\"http://www.w3.org/2000/svg\" height=\"24px\"viewBox=\"0 0 24 24\"\n",
              "       width=\"24px\">\n",
              "    <path d=\"M0 0h24v24H0V0z\" fill=\"none\"/>\n",
              "    <path d=\"M18.56 5.44l.94 2.06.94-2.06 2.06-.94-2.06-.94-.94-2.06-.94 2.06-2.06.94zm-11 1L8.5 8.5l.94-2.06 2.06-.94-2.06-.94L8.5 2.5l-.94 2.06-2.06.94zm10 10l.94 2.06.94-2.06 2.06-.94-2.06-.94-.94-2.06-.94 2.06-2.06.94z\"/><path d=\"M17.41 7.96l-1.37-1.37c-.4-.4-.92-.59-1.43-.59-.52 0-1.04.2-1.43.59L10.3 9.45l-7.72 7.72c-.78.78-.78 2.05 0 2.83L4 21.41c.39.39.9.59 1.41.59.51 0 1.02-.2 1.41-.59l7.78-7.78 2.81-2.81c.8-.78.8-2.07 0-2.86zM5.41 20L4 18.59l7.72-7.72 1.47 1.35L5.41 20z\"/>\n",
              "  </svg>\n",
              "      </button>\n",
              "      \n",
              "  <style>\n",
              "    .colab-df-container {\n",
              "      display:flex;\n",
              "      flex-wrap:wrap;\n",
              "      gap: 12px;\n",
              "    }\n",
              "\n",
              "    .colab-df-convert {\n",
              "      background-color: #E8F0FE;\n",
              "      border: none;\n",
              "      border-radius: 50%;\n",
              "      cursor: pointer;\n",
              "      display: none;\n",
              "      fill: #1967D2;\n",
              "      height: 32px;\n",
              "      padding: 0 0 0 0;\n",
              "      width: 32px;\n",
              "    }\n",
              "\n",
              "    .colab-df-convert:hover {\n",
              "      background-color: #E2EBFA;\n",
              "      box-shadow: 0px 1px 2px rgba(60, 64, 67, 0.3), 0px 1px 3px 1px rgba(60, 64, 67, 0.15);\n",
              "      fill: #174EA6;\n",
              "    }\n",
              "\n",
              "    [theme=dark] .colab-df-convert {\n",
              "      background-color: #3B4455;\n",
              "      fill: #D2E3FC;\n",
              "    }\n",
              "\n",
              "    [theme=dark] .colab-df-convert:hover {\n",
              "      background-color: #434B5C;\n",
              "      box-shadow: 0px 1px 3px 1px rgba(0, 0, 0, 0.15);\n",
              "      filter: drop-shadow(0px 1px 2px rgba(0, 0, 0, 0.3));\n",
              "      fill: #FFFFFF;\n",
              "    }\n",
              "  </style>\n",
              "\n",
              "      <script>\n",
              "        const buttonEl =\n",
              "          document.querySelector('#df-43c3fb30-7d8f-4051-a89b-861b294f1cea button.colab-df-convert');\n",
              "        buttonEl.style.display =\n",
              "          google.colab.kernel.accessAllowed ? 'block' : 'none';\n",
              "\n",
              "        async function convertToInteractive(key) {\n",
              "          const element = document.querySelector('#df-43c3fb30-7d8f-4051-a89b-861b294f1cea');\n",
              "          const dataTable =\n",
              "            await google.colab.kernel.invokeFunction('convertToInteractive',\n",
              "                                                     [key], {});\n",
              "          if (!dataTable) return;\n",
              "\n",
              "          const docLinkHtml = 'Like what you see? Visit the ' +\n",
              "            '<a target=\"_blank\" href=https://colab.research.google.com/notebooks/data_table.ipynb>data table notebook</a>'\n",
              "            + ' to learn more about interactive tables.';\n",
              "          element.innerHTML = '';\n",
              "          dataTable['output_type'] = 'display_data';\n",
              "          await google.colab.output.renderOutput(dataTable, element);\n",
              "          const docLink = document.createElement('div');\n",
              "          docLink.innerHTML = docLinkHtml;\n",
              "          element.appendChild(docLink);\n",
              "        }\n",
              "      </script>\n",
              "    </div>\n",
              "  </div>\n",
              "  "
            ]
          },
          "metadata": {},
          "execution_count": 57
        }
      ]
    },
    {
      "cell_type": "markdown",
      "source": [
        "**Criando um DF para usuários Subscriber e outro para Customer**"
      ],
      "metadata": {
        "id": "QlvvqH7iJv3_"
      }
    },
    {
      "cell_type": "markdown",
      "source": [
        "**Explorando de usuários Subscriber por mes**"
      ],
      "metadata": {
        "id": "keKqFEvyJ54I"
      }
    },
    {
      "cell_type": "code",
      "source": [
        "filtro_sub_was = df_was2['tipo_usuario'] == \"Subscriber\" #Filtra só usuários Subscriber na coluna 'tipo_usuario' e armazena no filtro_sub_chicago"
      ],
      "metadata": {
        "id": "gTvJygZeJqZr"
      },
      "execution_count": 58,
      "outputs": []
    },
    {
      "cell_type": "code",
      "source": [
        "subscriber_was = df_was2[filtro_sub_was] #Utiliza o filtro armazenado em 'filtro_sub_chicago' no df_chicago2 (cópia do df_chicago) e armazena na variável subscriber_chicago"
      ],
      "metadata": {
        "id": "Y7QpmGnc62tR"
      },
      "execution_count": 59,
      "outputs": []
    },
    {
      "cell_type": "code",
      "source": [
        "subscriber_was #Data frame só com os usuários cadastrados"
      ],
      "metadata": {
        "colab": {
          "base_uri": "https://localhost:8080/",
          "height": 424
        },
        "id": "U5UXuj9q7AqX",
        "outputId": "603db33a-0935-46b2-8082-f646abd58a4d"
      },
      "execution_count": 60,
      "outputs": [
        {
          "output_type": "execute_result",
          "data": {
            "text/plain": [
              "         duracao  mes  hora dia_semana tipo_usuario\n",
              "0       7.123117  mar    22   Thursday   Subscriber\n",
              "1       9.792517  mar    22   Thursday   Subscriber\n",
              "2       6.632983  mar    22   Thursday   Subscriber\n",
              "3       7.404700  mar    22   Thursday   Subscriber\n",
              "4      13.014583  mar    22   Thursday   Subscriber\n",
              "...          ...  ...   ...        ...          ...\n",
              "66321  15.421933  out     8   Saturday   Subscriber\n",
              "66322   6.355217  out     5   Saturday   Subscriber\n",
              "66323  17.632783  out     2   Saturday   Subscriber\n",
              "66324   3.377233  out     0   Saturday   Subscriber\n",
              "66325   4.341450  out     0   Saturday   Subscriber\n",
              "\n",
              "[51753 rows x 5 columns]"
            ],
            "text/html": [
              "\n",
              "  <div id=\"df-77067179-a223-44a9-bd65-36254c1f615d\">\n",
              "    <div class=\"colab-df-container\">\n",
              "      <div>\n",
              "<style scoped>\n",
              "    .dataframe tbody tr th:only-of-type {\n",
              "        vertical-align: middle;\n",
              "    }\n",
              "\n",
              "    .dataframe tbody tr th {\n",
              "        vertical-align: top;\n",
              "    }\n",
              "\n",
              "    .dataframe thead th {\n",
              "        text-align: right;\n",
              "    }\n",
              "</style>\n",
              "<table border=\"1\" class=\"dataframe\">\n",
              "  <thead>\n",
              "    <tr style=\"text-align: right;\">\n",
              "      <th></th>\n",
              "      <th>duracao</th>\n",
              "      <th>mes</th>\n",
              "      <th>hora</th>\n",
              "      <th>dia_semana</th>\n",
              "      <th>tipo_usuario</th>\n",
              "    </tr>\n",
              "  </thead>\n",
              "  <tbody>\n",
              "    <tr>\n",
              "      <th>0</th>\n",
              "      <td>7.123117</td>\n",
              "      <td>mar</td>\n",
              "      <td>22</td>\n",
              "      <td>Thursday</td>\n",
              "      <td>Subscriber</td>\n",
              "    </tr>\n",
              "    <tr>\n",
              "      <th>1</th>\n",
              "      <td>9.792517</td>\n",
              "      <td>mar</td>\n",
              "      <td>22</td>\n",
              "      <td>Thursday</td>\n",
              "      <td>Subscriber</td>\n",
              "    </tr>\n",
              "    <tr>\n",
              "      <th>2</th>\n",
              "      <td>6.632983</td>\n",
              "      <td>mar</td>\n",
              "      <td>22</td>\n",
              "      <td>Thursday</td>\n",
              "      <td>Subscriber</td>\n",
              "    </tr>\n",
              "    <tr>\n",
              "      <th>3</th>\n",
              "      <td>7.404700</td>\n",
              "      <td>mar</td>\n",
              "      <td>22</td>\n",
              "      <td>Thursday</td>\n",
              "      <td>Subscriber</td>\n",
              "    </tr>\n",
              "    <tr>\n",
              "      <th>4</th>\n",
              "      <td>13.014583</td>\n",
              "      <td>mar</td>\n",
              "      <td>22</td>\n",
              "      <td>Thursday</td>\n",
              "      <td>Subscriber</td>\n",
              "    </tr>\n",
              "    <tr>\n",
              "      <th>...</th>\n",
              "      <td>...</td>\n",
              "      <td>...</td>\n",
              "      <td>...</td>\n",
              "      <td>...</td>\n",
              "      <td>...</td>\n",
              "    </tr>\n",
              "    <tr>\n",
              "      <th>66321</th>\n",
              "      <td>15.421933</td>\n",
              "      <td>out</td>\n",
              "      <td>8</td>\n",
              "      <td>Saturday</td>\n",
              "      <td>Subscriber</td>\n",
              "    </tr>\n",
              "    <tr>\n",
              "      <th>66322</th>\n",
              "      <td>6.355217</td>\n",
              "      <td>out</td>\n",
              "      <td>5</td>\n",
              "      <td>Saturday</td>\n",
              "      <td>Subscriber</td>\n",
              "    </tr>\n",
              "    <tr>\n",
              "      <th>66323</th>\n",
              "      <td>17.632783</td>\n",
              "      <td>out</td>\n",
              "      <td>2</td>\n",
              "      <td>Saturday</td>\n",
              "      <td>Subscriber</td>\n",
              "    </tr>\n",
              "    <tr>\n",
              "      <th>66324</th>\n",
              "      <td>3.377233</td>\n",
              "      <td>out</td>\n",
              "      <td>0</td>\n",
              "      <td>Saturday</td>\n",
              "      <td>Subscriber</td>\n",
              "    </tr>\n",
              "    <tr>\n",
              "      <th>66325</th>\n",
              "      <td>4.341450</td>\n",
              "      <td>out</td>\n",
              "      <td>0</td>\n",
              "      <td>Saturday</td>\n",
              "      <td>Subscriber</td>\n",
              "    </tr>\n",
              "  </tbody>\n",
              "</table>\n",
              "<p>51753 rows × 5 columns</p>\n",
              "</div>\n",
              "      <button class=\"colab-df-convert\" onclick=\"convertToInteractive('df-77067179-a223-44a9-bd65-36254c1f615d')\"\n",
              "              title=\"Convert this dataframe to an interactive table.\"\n",
              "              style=\"display:none;\">\n",
              "        \n",
              "  <svg xmlns=\"http://www.w3.org/2000/svg\" height=\"24px\"viewBox=\"0 0 24 24\"\n",
              "       width=\"24px\">\n",
              "    <path d=\"M0 0h24v24H0V0z\" fill=\"none\"/>\n",
              "    <path d=\"M18.56 5.44l.94 2.06.94-2.06 2.06-.94-2.06-.94-.94-2.06-.94 2.06-2.06.94zm-11 1L8.5 8.5l.94-2.06 2.06-.94-2.06-.94L8.5 2.5l-.94 2.06-2.06.94zm10 10l.94 2.06.94-2.06 2.06-.94-2.06-.94-.94-2.06-.94 2.06-2.06.94z\"/><path d=\"M17.41 7.96l-1.37-1.37c-.4-.4-.92-.59-1.43-.59-.52 0-1.04.2-1.43.59L10.3 9.45l-7.72 7.72c-.78.78-.78 2.05 0 2.83L4 21.41c.39.39.9.59 1.41.59.51 0 1.02-.2 1.41-.59l7.78-7.78 2.81-2.81c.8-.78.8-2.07 0-2.86zM5.41 20L4 18.59l7.72-7.72 1.47 1.35L5.41 20z\"/>\n",
              "  </svg>\n",
              "      </button>\n",
              "      \n",
              "  <style>\n",
              "    .colab-df-container {\n",
              "      display:flex;\n",
              "      flex-wrap:wrap;\n",
              "      gap: 12px;\n",
              "    }\n",
              "\n",
              "    .colab-df-convert {\n",
              "      background-color: #E8F0FE;\n",
              "      border: none;\n",
              "      border-radius: 50%;\n",
              "      cursor: pointer;\n",
              "      display: none;\n",
              "      fill: #1967D2;\n",
              "      height: 32px;\n",
              "      padding: 0 0 0 0;\n",
              "      width: 32px;\n",
              "    }\n",
              "\n",
              "    .colab-df-convert:hover {\n",
              "      background-color: #E2EBFA;\n",
              "      box-shadow: 0px 1px 2px rgba(60, 64, 67, 0.3), 0px 1px 3px 1px rgba(60, 64, 67, 0.15);\n",
              "      fill: #174EA6;\n",
              "    }\n",
              "\n",
              "    [theme=dark] .colab-df-convert {\n",
              "      background-color: #3B4455;\n",
              "      fill: #D2E3FC;\n",
              "    }\n",
              "\n",
              "    [theme=dark] .colab-df-convert:hover {\n",
              "      background-color: #434B5C;\n",
              "      box-shadow: 0px 1px 3px 1px rgba(0, 0, 0, 0.15);\n",
              "      filter: drop-shadow(0px 1px 2px rgba(0, 0, 0, 0.3));\n",
              "      fill: #FFFFFF;\n",
              "    }\n",
              "  </style>\n",
              "\n",
              "      <script>\n",
              "        const buttonEl =\n",
              "          document.querySelector('#df-77067179-a223-44a9-bd65-36254c1f615d button.colab-df-convert');\n",
              "        buttonEl.style.display =\n",
              "          google.colab.kernel.accessAllowed ? 'block' : 'none';\n",
              "\n",
              "        async function convertToInteractive(key) {\n",
              "          const element = document.querySelector('#df-77067179-a223-44a9-bd65-36254c1f615d');\n",
              "          const dataTable =\n",
              "            await google.colab.kernel.invokeFunction('convertToInteractive',\n",
              "                                                     [key], {});\n",
              "          if (!dataTable) return;\n",
              "\n",
              "          const docLinkHtml = 'Like what you see? Visit the ' +\n",
              "            '<a target=\"_blank\" href=https://colab.research.google.com/notebooks/data_table.ipynb>data table notebook</a>'\n",
              "            + ' to learn more about interactive tables.';\n",
              "          element.innerHTML = '';\n",
              "          dataTable['output_type'] = 'display_data';\n",
              "          await google.colab.output.renderOutput(dataTable, element);\n",
              "          const docLink = document.createElement('div');\n",
              "          docLink.innerHTML = docLinkHtml;\n",
              "          element.appendChild(docLink);\n",
              "        }\n",
              "      </script>\n",
              "    </div>\n",
              "  </div>\n",
              "  "
            ]
          },
          "metadata": {},
          "execution_count": 60
        }
      ]
    },
    {
      "cell_type": "code",
      "source": [
        "subscriber_was.mes.value_counts()"
      ],
      "metadata": {
        "colab": {
          "base_uri": "https://localhost:8080/"
        },
        "id": "cxIVzUcr7Rvu",
        "outputId": "7d689e91-d0dc-4672-8183-a51712394793"
      },
      "execution_count": 61,
      "outputs": [
        {
          "output_type": "execute_result",
          "data": {
            "text/plain": [
              "jun    5613\n",
              "ago    5392\n",
              "out    5232\n",
              "set    5204\n",
              "jul    5155\n",
              "mai    4520\n",
              "abr    4410\n",
              "mar    4383\n",
              "nov    4139\n",
              "dez    2922\n",
              "fev    2571\n",
              "jan    2212\n",
              "Name: mes, dtype: int64"
            ]
          },
          "metadata": {},
          "execution_count": 61
        }
      ]
    },
    {
      "cell_type": "code",
      "source": [
        "freq_sub_mes_was = subscriber_was.mes.value_counts()"
      ],
      "metadata": {
        "id": "aNI-DqQl7Z4X"
      },
      "execution_count": 62,
      "outputs": []
    },
    {
      "cell_type": "code",
      "source": [
        "freq_sub_mes_was.to_frame()"
      ],
      "metadata": {
        "colab": {
          "base_uri": "https://localhost:8080/",
          "height": 426
        },
        "id": "Xv7RnyNm7ftv",
        "outputId": "195dc1b4-fbda-4198-a1f7-99d07a5d2058"
      },
      "execution_count": 63,
      "outputs": [
        {
          "output_type": "execute_result",
          "data": {
            "text/plain": [
              "      mes\n",
              "jun  5613\n",
              "ago  5392\n",
              "out  5232\n",
              "set  5204\n",
              "jul  5155\n",
              "mai  4520\n",
              "abr  4410\n",
              "mar  4383\n",
              "nov  4139\n",
              "dez  2922\n",
              "fev  2571\n",
              "jan  2212"
            ],
            "text/html": [
              "\n",
              "  <div id=\"df-7d4e19ba-b8a1-4e62-b35d-e3a90703a704\">\n",
              "    <div class=\"colab-df-container\">\n",
              "      <div>\n",
              "<style scoped>\n",
              "    .dataframe tbody tr th:only-of-type {\n",
              "        vertical-align: middle;\n",
              "    }\n",
              "\n",
              "    .dataframe tbody tr th {\n",
              "        vertical-align: top;\n",
              "    }\n",
              "\n",
              "    .dataframe thead th {\n",
              "        text-align: right;\n",
              "    }\n",
              "</style>\n",
              "<table border=\"1\" class=\"dataframe\">\n",
              "  <thead>\n",
              "    <tr style=\"text-align: right;\">\n",
              "      <th></th>\n",
              "      <th>mes</th>\n",
              "    </tr>\n",
              "  </thead>\n",
              "  <tbody>\n",
              "    <tr>\n",
              "      <th>jun</th>\n",
              "      <td>5613</td>\n",
              "    </tr>\n",
              "    <tr>\n",
              "      <th>ago</th>\n",
              "      <td>5392</td>\n",
              "    </tr>\n",
              "    <tr>\n",
              "      <th>out</th>\n",
              "      <td>5232</td>\n",
              "    </tr>\n",
              "    <tr>\n",
              "      <th>set</th>\n",
              "      <td>5204</td>\n",
              "    </tr>\n",
              "    <tr>\n",
              "      <th>jul</th>\n",
              "      <td>5155</td>\n",
              "    </tr>\n",
              "    <tr>\n",
              "      <th>mai</th>\n",
              "      <td>4520</td>\n",
              "    </tr>\n",
              "    <tr>\n",
              "      <th>abr</th>\n",
              "      <td>4410</td>\n",
              "    </tr>\n",
              "    <tr>\n",
              "      <th>mar</th>\n",
              "      <td>4383</td>\n",
              "    </tr>\n",
              "    <tr>\n",
              "      <th>nov</th>\n",
              "      <td>4139</td>\n",
              "    </tr>\n",
              "    <tr>\n",
              "      <th>dez</th>\n",
              "      <td>2922</td>\n",
              "    </tr>\n",
              "    <tr>\n",
              "      <th>fev</th>\n",
              "      <td>2571</td>\n",
              "    </tr>\n",
              "    <tr>\n",
              "      <th>jan</th>\n",
              "      <td>2212</td>\n",
              "    </tr>\n",
              "  </tbody>\n",
              "</table>\n",
              "</div>\n",
              "      <button class=\"colab-df-convert\" onclick=\"convertToInteractive('df-7d4e19ba-b8a1-4e62-b35d-e3a90703a704')\"\n",
              "              title=\"Convert this dataframe to an interactive table.\"\n",
              "              style=\"display:none;\">\n",
              "        \n",
              "  <svg xmlns=\"http://www.w3.org/2000/svg\" height=\"24px\"viewBox=\"0 0 24 24\"\n",
              "       width=\"24px\">\n",
              "    <path d=\"M0 0h24v24H0V0z\" fill=\"none\"/>\n",
              "    <path d=\"M18.56 5.44l.94 2.06.94-2.06 2.06-.94-2.06-.94-.94-2.06-.94 2.06-2.06.94zm-11 1L8.5 8.5l.94-2.06 2.06-.94-2.06-.94L8.5 2.5l-.94 2.06-2.06.94zm10 10l.94 2.06.94-2.06 2.06-.94-2.06-.94-.94-2.06-.94 2.06-2.06.94z\"/><path d=\"M17.41 7.96l-1.37-1.37c-.4-.4-.92-.59-1.43-.59-.52 0-1.04.2-1.43.59L10.3 9.45l-7.72 7.72c-.78.78-.78 2.05 0 2.83L4 21.41c.39.39.9.59 1.41.59.51 0 1.02-.2 1.41-.59l7.78-7.78 2.81-2.81c.8-.78.8-2.07 0-2.86zM5.41 20L4 18.59l7.72-7.72 1.47 1.35L5.41 20z\"/>\n",
              "  </svg>\n",
              "      </button>\n",
              "      \n",
              "  <style>\n",
              "    .colab-df-container {\n",
              "      display:flex;\n",
              "      flex-wrap:wrap;\n",
              "      gap: 12px;\n",
              "    }\n",
              "\n",
              "    .colab-df-convert {\n",
              "      background-color: #E8F0FE;\n",
              "      border: none;\n",
              "      border-radius: 50%;\n",
              "      cursor: pointer;\n",
              "      display: none;\n",
              "      fill: #1967D2;\n",
              "      height: 32px;\n",
              "      padding: 0 0 0 0;\n",
              "      width: 32px;\n",
              "    }\n",
              "\n",
              "    .colab-df-convert:hover {\n",
              "      background-color: #E2EBFA;\n",
              "      box-shadow: 0px 1px 2px rgba(60, 64, 67, 0.3), 0px 1px 3px 1px rgba(60, 64, 67, 0.15);\n",
              "      fill: #174EA6;\n",
              "    }\n",
              "\n",
              "    [theme=dark] .colab-df-convert {\n",
              "      background-color: #3B4455;\n",
              "      fill: #D2E3FC;\n",
              "    }\n",
              "\n",
              "    [theme=dark] .colab-df-convert:hover {\n",
              "      background-color: #434B5C;\n",
              "      box-shadow: 0px 1px 3px 1px rgba(0, 0, 0, 0.15);\n",
              "      filter: drop-shadow(0px 1px 2px rgba(0, 0, 0, 0.3));\n",
              "      fill: #FFFFFF;\n",
              "    }\n",
              "  </style>\n",
              "\n",
              "      <script>\n",
              "        const buttonEl =\n",
              "          document.querySelector('#df-7d4e19ba-b8a1-4e62-b35d-e3a90703a704 button.colab-df-convert');\n",
              "        buttonEl.style.display =\n",
              "          google.colab.kernel.accessAllowed ? 'block' : 'none';\n",
              "\n",
              "        async function convertToInteractive(key) {\n",
              "          const element = document.querySelector('#df-7d4e19ba-b8a1-4e62-b35d-e3a90703a704');\n",
              "          const dataTable =\n",
              "            await google.colab.kernel.invokeFunction('convertToInteractive',\n",
              "                                                     [key], {});\n",
              "          if (!dataTable) return;\n",
              "\n",
              "          const docLinkHtml = 'Like what you see? Visit the ' +\n",
              "            '<a target=\"_blank\" href=https://colab.research.google.com/notebooks/data_table.ipynb>data table notebook</a>'\n",
              "            + ' to learn more about interactive tables.';\n",
              "          element.innerHTML = '';\n",
              "          dataTable['output_type'] = 'display_data';\n",
              "          await google.colab.output.renderOutput(dataTable, element);\n",
              "          const docLink = document.createElement('div');\n",
              "          docLink.innerHTML = docLinkHtml;\n",
              "          element.appendChild(docLink);\n",
              "        }\n",
              "      </script>\n",
              "    </div>\n",
              "  </div>\n",
              "  "
            ]
          },
          "metadata": {},
          "execution_count": 63
        }
      ]
    },
    {
      "cell_type": "code",
      "source": [
        "freq_sub_mes_was.to_frame().reset_index() #reseta o index, adicionando mais uma coluna"
      ],
      "metadata": {
        "colab": {
          "base_uri": "https://localhost:8080/",
          "height": 426
        },
        "id": "yHxjZYFm7lRB",
        "outputId": "d663bc30-baed-4e7f-9721-72f475d2e9da"
      },
      "execution_count": 64,
      "outputs": [
        {
          "output_type": "execute_result",
          "data": {
            "text/plain": [
              "   index   mes\n",
              "0    jun  5613\n",
              "1    ago  5392\n",
              "2    out  5232\n",
              "3    set  5204\n",
              "4    jul  5155\n",
              "5    mai  4520\n",
              "6    abr  4410\n",
              "7    mar  4383\n",
              "8    nov  4139\n",
              "9    dez  2922\n",
              "10   fev  2571\n",
              "11   jan  2212"
            ],
            "text/html": [
              "\n",
              "  <div id=\"df-125c1a35-e7c9-40d6-aed7-d52d93288887\">\n",
              "    <div class=\"colab-df-container\">\n",
              "      <div>\n",
              "<style scoped>\n",
              "    .dataframe tbody tr th:only-of-type {\n",
              "        vertical-align: middle;\n",
              "    }\n",
              "\n",
              "    .dataframe tbody tr th {\n",
              "        vertical-align: top;\n",
              "    }\n",
              "\n",
              "    .dataframe thead th {\n",
              "        text-align: right;\n",
              "    }\n",
              "</style>\n",
              "<table border=\"1\" class=\"dataframe\">\n",
              "  <thead>\n",
              "    <tr style=\"text-align: right;\">\n",
              "      <th></th>\n",
              "      <th>index</th>\n",
              "      <th>mes</th>\n",
              "    </tr>\n",
              "  </thead>\n",
              "  <tbody>\n",
              "    <tr>\n",
              "      <th>0</th>\n",
              "      <td>jun</td>\n",
              "      <td>5613</td>\n",
              "    </tr>\n",
              "    <tr>\n",
              "      <th>1</th>\n",
              "      <td>ago</td>\n",
              "      <td>5392</td>\n",
              "    </tr>\n",
              "    <tr>\n",
              "      <th>2</th>\n",
              "      <td>out</td>\n",
              "      <td>5232</td>\n",
              "    </tr>\n",
              "    <tr>\n",
              "      <th>3</th>\n",
              "      <td>set</td>\n",
              "      <td>5204</td>\n",
              "    </tr>\n",
              "    <tr>\n",
              "      <th>4</th>\n",
              "      <td>jul</td>\n",
              "      <td>5155</td>\n",
              "    </tr>\n",
              "    <tr>\n",
              "      <th>5</th>\n",
              "      <td>mai</td>\n",
              "      <td>4520</td>\n",
              "    </tr>\n",
              "    <tr>\n",
              "      <th>6</th>\n",
              "      <td>abr</td>\n",
              "      <td>4410</td>\n",
              "    </tr>\n",
              "    <tr>\n",
              "      <th>7</th>\n",
              "      <td>mar</td>\n",
              "      <td>4383</td>\n",
              "    </tr>\n",
              "    <tr>\n",
              "      <th>8</th>\n",
              "      <td>nov</td>\n",
              "      <td>4139</td>\n",
              "    </tr>\n",
              "    <tr>\n",
              "      <th>9</th>\n",
              "      <td>dez</td>\n",
              "      <td>2922</td>\n",
              "    </tr>\n",
              "    <tr>\n",
              "      <th>10</th>\n",
              "      <td>fev</td>\n",
              "      <td>2571</td>\n",
              "    </tr>\n",
              "    <tr>\n",
              "      <th>11</th>\n",
              "      <td>jan</td>\n",
              "      <td>2212</td>\n",
              "    </tr>\n",
              "  </tbody>\n",
              "</table>\n",
              "</div>\n",
              "      <button class=\"colab-df-convert\" onclick=\"convertToInteractive('df-125c1a35-e7c9-40d6-aed7-d52d93288887')\"\n",
              "              title=\"Convert this dataframe to an interactive table.\"\n",
              "              style=\"display:none;\">\n",
              "        \n",
              "  <svg xmlns=\"http://www.w3.org/2000/svg\" height=\"24px\"viewBox=\"0 0 24 24\"\n",
              "       width=\"24px\">\n",
              "    <path d=\"M0 0h24v24H0V0z\" fill=\"none\"/>\n",
              "    <path d=\"M18.56 5.44l.94 2.06.94-2.06 2.06-.94-2.06-.94-.94-2.06-.94 2.06-2.06.94zm-11 1L8.5 8.5l.94-2.06 2.06-.94-2.06-.94L8.5 2.5l-.94 2.06-2.06.94zm10 10l.94 2.06.94-2.06 2.06-.94-2.06-.94-.94-2.06-.94 2.06-2.06.94z\"/><path d=\"M17.41 7.96l-1.37-1.37c-.4-.4-.92-.59-1.43-.59-.52 0-1.04.2-1.43.59L10.3 9.45l-7.72 7.72c-.78.78-.78 2.05 0 2.83L4 21.41c.39.39.9.59 1.41.59.51 0 1.02-.2 1.41-.59l7.78-7.78 2.81-2.81c.8-.78.8-2.07 0-2.86zM5.41 20L4 18.59l7.72-7.72 1.47 1.35L5.41 20z\"/>\n",
              "  </svg>\n",
              "      </button>\n",
              "      \n",
              "  <style>\n",
              "    .colab-df-container {\n",
              "      display:flex;\n",
              "      flex-wrap:wrap;\n",
              "      gap: 12px;\n",
              "    }\n",
              "\n",
              "    .colab-df-convert {\n",
              "      background-color: #E8F0FE;\n",
              "      border: none;\n",
              "      border-radius: 50%;\n",
              "      cursor: pointer;\n",
              "      display: none;\n",
              "      fill: #1967D2;\n",
              "      height: 32px;\n",
              "      padding: 0 0 0 0;\n",
              "      width: 32px;\n",
              "    }\n",
              "\n",
              "    .colab-df-convert:hover {\n",
              "      background-color: #E2EBFA;\n",
              "      box-shadow: 0px 1px 2px rgba(60, 64, 67, 0.3), 0px 1px 3px 1px rgba(60, 64, 67, 0.15);\n",
              "      fill: #174EA6;\n",
              "    }\n",
              "\n",
              "    [theme=dark] .colab-df-convert {\n",
              "      background-color: #3B4455;\n",
              "      fill: #D2E3FC;\n",
              "    }\n",
              "\n",
              "    [theme=dark] .colab-df-convert:hover {\n",
              "      background-color: #434B5C;\n",
              "      box-shadow: 0px 1px 3px 1px rgba(0, 0, 0, 0.15);\n",
              "      filter: drop-shadow(0px 1px 2px rgba(0, 0, 0, 0.3));\n",
              "      fill: #FFFFFF;\n",
              "    }\n",
              "  </style>\n",
              "\n",
              "      <script>\n",
              "        const buttonEl =\n",
              "          document.querySelector('#df-125c1a35-e7c9-40d6-aed7-d52d93288887 button.colab-df-convert');\n",
              "        buttonEl.style.display =\n",
              "          google.colab.kernel.accessAllowed ? 'block' : 'none';\n",
              "\n",
              "        async function convertToInteractive(key) {\n",
              "          const element = document.querySelector('#df-125c1a35-e7c9-40d6-aed7-d52d93288887');\n",
              "          const dataTable =\n",
              "            await google.colab.kernel.invokeFunction('convertToInteractive',\n",
              "                                                     [key], {});\n",
              "          if (!dataTable) return;\n",
              "\n",
              "          const docLinkHtml = 'Like what you see? Visit the ' +\n",
              "            '<a target=\"_blank\" href=https://colab.research.google.com/notebooks/data_table.ipynb>data table notebook</a>'\n",
              "            + ' to learn more about interactive tables.';\n",
              "          element.innerHTML = '';\n",
              "          dataTable['output_type'] = 'display_data';\n",
              "          await google.colab.output.renderOutput(dataTable, element);\n",
              "          const docLink = document.createElement('div');\n",
              "          docLink.innerHTML = docLinkHtml;\n",
              "          element.appendChild(docLink);\n",
              "        }\n",
              "      </script>\n",
              "    </div>\n",
              "  </div>\n",
              "  "
            ]
          },
          "metadata": {},
          "execution_count": 64
        }
      ]
    },
    {
      "cell_type": "code",
      "source": [
        "freq_sub_mes_was = freq_sub_mes_was.to_frame().reset_index()"
      ],
      "metadata": {
        "id": "F7UWVs428H_e"
      },
      "execution_count": 65,
      "outputs": []
    },
    {
      "cell_type": "code",
      "source": [
        "freq_sub_mes_was.columns = ['mês', 'total']\n",
        "freq_sub_mes_was"
      ],
      "metadata": {
        "colab": {
          "base_uri": "https://localhost:8080/",
          "height": 426
        },
        "id": "HO8ME9Bv7xAX",
        "outputId": "0f1c56f0-3fcf-43ea-caad-2115ae2551af"
      },
      "execution_count": 66,
      "outputs": [
        {
          "output_type": "execute_result",
          "data": {
            "text/plain": [
              "    mês  total\n",
              "0   jun   5613\n",
              "1   ago   5392\n",
              "2   out   5232\n",
              "3   set   5204\n",
              "4   jul   5155\n",
              "5   mai   4520\n",
              "6   abr   4410\n",
              "7   mar   4383\n",
              "8   nov   4139\n",
              "9   dez   2922\n",
              "10  fev   2571\n",
              "11  jan   2212"
            ],
            "text/html": [
              "\n",
              "  <div id=\"df-0d5563aa-13a7-48de-be3a-90f4be33c7bc\">\n",
              "    <div class=\"colab-df-container\">\n",
              "      <div>\n",
              "<style scoped>\n",
              "    .dataframe tbody tr th:only-of-type {\n",
              "        vertical-align: middle;\n",
              "    }\n",
              "\n",
              "    .dataframe tbody tr th {\n",
              "        vertical-align: top;\n",
              "    }\n",
              "\n",
              "    .dataframe thead th {\n",
              "        text-align: right;\n",
              "    }\n",
              "</style>\n",
              "<table border=\"1\" class=\"dataframe\">\n",
              "  <thead>\n",
              "    <tr style=\"text-align: right;\">\n",
              "      <th></th>\n",
              "      <th>mês</th>\n",
              "      <th>total</th>\n",
              "    </tr>\n",
              "  </thead>\n",
              "  <tbody>\n",
              "    <tr>\n",
              "      <th>0</th>\n",
              "      <td>jun</td>\n",
              "      <td>5613</td>\n",
              "    </tr>\n",
              "    <tr>\n",
              "      <th>1</th>\n",
              "      <td>ago</td>\n",
              "      <td>5392</td>\n",
              "    </tr>\n",
              "    <tr>\n",
              "      <th>2</th>\n",
              "      <td>out</td>\n",
              "      <td>5232</td>\n",
              "    </tr>\n",
              "    <tr>\n",
              "      <th>3</th>\n",
              "      <td>set</td>\n",
              "      <td>5204</td>\n",
              "    </tr>\n",
              "    <tr>\n",
              "      <th>4</th>\n",
              "      <td>jul</td>\n",
              "      <td>5155</td>\n",
              "    </tr>\n",
              "    <tr>\n",
              "      <th>5</th>\n",
              "      <td>mai</td>\n",
              "      <td>4520</td>\n",
              "    </tr>\n",
              "    <tr>\n",
              "      <th>6</th>\n",
              "      <td>abr</td>\n",
              "      <td>4410</td>\n",
              "    </tr>\n",
              "    <tr>\n",
              "      <th>7</th>\n",
              "      <td>mar</td>\n",
              "      <td>4383</td>\n",
              "    </tr>\n",
              "    <tr>\n",
              "      <th>8</th>\n",
              "      <td>nov</td>\n",
              "      <td>4139</td>\n",
              "    </tr>\n",
              "    <tr>\n",
              "      <th>9</th>\n",
              "      <td>dez</td>\n",
              "      <td>2922</td>\n",
              "    </tr>\n",
              "    <tr>\n",
              "      <th>10</th>\n",
              "      <td>fev</td>\n",
              "      <td>2571</td>\n",
              "    </tr>\n",
              "    <tr>\n",
              "      <th>11</th>\n",
              "      <td>jan</td>\n",
              "      <td>2212</td>\n",
              "    </tr>\n",
              "  </tbody>\n",
              "</table>\n",
              "</div>\n",
              "      <button class=\"colab-df-convert\" onclick=\"convertToInteractive('df-0d5563aa-13a7-48de-be3a-90f4be33c7bc')\"\n",
              "              title=\"Convert this dataframe to an interactive table.\"\n",
              "              style=\"display:none;\">\n",
              "        \n",
              "  <svg xmlns=\"http://www.w3.org/2000/svg\" height=\"24px\"viewBox=\"0 0 24 24\"\n",
              "       width=\"24px\">\n",
              "    <path d=\"M0 0h24v24H0V0z\" fill=\"none\"/>\n",
              "    <path d=\"M18.56 5.44l.94 2.06.94-2.06 2.06-.94-2.06-.94-.94-2.06-.94 2.06-2.06.94zm-11 1L8.5 8.5l.94-2.06 2.06-.94-2.06-.94L8.5 2.5l-.94 2.06-2.06.94zm10 10l.94 2.06.94-2.06 2.06-.94-2.06-.94-.94-2.06-.94 2.06-2.06.94z\"/><path d=\"M17.41 7.96l-1.37-1.37c-.4-.4-.92-.59-1.43-.59-.52 0-1.04.2-1.43.59L10.3 9.45l-7.72 7.72c-.78.78-.78 2.05 0 2.83L4 21.41c.39.39.9.59 1.41.59.51 0 1.02-.2 1.41-.59l7.78-7.78 2.81-2.81c.8-.78.8-2.07 0-2.86zM5.41 20L4 18.59l7.72-7.72 1.47 1.35L5.41 20z\"/>\n",
              "  </svg>\n",
              "      </button>\n",
              "      \n",
              "  <style>\n",
              "    .colab-df-container {\n",
              "      display:flex;\n",
              "      flex-wrap:wrap;\n",
              "      gap: 12px;\n",
              "    }\n",
              "\n",
              "    .colab-df-convert {\n",
              "      background-color: #E8F0FE;\n",
              "      border: none;\n",
              "      border-radius: 50%;\n",
              "      cursor: pointer;\n",
              "      display: none;\n",
              "      fill: #1967D2;\n",
              "      height: 32px;\n",
              "      padding: 0 0 0 0;\n",
              "      width: 32px;\n",
              "    }\n",
              "\n",
              "    .colab-df-convert:hover {\n",
              "      background-color: #E2EBFA;\n",
              "      box-shadow: 0px 1px 2px rgba(60, 64, 67, 0.3), 0px 1px 3px 1px rgba(60, 64, 67, 0.15);\n",
              "      fill: #174EA6;\n",
              "    }\n",
              "\n",
              "    [theme=dark] .colab-df-convert {\n",
              "      background-color: #3B4455;\n",
              "      fill: #D2E3FC;\n",
              "    }\n",
              "\n",
              "    [theme=dark] .colab-df-convert:hover {\n",
              "      background-color: #434B5C;\n",
              "      box-shadow: 0px 1px 3px 1px rgba(0, 0, 0, 0.15);\n",
              "      filter: drop-shadow(0px 1px 2px rgba(0, 0, 0, 0.3));\n",
              "      fill: #FFFFFF;\n",
              "    }\n",
              "  </style>\n",
              "\n",
              "      <script>\n",
              "        const buttonEl =\n",
              "          document.querySelector('#df-0d5563aa-13a7-48de-be3a-90f4be33c7bc button.colab-df-convert');\n",
              "        buttonEl.style.display =\n",
              "          google.colab.kernel.accessAllowed ? 'block' : 'none';\n",
              "\n",
              "        async function convertToInteractive(key) {\n",
              "          const element = document.querySelector('#df-0d5563aa-13a7-48de-be3a-90f4be33c7bc');\n",
              "          const dataTable =\n",
              "            await google.colab.kernel.invokeFunction('convertToInteractive',\n",
              "                                                     [key], {});\n",
              "          if (!dataTable) return;\n",
              "\n",
              "          const docLinkHtml = 'Like what you see? Visit the ' +\n",
              "            '<a target=\"_blank\" href=https://colab.research.google.com/notebooks/data_table.ipynb>data table notebook</a>'\n",
              "            + ' to learn more about interactive tables.';\n",
              "          element.innerHTML = '';\n",
              "          dataTable['output_type'] = 'display_data';\n",
              "          await google.colab.output.renderOutput(dataTable, element);\n",
              "          const docLink = document.createElement('div');\n",
              "          docLink.innerHTML = docLinkHtml;\n",
              "          element.appendChild(docLink);\n",
              "        }\n",
              "      </script>\n",
              "    </div>\n",
              "  </div>\n",
              "  "
            ]
          },
          "metadata": {},
          "execution_count": 66
        }
      ]
    },
    {
      "cell_type": "code",
      "source": [
        "# Acrescentando mais uma coluna de acordo com os meses, ex jun é mes 6, janeiro é mes 1, levando-se em conta a ordem da celula anterior\n",
        "ordem_mes_washington = [6, 8, 10, 9, 7, 5, 4, 3, 11, 12, 2, 1] # Adicionando o valores na coluna que será atribuida ao DF\n",
        "freq_sub_mes_was['ordem_mes_washington'] = ordem_mes_washington # Atribuindo 'ordem_mes_washington' ao DF freq_sub_mes_was\n",
        "print(freq_sub_mes_was) # Imprime na tela"
      ],
      "metadata": {
        "colab": {
          "base_uri": "https://localhost:8080/"
        },
        "id": "S2EWaPa6aRqq",
        "outputId": "90a3cc37-1870-410b-d828-71f27860198a"
      },
      "execution_count": 67,
      "outputs": [
        {
          "output_type": "stream",
          "name": "stdout",
          "text": [
            "    mês  total  ordem_mes_washington\n",
            "0   jun   5613                     6\n",
            "1   ago   5392                     8\n",
            "2   out   5232                    10\n",
            "3   set   5204                     9\n",
            "4   jul   5155                     7\n",
            "5   mai   4520                     5\n",
            "6   abr   4410                     4\n",
            "7   mar   4383                     3\n",
            "8   nov   4139                    11\n",
            "9   dez   2922                    12\n",
            "10  fev   2571                     2\n",
            "11  jan   2212                     1\n"
          ]
        }
      ]
    },
    {
      "cell_type": "code",
      "source": [
        "freq_sub_mes_was"
      ],
      "metadata": {
        "colab": {
          "base_uri": "https://localhost:8080/",
          "height": 426
        },
        "id": "TddfASgOatXI",
        "outputId": "ab7ccd62-1040-4c4b-c391-417a25510593"
      },
      "execution_count": 68,
      "outputs": [
        {
          "output_type": "execute_result",
          "data": {
            "text/plain": [
              "    mês  total  ordem_mes_washington\n",
              "0   jun   5613                     6\n",
              "1   ago   5392                     8\n",
              "2   out   5232                    10\n",
              "3   set   5204                     9\n",
              "4   jul   5155                     7\n",
              "5   mai   4520                     5\n",
              "6   abr   4410                     4\n",
              "7   mar   4383                     3\n",
              "8   nov   4139                    11\n",
              "9   dez   2922                    12\n",
              "10  fev   2571                     2\n",
              "11  jan   2212                     1"
            ],
            "text/html": [
              "\n",
              "  <div id=\"df-db4ea8c5-f6b4-442a-a46d-f0d39281cacc\">\n",
              "    <div class=\"colab-df-container\">\n",
              "      <div>\n",
              "<style scoped>\n",
              "    .dataframe tbody tr th:only-of-type {\n",
              "        vertical-align: middle;\n",
              "    }\n",
              "\n",
              "    .dataframe tbody tr th {\n",
              "        vertical-align: top;\n",
              "    }\n",
              "\n",
              "    .dataframe thead th {\n",
              "        text-align: right;\n",
              "    }\n",
              "</style>\n",
              "<table border=\"1\" class=\"dataframe\">\n",
              "  <thead>\n",
              "    <tr style=\"text-align: right;\">\n",
              "      <th></th>\n",
              "      <th>mês</th>\n",
              "      <th>total</th>\n",
              "      <th>ordem_mes_washington</th>\n",
              "    </tr>\n",
              "  </thead>\n",
              "  <tbody>\n",
              "    <tr>\n",
              "      <th>0</th>\n",
              "      <td>jun</td>\n",
              "      <td>5613</td>\n",
              "      <td>6</td>\n",
              "    </tr>\n",
              "    <tr>\n",
              "      <th>1</th>\n",
              "      <td>ago</td>\n",
              "      <td>5392</td>\n",
              "      <td>8</td>\n",
              "    </tr>\n",
              "    <tr>\n",
              "      <th>2</th>\n",
              "      <td>out</td>\n",
              "      <td>5232</td>\n",
              "      <td>10</td>\n",
              "    </tr>\n",
              "    <tr>\n",
              "      <th>3</th>\n",
              "      <td>set</td>\n",
              "      <td>5204</td>\n",
              "      <td>9</td>\n",
              "    </tr>\n",
              "    <tr>\n",
              "      <th>4</th>\n",
              "      <td>jul</td>\n",
              "      <td>5155</td>\n",
              "      <td>7</td>\n",
              "    </tr>\n",
              "    <tr>\n",
              "      <th>5</th>\n",
              "      <td>mai</td>\n",
              "      <td>4520</td>\n",
              "      <td>5</td>\n",
              "    </tr>\n",
              "    <tr>\n",
              "      <th>6</th>\n",
              "      <td>abr</td>\n",
              "      <td>4410</td>\n",
              "      <td>4</td>\n",
              "    </tr>\n",
              "    <tr>\n",
              "      <th>7</th>\n",
              "      <td>mar</td>\n",
              "      <td>4383</td>\n",
              "      <td>3</td>\n",
              "    </tr>\n",
              "    <tr>\n",
              "      <th>8</th>\n",
              "      <td>nov</td>\n",
              "      <td>4139</td>\n",
              "      <td>11</td>\n",
              "    </tr>\n",
              "    <tr>\n",
              "      <th>9</th>\n",
              "      <td>dez</td>\n",
              "      <td>2922</td>\n",
              "      <td>12</td>\n",
              "    </tr>\n",
              "    <tr>\n",
              "      <th>10</th>\n",
              "      <td>fev</td>\n",
              "      <td>2571</td>\n",
              "      <td>2</td>\n",
              "    </tr>\n",
              "    <tr>\n",
              "      <th>11</th>\n",
              "      <td>jan</td>\n",
              "      <td>2212</td>\n",
              "      <td>1</td>\n",
              "    </tr>\n",
              "  </tbody>\n",
              "</table>\n",
              "</div>\n",
              "      <button class=\"colab-df-convert\" onclick=\"convertToInteractive('df-db4ea8c5-f6b4-442a-a46d-f0d39281cacc')\"\n",
              "              title=\"Convert this dataframe to an interactive table.\"\n",
              "              style=\"display:none;\">\n",
              "        \n",
              "  <svg xmlns=\"http://www.w3.org/2000/svg\" height=\"24px\"viewBox=\"0 0 24 24\"\n",
              "       width=\"24px\">\n",
              "    <path d=\"M0 0h24v24H0V0z\" fill=\"none\"/>\n",
              "    <path d=\"M18.56 5.44l.94 2.06.94-2.06 2.06-.94-2.06-.94-.94-2.06-.94 2.06-2.06.94zm-11 1L8.5 8.5l.94-2.06 2.06-.94-2.06-.94L8.5 2.5l-.94 2.06-2.06.94zm10 10l.94 2.06.94-2.06 2.06-.94-2.06-.94-.94-2.06-.94 2.06-2.06.94z\"/><path d=\"M17.41 7.96l-1.37-1.37c-.4-.4-.92-.59-1.43-.59-.52 0-1.04.2-1.43.59L10.3 9.45l-7.72 7.72c-.78.78-.78 2.05 0 2.83L4 21.41c.39.39.9.59 1.41.59.51 0 1.02-.2 1.41-.59l7.78-7.78 2.81-2.81c.8-.78.8-2.07 0-2.86zM5.41 20L4 18.59l7.72-7.72 1.47 1.35L5.41 20z\"/>\n",
              "  </svg>\n",
              "      </button>\n",
              "      \n",
              "  <style>\n",
              "    .colab-df-container {\n",
              "      display:flex;\n",
              "      flex-wrap:wrap;\n",
              "      gap: 12px;\n",
              "    }\n",
              "\n",
              "    .colab-df-convert {\n",
              "      background-color: #E8F0FE;\n",
              "      border: none;\n",
              "      border-radius: 50%;\n",
              "      cursor: pointer;\n",
              "      display: none;\n",
              "      fill: #1967D2;\n",
              "      height: 32px;\n",
              "      padding: 0 0 0 0;\n",
              "      width: 32px;\n",
              "    }\n",
              "\n",
              "    .colab-df-convert:hover {\n",
              "      background-color: #E2EBFA;\n",
              "      box-shadow: 0px 1px 2px rgba(60, 64, 67, 0.3), 0px 1px 3px 1px rgba(60, 64, 67, 0.15);\n",
              "      fill: #174EA6;\n",
              "    }\n",
              "\n",
              "    [theme=dark] .colab-df-convert {\n",
              "      background-color: #3B4455;\n",
              "      fill: #D2E3FC;\n",
              "    }\n",
              "\n",
              "    [theme=dark] .colab-df-convert:hover {\n",
              "      background-color: #434B5C;\n",
              "      box-shadow: 0px 1px 3px 1px rgba(0, 0, 0, 0.15);\n",
              "      filter: drop-shadow(0px 1px 2px rgba(0, 0, 0, 0.3));\n",
              "      fill: #FFFFFF;\n",
              "    }\n",
              "  </style>\n",
              "\n",
              "      <script>\n",
              "        const buttonEl =\n",
              "          document.querySelector('#df-db4ea8c5-f6b4-442a-a46d-f0d39281cacc button.colab-df-convert');\n",
              "        buttonEl.style.display =\n",
              "          google.colab.kernel.accessAllowed ? 'block' : 'none';\n",
              "\n",
              "        async function convertToInteractive(key) {\n",
              "          const element = document.querySelector('#df-db4ea8c5-f6b4-442a-a46d-f0d39281cacc');\n",
              "          const dataTable =\n",
              "            await google.colab.kernel.invokeFunction('convertToInteractive',\n",
              "                                                     [key], {});\n",
              "          if (!dataTable) return;\n",
              "\n",
              "          const docLinkHtml = 'Like what you see? Visit the ' +\n",
              "            '<a target=\"_blank\" href=https://colab.research.google.com/notebooks/data_table.ipynb>data table notebook</a>'\n",
              "            + ' to learn more about interactive tables.';\n",
              "          element.innerHTML = '';\n",
              "          dataTable['output_type'] = 'display_data';\n",
              "          await google.colab.output.renderOutput(dataTable, element);\n",
              "          const docLink = document.createElement('div');\n",
              "          docLink.innerHTML = docLinkHtml;\n",
              "          element.appendChild(docLink);\n",
              "        }\n",
              "      </script>\n",
              "    </div>\n",
              "  </div>\n",
              "  "
            ]
          },
          "metadata": {},
          "execution_count": 68
        }
      ]
    },
    {
      "cell_type": "code",
      "source": [
        "freq_sub_mes_was.sort_values(by=['ordem_mes_washington']) # Com o parametro sort_values, ordena os valores de acordo com a coluna 'ordem_mes_washington'"
      ],
      "metadata": {
        "colab": {
          "base_uri": "https://localhost:8080/",
          "height": 426
        },
        "id": "5zG1bToMazZv",
        "outputId": "27a98fa7-3a9f-48dc-8ae4-47f371c8a7d3"
      },
      "execution_count": 69,
      "outputs": [
        {
          "output_type": "execute_result",
          "data": {
            "text/plain": [
              "    mês  total  ordem_mes_washington\n",
              "11  jan   2212                     1\n",
              "10  fev   2571                     2\n",
              "7   mar   4383                     3\n",
              "6   abr   4410                     4\n",
              "5   mai   4520                     5\n",
              "0   jun   5613                     6\n",
              "4   jul   5155                     7\n",
              "1   ago   5392                     8\n",
              "3   set   5204                     9\n",
              "2   out   5232                    10\n",
              "8   nov   4139                    11\n",
              "9   dez   2922                    12"
            ],
            "text/html": [
              "\n",
              "  <div id=\"df-f47da258-a61b-4d99-b9e2-219bb2da248b\">\n",
              "    <div class=\"colab-df-container\">\n",
              "      <div>\n",
              "<style scoped>\n",
              "    .dataframe tbody tr th:only-of-type {\n",
              "        vertical-align: middle;\n",
              "    }\n",
              "\n",
              "    .dataframe tbody tr th {\n",
              "        vertical-align: top;\n",
              "    }\n",
              "\n",
              "    .dataframe thead th {\n",
              "        text-align: right;\n",
              "    }\n",
              "</style>\n",
              "<table border=\"1\" class=\"dataframe\">\n",
              "  <thead>\n",
              "    <tr style=\"text-align: right;\">\n",
              "      <th></th>\n",
              "      <th>mês</th>\n",
              "      <th>total</th>\n",
              "      <th>ordem_mes_washington</th>\n",
              "    </tr>\n",
              "  </thead>\n",
              "  <tbody>\n",
              "    <tr>\n",
              "      <th>11</th>\n",
              "      <td>jan</td>\n",
              "      <td>2212</td>\n",
              "      <td>1</td>\n",
              "    </tr>\n",
              "    <tr>\n",
              "      <th>10</th>\n",
              "      <td>fev</td>\n",
              "      <td>2571</td>\n",
              "      <td>2</td>\n",
              "    </tr>\n",
              "    <tr>\n",
              "      <th>7</th>\n",
              "      <td>mar</td>\n",
              "      <td>4383</td>\n",
              "      <td>3</td>\n",
              "    </tr>\n",
              "    <tr>\n",
              "      <th>6</th>\n",
              "      <td>abr</td>\n",
              "      <td>4410</td>\n",
              "      <td>4</td>\n",
              "    </tr>\n",
              "    <tr>\n",
              "      <th>5</th>\n",
              "      <td>mai</td>\n",
              "      <td>4520</td>\n",
              "      <td>5</td>\n",
              "    </tr>\n",
              "    <tr>\n",
              "      <th>0</th>\n",
              "      <td>jun</td>\n",
              "      <td>5613</td>\n",
              "      <td>6</td>\n",
              "    </tr>\n",
              "    <tr>\n",
              "      <th>4</th>\n",
              "      <td>jul</td>\n",
              "      <td>5155</td>\n",
              "      <td>7</td>\n",
              "    </tr>\n",
              "    <tr>\n",
              "      <th>1</th>\n",
              "      <td>ago</td>\n",
              "      <td>5392</td>\n",
              "      <td>8</td>\n",
              "    </tr>\n",
              "    <tr>\n",
              "      <th>3</th>\n",
              "      <td>set</td>\n",
              "      <td>5204</td>\n",
              "      <td>9</td>\n",
              "    </tr>\n",
              "    <tr>\n",
              "      <th>2</th>\n",
              "      <td>out</td>\n",
              "      <td>5232</td>\n",
              "      <td>10</td>\n",
              "    </tr>\n",
              "    <tr>\n",
              "      <th>8</th>\n",
              "      <td>nov</td>\n",
              "      <td>4139</td>\n",
              "      <td>11</td>\n",
              "    </tr>\n",
              "    <tr>\n",
              "      <th>9</th>\n",
              "      <td>dez</td>\n",
              "      <td>2922</td>\n",
              "      <td>12</td>\n",
              "    </tr>\n",
              "  </tbody>\n",
              "</table>\n",
              "</div>\n",
              "      <button class=\"colab-df-convert\" onclick=\"convertToInteractive('df-f47da258-a61b-4d99-b9e2-219bb2da248b')\"\n",
              "              title=\"Convert this dataframe to an interactive table.\"\n",
              "              style=\"display:none;\">\n",
              "        \n",
              "  <svg xmlns=\"http://www.w3.org/2000/svg\" height=\"24px\"viewBox=\"0 0 24 24\"\n",
              "       width=\"24px\">\n",
              "    <path d=\"M0 0h24v24H0V0z\" fill=\"none\"/>\n",
              "    <path d=\"M18.56 5.44l.94 2.06.94-2.06 2.06-.94-2.06-.94-.94-2.06-.94 2.06-2.06.94zm-11 1L8.5 8.5l.94-2.06 2.06-.94-2.06-.94L8.5 2.5l-.94 2.06-2.06.94zm10 10l.94 2.06.94-2.06 2.06-.94-2.06-.94-.94-2.06-.94 2.06-2.06.94z\"/><path d=\"M17.41 7.96l-1.37-1.37c-.4-.4-.92-.59-1.43-.59-.52 0-1.04.2-1.43.59L10.3 9.45l-7.72 7.72c-.78.78-.78 2.05 0 2.83L4 21.41c.39.39.9.59 1.41.59.51 0 1.02-.2 1.41-.59l7.78-7.78 2.81-2.81c.8-.78.8-2.07 0-2.86zM5.41 20L4 18.59l7.72-7.72 1.47 1.35L5.41 20z\"/>\n",
              "  </svg>\n",
              "      </button>\n",
              "      \n",
              "  <style>\n",
              "    .colab-df-container {\n",
              "      display:flex;\n",
              "      flex-wrap:wrap;\n",
              "      gap: 12px;\n",
              "    }\n",
              "\n",
              "    .colab-df-convert {\n",
              "      background-color: #E8F0FE;\n",
              "      border: none;\n",
              "      border-radius: 50%;\n",
              "      cursor: pointer;\n",
              "      display: none;\n",
              "      fill: #1967D2;\n",
              "      height: 32px;\n",
              "      padding: 0 0 0 0;\n",
              "      width: 32px;\n",
              "    }\n",
              "\n",
              "    .colab-df-convert:hover {\n",
              "      background-color: #E2EBFA;\n",
              "      box-shadow: 0px 1px 2px rgba(60, 64, 67, 0.3), 0px 1px 3px 1px rgba(60, 64, 67, 0.15);\n",
              "      fill: #174EA6;\n",
              "    }\n",
              "\n",
              "    [theme=dark] .colab-df-convert {\n",
              "      background-color: #3B4455;\n",
              "      fill: #D2E3FC;\n",
              "    }\n",
              "\n",
              "    [theme=dark] .colab-df-convert:hover {\n",
              "      background-color: #434B5C;\n",
              "      box-shadow: 0px 1px 3px 1px rgba(0, 0, 0, 0.15);\n",
              "      filter: drop-shadow(0px 1px 2px rgba(0, 0, 0, 0.3));\n",
              "      fill: #FFFFFF;\n",
              "    }\n",
              "  </style>\n",
              "\n",
              "      <script>\n",
              "        const buttonEl =\n",
              "          document.querySelector('#df-f47da258-a61b-4d99-b9e2-219bb2da248b button.colab-df-convert');\n",
              "        buttonEl.style.display =\n",
              "          google.colab.kernel.accessAllowed ? 'block' : 'none';\n",
              "\n",
              "        async function convertToInteractive(key) {\n",
              "          const element = document.querySelector('#df-f47da258-a61b-4d99-b9e2-219bb2da248b');\n",
              "          const dataTable =\n",
              "            await google.colab.kernel.invokeFunction('convertToInteractive',\n",
              "                                                     [key], {});\n",
              "          if (!dataTable) return;\n",
              "\n",
              "          const docLinkHtml = 'Like what you see? Visit the ' +\n",
              "            '<a target=\"_blank\" href=https://colab.research.google.com/notebooks/data_table.ipynb>data table notebook</a>'\n",
              "            + ' to learn more about interactive tables.';\n",
              "          element.innerHTML = '';\n",
              "          dataTable['output_type'] = 'display_data';\n",
              "          await google.colab.output.renderOutput(dataTable, element);\n",
              "          const docLink = document.createElement('div');\n",
              "          docLink.innerHTML = docLinkHtml;\n",
              "          element.appendChild(docLink);\n",
              "        }\n",
              "      </script>\n",
              "    </div>\n",
              "  </div>\n",
              "  "
            ]
          },
          "metadata": {},
          "execution_count": 69
        }
      ]
    },
    {
      "cell_type": "markdown",
      "source": [
        "**Frequencia de usuários Subscriber (cadastrado) por mes**"
      ],
      "metadata": {
        "id": "6hetqsO58NdV"
      }
    },
    {
      "cell_type": "code",
      "source": [
        "plt.figure(figsize=(12,8))\n",
        "sns.barplot(x=\"mês\", y=\"total\", data = freq_sub_mes_was)"
      ],
      "metadata": {
        "colab": {
          "base_uri": "https://localhost:8080/",
          "height": 514
        },
        "id": "eGdLsQM6796P",
        "outputId": "12fe4788-a1c5-4aca-a85e-aa3e0e3eec87"
      },
      "execution_count": 70,
      "outputs": [
        {
          "output_type": "execute_result",
          "data": {
            "text/plain": [
              "<matplotlib.axes._subplots.AxesSubplot at 0x7fde160f5ad0>"
            ]
          },
          "metadata": {},
          "execution_count": 70
        },
        {
          "output_type": "display_data",
          "data": {
            "text/plain": [
              "<Figure size 864x576 with 1 Axes>"
            ],
            "image/png": "[encoded data removed]"
          },
          "metadata": {
            "needs_background": "light"
          }
        }
      ]
    },
    {
      "cell_type": "code",
      "source": [
        "#GRAFICO DE LINHA\n",
        "plt.figure(figsize=(10,6))\n",
        "sns.lineplot(data = freq_sub_mes_was, x=\"ordem_mes_washington\", y=\"total\", color = \"green\")\n",
        "plt.title( \"Frequência usuários subscribers por mes\" , size = 24 ) #Define o título do gráfico e define o tamanho\n",
        "plt.xlabel( \"mes\" , size = 10 ) #Usa o plt para adicionar um rotulo no eixo x e define o tamanho"
      ],
      "metadata": {
        "colab": {
          "base_uri": "https://localhost:8080/",
          "height": 432
        },
        "id": "RDeKC3_ua8oD",
        "outputId": "42ab6688-89d2-40fb-d37c-b5ab07bef063"
      },
      "execution_count": 71,
      "outputs": [
        {
          "output_type": "execute_result",
          "data": {
            "text/plain": [
              "Text(0.5, 0, 'mes')"
            ]
          },
          "metadata": {},
          "execution_count": 71
        },
        {
          "output_type": "display_data",
          "data": {
            "text/plain": [
              "<Figure size 720x432 with 1 Axes>"
            ],
            "image/png": "[encoded data removed]"
          },
          "metadata": {
            "needs_background": "light"
          }
        }
      ]
    },
    {
      "cell_type": "markdown",
      "source": [
        "**Explorando de usuários Customer por mes**"
      ],
      "metadata": {
        "id": "XHGQP6uS8wBy"
      }
    },
    {
      "cell_type": "code",
      "source": [
        "filtro_cust_was = df_was2['tipo_usuario'] == \"Customer\" "
      ],
      "metadata": {
        "id": "RPyWgRuS8Rev"
      },
      "execution_count": 72,
      "outputs": []
    },
    {
      "cell_type": "code",
      "source": [
        "customer_was = df_was2[filtro_cust_was]\n",
        "customer_was"
      ],
      "metadata": {
        "colab": {
          "base_uri": "https://localhost:8080/",
          "height": 424
        },
        "id": "mUYX0Cfe8gLA",
        "outputId": "986aae4f-8884-4868-8c75-d081250cbff8"
      },
      "execution_count": 73,
      "outputs": [
        {
          "output_type": "execute_result",
          "data": {
            "text/plain": [
              "          duracao  mes  hora dia_semana tipo_usuario\n",
              "10      16.912317  mar    21   Thursday     Customer\n",
              "12     102.999183  mar    21   Thursday     Customer\n",
              "16       9.667250  mar    20   Thursday     Customer\n",
              "25      12.898400  mar    19   Thursday     Customer\n",
              "29      25.301633  mar    19   Thursday     Customer\n",
              "...           ...  ...   ...        ...          ...\n",
              "66276    9.205000  out    13   Saturday     Customer\n",
              "66305  216.092433  out    11   Saturday     Customer\n",
              "66315   14.797083  out     9   Saturday     Customer\n",
              "66319   20.423033  out     8   Saturday     Customer\n",
              "66320   27.041667  out     8   Saturday     Customer\n",
              "\n",
              "[14573 rows x 5 columns]"
            ],
            "text/html": [
              "\n",
              "  <div id=\"df-de0a5af4-f22c-4b9a-8f7b-ce0bebba0ab5\">\n",
              "    <div class=\"colab-df-container\">\n",
              "      <div>\n",
              "<style scoped>\n",
              "    .dataframe tbody tr th:only-of-type {\n",
              "        vertical-align: middle;\n",
              "    }\n",
              "\n",
              "    .dataframe tbody tr th {\n",
              "        vertical-align: top;\n",
              "    }\n",
              "\n",
              "    .dataframe thead th {\n",
              "        text-align: right;\n",
              "    }\n",
              "</style>\n",
              "<table border=\"1\" class=\"dataframe\">\n",
              "  <thead>\n",
              "    <tr style=\"text-align: right;\">\n",
              "      <th></th>\n",
              "      <th>duracao</th>\n",
              "      <th>mes</th>\n",
              "      <th>hora</th>\n",
              "      <th>dia_semana</th>\n",
              "      <th>tipo_usuario</th>\n",
              "    </tr>\n",
              "  </thead>\n",
              "  <tbody>\n",
              "    <tr>\n",
              "      <th>10</th>\n",
              "      <td>16.912317</td>\n",
              "      <td>mar</td>\n",
              "      <td>21</td>\n",
              "      <td>Thursday</td>\n",
              "      <td>Customer</td>\n",
              "    </tr>\n",
              "    <tr>\n",
              "      <th>12</th>\n",
              "      <td>102.999183</td>\n",
              "      <td>mar</td>\n",
              "      <td>21</td>\n",
              "      <td>Thursday</td>\n",
              "      <td>Customer</td>\n",
              "    </tr>\n",
              "    <tr>\n",
              "      <th>16</th>\n",
              "      <td>9.667250</td>\n",
              "      <td>mar</td>\n",
              "      <td>20</td>\n",
              "      <td>Thursday</td>\n",
              "      <td>Customer</td>\n",
              "    </tr>\n",
              "    <tr>\n",
              "      <th>25</th>\n",
              "      <td>12.898400</td>\n",
              "      <td>mar</td>\n",
              "      <td>19</td>\n",
              "      <td>Thursday</td>\n",
              "      <td>Customer</td>\n",
              "    </tr>\n",
              "    <tr>\n",
              "      <th>29</th>\n",
              "      <td>25.301633</td>\n",
              "      <td>mar</td>\n",
              "      <td>19</td>\n",
              "      <td>Thursday</td>\n",
              "      <td>Customer</td>\n",
              "    </tr>\n",
              "    <tr>\n",
              "      <th>...</th>\n",
              "      <td>...</td>\n",
              "      <td>...</td>\n",
              "      <td>...</td>\n",
              "      <td>...</td>\n",
              "      <td>...</td>\n",
              "    </tr>\n",
              "    <tr>\n",
              "      <th>66276</th>\n",
              "      <td>9.205000</td>\n",
              "      <td>out</td>\n",
              "      <td>13</td>\n",
              "      <td>Saturday</td>\n",
              "      <td>Customer</td>\n",
              "    </tr>\n",
              "    <tr>\n",
              "      <th>66305</th>\n",
              "      <td>216.092433</td>\n",
              "      <td>out</td>\n",
              "      <td>11</td>\n",
              "      <td>Saturday</td>\n",
              "      <td>Customer</td>\n",
              "    </tr>\n",
              "    <tr>\n",
              "      <th>66315</th>\n",
              "      <td>14.797083</td>\n",
              "      <td>out</td>\n",
              "      <td>9</td>\n",
              "      <td>Saturday</td>\n",
              "      <td>Customer</td>\n",
              "    </tr>\n",
              "    <tr>\n",
              "      <th>66319</th>\n",
              "      <td>20.423033</td>\n",
              "      <td>out</td>\n",
              "      <td>8</td>\n",
              "      <td>Saturday</td>\n",
              "      <td>Customer</td>\n",
              "    </tr>\n",
              "    <tr>\n",
              "      <th>66320</th>\n",
              "      <td>27.041667</td>\n",
              "      <td>out</td>\n",
              "      <td>8</td>\n",
              "      <td>Saturday</td>\n",
              "      <td>Customer</td>\n",
              "    </tr>\n",
              "  </tbody>\n",
              "</table>\n",
              "<p>14573 rows × 5 columns</p>\n",
              "</div>\n",
              "      <button class=\"colab-df-convert\" onclick=\"convertToInteractive('df-de0a5af4-f22c-4b9a-8f7b-ce0bebba0ab5')\"\n",
              "              title=\"Convert this dataframe to an interactive table.\"\n",
              "              style=\"display:none;\">\n",
              "        \n",
              "  <svg xmlns=\"http://www.w3.org/2000/svg\" height=\"24px\"viewBox=\"0 0 24 24\"\n",
              "       width=\"24px\">\n",
              "    <path d=\"M0 0h24v24H0V0z\" fill=\"none\"/>\n",
              "    <path d=\"M18.56 5.44l.94 2.06.94-2.06 2.06-.94-2.06-.94-.94-2.06-.94 2.06-2.06.94zm-11 1L8.5 8.5l.94-2.06 2.06-.94-2.06-.94L8.5 2.5l-.94 2.06-2.06.94zm10 10l.94 2.06.94-2.06 2.06-.94-2.06-.94-.94-2.06-.94 2.06-2.06.94z\"/><path d=\"M17.41 7.96l-1.37-1.37c-.4-.4-.92-.59-1.43-.59-.52 0-1.04.2-1.43.59L10.3 9.45l-7.72 7.72c-.78.78-.78 2.05 0 2.83L4 21.41c.39.39.9.59 1.41.59.51 0 1.02-.2 1.41-.59l7.78-7.78 2.81-2.81c.8-.78.8-2.07 0-2.86zM5.41 20L4 18.59l7.72-7.72 1.47 1.35L5.41 20z\"/>\n",
              "  </svg>\n",
              "      </button>\n",
              "      \n",
              "  <style>\n",
              "    .colab-df-container {\n",
              "      display:flex;\n",
              "      flex-wrap:wrap;\n",
              "      gap: 12px;\n",
              "    }\n",
              "\n",
              "    .colab-df-convert {\n",
              "      background-color: #E8F0FE;\n",
              "      border: none;\n",
              "      border-radius: 50%;\n",
              "      cursor: pointer;\n",
              "      display: none;\n",
              "      fill: #1967D2;\n",
              "      height: 32px;\n",
              "      padding: 0 0 0 0;\n",
              "      width: 32px;\n",
              "    }\n",
              "\n",
              "    .colab-df-convert:hover {\n",
              "      background-color: #E2EBFA;\n",
              "      box-shadow: 0px 1px 2px rgba(60, 64, 67, 0.3), 0px 1px 3px 1px rgba(60, 64, 67, 0.15);\n",
              "      fill: #174EA6;\n",
              "    }\n",
              "\n",
              "    [theme=dark] .colab-df-convert {\n",
              "      background-color: #3B4455;\n",
              "      fill: #D2E3FC;\n",
              "    }\n",
              "\n",
              "    [theme=dark] .colab-df-convert:hover {\n",
              "      background-color: #434B5C;\n",
              "      box-shadow: 0px 1px 3px 1px rgba(0, 0, 0, 0.15);\n",
              "      filter: drop-shadow(0px 1px 2px rgba(0, 0, 0, 0.3));\n",
              "      fill: #FFFFFF;\n",
              "    }\n",
              "  </style>\n",
              "\n",
              "      <script>\n",
              "        const buttonEl =\n",
              "          document.querySelector('#df-de0a5af4-f22c-4b9a-8f7b-ce0bebba0ab5 button.colab-df-convert');\n",
              "        buttonEl.style.display =\n",
              "          google.colab.kernel.accessAllowed ? 'block' : 'none';\n",
              "\n",
              "        async function convertToInteractive(key) {\n",
              "          const element = document.querySelector('#df-de0a5af4-f22c-4b9a-8f7b-ce0bebba0ab5');\n",
              "          const dataTable =\n",
              "            await google.colab.kernel.invokeFunction('convertToInteractive',\n",
              "                                                     [key], {});\n",
              "          if (!dataTable) return;\n",
              "\n",
              "          const docLinkHtml = 'Like what you see? Visit the ' +\n",
              "            '<a target=\"_blank\" href=https://colab.research.google.com/notebooks/data_table.ipynb>data table notebook</a>'\n",
              "            + ' to learn more about interactive tables.';\n",
              "          element.innerHTML = '';\n",
              "          dataTable['output_type'] = 'display_data';\n",
              "          await google.colab.output.renderOutput(dataTable, element);\n",
              "          const docLink = document.createElement('div');\n",
              "          docLink.innerHTML = docLinkHtml;\n",
              "          element.appendChild(docLink);\n",
              "        }\n",
              "      </script>\n",
              "    </div>\n",
              "  </div>\n",
              "  "
            ]
          },
          "metadata": {},
          "execution_count": 73
        }
      ]
    },
    {
      "cell_type": "code",
      "source": [
        "customer_was.mes.value_counts()"
      ],
      "metadata": {
        "colab": {
          "base_uri": "https://localhost:8080/"
        },
        "id": "sz5v3zlY81i4",
        "outputId": "f49463b7-2c86-44fe-a5fe-b0b4e56f0b89"
      },
      "execution_count": 74,
      "outputs": [
        {
          "output_type": "execute_result",
          "data": {
            "text/plain": [
              "jul    2186\n",
              "ago    1806\n",
              "jun    1707\n",
              "set    1674\n",
              "out    1560\n",
              "mai    1248\n",
              "abr    1192\n",
              "mar    1188\n",
              "nov    1075\n",
              "dez     432\n",
              "fev     283\n",
              "jan     222\n",
              "Name: mes, dtype: int64"
            ]
          },
          "metadata": {},
          "execution_count": 74
        }
      ]
    },
    {
      "cell_type": "code",
      "source": [
        "freq_cust_mes_was = customer_was.mes.value_counts()"
      ],
      "metadata": {
        "id": "QLqiMT7F9AGQ"
      },
      "execution_count": 75,
      "outputs": []
    },
    {
      "cell_type": "code",
      "source": [
        "freq_cust_mes_was.to_frame() #Transforma uma serie em DataFrame"
      ],
      "metadata": {
        "colab": {
          "base_uri": "https://localhost:8080/",
          "height": 426
        },
        "id": "YihtL4K09Mcf",
        "outputId": "c6a1c8c5-81de-4415-acc9-8d3f5707ff3e"
      },
      "execution_count": 76,
      "outputs": [
        {
          "output_type": "execute_result",
          "data": {
            "text/plain": [
              "      mes\n",
              "jul  2186\n",
              "ago  1806\n",
              "jun  1707\n",
              "set  1674\n",
              "out  1560\n",
              "mai  1248\n",
              "abr  1192\n",
              "mar  1188\n",
              "nov  1075\n",
              "dez   432\n",
              "fev   283\n",
              "jan   222"
            ],
            "text/html": [
              "\n",
              "  <div id=\"df-426e8776-cf71-4b2d-9cd4-721c95bda957\">\n",
              "    <div class=\"colab-df-container\">\n",
              "      <div>\n",
              "<style scoped>\n",
              "    .dataframe tbody tr th:only-of-type {\n",
              "        vertical-align: middle;\n",
              "    }\n",
              "\n",
              "    .dataframe tbody tr th {\n",
              "        vertical-align: top;\n",
              "    }\n",
              "\n",
              "    .dataframe thead th {\n",
              "        text-align: right;\n",
              "    }\n",
              "</style>\n",
              "<table border=\"1\" class=\"dataframe\">\n",
              "  <thead>\n",
              "    <tr style=\"text-align: right;\">\n",
              "      <th></th>\n",
              "      <th>mes</th>\n",
              "    </tr>\n",
              "  </thead>\n",
              "  <tbody>\n",
              "    <tr>\n",
              "      <th>jul</th>\n",
              "      <td>2186</td>\n",
              "    </tr>\n",
              "    <tr>\n",
              "      <th>ago</th>\n",
              "      <td>1806</td>\n",
              "    </tr>\n",
              "    <tr>\n",
              "      <th>jun</th>\n",
              "      <td>1707</td>\n",
              "    </tr>\n",
              "    <tr>\n",
              "      <th>set</th>\n",
              "      <td>1674</td>\n",
              "    </tr>\n",
              "    <tr>\n",
              "      <th>out</th>\n",
              "      <td>1560</td>\n",
              "    </tr>\n",
              "    <tr>\n",
              "      <th>mai</th>\n",
              "      <td>1248</td>\n",
              "    </tr>\n",
              "    <tr>\n",
              "      <th>abr</th>\n",
              "      <td>1192</td>\n",
              "    </tr>\n",
              "    <tr>\n",
              "      <th>mar</th>\n",
              "      <td>1188</td>\n",
              "    </tr>\n",
              "    <tr>\n",
              "      <th>nov</th>\n",
              "      <td>1075</td>\n",
              "    </tr>\n",
              "    <tr>\n",
              "      <th>dez</th>\n",
              "      <td>432</td>\n",
              "    </tr>\n",
              "    <tr>\n",
              "      <th>fev</th>\n",
              "      <td>283</td>\n",
              "    </tr>\n",
              "    <tr>\n",
              "      <th>jan</th>\n",
              "      <td>222</td>\n",
              "    </tr>\n",
              "  </tbody>\n",
              "</table>\n",
              "</div>\n",
              "      <button class=\"colab-df-convert\" onclick=\"convertToInteractive('df-426e8776-cf71-4b2d-9cd4-721c95bda957')\"\n",
              "              title=\"Convert this dataframe to an interactive table.\"\n",
              "              style=\"display:none;\">\n",
              "        \n",
              "  <svg xmlns=\"http://www.w3.org/2000/svg\" height=\"24px\"viewBox=\"0 0 24 24\"\n",
              "       width=\"24px\">\n",
              "    <path d=\"M0 0h24v24H0V0z\" fill=\"none\"/>\n",
              "    <path d=\"M18.56 5.44l.94 2.06.94-2.06 2.06-.94-2.06-.94-.94-2.06-.94 2.06-2.06.94zm-11 1L8.5 8.5l.94-2.06 2.06-.94-2.06-.94L8.5 2.5l-.94 2.06-2.06.94zm10 10l.94 2.06.94-2.06 2.06-.94-2.06-.94-.94-2.06-.94 2.06-2.06.94z\"/><path d=\"M17.41 7.96l-1.37-1.37c-.4-.4-.92-.59-1.43-.59-.52 0-1.04.2-1.43.59L10.3 9.45l-7.72 7.72c-.78.78-.78 2.05 0 2.83L4 21.41c.39.39.9.59 1.41.59.51 0 1.02-.2 1.41-.59l7.78-7.78 2.81-2.81c.8-.78.8-2.07 0-2.86zM5.41 20L4 18.59l7.72-7.72 1.47 1.35L5.41 20z\"/>\n",
              "  </svg>\n",
              "      </button>\n",
              "      \n",
              "  <style>\n",
              "    .colab-df-container {\n",
              "      display:flex;\n",
              "      flex-wrap:wrap;\n",
              "      gap: 12px;\n",
              "    }\n",
              "\n",
              "    .colab-df-convert {\n",
              "      background-color: #E8F0FE;\n",
              "      border: none;\n",
              "      border-radius: 50%;\n",
              "      cursor: pointer;\n",
              "      display: none;\n",
              "      fill: #1967D2;\n",
              "      height: 32px;\n",
              "      padding: 0 0 0 0;\n",
              "      width: 32px;\n",
              "    }\n",
              "\n",
              "    .colab-df-convert:hover {\n",
              "      background-color: #E2EBFA;\n",
              "      box-shadow: 0px 1px 2px rgba(60, 64, 67, 0.3), 0px 1px 3px 1px rgba(60, 64, 67, 0.15);\n",
              "      fill: #174EA6;\n",
              "    }\n",
              "\n",
              "    [theme=dark] .colab-df-convert {\n",
              "      background-color: #3B4455;\n",
              "      fill: #D2E3FC;\n",
              "    }\n",
              "\n",
              "    [theme=dark] .colab-df-convert:hover {\n",
              "      background-color: #434B5C;\n",
              "      box-shadow: 0px 1px 3px 1px rgba(0, 0, 0, 0.15);\n",
              "      filter: drop-shadow(0px 1px 2px rgba(0, 0, 0, 0.3));\n",
              "      fill: #FFFFFF;\n",
              "    }\n",
              "  </style>\n",
              "\n",
              "      <script>\n",
              "        const buttonEl =\n",
              "          document.querySelector('#df-426e8776-cf71-4b2d-9cd4-721c95bda957 button.colab-df-convert');\n",
              "        buttonEl.style.display =\n",
              "          google.colab.kernel.accessAllowed ? 'block' : 'none';\n",
              "\n",
              "        async function convertToInteractive(key) {\n",
              "          const element = document.querySelector('#df-426e8776-cf71-4b2d-9cd4-721c95bda957');\n",
              "          const dataTable =\n",
              "            await google.colab.kernel.invokeFunction('convertToInteractive',\n",
              "                                                     [key], {});\n",
              "          if (!dataTable) return;\n",
              "\n",
              "          const docLinkHtml = 'Like what you see? Visit the ' +\n",
              "            '<a target=\"_blank\" href=https://colab.research.google.com/notebooks/data_table.ipynb>data table notebook</a>'\n",
              "            + ' to learn more about interactive tables.';\n",
              "          element.innerHTML = '';\n",
              "          dataTable['output_type'] = 'display_data';\n",
              "          await google.colab.output.renderOutput(dataTable, element);\n",
              "          const docLink = document.createElement('div');\n",
              "          docLink.innerHTML = docLinkHtml;\n",
              "          element.appendChild(docLink);\n",
              "        }\n",
              "      </script>\n",
              "    </div>\n",
              "  </div>\n",
              "  "
            ]
          },
          "metadata": {},
          "execution_count": 76
        }
      ]
    },
    {
      "cell_type": "code",
      "source": [
        "freq_cust_mes_was.to_frame().reset_index() #reseta o index, adicionando mais uma coluna"
      ],
      "metadata": {
        "colab": {
          "base_uri": "https://localhost:8080/",
          "height": 426
        },
        "id": "2fG6azOZ9Ok3",
        "outputId": "1207e03a-26c1-4a19-a9a3-387bdcf996ed"
      },
      "execution_count": 77,
      "outputs": [
        {
          "output_type": "execute_result",
          "data": {
            "text/plain": [
              "   index   mes\n",
              "0    jul  2186\n",
              "1    ago  1806\n",
              "2    jun  1707\n",
              "3    set  1674\n",
              "4    out  1560\n",
              "5    mai  1248\n",
              "6    abr  1192\n",
              "7    mar  1188\n",
              "8    nov  1075\n",
              "9    dez   432\n",
              "10   fev   283\n",
              "11   jan   222"
            ],
            "text/html": [
              "\n",
              "  <div id=\"df-103cb7e6-e074-49ed-af4e-814c6b6c6264\">\n",
              "    <div class=\"colab-df-container\">\n",
              "      <div>\n",
              "<style scoped>\n",
              "    .dataframe tbody tr th:only-of-type {\n",
              "        vertical-align: middle;\n",
              "    }\n",
              "\n",
              "    .dataframe tbody tr th {\n",
              "        vertical-align: top;\n",
              "    }\n",
              "\n",
              "    .dataframe thead th {\n",
              "        text-align: right;\n",
              "    }\n",
              "</style>\n",
              "<table border=\"1\" class=\"dataframe\">\n",
              "  <thead>\n",
              "    <tr style=\"text-align: right;\">\n",
              "      <th></th>\n",
              "      <th>index</th>\n",
              "      <th>mes</th>\n",
              "    </tr>\n",
              "  </thead>\n",
              "  <tbody>\n",
              "    <tr>\n",
              "      <th>0</th>\n",
              "      <td>jul</td>\n",
              "      <td>2186</td>\n",
              "    </tr>\n",
              "    <tr>\n",
              "      <th>1</th>\n",
              "      <td>ago</td>\n",
              "      <td>1806</td>\n",
              "    </tr>\n",
              "    <tr>\n",
              "      <th>2</th>\n",
              "      <td>jun</td>\n",
              "      <td>1707</td>\n",
              "    </tr>\n",
              "    <tr>\n",
              "      <th>3</th>\n",
              "      <td>set</td>\n",
              "      <td>1674</td>\n",
              "    </tr>\n",
              "    <tr>\n",
              "      <th>4</th>\n",
              "      <td>out</td>\n",
              "      <td>1560</td>\n",
              "    </tr>\n",
              "    <tr>\n",
              "      <th>5</th>\n",
              "      <td>mai</td>\n",
              "      <td>1248</td>\n",
              "    </tr>\n",
              "    <tr>\n",
              "      <th>6</th>\n",
              "      <td>abr</td>\n",
              "      <td>1192</td>\n",
              "    </tr>\n",
              "    <tr>\n",
              "      <th>7</th>\n",
              "      <td>mar</td>\n",
              "      <td>1188</td>\n",
              "    </tr>\n",
              "    <tr>\n",
              "      <th>8</th>\n",
              "      <td>nov</td>\n",
              "      <td>1075</td>\n",
              "    </tr>\n",
              "    <tr>\n",
              "      <th>9</th>\n",
              "      <td>dez</td>\n",
              "      <td>432</td>\n",
              "    </tr>\n",
              "    <tr>\n",
              "      <th>10</th>\n",
              "      <td>fev</td>\n",
              "      <td>283</td>\n",
              "    </tr>\n",
              "    <tr>\n",
              "      <th>11</th>\n",
              "      <td>jan</td>\n",
              "      <td>222</td>\n",
              "    </tr>\n",
              "  </tbody>\n",
              "</table>\n",
              "</div>\n",
              "      <button class=\"colab-df-convert\" onclick=\"convertToInteractive('df-103cb7e6-e074-49ed-af4e-814c6b6c6264')\"\n",
              "              title=\"Convert this dataframe to an interactive table.\"\n",
              "              style=\"display:none;\">\n",
              "        \n",
              "  <svg xmlns=\"http://www.w3.org/2000/svg\" height=\"24px\"viewBox=\"0 0 24 24\"\n",
              "       width=\"24px\">\n",
              "    <path d=\"M0 0h24v24H0V0z\" fill=\"none\"/>\n",
              "    <path d=\"M18.56 5.44l.94 2.06.94-2.06 2.06-.94-2.06-.94-.94-2.06-.94 2.06-2.06.94zm-11 1L8.5 8.5l.94-2.06 2.06-.94-2.06-.94L8.5 2.5l-.94 2.06-2.06.94zm10 10l.94 2.06.94-2.06 2.06-.94-2.06-.94-.94-2.06-.94 2.06-2.06.94z\"/><path d=\"M17.41 7.96l-1.37-1.37c-.4-.4-.92-.59-1.43-.59-.52 0-1.04.2-1.43.59L10.3 9.45l-7.72 7.72c-.78.78-.78 2.05 0 2.83L4 21.41c.39.39.9.59 1.41.59.51 0 1.02-.2 1.41-.59l7.78-7.78 2.81-2.81c.8-.78.8-2.07 0-2.86zM5.41 20L4 18.59l7.72-7.72 1.47 1.35L5.41 20z\"/>\n",
              "  </svg>\n",
              "      </button>\n",
              "      \n",
              "  <style>\n",
              "    .colab-df-container {\n",
              "      display:flex;\n",
              "      flex-wrap:wrap;\n",
              "      gap: 12px;\n",
              "    }\n",
              "\n",
              "    .colab-df-convert {\n",
              "      background-color: #E8F0FE;\n",
              "      border: none;\n",
              "      border-radius: 50%;\n",
              "      cursor: pointer;\n",
              "      display: none;\n",
              "      fill: #1967D2;\n",
              "      height: 32px;\n",
              "      padding: 0 0 0 0;\n",
              "      width: 32px;\n",
              "    }\n",
              "\n",
              "    .colab-df-convert:hover {\n",
              "      background-color: #E2EBFA;\n",
              "      box-shadow: 0px 1px 2px rgba(60, 64, 67, 0.3), 0px 1px 3px 1px rgba(60, 64, 67, 0.15);\n",
              "      fill: #174EA6;\n",
              "    }\n",
              "\n",
              "    [theme=dark] .colab-df-convert {\n",
              "      background-color: #3B4455;\n",
              "      fill: #D2E3FC;\n",
              "    }\n",
              "\n",
              "    [theme=dark] .colab-df-convert:hover {\n",
              "      background-color: #434B5C;\n",
              "      box-shadow: 0px 1px 3px 1px rgba(0, 0, 0, 0.15);\n",
              "      filter: drop-shadow(0px 1px 2px rgba(0, 0, 0, 0.3));\n",
              "      fill: #FFFFFF;\n",
              "    }\n",
              "  </style>\n",
              "\n",
              "      <script>\n",
              "        const buttonEl =\n",
              "          document.querySelector('#df-103cb7e6-e074-49ed-af4e-814c6b6c6264 button.colab-df-convert');\n",
              "        buttonEl.style.display =\n",
              "          google.colab.kernel.accessAllowed ? 'block' : 'none';\n",
              "\n",
              "        async function convertToInteractive(key) {\n",
              "          const element = document.querySelector('#df-103cb7e6-e074-49ed-af4e-814c6b6c6264');\n",
              "          const dataTable =\n",
              "            await google.colab.kernel.invokeFunction('convertToInteractive',\n",
              "                                                     [key], {});\n",
              "          if (!dataTable) return;\n",
              "\n",
              "          const docLinkHtml = 'Like what you see? Visit the ' +\n",
              "            '<a target=\"_blank\" href=https://colab.research.google.com/notebooks/data_table.ipynb>data table notebook</a>'\n",
              "            + ' to learn more about interactive tables.';\n",
              "          element.innerHTML = '';\n",
              "          dataTable['output_type'] = 'display_data';\n",
              "          await google.colab.output.renderOutput(dataTable, element);\n",
              "          const docLink = document.createElement('div');\n",
              "          docLink.innerHTML = docLinkHtml;\n",
              "          element.appendChild(docLink);\n",
              "        }\n",
              "      </script>\n",
              "    </div>\n",
              "  </div>\n",
              "  "
            ]
          },
          "metadata": {},
          "execution_count": 77
        }
      ]
    },
    {
      "cell_type": "code",
      "source": [
        "freq_cust_mes_was = freq_cust_mes_was.to_frame().reset_index()"
      ],
      "metadata": {
        "id": "zVb602c49R3X"
      },
      "execution_count": 78,
      "outputs": []
    },
    {
      "cell_type": "code",
      "source": [
        "freq_cust_mes_was.columns = ['mês', 'total']\n",
        "freq_cust_mes_was"
      ],
      "metadata": {
        "colab": {
          "base_uri": "https://localhost:8080/",
          "height": 426
        },
        "id": "_iUdKz_X9btR",
        "outputId": "969bcec3-c6ba-4518-bd1d-1138c0ab647d"
      },
      "execution_count": 79,
      "outputs": [
        {
          "output_type": "execute_result",
          "data": {
            "text/plain": [
              "    mês  total\n",
              "0   jul   2186\n",
              "1   ago   1806\n",
              "2   jun   1707\n",
              "3   set   1674\n",
              "4   out   1560\n",
              "5   mai   1248\n",
              "6   abr   1192\n",
              "7   mar   1188\n",
              "8   nov   1075\n",
              "9   dez    432\n",
              "10  fev    283\n",
              "11  jan    222"
            ],
            "text/html": [
              "\n",
              "  <div id=\"df-a3a4acd6-1fc0-48d3-9d47-d7ccc404db55\">\n",
              "    <div class=\"colab-df-container\">\n",
              "      <div>\n",
              "<style scoped>\n",
              "    .dataframe tbody tr th:only-of-type {\n",
              "        vertical-align: middle;\n",
              "    }\n",
              "\n",
              "    .dataframe tbody tr th {\n",
              "        vertical-align: top;\n",
              "    }\n",
              "\n",
              "    .dataframe thead th {\n",
              "        text-align: right;\n",
              "    }\n",
              "</style>\n",
              "<table border=\"1\" class=\"dataframe\">\n",
              "  <thead>\n",
              "    <tr style=\"text-align: right;\">\n",
              "      <th></th>\n",
              "      <th>mês</th>\n",
              "      <th>total</th>\n",
              "    </tr>\n",
              "  </thead>\n",
              "  <tbody>\n",
              "    <tr>\n",
              "      <th>0</th>\n",
              "      <td>jul</td>\n",
              "      <td>2186</td>\n",
              "    </tr>\n",
              "    <tr>\n",
              "      <th>1</th>\n",
              "      <td>ago</td>\n",
              "      <td>1806</td>\n",
              "    </tr>\n",
              "    <tr>\n",
              "      <th>2</th>\n",
              "      <td>jun</td>\n",
              "      <td>1707</td>\n",
              "    </tr>\n",
              "    <tr>\n",
              "      <th>3</th>\n",
              "      <td>set</td>\n",
              "      <td>1674</td>\n",
              "    </tr>\n",
              "    <tr>\n",
              "      <th>4</th>\n",
              "      <td>out</td>\n",
              "      <td>1560</td>\n",
              "    </tr>\n",
              "    <tr>\n",
              "      <th>5</th>\n",
              "      <td>mai</td>\n",
              "      <td>1248</td>\n",
              "    </tr>\n",
              "    <tr>\n",
              "      <th>6</th>\n",
              "      <td>abr</td>\n",
              "      <td>1192</td>\n",
              "    </tr>\n",
              "    <tr>\n",
              "      <th>7</th>\n",
              "      <td>mar</td>\n",
              "      <td>1188</td>\n",
              "    </tr>\n",
              "    <tr>\n",
              "      <th>8</th>\n",
              "      <td>nov</td>\n",
              "      <td>1075</td>\n",
              "    </tr>\n",
              "    <tr>\n",
              "      <th>9</th>\n",
              "      <td>dez</td>\n",
              "      <td>432</td>\n",
              "    </tr>\n",
              "    <tr>\n",
              "      <th>10</th>\n",
              "      <td>fev</td>\n",
              "      <td>283</td>\n",
              "    </tr>\n",
              "    <tr>\n",
              "      <th>11</th>\n",
              "      <td>jan</td>\n",
              "      <td>222</td>\n",
              "    </tr>\n",
              "  </tbody>\n",
              "</table>\n",
              "</div>\n",
              "      <button class=\"colab-df-convert\" onclick=\"convertToInteractive('df-a3a4acd6-1fc0-48d3-9d47-d7ccc404db55')\"\n",
              "              title=\"Convert this dataframe to an interactive table.\"\n",
              "              style=\"display:none;\">\n",
              "        \n",
              "  <svg xmlns=\"http://www.w3.org/2000/svg\" height=\"24px\"viewBox=\"0 0 24 24\"\n",
              "       width=\"24px\">\n",
              "    <path d=\"M0 0h24v24H0V0z\" fill=\"none\"/>\n",
              "    <path d=\"M18.56 5.44l.94 2.06.94-2.06 2.06-.94-2.06-.94-.94-2.06-.94 2.06-2.06.94zm-11 1L8.5 8.5l.94-2.06 2.06-.94-2.06-.94L8.5 2.5l-.94 2.06-2.06.94zm10 10l.94 2.06.94-2.06 2.06-.94-2.06-.94-.94-2.06-.94 2.06-2.06.94z\"/><path d=\"M17.41 7.96l-1.37-1.37c-.4-.4-.92-.59-1.43-.59-.52 0-1.04.2-1.43.59L10.3 9.45l-7.72 7.72c-.78.78-.78 2.05 0 2.83L4 21.41c.39.39.9.59 1.41.59.51 0 1.02-.2 1.41-.59l7.78-7.78 2.81-2.81c.8-.78.8-2.07 0-2.86zM5.41 20L4 18.59l7.72-7.72 1.47 1.35L5.41 20z\"/>\n",
              "  </svg>\n",
              "      </button>\n",
              "      \n",
              "  <style>\n",
              "    .colab-df-container {\n",
              "      display:flex;\n",
              "      flex-wrap:wrap;\n",
              "      gap: 12px;\n",
              "    }\n",
              "\n",
              "    .colab-df-convert {\n",
              "      background-color: #E8F0FE;\n",
              "      border: none;\n",
              "      border-radius: 50%;\n",
              "      cursor: pointer;\n",
              "      display: none;\n",
              "      fill: #1967D2;\n",
              "      height: 32px;\n",
              "      padding: 0 0 0 0;\n",
              "      width: 32px;\n",
              "    }\n",
              "\n",
              "    .colab-df-convert:hover {\n",
              "      background-color: #E2EBFA;\n",
              "      box-shadow: 0px 1px 2px rgba(60, 64, 67, 0.3), 0px 1px 3px 1px rgba(60, 64, 67, 0.15);\n",
              "      fill: #174EA6;\n",
              "    }\n",
              "\n",
              "    [theme=dark] .colab-df-convert {\n",
              "      background-color: #3B4455;\n",
              "      fill: #D2E3FC;\n",
              "    }\n",
              "\n",
              "    [theme=dark] .colab-df-convert:hover {\n",
              "      background-color: #434B5C;\n",
              "      box-shadow: 0px 1px 3px 1px rgba(0, 0, 0, 0.15);\n",
              "      filter: drop-shadow(0px 1px 2px rgba(0, 0, 0, 0.3));\n",
              "      fill: #FFFFFF;\n",
              "    }\n",
              "  </style>\n",
              "\n",
              "      <script>\n",
              "        const buttonEl =\n",
              "          document.querySelector('#df-a3a4acd6-1fc0-48d3-9d47-d7ccc404db55 button.colab-df-convert');\n",
              "        buttonEl.style.display =\n",
              "          google.colab.kernel.accessAllowed ? 'block' : 'none';\n",
              "\n",
              "        async function convertToInteractive(key) {\n",
              "          const element = document.querySelector('#df-a3a4acd6-1fc0-48d3-9d47-d7ccc404db55');\n",
              "          const dataTable =\n",
              "            await google.colab.kernel.invokeFunction('convertToInteractive',\n",
              "                                                     [key], {});\n",
              "          if (!dataTable) return;\n",
              "\n",
              "          const docLinkHtml = 'Like what you see? Visit the ' +\n",
              "            '<a target=\"_blank\" href=https://colab.research.google.com/notebooks/data_table.ipynb>data table notebook</a>'\n",
              "            + ' to learn more about interactive tables.';\n",
              "          element.innerHTML = '';\n",
              "          dataTable['output_type'] = 'display_data';\n",
              "          await google.colab.output.renderOutput(dataTable, element);\n",
              "          const docLink = document.createElement('div');\n",
              "          docLink.innerHTML = docLinkHtml;\n",
              "          element.appendChild(docLink);\n",
              "        }\n",
              "      </script>\n",
              "    </div>\n",
              "  </div>\n",
              "  "
            ]
          },
          "metadata": {},
          "execution_count": 79
        }
      ]
    },
    {
      "cell_type": "code",
      "source": [
        "ordem_mes_washington = [7, 8, 6, 9, 10, 5, 4, 3, 11, 12, 2, 1]\n",
        "freq_cust_mes_was['ordem_mes_washington'] = ordem_mes_washington\n",
        "print(freq_cust_mes_was)"
      ],
      "metadata": {
        "colab": {
          "base_uri": "https://localhost:8080/"
        },
        "outputId": "a16c4db6-ec64-4ca9-a726-0b1a19268d72",
        "id": "mXOJTHqHbVg2"
      },
      "execution_count": 80,
      "outputs": [
        {
          "output_type": "stream",
          "name": "stdout",
          "text": [
            "    mês  total  ordem_mes_washington\n",
            "0   jul   2186                     7\n",
            "1   ago   1806                     8\n",
            "2   jun   1707                     6\n",
            "3   set   1674                     9\n",
            "4   out   1560                    10\n",
            "5   mai   1248                     5\n",
            "6   abr   1192                     4\n",
            "7   mar   1188                     3\n",
            "8   nov   1075                    11\n",
            "9   dez    432                    12\n",
            "10  fev    283                     2\n",
            "11  jan    222                     1\n"
          ]
        }
      ]
    },
    {
      "cell_type": "code",
      "source": [
        "freq_cust_mes_was"
      ],
      "metadata": {
        "colab": {
          "base_uri": "https://localhost:8080/",
          "height": 426
        },
        "outputId": "3e029679-120a-4431-f30d-6c5a4f15c2d9",
        "id": "IgTZ8PFPbVg3"
      },
      "execution_count": 81,
      "outputs": [
        {
          "output_type": "execute_result",
          "data": {
            "text/plain": [
              "    mês  total  ordem_mes_washington\n",
              "0   jul   2186                     7\n",
              "1   ago   1806                     8\n",
              "2   jun   1707                     6\n",
              "3   set   1674                     9\n",
              "4   out   1560                    10\n",
              "5   mai   1248                     5\n",
              "6   abr   1192                     4\n",
              "7   mar   1188                     3\n",
              "8   nov   1075                    11\n",
              "9   dez    432                    12\n",
              "10  fev    283                     2\n",
              "11  jan    222                     1"
            ],
            "text/html": [
              "\n",
              "  <div id=\"df-b511f066-a1aa-4ffd-bbd4-7f4a613d7e42\">\n",
              "    <div class=\"colab-df-container\">\n",
              "      <div>\n",
              "<style scoped>\n",
              "    .dataframe tbody tr th:only-of-type {\n",
              "        vertical-align: middle;\n",
              "    }\n",
              "\n",
              "    .dataframe tbody tr th {\n",
              "        vertical-align: top;\n",
              "    }\n",
              "\n",
              "    .dataframe thead th {\n",
              "        text-align: right;\n",
              "    }\n",
              "</style>\n",
              "<table border=\"1\" class=\"dataframe\">\n",
              "  <thead>\n",
              "    <tr style=\"text-align: right;\">\n",
              "      <th></th>\n",
              "      <th>mês</th>\n",
              "      <th>total</th>\n",
              "      <th>ordem_mes_washington</th>\n",
              "    </tr>\n",
              "  </thead>\n",
              "  <tbody>\n",
              "    <tr>\n",
              "      <th>0</th>\n",
              "      <td>jul</td>\n",
              "      <td>2186</td>\n",
              "      <td>7</td>\n",
              "    </tr>\n",
              "    <tr>\n",
              "      <th>1</th>\n",
              "      <td>ago</td>\n",
              "      <td>1806</td>\n",
              "      <td>8</td>\n",
              "    </tr>\n",
              "    <tr>\n",
              "      <th>2</th>\n",
              "      <td>jun</td>\n",
              "      <td>1707</td>\n",
              "      <td>6</td>\n",
              "    </tr>\n",
              "    <tr>\n",
              "      <th>3</th>\n",
              "      <td>set</td>\n",
              "      <td>1674</td>\n",
              "      <td>9</td>\n",
              "    </tr>\n",
              "    <tr>\n",
              "      <th>4</th>\n",
              "      <td>out</td>\n",
              "      <td>1560</td>\n",
              "      <td>10</td>\n",
              "    </tr>\n",
              "    <tr>\n",
              "      <th>5</th>\n",
              "      <td>mai</td>\n",
              "      <td>1248</td>\n",
              "      <td>5</td>\n",
              "    </tr>\n",
              "    <tr>\n",
              "      <th>6</th>\n",
              "      <td>abr</td>\n",
              "      <td>1192</td>\n",
              "      <td>4</td>\n",
              "    </tr>\n",
              "    <tr>\n",
              "      <th>7</th>\n",
              "      <td>mar</td>\n",
              "      <td>1188</td>\n",
              "      <td>3</td>\n",
              "    </tr>\n",
              "    <tr>\n",
              "      <th>8</th>\n",
              "      <td>nov</td>\n",
              "      <td>1075</td>\n",
              "      <td>11</td>\n",
              "    </tr>\n",
              "    <tr>\n",
              "      <th>9</th>\n",
              "      <td>dez</td>\n",
              "      <td>432</td>\n",
              "      <td>12</td>\n",
              "    </tr>\n",
              "    <tr>\n",
              "      <th>10</th>\n",
              "      <td>fev</td>\n",
              "      <td>283</td>\n",
              "      <td>2</td>\n",
              "    </tr>\n",
              "    <tr>\n",
              "      <th>11</th>\n",
              "      <td>jan</td>\n",
              "      <td>222</td>\n",
              "      <td>1</td>\n",
              "    </tr>\n",
              "  </tbody>\n",
              "</table>\n",
              "</div>\n",
              "      <button class=\"colab-df-convert\" onclick=\"convertToInteractive('df-b511f066-a1aa-4ffd-bbd4-7f4a613d7e42')\"\n",
              "              title=\"Convert this dataframe to an interactive table.\"\n",
              "              style=\"display:none;\">\n",
              "        \n",
              "  <svg xmlns=\"http://www.w3.org/2000/svg\" height=\"24px\"viewBox=\"0 0 24 24\"\n",
              "       width=\"24px\">\n",
              "    <path d=\"M0 0h24v24H0V0z\" fill=\"none\"/>\n",
              "    <path d=\"M18.56 5.44l.94 2.06.94-2.06 2.06-.94-2.06-.94-.94-2.06-.94 2.06-2.06.94zm-11 1L8.5 8.5l.94-2.06 2.06-.94-2.06-.94L8.5 2.5l-.94 2.06-2.06.94zm10 10l.94 2.06.94-2.06 2.06-.94-2.06-.94-.94-2.06-.94 2.06-2.06.94z\"/><path d=\"M17.41 7.96l-1.37-1.37c-.4-.4-.92-.59-1.43-.59-.52 0-1.04.2-1.43.59L10.3 9.45l-7.72 7.72c-.78.78-.78 2.05 0 2.83L4 21.41c.39.39.9.59 1.41.59.51 0 1.02-.2 1.41-.59l7.78-7.78 2.81-2.81c.8-.78.8-2.07 0-2.86zM5.41 20L4 18.59l7.72-7.72 1.47 1.35L5.41 20z\"/>\n",
              "  </svg>\n",
              "      </button>\n",
              "      \n",
              "  <style>\n",
              "    .colab-df-container {\n",
              "      display:flex;\n",
              "      flex-wrap:wrap;\n",
              "      gap: 12px;\n",
              "    }\n",
              "\n",
              "    .colab-df-convert {\n",
              "      background-color: #E8F0FE;\n",
              "      border: none;\n",
              "      border-radius: 50%;\n",
              "      cursor: pointer;\n",
              "      display: none;\n",
              "      fill: #1967D2;\n",
              "      height: 32px;\n",
              "      padding: 0 0 0 0;\n",
              "      width: 32px;\n",
              "    }\n",
              "\n",
              "    .colab-df-convert:hover {\n",
              "      background-color: #E2EBFA;\n",
              "      box-shadow: 0px 1px 2px rgba(60, 64, 67, 0.3), 0px 1px 3px 1px rgba(60, 64, 67, 0.15);\n",
              "      fill: #174EA6;\n",
              "    }\n",
              "\n",
              "    [theme=dark] .colab-df-convert {\n",
              "      background-color: #3B4455;\n",
              "      fill: #D2E3FC;\n",
              "    }\n",
              "\n",
              "    [theme=dark] .colab-df-convert:hover {\n",
              "      background-color: #434B5C;\n",
              "      box-shadow: 0px 1px 3px 1px rgba(0, 0, 0, 0.15);\n",
              "      filter: drop-shadow(0px 1px 2px rgba(0, 0, 0, 0.3));\n",
              "      fill: #FFFFFF;\n",
              "    }\n",
              "  </style>\n",
              "\n",
              "      <script>\n",
              "        const buttonEl =\n",
              "          document.querySelector('#df-b511f066-a1aa-4ffd-bbd4-7f4a613d7e42 button.colab-df-convert');\n",
              "        buttonEl.style.display =\n",
              "          google.colab.kernel.accessAllowed ? 'block' : 'none';\n",
              "\n",
              "        async function convertToInteractive(key) {\n",
              "          const element = document.querySelector('#df-b511f066-a1aa-4ffd-bbd4-7f4a613d7e42');\n",
              "          const dataTable =\n",
              "            await google.colab.kernel.invokeFunction('convertToInteractive',\n",
              "                                                     [key], {});\n",
              "          if (!dataTable) return;\n",
              "\n",
              "          const docLinkHtml = 'Like what you see? Visit the ' +\n",
              "            '<a target=\"_blank\" href=https://colab.research.google.com/notebooks/data_table.ipynb>data table notebook</a>'\n",
              "            + ' to learn more about interactive tables.';\n",
              "          element.innerHTML = '';\n",
              "          dataTable['output_type'] = 'display_data';\n",
              "          await google.colab.output.renderOutput(dataTable, element);\n",
              "          const docLink = document.createElement('div');\n",
              "          docLink.innerHTML = docLinkHtml;\n",
              "          element.appendChild(docLink);\n",
              "        }\n",
              "      </script>\n",
              "    </div>\n",
              "  </div>\n",
              "  "
            ]
          },
          "metadata": {},
          "execution_count": 81
        }
      ]
    },
    {
      "cell_type": "code",
      "source": [
        "freq_cust_mes_was.sort_values(by=['ordem_mes_washington'])"
      ],
      "metadata": {
        "colab": {
          "base_uri": "https://localhost:8080/",
          "height": 426
        },
        "outputId": "07a49fed-fa93-4902-c79c-e1e200e61144",
        "id": "3F0RwBCRbVg4"
      },
      "execution_count": 82,
      "outputs": [
        {
          "output_type": "execute_result",
          "data": {
            "text/plain": [
              "    mês  total  ordem_mes_washington\n",
              "11  jan    222                     1\n",
              "10  fev    283                     2\n",
              "7   mar   1188                     3\n",
              "6   abr   1192                     4\n",
              "5   mai   1248                     5\n",
              "2   jun   1707                     6\n",
              "0   jul   2186                     7\n",
              "1   ago   1806                     8\n",
              "3   set   1674                     9\n",
              "4   out   1560                    10\n",
              "8   nov   1075                    11\n",
              "9   dez    432                    12"
            ],
            "text/html": [
              "\n",
              "  <div id=\"df-4dc42b20-b91a-42a1-a176-e04d3a89e66c\">\n",
              "    <div class=\"colab-df-container\">\n",
              "      <div>\n",
              "<style scoped>\n",
              "    .dataframe tbody tr th:only-of-type {\n",
              "        vertical-align: middle;\n",
              "    }\n",
              "\n",
              "    .dataframe tbody tr th {\n",
              "        vertical-align: top;\n",
              "    }\n",
              "\n",
              "    .dataframe thead th {\n",
              "        text-align: right;\n",
              "    }\n",
              "</style>\n",
              "<table border=\"1\" class=\"dataframe\">\n",
              "  <thead>\n",
              "    <tr style=\"text-align: right;\">\n",
              "      <th></th>\n",
              "      <th>mês</th>\n",
              "      <th>total</th>\n",
              "      <th>ordem_mes_washington</th>\n",
              "    </tr>\n",
              "  </thead>\n",
              "  <tbody>\n",
              "    <tr>\n",
              "      <th>11</th>\n",
              "      <td>jan</td>\n",
              "      <td>222</td>\n",
              "      <td>1</td>\n",
              "    </tr>\n",
              "    <tr>\n",
              "      <th>10</th>\n",
              "      <td>fev</td>\n",
              "      <td>283</td>\n",
              "      <td>2</td>\n",
              "    </tr>\n",
              "    <tr>\n",
              "      <th>7</th>\n",
              "      <td>mar</td>\n",
              "      <td>1188</td>\n",
              "      <td>3</td>\n",
              "    </tr>\n",
              "    <tr>\n",
              "      <th>6</th>\n",
              "      <td>abr</td>\n",
              "      <td>1192</td>\n",
              "      <td>4</td>\n",
              "    </tr>\n",
              "    <tr>\n",
              "      <th>5</th>\n",
              "      <td>mai</td>\n",
              "      <td>1248</td>\n",
              "      <td>5</td>\n",
              "    </tr>\n",
              "    <tr>\n",
              "      <th>2</th>\n",
              "      <td>jun</td>\n",
              "      <td>1707</td>\n",
              "      <td>6</td>\n",
              "    </tr>\n",
              "    <tr>\n",
              "      <th>0</th>\n",
              "      <td>jul</td>\n",
              "      <td>2186</td>\n",
              "      <td>7</td>\n",
              "    </tr>\n",
              "    <tr>\n",
              "      <th>1</th>\n",
              "      <td>ago</td>\n",
              "      <td>1806</td>\n",
              "      <td>8</td>\n",
              "    </tr>\n",
              "    <tr>\n",
              "      <th>3</th>\n",
              "      <td>set</td>\n",
              "      <td>1674</td>\n",
              "      <td>9</td>\n",
              "    </tr>\n",
              "    <tr>\n",
              "      <th>4</th>\n",
              "      <td>out</td>\n",
              "      <td>1560</td>\n",
              "      <td>10</td>\n",
              "    </tr>\n",
              "    <tr>\n",
              "      <th>8</th>\n",
              "      <td>nov</td>\n",
              "      <td>1075</td>\n",
              "      <td>11</td>\n",
              "    </tr>\n",
              "    <tr>\n",
              "      <th>9</th>\n",
              "      <td>dez</td>\n",
              "      <td>432</td>\n",
              "      <td>12</td>\n",
              "    </tr>\n",
              "  </tbody>\n",
              "</table>\n",
              "</div>\n",
              "      <button class=\"colab-df-convert\" onclick=\"convertToInteractive('df-4dc42b20-b91a-42a1-a176-e04d3a89e66c')\"\n",
              "              title=\"Convert this dataframe to an interactive table.\"\n",
              "              style=\"display:none;\">\n",
              "        \n",
              "  <svg xmlns=\"http://www.w3.org/2000/svg\" height=\"24px\"viewBox=\"0 0 24 24\"\n",
              "       width=\"24px\">\n",
              "    <path d=\"M0 0h24v24H0V0z\" fill=\"none\"/>\n",
              "    <path d=\"M18.56 5.44l.94 2.06.94-2.06 2.06-.94-2.06-.94-.94-2.06-.94 2.06-2.06.94zm-11 1L8.5 8.5l.94-2.06 2.06-.94-2.06-.94L8.5 2.5l-.94 2.06-2.06.94zm10 10l.94 2.06.94-2.06 2.06-.94-2.06-.94-.94-2.06-.94 2.06-2.06.94z\"/><path d=\"M17.41 7.96l-1.37-1.37c-.4-.4-.92-.59-1.43-.59-.52 0-1.04.2-1.43.59L10.3 9.45l-7.72 7.72c-.78.78-.78 2.05 0 2.83L4 21.41c.39.39.9.59 1.41.59.51 0 1.02-.2 1.41-.59l7.78-7.78 2.81-2.81c.8-.78.8-2.07 0-2.86zM5.41 20L4 18.59l7.72-7.72 1.47 1.35L5.41 20z\"/>\n",
              "  </svg>\n",
              "      </button>\n",
              "      \n",
              "  <style>\n",
              "    .colab-df-container {\n",
              "      display:flex;\n",
              "      flex-wrap:wrap;\n",
              "      gap: 12px;\n",
              "    }\n",
              "\n",
              "    .colab-df-convert {\n",
              "      background-color: #E8F0FE;\n",
              "      border: none;\n",
              "      border-radius: 50%;\n",
              "      cursor: pointer;\n",
              "      display: none;\n",
              "      fill: #1967D2;\n",
              "      height: 32px;\n",
              "      padding: 0 0 0 0;\n",
              "      width: 32px;\n",
              "    }\n",
              "\n",
              "    .colab-df-convert:hover {\n",
              "      background-color: #E2EBFA;\n",
              "      box-shadow: 0px 1px 2px rgba(60, 64, 67, 0.3), 0px 1px 3px 1px rgba(60, 64, 67, 0.15);\n",
              "      fill: #174EA6;\n",
              "    }\n",
              "\n",
              "    [theme=dark] .colab-df-convert {\n",
              "      background-color: #3B4455;\n",
              "      fill: #D2E3FC;\n",
              "    }\n",
              "\n",
              "    [theme=dark] .colab-df-convert:hover {\n",
              "      background-color: #434B5C;\n",
              "      box-shadow: 0px 1px 3px 1px rgba(0, 0, 0, 0.15);\n",
              "      filter: drop-shadow(0px 1px 2px rgba(0, 0, 0, 0.3));\n",
              "      fill: #FFFFFF;\n",
              "    }\n",
              "  </style>\n",
              "\n",
              "      <script>\n",
              "        const buttonEl =\n",
              "          document.querySelector('#df-4dc42b20-b91a-42a1-a176-e04d3a89e66c button.colab-df-convert');\n",
              "        buttonEl.style.display =\n",
              "          google.colab.kernel.accessAllowed ? 'block' : 'none';\n",
              "\n",
              "        async function convertToInteractive(key) {\n",
              "          const element = document.querySelector('#df-4dc42b20-b91a-42a1-a176-e04d3a89e66c');\n",
              "          const dataTable =\n",
              "            await google.colab.kernel.invokeFunction('convertToInteractive',\n",
              "                                                     [key], {});\n",
              "          if (!dataTable) return;\n",
              "\n",
              "          const docLinkHtml = 'Like what you see? Visit the ' +\n",
              "            '<a target=\"_blank\" href=https://colab.research.google.com/notebooks/data_table.ipynb>data table notebook</a>'\n",
              "            + ' to learn more about interactive tables.';\n",
              "          element.innerHTML = '';\n",
              "          dataTable['output_type'] = 'display_data';\n",
              "          await google.colab.output.renderOutput(dataTable, element);\n",
              "          const docLink = document.createElement('div');\n",
              "          docLink.innerHTML = docLinkHtml;\n",
              "          element.appendChild(docLink);\n",
              "        }\n",
              "      </script>\n",
              "    </div>\n",
              "  </div>\n",
              "  "
            ]
          },
          "metadata": {},
          "execution_count": 82
        }
      ]
    },
    {
      "cell_type": "markdown",
      "source": [
        "**Frequencia de usuários \"Customer\" por mes**"
      ],
      "metadata": {
        "id": "Pn1g0rhv_rLD"
      }
    },
    {
      "cell_type": "code",
      "source": [
        "plt.figure(figsize=(12,8)) #Configura o tamanho da figura (12 para direita e 8 para baixo)\n",
        "sns.barplot(x=\"mês\", y=\"total\", data = freq_cust_mes_was)"
      ],
      "metadata": {
        "colab": {
          "base_uri": "https://localhost:8080/",
          "height": 514
        },
        "id": "go5Sfk8o9zpf",
        "outputId": "ea990449-3eb8-43f7-8d84-ac53347a450b"
      },
      "execution_count": 83,
      "outputs": [
        {
          "output_type": "execute_result",
          "data": {
            "text/plain": [
              "<matplotlib.axes._subplots.AxesSubplot at 0x7fde158de090>"
            ]
          },
          "metadata": {},
          "execution_count": 83
        },
        {
          "output_type": "display_data",
          "data": {
            "text/plain": [
              "<Figure size 864x576 with 1 Axes>"
            ],
            "image/png": "[encoded data removed]"
          },
          "metadata": {
            "needs_background": "light"
          }
        }
      ]
    },
    {
      "cell_type": "code",
      "source": [
        "#GRAFICO DE LINHA\n",
        "plt.figure(figsize=(10,6))\n",
        "sns.lineplot(data = freq_cust_mes_was, x=\"ordem_mes_washington\", y=\"total\", color = \"red\")\n",
        "plt.title( \"Frequência users Customer por mes\" , size = 24 ) #Define o título do gráfico e define o tamanho\n",
        "plt.xlabel( \"mes\" , size = 10 ) #Usa o plt para adicionar um rotulo no eixo x e define o tamanho"
      ],
      "metadata": {
        "colab": {
          "base_uri": "https://localhost:8080/",
          "height": 432
        },
        "id": "IgKT_MldbwBG",
        "outputId": "0fee0c80-bb94-42b7-b52d-dd83e9ae3c6a"
      },
      "execution_count": 84,
      "outputs": [
        {
          "output_type": "execute_result",
          "data": {
            "text/plain": [
              "Text(0.5, 0, 'mes')"
            ]
          },
          "metadata": {},
          "execution_count": 84
        },
        {
          "output_type": "display_data",
          "data": {
            "text/plain": [
              "<Figure size 720x432 with 1 Axes>"
            ],
            "image/png": "[encoded data removed]"
          },
          "metadata": {
            "needs_background": "light"
          }
        }
      ]
    },
    {
      "cell_type": "markdown",
      "source": [
        "**Explorando de usuários Subscriber (cadastrado) por hora**"
      ],
      "metadata": {
        "id": "j808y7dx_3iT"
      }
    },
    {
      "cell_type": "code",
      "source": [
        "subscriber_was.hora.value_counts()"
      ],
      "metadata": {
        "colab": {
          "base_uri": "https://localhost:8080/"
        },
        "id": "MHZEGsKB_vyw",
        "outputId": "2eb19e3a-27da-4144-ee3f-1f18d1ad569e"
      },
      "execution_count": 85,
      "outputs": [
        {
          "output_type": "execute_result",
          "data": {
            "text/plain": [
              "17    6225\n",
              "8     5256\n",
              "18    5131\n",
              "16    3730\n",
              "7     3584\n",
              "19    3380\n",
              "9     2828\n",
              "15    2547\n",
              "12    2477\n",
              "13    2395\n",
              "20    2295\n",
              "14    2219\n",
              "11    1989\n",
              "10    1713\n",
              "21    1640\n",
              "6     1276\n",
              "22    1138\n",
              "23     665\n",
              "5      391\n",
              "0      385\n",
              "1      224\n",
              "2      146\n",
              "3       64\n",
              "4       55\n",
              "Name: hora, dtype: int64"
            ]
          },
          "metadata": {},
          "execution_count": 85
        }
      ]
    },
    {
      "cell_type": "code",
      "source": [
        "freq_sub_hora_was = subscriber_was.hora.value_counts()"
      ],
      "metadata": {
        "id": "tDREFlh8_6Uw"
      },
      "execution_count": 86,
      "outputs": []
    },
    {
      "cell_type": "code",
      "source": [
        "freq_sub_hora_was.to_frame() #Transforma uma serie em DataFrame\n",
        "freq_sub_hora_was = freq_sub_hora_was.to_frame().reset_index()\n",
        "freq_sub_hora_was.columns = ['hora', 'total']\n",
        "freq_sub_hora_was"
      ],
      "metadata": {
        "colab": {
          "base_uri": "https://localhost:8080/",
          "height": 802
        },
        "id": "HaQ6-F6dABD5",
        "outputId": "a94f44cb-dea4-4fa2-a901-c0dc2a5faf1b"
      },
      "execution_count": 87,
      "outputs": [
        {
          "output_type": "execute_result",
          "data": {
            "text/plain": [
              "    hora  total\n",
              "0     17   6225\n",
              "1      8   5256\n",
              "2     18   5131\n",
              "3     16   3730\n",
              "4      7   3584\n",
              "5     19   3380\n",
              "6      9   2828\n",
              "7     15   2547\n",
              "8     12   2477\n",
              "9     13   2395\n",
              "10    20   2295\n",
              "11    14   2219\n",
              "12    11   1989\n",
              "13    10   1713\n",
              "14    21   1640\n",
              "15     6   1276\n",
              "16    22   1138\n",
              "17    23    665\n",
              "18     5    391\n",
              "19     0    385\n",
              "20     1    224\n",
              "21     2    146\n",
              "22     3     64\n",
              "23     4     55"
            ],
            "text/html": [
              "\n",
              "  <div id=\"df-1a816289-b68e-43cd-94b6-7cf7e123c15d\">\n",
              "    <div class=\"colab-df-container\">\n",
              "      <div>\n",
              "<style scoped>\n",
              "    .dataframe tbody tr th:only-of-type {\n",
              "        vertical-align: middle;\n",
              "    }\n",
              "\n",
              "    .dataframe tbody tr th {\n",
              "        vertical-align: top;\n",
              "    }\n",
              "\n",
              "    .dataframe thead th {\n",
              "        text-align: right;\n",
              "    }\n",
              "</style>\n",
              "<table border=\"1\" class=\"dataframe\">\n",
              "  <thead>\n",
              "    <tr style=\"text-align: right;\">\n",
              "      <th></th>\n",
              "      <th>hora</th>\n",
              "      <th>total</th>\n",
              "    </tr>\n",
              "  </thead>\n",
              "  <tbody>\n",
              "    <tr>\n",
              "      <th>0</th>\n",
              "      <td>17</td>\n",
              "      <td>6225</td>\n",
              "    </tr>\n",
              "    <tr>\n",
              "      <th>1</th>\n",
              "      <td>8</td>\n",
              "      <td>5256</td>\n",
              "    </tr>\n",
              "    <tr>\n",
              "      <th>2</th>\n",
              "      <td>18</td>\n",
              "      <td>5131</td>\n",
              "    </tr>\n",
              "    <tr>\n",
              "      <th>3</th>\n",
              "      <td>16</td>\n",
              "      <td>3730</td>\n",
              "    </tr>\n",
              "    <tr>\n",
              "      <th>4</th>\n",
              "      <td>7</td>\n",
              "      <td>3584</td>\n",
              "    </tr>\n",
              "    <tr>\n",
              "      <th>5</th>\n",
              "      <td>19</td>\n",
              "      <td>3380</td>\n",
              "    </tr>\n",
              "    <tr>\n",
              "      <th>6</th>\n",
              "      <td>9</td>\n",
              "      <td>2828</td>\n",
              "    </tr>\n",
              "    <tr>\n",
              "      <th>7</th>\n",
              "      <td>15</td>\n",
              "      <td>2547</td>\n",
              "    </tr>\n",
              "    <tr>\n",
              "      <th>8</th>\n",
              "      <td>12</td>\n",
              "      <td>2477</td>\n",
              "    </tr>\n",
              "    <tr>\n",
              "      <th>9</th>\n",
              "      <td>13</td>\n",
              "      <td>2395</td>\n",
              "    </tr>\n",
              "    <tr>\n",
              "      <th>10</th>\n",
              "      <td>20</td>\n",
              "      <td>2295</td>\n",
              "    </tr>\n",
              "    <tr>\n",
              "      <th>11</th>\n",
              "      <td>14</td>\n",
              "      <td>2219</td>\n",
              "    </tr>\n",
              "    <tr>\n",
              "      <th>12</th>\n",
              "      <td>11</td>\n",
              "      <td>1989</td>\n",
              "    </tr>\n",
              "    <tr>\n",
              "      <th>13</th>\n",
              "      <td>10</td>\n",
              "      <td>1713</td>\n",
              "    </tr>\n",
              "    <tr>\n",
              "      <th>14</th>\n",
              "      <td>21</td>\n",
              "      <td>1640</td>\n",
              "    </tr>\n",
              "    <tr>\n",
              "      <th>15</th>\n",
              "      <td>6</td>\n",
              "      <td>1276</td>\n",
              "    </tr>\n",
              "    <tr>\n",
              "      <th>16</th>\n",
              "      <td>22</td>\n",
              "      <td>1138</td>\n",
              "    </tr>\n",
              "    <tr>\n",
              "      <th>17</th>\n",
              "      <td>23</td>\n",
              "      <td>665</td>\n",
              "    </tr>\n",
              "    <tr>\n",
              "      <th>18</th>\n",
              "      <td>5</td>\n",
              "      <td>391</td>\n",
              "    </tr>\n",
              "    <tr>\n",
              "      <th>19</th>\n",
              "      <td>0</td>\n",
              "      <td>385</td>\n",
              "    </tr>\n",
              "    <tr>\n",
              "      <th>20</th>\n",
              "      <td>1</td>\n",
              "      <td>224</td>\n",
              "    </tr>\n",
              "    <tr>\n",
              "      <th>21</th>\n",
              "      <td>2</td>\n",
              "      <td>146</td>\n",
              "    </tr>\n",
              "    <tr>\n",
              "      <th>22</th>\n",
              "      <td>3</td>\n",
              "      <td>64</td>\n",
              "    </tr>\n",
              "    <tr>\n",
              "      <th>23</th>\n",
              "      <td>4</td>\n",
              "      <td>55</td>\n",
              "    </tr>\n",
              "  </tbody>\n",
              "</table>\n",
              "</div>\n",
              "      <button class=\"colab-df-convert\" onclick=\"convertToInteractive('df-1a816289-b68e-43cd-94b6-7cf7e123c15d')\"\n",
              "              title=\"Convert this dataframe to an interactive table.\"\n",
              "              style=\"display:none;\">\n",
              "        \n",
              "  <svg xmlns=\"http://www.w3.org/2000/svg\" height=\"24px\"viewBox=\"0 0 24 24\"\n",
              "       width=\"24px\">\n",
              "    <path d=\"M0 0h24v24H0V0z\" fill=\"none\"/>\n",
              "    <path d=\"M18.56 5.44l.94 2.06.94-2.06 2.06-.94-2.06-.94-.94-2.06-.94 2.06-2.06.94zm-11 1L8.5 8.5l.94-2.06 2.06-.94-2.06-.94L8.5 2.5l-.94 2.06-2.06.94zm10 10l.94 2.06.94-2.06 2.06-.94-2.06-.94-.94-2.06-.94 2.06-2.06.94z\"/><path d=\"M17.41 7.96l-1.37-1.37c-.4-.4-.92-.59-1.43-.59-.52 0-1.04.2-1.43.59L10.3 9.45l-7.72 7.72c-.78.78-.78 2.05 0 2.83L4 21.41c.39.39.9.59 1.41.59.51 0 1.02-.2 1.41-.59l7.78-7.78 2.81-2.81c.8-.78.8-2.07 0-2.86zM5.41 20L4 18.59l7.72-7.72 1.47 1.35L5.41 20z\"/>\n",
              "  </svg>\n",
              "      </button>\n",
              "      \n",
              "  <style>\n",
              "    .colab-df-container {\n",
              "      display:flex;\n",
              "      flex-wrap:wrap;\n",
              "      gap: 12px;\n",
              "    }\n",
              "\n",
              "    .colab-df-convert {\n",
              "      background-color: #E8F0FE;\n",
              "      border: none;\n",
              "      border-radius: 50%;\n",
              "      cursor: pointer;\n",
              "      display: none;\n",
              "      fill: #1967D2;\n",
              "      height: 32px;\n",
              "      padding: 0 0 0 0;\n",
              "      width: 32px;\n",
              "    }\n",
              "\n",
              "    .colab-df-convert:hover {\n",
              "      background-color: #E2EBFA;\n",
              "      box-shadow: 0px 1px 2px rgba(60, 64, 67, 0.3), 0px 1px 3px 1px rgba(60, 64, 67, 0.15);\n",
              "      fill: #174EA6;\n",
              "    }\n",
              "\n",
              "    [theme=dark] .colab-df-convert {\n",
              "      background-color: #3B4455;\n",
              "      fill: #D2E3FC;\n",
              "    }\n",
              "\n",
              "    [theme=dark] .colab-df-convert:hover {\n",
              "      background-color: #434B5C;\n",
              "      box-shadow: 0px 1px 3px 1px rgba(0, 0, 0, 0.15);\n",
              "      filter: drop-shadow(0px 1px 2px rgba(0, 0, 0, 0.3));\n",
              "      fill: #FFFFFF;\n",
              "    }\n",
              "  </style>\n",
              "\n",
              "      <script>\n",
              "        const buttonEl =\n",
              "          document.querySelector('#df-1a816289-b68e-43cd-94b6-7cf7e123c15d button.colab-df-convert');\n",
              "        buttonEl.style.display =\n",
              "          google.colab.kernel.accessAllowed ? 'block' : 'none';\n",
              "\n",
              "        async function convertToInteractive(key) {\n",
              "          const element = document.querySelector('#df-1a816289-b68e-43cd-94b6-7cf7e123c15d');\n",
              "          const dataTable =\n",
              "            await google.colab.kernel.invokeFunction('convertToInteractive',\n",
              "                                                     [key], {});\n",
              "          if (!dataTable) return;\n",
              "\n",
              "          const docLinkHtml = 'Like what you see? Visit the ' +\n",
              "            '<a target=\"_blank\" href=https://colab.research.google.com/notebooks/data_table.ipynb>data table notebook</a>'\n",
              "            + ' to learn more about interactive tables.';\n",
              "          element.innerHTML = '';\n",
              "          dataTable['output_type'] = 'display_data';\n",
              "          await google.colab.output.renderOutput(dataTable, element);\n",
              "          const docLink = document.createElement('div');\n",
              "          docLink.innerHTML = docLinkHtml;\n",
              "          element.appendChild(docLink);\n",
              "        }\n",
              "      </script>\n",
              "    </div>\n",
              "  </div>\n",
              "  "
            ]
          },
          "metadata": {},
          "execution_count": 87
        }
      ]
    },
    {
      "cell_type": "markdown",
      "source": [
        "**Frequencia de usuários \"Subscriber\" por hora**"
      ],
      "metadata": {
        "id": "Bd7bP0E7AVcf"
      }
    },
    {
      "cell_type": "code",
      "source": [
        "plt.figure(figsize=(12,8))\n",
        "sns.barplot(x=\"hora\", y=\"total\", data = freq_sub_hora_was, order = subscriber_was['hora'].value_counts().index )"
      ],
      "metadata": {
        "colab": {
          "base_uri": "https://localhost:8080/",
          "height": 514
        },
        "id": "Fds89E21AJMr",
        "outputId": "32f69508-c75f-44c6-c612-2f5215dc7f49"
      },
      "execution_count": 88,
      "outputs": [
        {
          "output_type": "execute_result",
          "data": {
            "text/plain": [
              "<matplotlib.axes._subplots.AxesSubplot at 0x7fde1582a6d0>"
            ]
          },
          "metadata": {},
          "execution_count": 88
        },
        {
          "output_type": "display_data",
          "data": {
            "text/plain": [
              "<Figure size 864x576 with 1 Axes>"
            ],
            "image/png": "[encoded data removed]"
          },
          "metadata": {
            "needs_background": "light"
          }
        }
      ]
    },
    {
      "cell_type": "markdown",
      "source": [
        "**Explorando de usuários Customer (visitantes) por hora**"
      ],
      "metadata": {
        "id": "_mrI8WIcAl_5"
      }
    },
    {
      "cell_type": "code",
      "source": [
        "customer_was.hora.value_counts()"
      ],
      "metadata": {
        "colab": {
          "base_uri": "https://localhost:8080/"
        },
        "id": "iR0vO-9iAmr5",
        "outputId": "3a5522ed-319b-4805-9425-92fee7a99f99"
      },
      "execution_count": 89,
      "outputs": [
        {
          "output_type": "execute_result",
          "data": {
            "text/plain": [
              "14    1401\n",
              "17    1375\n",
              "16    1374\n",
              "15    1282\n",
              "13    1243\n",
              "12    1190\n",
              "11     995\n",
              "18     980\n",
              "10     895\n",
              "19     808\n",
              "20     616\n",
              "9      547\n",
              "21     432\n",
              "8      359\n",
              "22     321\n",
              "7      195\n",
              "23     193\n",
              "0      130\n",
              "1       75\n",
              "6       71\n",
              "2       38\n",
              "3       25\n",
              "5       16\n",
              "4       12\n",
              "Name: hora, dtype: int64"
            ]
          },
          "metadata": {},
          "execution_count": 89
        }
      ]
    },
    {
      "cell_type": "code",
      "source": [
        "freq_cust_hora_was = customer_was.hora.value_counts()"
      ],
      "metadata": {
        "id": "QJmhcajxA4KU"
      },
      "execution_count": 90,
      "outputs": []
    },
    {
      "cell_type": "code",
      "source": [
        "freq_cust_hora_was.to_frame() #Transforma uma serie em DataFrame\n",
        "\n",
        "freq_cust_hora_was = freq_cust_hora_was.to_frame().reset_index()\n",
        "\n",
        "freq_cust_hora_was.columns = ['hora', 'total']\n",
        "freq_cust_hora_was"
      ],
      "metadata": {
        "colab": {
          "base_uri": "https://localhost:8080/",
          "height": 802
        },
        "id": "jm18MYjzAqbx",
        "outputId": "a90ff5bc-db20-45b7-cebc-ed42e8ae50f0"
      },
      "execution_count": 91,
      "outputs": [
        {
          "output_type": "execute_result",
          "data": {
            "text/plain": [
              "    hora  total\n",
              "0     14   1401\n",
              "1     17   1375\n",
              "2     16   1374\n",
              "3     15   1282\n",
              "4     13   1243\n",
              "5     12   1190\n",
              "6     11    995\n",
              "7     18    980\n",
              "8     10    895\n",
              "9     19    808\n",
              "10    20    616\n",
              "11     9    547\n",
              "12    21    432\n",
              "13     8    359\n",
              "14    22    321\n",
              "15     7    195\n",
              "16    23    193\n",
              "17     0    130\n",
              "18     1     75\n",
              "19     6     71\n",
              "20     2     38\n",
              "21     3     25\n",
              "22     5     16\n",
              "23     4     12"
            ],
            "text/html": [
              "\n",
              "  <div id=\"df-07aa3bce-76d8-4c16-b853-c3f37d5266bc\">\n",
              "    <div class=\"colab-df-container\">\n",
              "      <div>\n",
              "<style scoped>\n",
              "    .dataframe tbody tr th:only-of-type {\n",
              "        vertical-align: middle;\n",
              "    }\n",
              "\n",
              "    .dataframe tbody tr th {\n",
              "        vertical-align: top;\n",
              "    }\n",
              "\n",
              "    .dataframe thead th {\n",
              "        text-align: right;\n",
              "    }\n",
              "</style>\n",
              "<table border=\"1\" class=\"dataframe\">\n",
              "  <thead>\n",
              "    <tr style=\"text-align: right;\">\n",
              "      <th></th>\n",
              "      <th>hora</th>\n",
              "      <th>total</th>\n",
              "    </tr>\n",
              "  </thead>\n",
              "  <tbody>\n",
              "    <tr>\n",
              "      <th>0</th>\n",
              "      <td>14</td>\n",
              "      <td>1401</td>\n",
              "    </tr>\n",
              "    <tr>\n",
              "      <th>1</th>\n",
              "      <td>17</td>\n",
              "      <td>1375</td>\n",
              "    </tr>\n",
              "    <tr>\n",
              "      <th>2</th>\n",
              "      <td>16</td>\n",
              "      <td>1374</td>\n",
              "    </tr>\n",
              "    <tr>\n",
              "      <th>3</th>\n",
              "      <td>15</td>\n",
              "      <td>1282</td>\n",
              "    </tr>\n",
              "    <tr>\n",
              "      <th>4</th>\n",
              "      <td>13</td>\n",
              "      <td>1243</td>\n",
              "    </tr>\n",
              "    <tr>\n",
              "      <th>5</th>\n",
              "      <td>12</td>\n",
              "      <td>1190</td>\n",
              "    </tr>\n",
              "    <tr>\n",
              "      <th>6</th>\n",
              "      <td>11</td>\n",
              "      <td>995</td>\n",
              "    </tr>\n",
              "    <tr>\n",
              "      <th>7</th>\n",
              "      <td>18</td>\n",
              "      <td>980</td>\n",
              "    </tr>\n",
              "    <tr>\n",
              "      <th>8</th>\n",
              "      <td>10</td>\n",
              "      <td>895</td>\n",
              "    </tr>\n",
              "    <tr>\n",
              "      <th>9</th>\n",
              "      <td>19</td>\n",
              "      <td>808</td>\n",
              "    </tr>\n",
              "    <tr>\n",
              "      <th>10</th>\n",
              "      <td>20</td>\n",
              "      <td>616</td>\n",
              "    </tr>\n",
              "    <tr>\n",
              "      <th>11</th>\n",
              "      <td>9</td>\n",
              "      <td>547</td>\n",
              "    </tr>\n",
              "    <tr>\n",
              "      <th>12</th>\n",
              "      <td>21</td>\n",
              "      <td>432</td>\n",
              "    </tr>\n",
              "    <tr>\n",
              "      <th>13</th>\n",
              "      <td>8</td>\n",
              "      <td>359</td>\n",
              "    </tr>\n",
              "    <tr>\n",
              "      <th>14</th>\n",
              "      <td>22</td>\n",
              "      <td>321</td>\n",
              "    </tr>\n",
              "    <tr>\n",
              "      <th>15</th>\n",
              "      <td>7</td>\n",
              "      <td>195</td>\n",
              "    </tr>\n",
              "    <tr>\n",
              "      <th>16</th>\n",
              "      <td>23</td>\n",
              "      <td>193</td>\n",
              "    </tr>\n",
              "    <tr>\n",
              "      <th>17</th>\n",
              "      <td>0</td>\n",
              "      <td>130</td>\n",
              "    </tr>\n",
              "    <tr>\n",
              "      <th>18</th>\n",
              "      <td>1</td>\n",
              "      <td>75</td>\n",
              "    </tr>\n",
              "    <tr>\n",
              "      <th>19</th>\n",
              "      <td>6</td>\n",
              "      <td>71</td>\n",
              "    </tr>\n",
              "    <tr>\n",
              "      <th>20</th>\n",
              "      <td>2</td>\n",
              "      <td>38</td>\n",
              "    </tr>\n",
              "    <tr>\n",
              "      <th>21</th>\n",
              "      <td>3</td>\n",
              "      <td>25</td>\n",
              "    </tr>\n",
              "    <tr>\n",
              "      <th>22</th>\n",
              "      <td>5</td>\n",
              "      <td>16</td>\n",
              "    </tr>\n",
              "    <tr>\n",
              "      <th>23</th>\n",
              "      <td>4</td>\n",
              "      <td>12</td>\n",
              "    </tr>\n",
              "  </tbody>\n",
              "</table>\n",
              "</div>\n",
              "      <button class=\"colab-df-convert\" onclick=\"convertToInteractive('df-07aa3bce-76d8-4c16-b853-c3f37d5266bc')\"\n",
              "              title=\"Convert this dataframe to an interactive table.\"\n",
              "              style=\"display:none;\">\n",
              "        \n",
              "  <svg xmlns=\"http://www.w3.org/2000/svg\" height=\"24px\"viewBox=\"0 0 24 24\"\n",
              "       width=\"24px\">\n",
              "    <path d=\"M0 0h24v24H0V0z\" fill=\"none\"/>\n",
              "    <path d=\"M18.56 5.44l.94 2.06.94-2.06 2.06-.94-2.06-.94-.94-2.06-.94 2.06-2.06.94zm-11 1L8.5 8.5l.94-2.06 2.06-.94-2.06-.94L8.5 2.5l-.94 2.06-2.06.94zm10 10l.94 2.06.94-2.06 2.06-.94-2.06-.94-.94-2.06-.94 2.06-2.06.94z\"/><path d=\"M17.41 7.96l-1.37-1.37c-.4-.4-.92-.59-1.43-.59-.52 0-1.04.2-1.43.59L10.3 9.45l-7.72 7.72c-.78.78-.78 2.05 0 2.83L4 21.41c.39.39.9.59 1.41.59.51 0 1.02-.2 1.41-.59l7.78-7.78 2.81-2.81c.8-.78.8-2.07 0-2.86zM5.41 20L4 18.59l7.72-7.72 1.47 1.35L5.41 20z\"/>\n",
              "  </svg>\n",
              "      </button>\n",
              "      \n",
              "  <style>\n",
              "    .colab-df-container {\n",
              "      display:flex;\n",
              "      flex-wrap:wrap;\n",
              "      gap: 12px;\n",
              "    }\n",
              "\n",
              "    .colab-df-convert {\n",
              "      background-color: #E8F0FE;\n",
              "      border: none;\n",
              "      border-radius: 50%;\n",
              "      cursor: pointer;\n",
              "      display: none;\n",
              "      fill: #1967D2;\n",
              "      height: 32px;\n",
              "      padding: 0 0 0 0;\n",
              "      width: 32px;\n",
              "    }\n",
              "\n",
              "    .colab-df-convert:hover {\n",
              "      background-color: #E2EBFA;\n",
              "      box-shadow: 0px 1px 2px rgba(60, 64, 67, 0.3), 0px 1px 3px 1px rgba(60, 64, 67, 0.15);\n",
              "      fill: #174EA6;\n",
              "    }\n",
              "\n",
              "    [theme=dark] .colab-df-convert {\n",
              "      background-color: #3B4455;\n",
              "      fill: #D2E3FC;\n",
              "    }\n",
              "\n",
              "    [theme=dark] .colab-df-convert:hover {\n",
              "      background-color: #434B5C;\n",
              "      box-shadow: 0px 1px 3px 1px rgba(0, 0, 0, 0.15);\n",
              "      filter: drop-shadow(0px 1px 2px rgba(0, 0, 0, 0.3));\n",
              "      fill: #FFFFFF;\n",
              "    }\n",
              "  </style>\n",
              "\n",
              "      <script>\n",
              "        const buttonEl =\n",
              "          document.querySelector('#df-07aa3bce-76d8-4c16-b853-c3f37d5266bc button.colab-df-convert');\n",
              "        buttonEl.style.display =\n",
              "          google.colab.kernel.accessAllowed ? 'block' : 'none';\n",
              "\n",
              "        async function convertToInteractive(key) {\n",
              "          const element = document.querySelector('#df-07aa3bce-76d8-4c16-b853-c3f37d5266bc');\n",
              "          const dataTable =\n",
              "            await google.colab.kernel.invokeFunction('convertToInteractive',\n",
              "                                                     [key], {});\n",
              "          if (!dataTable) return;\n",
              "\n",
              "          const docLinkHtml = 'Like what you see? Visit the ' +\n",
              "            '<a target=\"_blank\" href=https://colab.research.google.com/notebooks/data_table.ipynb>data table notebook</a>'\n",
              "            + ' to learn more about interactive tables.';\n",
              "          element.innerHTML = '';\n",
              "          dataTable['output_type'] = 'display_data';\n",
              "          await google.colab.output.renderOutput(dataTable, element);\n",
              "          const docLink = document.createElement('div');\n",
              "          docLink.innerHTML = docLinkHtml;\n",
              "          element.appendChild(docLink);\n",
              "        }\n",
              "      </script>\n",
              "    </div>\n",
              "  </div>\n",
              "  "
            ]
          },
          "metadata": {},
          "execution_count": 91
        }
      ]
    },
    {
      "cell_type": "markdown",
      "source": [
        "**Frequencia de usuários \"Customer\" por hora**"
      ],
      "metadata": {
        "id": "Hz95afq0BdCN"
      }
    },
    {
      "cell_type": "code",
      "source": [
        "plt.figure(figsize=(12,8))\n",
        "sns.barplot(x=\"hora\", y=\"total\", data = freq_cust_hora_was, order = customer_was['hora'].value_counts().index )"
      ],
      "metadata": {
        "colab": {
          "base_uri": "https://localhost:8080/",
          "height": 514
        },
        "id": "JyhmZIpYA7r4",
        "outputId": "a42dc9d4-1488-4b13-d9d3-713fa7f64606"
      },
      "execution_count": 92,
      "outputs": [
        {
          "output_type": "execute_result",
          "data": {
            "text/plain": [
              "<matplotlib.axes._subplots.AxesSubplot at 0x7fde156af550>"
            ]
          },
          "metadata": {},
          "execution_count": 92
        },
        {
          "output_type": "display_data",
          "data": {
            "text/plain": [
              "<Figure size 864x576 with 1 Axes>"
            ],
            "image/png": "[encoded data removed]"
          },
          "metadata": {
            "needs_background": "light"
          }
        }
      ]
    },
    {
      "cell_type": "markdown",
      "source": [
        "**Explorando de usuários (Subscriber) por dia da semana**"
      ],
      "metadata": {
        "id": "B8wSISF8BmKd"
      }
    },
    {
      "cell_type": "code",
      "source": [
        "subscriber_was['dia_semana'].value_counts() #Utilizando o df subscriber_chicago que foi criado anteriormente"
      ],
      "metadata": {
        "id": "et9fYsCtBhYo",
        "colab": {
          "base_uri": "https://localhost:8080/"
        },
        "outputId": "0996e031-d53d-4344-e306-ea2410609c30"
      },
      "execution_count": 93,
      "outputs": [
        {
          "output_type": "execute_result",
          "data": {
            "text/plain": [
              "Wednesday    8520\n",
              "Thursday     8454\n",
              "Tuesday      8322\n",
              "Friday       7958\n",
              "Monday       7658\n",
              "Saturday     5589\n",
              "Sunday       5252\n",
              "Name: dia_semana, dtype: int64"
            ]
          },
          "metadata": {},
          "execution_count": 93
        }
      ]
    },
    {
      "cell_type": "code",
      "source": [
        "freq_sub_dia_was = subscriber_was['dia_semana'].value_counts()"
      ],
      "metadata": {
        "id": "k4ptoZ0l5t1M"
      },
      "execution_count": 94,
      "outputs": []
    },
    {
      "cell_type": "code",
      "source": [
        "freq_sub_dia_was"
      ],
      "metadata": {
        "colab": {
          "base_uri": "https://localhost:8080/"
        },
        "id": "NGPg3iyF50vF",
        "outputId": "22216818-d1e4-4f6d-db31-35168aa9fbc4"
      },
      "execution_count": 95,
      "outputs": [
        {
          "output_type": "execute_result",
          "data": {
            "text/plain": [
              "Wednesday    8520\n",
              "Thursday     8454\n",
              "Tuesday      8322\n",
              "Friday       7958\n",
              "Monday       7658\n",
              "Saturday     5589\n",
              "Sunday       5252\n",
              "Name: dia_semana, dtype: int64"
            ]
          },
          "metadata": {},
          "execution_count": 95
        }
      ]
    },
    {
      "cell_type": "code",
      "source": [
        "freq_sub_dia_was.to_frame().reset_index()"
      ],
      "metadata": {
        "colab": {
          "base_uri": "https://localhost:8080/",
          "height": 269
        },
        "id": "gPIzW4Fx53Cj",
        "outputId": "d5976c86-52f4-4a5e-c32b-9b5accd0b4c6"
      },
      "execution_count": 96,
      "outputs": [
        {
          "output_type": "execute_result",
          "data": {
            "text/plain": [
              "       index  dia_semana\n",
              "0  Wednesday        8520\n",
              "1   Thursday        8454\n",
              "2    Tuesday        8322\n",
              "3     Friday        7958\n",
              "4     Monday        7658\n",
              "5   Saturday        5589\n",
              "6     Sunday        5252"
            ],
            "text/html": [
              "\n",
              "  <div id=\"df-8ba962a7-b603-43c5-b189-413ebc78c68b\">\n",
              "    <div class=\"colab-df-container\">\n",
              "      <div>\n",
              "<style scoped>\n",
              "    .dataframe tbody tr th:only-of-type {\n",
              "        vertical-align: middle;\n",
              "    }\n",
              "\n",
              "    .dataframe tbody tr th {\n",
              "        vertical-align: top;\n",
              "    }\n",
              "\n",
              "    .dataframe thead th {\n",
              "        text-align: right;\n",
              "    }\n",
              "</style>\n",
              "<table border=\"1\" class=\"dataframe\">\n",
              "  <thead>\n",
              "    <tr style=\"text-align: right;\">\n",
              "      <th></th>\n",
              "      <th>index</th>\n",
              "      <th>dia_semana</th>\n",
              "    </tr>\n",
              "  </thead>\n",
              "  <tbody>\n",
              "    <tr>\n",
              "      <th>0</th>\n",
              "      <td>Wednesday</td>\n",
              "      <td>8520</td>\n",
              "    </tr>\n",
              "    <tr>\n",
              "      <th>1</th>\n",
              "      <td>Thursday</td>\n",
              "      <td>8454</td>\n",
              "    </tr>\n",
              "    <tr>\n",
              "      <th>2</th>\n",
              "      <td>Tuesday</td>\n",
              "      <td>8322</td>\n",
              "    </tr>\n",
              "    <tr>\n",
              "      <th>3</th>\n",
              "      <td>Friday</td>\n",
              "      <td>7958</td>\n",
              "    </tr>\n",
              "    <tr>\n",
              "      <th>4</th>\n",
              "      <td>Monday</td>\n",
              "      <td>7658</td>\n",
              "    </tr>\n",
              "    <tr>\n",
              "      <th>5</th>\n",
              "      <td>Saturday</td>\n",
              "      <td>5589</td>\n",
              "    </tr>\n",
              "    <tr>\n",
              "      <th>6</th>\n",
              "      <td>Sunday</td>\n",
              "      <td>5252</td>\n",
              "    </tr>\n",
              "  </tbody>\n",
              "</table>\n",
              "</div>\n",
              "      <button class=\"colab-df-convert\" onclick=\"convertToInteractive('df-8ba962a7-b603-43c5-b189-413ebc78c68b')\"\n",
              "              title=\"Convert this dataframe to an interactive table.\"\n",
              "              style=\"display:none;\">\n",
              "        \n",
              "  <svg xmlns=\"http://www.w3.org/2000/svg\" height=\"24px\"viewBox=\"0 0 24 24\"\n",
              "       width=\"24px\">\n",
              "    <path d=\"M0 0h24v24H0V0z\" fill=\"none\"/>\n",
              "    <path d=\"M18.56 5.44l.94 2.06.94-2.06 2.06-.94-2.06-.94-.94-2.06-.94 2.06-2.06.94zm-11 1L8.5 8.5l.94-2.06 2.06-.94-2.06-.94L8.5 2.5l-.94 2.06-2.06.94zm10 10l.94 2.06.94-2.06 2.06-.94-2.06-.94-.94-2.06-.94 2.06-2.06.94z\"/><path d=\"M17.41 7.96l-1.37-1.37c-.4-.4-.92-.59-1.43-.59-.52 0-1.04.2-1.43.59L10.3 9.45l-7.72 7.72c-.78.78-.78 2.05 0 2.83L4 21.41c.39.39.9.59 1.41.59.51 0 1.02-.2 1.41-.59l7.78-7.78 2.81-2.81c.8-.78.8-2.07 0-2.86zM5.41 20L4 18.59l7.72-7.72 1.47 1.35L5.41 20z\"/>\n",
              "  </svg>\n",
              "      </button>\n",
              "      \n",
              "  <style>\n",
              "    .colab-df-container {\n",
              "      display:flex;\n",
              "      flex-wrap:wrap;\n",
              "      gap: 12px;\n",
              "    }\n",
              "\n",
              "    .colab-df-convert {\n",
              "      background-color: #E8F0FE;\n",
              "      border: none;\n",
              "      border-radius: 50%;\n",
              "      cursor: pointer;\n",
              "      display: none;\n",
              "      fill: #1967D2;\n",
              "      height: 32px;\n",
              "      padding: 0 0 0 0;\n",
              "      width: 32px;\n",
              "    }\n",
              "\n",
              "    .colab-df-convert:hover {\n",
              "      background-color: #E2EBFA;\n",
              "      box-shadow: 0px 1px 2px rgba(60, 64, 67, 0.3), 0px 1px 3px 1px rgba(60, 64, 67, 0.15);\n",
              "      fill: #174EA6;\n",
              "    }\n",
              "\n",
              "    [theme=dark] .colab-df-convert {\n",
              "      background-color: #3B4455;\n",
              "      fill: #D2E3FC;\n",
              "    }\n",
              "\n",
              "    [theme=dark] .colab-df-convert:hover {\n",
              "      background-color: #434B5C;\n",
              "      box-shadow: 0px 1px 3px 1px rgba(0, 0, 0, 0.15);\n",
              "      filter: drop-shadow(0px 1px 2px rgba(0, 0, 0, 0.3));\n",
              "      fill: #FFFFFF;\n",
              "    }\n",
              "  </style>\n",
              "\n",
              "      <script>\n",
              "        const buttonEl =\n",
              "          document.querySelector('#df-8ba962a7-b603-43c5-b189-413ebc78c68b button.colab-df-convert');\n",
              "        buttonEl.style.display =\n",
              "          google.colab.kernel.accessAllowed ? 'block' : 'none';\n",
              "\n",
              "        async function convertToInteractive(key) {\n",
              "          const element = document.querySelector('#df-8ba962a7-b603-43c5-b189-413ebc78c68b');\n",
              "          const dataTable =\n",
              "            await google.colab.kernel.invokeFunction('convertToInteractive',\n",
              "                                                     [key], {});\n",
              "          if (!dataTable) return;\n",
              "\n",
              "          const docLinkHtml = 'Like what you see? Visit the ' +\n",
              "            '<a target=\"_blank\" href=https://colab.research.google.com/notebooks/data_table.ipynb>data table notebook</a>'\n",
              "            + ' to learn more about interactive tables.';\n",
              "          element.innerHTML = '';\n",
              "          dataTable['output_type'] = 'display_data';\n",
              "          await google.colab.output.renderOutput(dataTable, element);\n",
              "          const docLink = document.createElement('div');\n",
              "          docLink.innerHTML = docLinkHtml;\n",
              "          element.appendChild(docLink);\n",
              "        }\n",
              "      </script>\n",
              "    </div>\n",
              "  </div>\n",
              "  "
            ]
          },
          "metadata": {},
          "execution_count": 96
        }
      ]
    },
    {
      "cell_type": "code",
      "source": [
        "freq_sub_dia_was = freq_sub_dia_was.to_frame().reset_index()"
      ],
      "metadata": {
        "id": "3Uf5l8CY5_UF"
      },
      "execution_count": 97,
      "outputs": []
    },
    {
      "cell_type": "code",
      "source": [
        "freq_sub_dia_was.columns = [\"dia\", \"total\"]"
      ],
      "metadata": {
        "id": "Z-Pt5YEm6Ez7"
      },
      "execution_count": 98,
      "outputs": []
    },
    {
      "cell_type": "code",
      "source": [
        "freq_sub_dia_was"
      ],
      "metadata": {
        "colab": {
          "base_uri": "https://localhost:8080/",
          "height": 269
        },
        "id": "0pe75kJ46X5Z",
        "outputId": "f7928fc0-a601-4272-81d0-ea679acae7ce"
      },
      "execution_count": 99,
      "outputs": [
        {
          "output_type": "execute_result",
          "data": {
            "text/plain": [
              "         dia  total\n",
              "0  Wednesday   8520\n",
              "1   Thursday   8454\n",
              "2    Tuesday   8322\n",
              "3     Friday   7958\n",
              "4     Monday   7658\n",
              "5   Saturday   5589\n",
              "6     Sunday   5252"
            ],
            "text/html": [
              "\n",
              "  <div id=\"df-4c8b39ff-a8da-42c8-90a4-6b804ad5bd8e\">\n",
              "    <div class=\"colab-df-container\">\n",
              "      <div>\n",
              "<style scoped>\n",
              "    .dataframe tbody tr th:only-of-type {\n",
              "        vertical-align: middle;\n",
              "    }\n",
              "\n",
              "    .dataframe tbody tr th {\n",
              "        vertical-align: top;\n",
              "    }\n",
              "\n",
              "    .dataframe thead th {\n",
              "        text-align: right;\n",
              "    }\n",
              "</style>\n",
              "<table border=\"1\" class=\"dataframe\">\n",
              "  <thead>\n",
              "    <tr style=\"text-align: right;\">\n",
              "      <th></th>\n",
              "      <th>dia</th>\n",
              "      <th>total</th>\n",
              "    </tr>\n",
              "  </thead>\n",
              "  <tbody>\n",
              "    <tr>\n",
              "      <th>0</th>\n",
              "      <td>Wednesday</td>\n",
              "      <td>8520</td>\n",
              "    </tr>\n",
              "    <tr>\n",
              "      <th>1</th>\n",
              "      <td>Thursday</td>\n",
              "      <td>8454</td>\n",
              "    </tr>\n",
              "    <tr>\n",
              "      <th>2</th>\n",
              "      <td>Tuesday</td>\n",
              "      <td>8322</td>\n",
              "    </tr>\n",
              "    <tr>\n",
              "      <th>3</th>\n",
              "      <td>Friday</td>\n",
              "      <td>7958</td>\n",
              "    </tr>\n",
              "    <tr>\n",
              "      <th>4</th>\n",
              "      <td>Monday</td>\n",
              "      <td>7658</td>\n",
              "    </tr>\n",
              "    <tr>\n",
              "      <th>5</th>\n",
              "      <td>Saturday</td>\n",
              "      <td>5589</td>\n",
              "    </tr>\n",
              "    <tr>\n",
              "      <th>6</th>\n",
              "      <td>Sunday</td>\n",
              "      <td>5252</td>\n",
              "    </tr>\n",
              "  </tbody>\n",
              "</table>\n",
              "</div>\n",
              "      <button class=\"colab-df-convert\" onclick=\"convertToInteractive('df-4c8b39ff-a8da-42c8-90a4-6b804ad5bd8e')\"\n",
              "              title=\"Convert this dataframe to an interactive table.\"\n",
              "              style=\"display:none;\">\n",
              "        \n",
              "  <svg xmlns=\"http://www.w3.org/2000/svg\" height=\"24px\"viewBox=\"0 0 24 24\"\n",
              "       width=\"24px\">\n",
              "    <path d=\"M0 0h24v24H0V0z\" fill=\"none\"/>\n",
              "    <path d=\"M18.56 5.44l.94 2.06.94-2.06 2.06-.94-2.06-.94-.94-2.06-.94 2.06-2.06.94zm-11 1L8.5 8.5l.94-2.06 2.06-.94-2.06-.94L8.5 2.5l-.94 2.06-2.06.94zm10 10l.94 2.06.94-2.06 2.06-.94-2.06-.94-.94-2.06-.94 2.06-2.06.94z\"/><path d=\"M17.41 7.96l-1.37-1.37c-.4-.4-.92-.59-1.43-.59-.52 0-1.04.2-1.43.59L10.3 9.45l-7.72 7.72c-.78.78-.78 2.05 0 2.83L4 21.41c.39.39.9.59 1.41.59.51 0 1.02-.2 1.41-.59l7.78-7.78 2.81-2.81c.8-.78.8-2.07 0-2.86zM5.41 20L4 18.59l7.72-7.72 1.47 1.35L5.41 20z\"/>\n",
              "  </svg>\n",
              "      </button>\n",
              "      \n",
              "  <style>\n",
              "    .colab-df-container {\n",
              "      display:flex;\n",
              "      flex-wrap:wrap;\n",
              "      gap: 12px;\n",
              "    }\n",
              "\n",
              "    .colab-df-convert {\n",
              "      background-color: #E8F0FE;\n",
              "      border: none;\n",
              "      border-radius: 50%;\n",
              "      cursor: pointer;\n",
              "      display: none;\n",
              "      fill: #1967D2;\n",
              "      height: 32px;\n",
              "      padding: 0 0 0 0;\n",
              "      width: 32px;\n",
              "    }\n",
              "\n",
              "    .colab-df-convert:hover {\n",
              "      background-color: #E2EBFA;\n",
              "      box-shadow: 0px 1px 2px rgba(60, 64, 67, 0.3), 0px 1px 3px 1px rgba(60, 64, 67, 0.15);\n",
              "      fill: #174EA6;\n",
              "    }\n",
              "\n",
              "    [theme=dark] .colab-df-convert {\n",
              "      background-color: #3B4455;\n",
              "      fill: #D2E3FC;\n",
              "    }\n",
              "\n",
              "    [theme=dark] .colab-df-convert:hover {\n",
              "      background-color: #434B5C;\n",
              "      box-shadow: 0px 1px 3px 1px rgba(0, 0, 0, 0.15);\n",
              "      filter: drop-shadow(0px 1px 2px rgba(0, 0, 0, 0.3));\n",
              "      fill: #FFFFFF;\n",
              "    }\n",
              "  </style>\n",
              "\n",
              "      <script>\n",
              "        const buttonEl =\n",
              "          document.querySelector('#df-4c8b39ff-a8da-42c8-90a4-6b804ad5bd8e button.colab-df-convert');\n",
              "        buttonEl.style.display =\n",
              "          google.colab.kernel.accessAllowed ? 'block' : 'none';\n",
              "\n",
              "        async function convertToInteractive(key) {\n",
              "          const element = document.querySelector('#df-4c8b39ff-a8da-42c8-90a4-6b804ad5bd8e');\n",
              "          const dataTable =\n",
              "            await google.colab.kernel.invokeFunction('convertToInteractive',\n",
              "                                                     [key], {});\n",
              "          if (!dataTable) return;\n",
              "\n",
              "          const docLinkHtml = 'Like what you see? Visit the ' +\n",
              "            '<a target=\"_blank\" href=https://colab.research.google.com/notebooks/data_table.ipynb>data table notebook</a>'\n",
              "            + ' to learn more about interactive tables.';\n",
              "          element.innerHTML = '';\n",
              "          dataTable['output_type'] = 'display_data';\n",
              "          await google.colab.output.renderOutput(dataTable, element);\n",
              "          const docLink = document.createElement('div');\n",
              "          docLink.innerHTML = docLinkHtml;\n",
              "          element.appendChild(docLink);\n",
              "        }\n",
              "      </script>\n",
              "    </div>\n",
              "  </div>\n",
              "  "
            ]
          },
          "metadata": {},
          "execution_count": 99
        }
      ]
    },
    {
      "cell_type": "markdown",
      "source": [
        "**Frequencia de usuários (Subscriber) por dia da semana no ano**"
      ],
      "metadata": {
        "id": "yy78qFCP6hGo"
      }
    },
    {
      "cell_type": "code",
      "source": [
        "plt.figure(figsize=(12,8))\n",
        "sns.barplot(x=\"dia\", y=\"total\", data = freq_sub_dia_was)"
      ],
      "metadata": {
        "colab": {
          "base_uri": "https://localhost:8080/",
          "height": 514
        },
        "id": "6vMDBM7W6cGJ",
        "outputId": "86f64be3-2f31-4238-ad9c-9b8e8d78e1f4"
      },
      "execution_count": 100,
      "outputs": [
        {
          "output_type": "execute_result",
          "data": {
            "text/plain": [
              "<matplotlib.axes._subplots.AxesSubplot at 0x7fde15daf290>"
            ]
          },
          "metadata": {},
          "execution_count": 100
        },
        {
          "output_type": "display_data",
          "data": {
            "text/plain": [
              "<Figure size 864x576 with 1 Axes>"
            ],
            "image/png": "[encoded data removed]"
          },
          "metadata": {
            "needs_background": "light"
          }
        }
      ]
    },
    {
      "cell_type": "markdown",
      "source": [
        "**Explorando usuários (Customer) por dia da semana**"
      ],
      "metadata": {
        "id": "LTnXIsrZ6vk_"
      }
    },
    {
      "cell_type": "code",
      "source": [
        "customer_was['dia_semana'].value_counts() #Utilizando o df customer_chicago que foi criado anteriormente"
      ],
      "metadata": {
        "colab": {
          "base_uri": "https://localhost:8080/"
        },
        "id": "KuRY8a7n6loZ",
        "outputId": "4ddbce39-3649-4c2d-e6f8-16f18c1be6d8"
      },
      "execution_count": 101,
      "outputs": [
        {
          "output_type": "execute_result",
          "data": {
            "text/plain": [
              "Saturday     3311\n",
              "Sunday       2975\n",
              "Friday       2012\n",
              "Monday       1736\n",
              "Wednesday    1583\n",
              "Thursday     1530\n",
              "Tuesday      1426\n",
              "Name: dia_semana, dtype: int64"
            ]
          },
          "metadata": {},
          "execution_count": 101
        }
      ]
    },
    {
      "cell_type": "code",
      "source": [
        "freq_cust_dia_was = customer_was['dia_semana'].value_counts()"
      ],
      "metadata": {
        "id": "x137xkxs64o2"
      },
      "execution_count": 102,
      "outputs": []
    },
    {
      "cell_type": "code",
      "source": [
        "freq_cust_dia_was"
      ],
      "metadata": {
        "colab": {
          "base_uri": "https://localhost:8080/"
        },
        "id": "sg-VRWWD7BGU",
        "outputId": "8be9c3ae-869c-4bb1-a62a-6637a2b559e2"
      },
      "execution_count": 103,
      "outputs": [
        {
          "output_type": "execute_result",
          "data": {
            "text/plain": [
              "Saturday     3311\n",
              "Sunday       2975\n",
              "Friday       2012\n",
              "Monday       1736\n",
              "Wednesday    1583\n",
              "Thursday     1530\n",
              "Tuesday      1426\n",
              "Name: dia_semana, dtype: int64"
            ]
          },
          "metadata": {},
          "execution_count": 103
        }
      ]
    },
    {
      "cell_type": "code",
      "source": [
        "freq_cust_dia_was.to_frame().reset_index()"
      ],
      "metadata": {
        "colab": {
          "base_uri": "https://localhost:8080/",
          "height": 269
        },
        "id": "Md7aj6yT7Drg",
        "outputId": "b727b587-808e-472b-a8db-3c157dcb4a8e"
      },
      "execution_count": 104,
      "outputs": [
        {
          "output_type": "execute_result",
          "data": {
            "text/plain": [
              "       index  dia_semana\n",
              "0   Saturday        3311\n",
              "1     Sunday        2975\n",
              "2     Friday        2012\n",
              "3     Monday        1736\n",
              "4  Wednesday        1583\n",
              "5   Thursday        1530\n",
              "6    Tuesday        1426"
            ],
            "text/html": [
              "\n",
              "  <div id=\"df-88056c66-cceb-4267-8187-c82013cb41bf\">\n",
              "    <div class=\"colab-df-container\">\n",
              "      <div>\n",
              "<style scoped>\n",
              "    .dataframe tbody tr th:only-of-type {\n",
              "        vertical-align: middle;\n",
              "    }\n",
              "\n",
              "    .dataframe tbody tr th {\n",
              "        vertical-align: top;\n",
              "    }\n",
              "\n",
              "    .dataframe thead th {\n",
              "        text-align: right;\n",
              "    }\n",
              "</style>\n",
              "<table border=\"1\" class=\"dataframe\">\n",
              "  <thead>\n",
              "    <tr style=\"text-align: right;\">\n",
              "      <th></th>\n",
              "      <th>index</th>\n",
              "      <th>dia_semana</th>\n",
              "    </tr>\n",
              "  </thead>\n",
              "  <tbody>\n",
              "    <tr>\n",
              "      <th>0</th>\n",
              "      <td>Saturday</td>\n",
              "      <td>3311</td>\n",
              "    </tr>\n",
              "    <tr>\n",
              "      <th>1</th>\n",
              "      <td>Sunday</td>\n",
              "      <td>2975</td>\n",
              "    </tr>\n",
              "    <tr>\n",
              "      <th>2</th>\n",
              "      <td>Friday</td>\n",
              "      <td>2012</td>\n",
              "    </tr>\n",
              "    <tr>\n",
              "      <th>3</th>\n",
              "      <td>Monday</td>\n",
              "      <td>1736</td>\n",
              "    </tr>\n",
              "    <tr>\n",
              "      <th>4</th>\n",
              "      <td>Wednesday</td>\n",
              "      <td>1583</td>\n",
              "    </tr>\n",
              "    <tr>\n",
              "      <th>5</th>\n",
              "      <td>Thursday</td>\n",
              "      <td>1530</td>\n",
              "    </tr>\n",
              "    <tr>\n",
              "      <th>6</th>\n",
              "      <td>Tuesday</td>\n",
              "      <td>1426</td>\n",
              "    </tr>\n",
              "  </tbody>\n",
              "</table>\n",
              "</div>\n",
              "      <button class=\"colab-df-convert\" onclick=\"convertToInteractive('df-88056c66-cceb-4267-8187-c82013cb41bf')\"\n",
              "              title=\"Convert this dataframe to an interactive table.\"\n",
              "              style=\"display:none;\">\n",
              "        \n",
              "  <svg xmlns=\"http://www.w3.org/2000/svg\" height=\"24px\"viewBox=\"0 0 24 24\"\n",
              "       width=\"24px\">\n",
              "    <path d=\"M0 0h24v24H0V0z\" fill=\"none\"/>\n",
              "    <path d=\"M18.56 5.44l.94 2.06.94-2.06 2.06-.94-2.06-.94-.94-2.06-.94 2.06-2.06.94zm-11 1L8.5 8.5l.94-2.06 2.06-.94-2.06-.94L8.5 2.5l-.94 2.06-2.06.94zm10 10l.94 2.06.94-2.06 2.06-.94-2.06-.94-.94-2.06-.94 2.06-2.06.94z\"/><path d=\"M17.41 7.96l-1.37-1.37c-.4-.4-.92-.59-1.43-.59-.52 0-1.04.2-1.43.59L10.3 9.45l-7.72 7.72c-.78.78-.78 2.05 0 2.83L4 21.41c.39.39.9.59 1.41.59.51 0 1.02-.2 1.41-.59l7.78-7.78 2.81-2.81c.8-.78.8-2.07 0-2.86zM5.41 20L4 18.59l7.72-7.72 1.47 1.35L5.41 20z\"/>\n",
              "  </svg>\n",
              "      </button>\n",
              "      \n",
              "  <style>\n",
              "    .colab-df-container {\n",
              "      display:flex;\n",
              "      flex-wrap:wrap;\n",
              "      gap: 12px;\n",
              "    }\n",
              "\n",
              "    .colab-df-convert {\n",
              "      background-color: #E8F0FE;\n",
              "      border: none;\n",
              "      border-radius: 50%;\n",
              "      cursor: pointer;\n",
              "      display: none;\n",
              "      fill: #1967D2;\n",
              "      height: 32px;\n",
              "      padding: 0 0 0 0;\n",
              "      width: 32px;\n",
              "    }\n",
              "\n",
              "    .colab-df-convert:hover {\n",
              "      background-color: #E2EBFA;\n",
              "      box-shadow: 0px 1px 2px rgba(60, 64, 67, 0.3), 0px 1px 3px 1px rgba(60, 64, 67, 0.15);\n",
              "      fill: #174EA6;\n",
              "    }\n",
              "\n",
              "    [theme=dark] .colab-df-convert {\n",
              "      background-color: #3B4455;\n",
              "      fill: #D2E3FC;\n",
              "    }\n",
              "\n",
              "    [theme=dark] .colab-df-convert:hover {\n",
              "      background-color: #434B5C;\n",
              "      box-shadow: 0px 1px 3px 1px rgba(0, 0, 0, 0.15);\n",
              "      filter: drop-shadow(0px 1px 2px rgba(0, 0, 0, 0.3));\n",
              "      fill: #FFFFFF;\n",
              "    }\n",
              "  </style>\n",
              "\n",
              "      <script>\n",
              "        const buttonEl =\n",
              "          document.querySelector('#df-88056c66-cceb-4267-8187-c82013cb41bf button.colab-df-convert');\n",
              "        buttonEl.style.display =\n",
              "          google.colab.kernel.accessAllowed ? 'block' : 'none';\n",
              "\n",
              "        async function convertToInteractive(key) {\n",
              "          const element = document.querySelector('#df-88056c66-cceb-4267-8187-c82013cb41bf');\n",
              "          const dataTable =\n",
              "            await google.colab.kernel.invokeFunction('convertToInteractive',\n",
              "                                                     [key], {});\n",
              "          if (!dataTable) return;\n",
              "\n",
              "          const docLinkHtml = 'Like what you see? Visit the ' +\n",
              "            '<a target=\"_blank\" href=https://colab.research.google.com/notebooks/data_table.ipynb>data table notebook</a>'\n",
              "            + ' to learn more about interactive tables.';\n",
              "          element.innerHTML = '';\n",
              "          dataTable['output_type'] = 'display_data';\n",
              "          await google.colab.output.renderOutput(dataTable, element);\n",
              "          const docLink = document.createElement('div');\n",
              "          docLink.innerHTML = docLinkHtml;\n",
              "          element.appendChild(docLink);\n",
              "        }\n",
              "      </script>\n",
              "    </div>\n",
              "  </div>\n",
              "  "
            ]
          },
          "metadata": {},
          "execution_count": 104
        }
      ]
    },
    {
      "cell_type": "code",
      "source": [
        "freq_cust_dia_was = freq_cust_dia_was.to_frame().reset_index()"
      ],
      "metadata": {
        "id": "T9-efpBX7QmZ"
      },
      "execution_count": 105,
      "outputs": []
    },
    {
      "cell_type": "code",
      "source": [
        "freq_cust_dia_was"
      ],
      "metadata": {
        "colab": {
          "base_uri": "https://localhost:8080/",
          "height": 269
        },
        "id": "BPIEFwFJ7UkA",
        "outputId": "f995b71f-23ea-4e11-dc04-a76136a563dc"
      },
      "execution_count": 106,
      "outputs": [
        {
          "output_type": "execute_result",
          "data": {
            "text/plain": [
              "       index  dia_semana\n",
              "0   Saturday        3311\n",
              "1     Sunday        2975\n",
              "2     Friday        2012\n",
              "3     Monday        1736\n",
              "4  Wednesday        1583\n",
              "5   Thursday        1530\n",
              "6    Tuesday        1426"
            ],
            "text/html": [
              "\n",
              "  <div id=\"df-4c326b76-5643-4bb8-b02c-344e935fd561\">\n",
              "    <div class=\"colab-df-container\">\n",
              "      <div>\n",
              "<style scoped>\n",
              "    .dataframe tbody tr th:only-of-type {\n",
              "        vertical-align: middle;\n",
              "    }\n",
              "\n",
              "    .dataframe tbody tr th {\n",
              "        vertical-align: top;\n",
              "    }\n",
              "\n",
              "    .dataframe thead th {\n",
              "        text-align: right;\n",
              "    }\n",
              "</style>\n",
              "<table border=\"1\" class=\"dataframe\">\n",
              "  <thead>\n",
              "    <tr style=\"text-align: right;\">\n",
              "      <th></th>\n",
              "      <th>index</th>\n",
              "      <th>dia_semana</th>\n",
              "    </tr>\n",
              "  </thead>\n",
              "  <tbody>\n",
              "    <tr>\n",
              "      <th>0</th>\n",
              "      <td>Saturday</td>\n",
              "      <td>3311</td>\n",
              "    </tr>\n",
              "    <tr>\n",
              "      <th>1</th>\n",
              "      <td>Sunday</td>\n",
              "      <td>2975</td>\n",
              "    </tr>\n",
              "    <tr>\n",
              "      <th>2</th>\n",
              "      <td>Friday</td>\n",
              "      <td>2012</td>\n",
              "    </tr>\n",
              "    <tr>\n",
              "      <th>3</th>\n",
              "      <td>Monday</td>\n",
              "      <td>1736</td>\n",
              "    </tr>\n",
              "    <tr>\n",
              "      <th>4</th>\n",
              "      <td>Wednesday</td>\n",
              "      <td>1583</td>\n",
              "    </tr>\n",
              "    <tr>\n",
              "      <th>5</th>\n",
              "      <td>Thursday</td>\n",
              "      <td>1530</td>\n",
              "    </tr>\n",
              "    <tr>\n",
              "      <th>6</th>\n",
              "      <td>Tuesday</td>\n",
              "      <td>1426</td>\n",
              "    </tr>\n",
              "  </tbody>\n",
              "</table>\n",
              "</div>\n",
              "      <button class=\"colab-df-convert\" onclick=\"convertToInteractive('df-4c326b76-5643-4bb8-b02c-344e935fd561')\"\n",
              "              title=\"Convert this dataframe to an interactive table.\"\n",
              "              style=\"display:none;\">\n",
              "        \n",
              "  <svg xmlns=\"http://www.w3.org/2000/svg\" height=\"24px\"viewBox=\"0 0 24 24\"\n",
              "       width=\"24px\">\n",
              "    <path d=\"M0 0h24v24H0V0z\" fill=\"none\"/>\n",
              "    <path d=\"M18.56 5.44l.94 2.06.94-2.06 2.06-.94-2.06-.94-.94-2.06-.94 2.06-2.06.94zm-11 1L8.5 8.5l.94-2.06 2.06-.94-2.06-.94L8.5 2.5l-.94 2.06-2.06.94zm10 10l.94 2.06.94-2.06 2.06-.94-2.06-.94-.94-2.06-.94 2.06-2.06.94z\"/><path d=\"M17.41 7.96l-1.37-1.37c-.4-.4-.92-.59-1.43-.59-.52 0-1.04.2-1.43.59L10.3 9.45l-7.72 7.72c-.78.78-.78 2.05 0 2.83L4 21.41c.39.39.9.59 1.41.59.51 0 1.02-.2 1.41-.59l7.78-7.78 2.81-2.81c.8-.78.8-2.07 0-2.86zM5.41 20L4 18.59l7.72-7.72 1.47 1.35L5.41 20z\"/>\n",
              "  </svg>\n",
              "      </button>\n",
              "      \n",
              "  <style>\n",
              "    .colab-df-container {\n",
              "      display:flex;\n",
              "      flex-wrap:wrap;\n",
              "      gap: 12px;\n",
              "    }\n",
              "\n",
              "    .colab-df-convert {\n",
              "      background-color: #E8F0FE;\n",
              "      border: none;\n",
              "      border-radius: 50%;\n",
              "      cursor: pointer;\n",
              "      display: none;\n",
              "      fill: #1967D2;\n",
              "      height: 32px;\n",
              "      padding: 0 0 0 0;\n",
              "      width: 32px;\n",
              "    }\n",
              "\n",
              "    .colab-df-convert:hover {\n",
              "      background-color: #E2EBFA;\n",
              "      box-shadow: 0px 1px 2px rgba(60, 64, 67, 0.3), 0px 1px 3px 1px rgba(60, 64, 67, 0.15);\n",
              "      fill: #174EA6;\n",
              "    }\n",
              "\n",
              "    [theme=dark] .colab-df-convert {\n",
              "      background-color: #3B4455;\n",
              "      fill: #D2E3FC;\n",
              "    }\n",
              "\n",
              "    [theme=dark] .colab-df-convert:hover {\n",
              "      background-color: #434B5C;\n",
              "      box-shadow: 0px 1px 3px 1px rgba(0, 0, 0, 0.15);\n",
              "      filter: drop-shadow(0px 1px 2px rgba(0, 0, 0, 0.3));\n",
              "      fill: #FFFFFF;\n",
              "    }\n",
              "  </style>\n",
              "\n",
              "      <script>\n",
              "        const buttonEl =\n",
              "          document.querySelector('#df-4c326b76-5643-4bb8-b02c-344e935fd561 button.colab-df-convert');\n",
              "        buttonEl.style.display =\n",
              "          google.colab.kernel.accessAllowed ? 'block' : 'none';\n",
              "\n",
              "        async function convertToInteractive(key) {\n",
              "          const element = document.querySelector('#df-4c326b76-5643-4bb8-b02c-344e935fd561');\n",
              "          const dataTable =\n",
              "            await google.colab.kernel.invokeFunction('convertToInteractive',\n",
              "                                                     [key], {});\n",
              "          if (!dataTable) return;\n",
              "\n",
              "          const docLinkHtml = 'Like what you see? Visit the ' +\n",
              "            '<a target=\"_blank\" href=https://colab.research.google.com/notebooks/data_table.ipynb>data table notebook</a>'\n",
              "            + ' to learn more about interactive tables.';\n",
              "          element.innerHTML = '';\n",
              "          dataTable['output_type'] = 'display_data';\n",
              "          await google.colab.output.renderOutput(dataTable, element);\n",
              "          const docLink = document.createElement('div');\n",
              "          docLink.innerHTML = docLinkHtml;\n",
              "          element.appendChild(docLink);\n",
              "        }\n",
              "      </script>\n",
              "    </div>\n",
              "  </div>\n",
              "  "
            ]
          },
          "metadata": {},
          "execution_count": 106
        }
      ]
    },
    {
      "cell_type": "code",
      "source": [
        "freq_cust_dia_was.columns = ['dia', 'total']"
      ],
      "metadata": {
        "id": "YnHa6oyq7aHO"
      },
      "execution_count": 107,
      "outputs": []
    },
    {
      "cell_type": "code",
      "source": [
        "freq_cust_dia_was"
      ],
      "metadata": {
        "colab": {
          "base_uri": "https://localhost:8080/",
          "height": 269
        },
        "id": "m4wX0jGV7iUJ",
        "outputId": "03bdbaee-1e9a-49b2-ad32-fa2912cbeb63"
      },
      "execution_count": 108,
      "outputs": [
        {
          "output_type": "execute_result",
          "data": {
            "text/plain": [
              "         dia  total\n",
              "0   Saturday   3311\n",
              "1     Sunday   2975\n",
              "2     Friday   2012\n",
              "3     Monday   1736\n",
              "4  Wednesday   1583\n",
              "5   Thursday   1530\n",
              "6    Tuesday   1426"
            ],
            "text/html": [
              "\n",
              "  <div id=\"df-b29fd13b-30e1-4f11-a29c-d06919403b5c\">\n",
              "    <div class=\"colab-df-container\">\n",
              "      <div>\n",
              "<style scoped>\n",
              "    .dataframe tbody tr th:only-of-type {\n",
              "        vertical-align: middle;\n",
              "    }\n",
              "\n",
              "    .dataframe tbody tr th {\n",
              "        vertical-align: top;\n",
              "    }\n",
              "\n",
              "    .dataframe thead th {\n",
              "        text-align: right;\n",
              "    }\n",
              "</style>\n",
              "<table border=\"1\" class=\"dataframe\">\n",
              "  <thead>\n",
              "    <tr style=\"text-align: right;\">\n",
              "      <th></th>\n",
              "      <th>dia</th>\n",
              "      <th>total</th>\n",
              "    </tr>\n",
              "  </thead>\n",
              "  <tbody>\n",
              "    <tr>\n",
              "      <th>0</th>\n",
              "      <td>Saturday</td>\n",
              "      <td>3311</td>\n",
              "    </tr>\n",
              "    <tr>\n",
              "      <th>1</th>\n",
              "      <td>Sunday</td>\n",
              "      <td>2975</td>\n",
              "    </tr>\n",
              "    <tr>\n",
              "      <th>2</th>\n",
              "      <td>Friday</td>\n",
              "      <td>2012</td>\n",
              "    </tr>\n",
              "    <tr>\n",
              "      <th>3</th>\n",
              "      <td>Monday</td>\n",
              "      <td>1736</td>\n",
              "    </tr>\n",
              "    <tr>\n",
              "      <th>4</th>\n",
              "      <td>Wednesday</td>\n",
              "      <td>1583</td>\n",
              "    </tr>\n",
              "    <tr>\n",
              "      <th>5</th>\n",
              "      <td>Thursday</td>\n",
              "      <td>1530</td>\n",
              "    </tr>\n",
              "    <tr>\n",
              "      <th>6</th>\n",
              "      <td>Tuesday</td>\n",
              "      <td>1426</td>\n",
              "    </tr>\n",
              "  </tbody>\n",
              "</table>\n",
              "</div>\n",
              "      <button class=\"colab-df-convert\" onclick=\"convertToInteractive('df-b29fd13b-30e1-4f11-a29c-d06919403b5c')\"\n",
              "              title=\"Convert this dataframe to an interactive table.\"\n",
              "              style=\"display:none;\">\n",
              "        \n",
              "  <svg xmlns=\"http://www.w3.org/2000/svg\" height=\"24px\"viewBox=\"0 0 24 24\"\n",
              "       width=\"24px\">\n",
              "    <path d=\"M0 0h24v24H0V0z\" fill=\"none\"/>\n",
              "    <path d=\"M18.56 5.44l.94 2.06.94-2.06 2.06-.94-2.06-.94-.94-2.06-.94 2.06-2.06.94zm-11 1L8.5 8.5l.94-2.06 2.06-.94-2.06-.94L8.5 2.5l-.94 2.06-2.06.94zm10 10l.94 2.06.94-2.06 2.06-.94-2.06-.94-.94-2.06-.94 2.06-2.06.94z\"/><path d=\"M17.41 7.96l-1.37-1.37c-.4-.4-.92-.59-1.43-.59-.52 0-1.04.2-1.43.59L10.3 9.45l-7.72 7.72c-.78.78-.78 2.05 0 2.83L4 21.41c.39.39.9.59 1.41.59.51 0 1.02-.2 1.41-.59l7.78-7.78 2.81-2.81c.8-.78.8-2.07 0-2.86zM5.41 20L4 18.59l7.72-7.72 1.47 1.35L5.41 20z\"/>\n",
              "  </svg>\n",
              "      </button>\n",
              "      \n",
              "  <style>\n",
              "    .colab-df-container {\n",
              "      display:flex;\n",
              "      flex-wrap:wrap;\n",
              "      gap: 12px;\n",
              "    }\n",
              "\n",
              "    .colab-df-convert {\n",
              "      background-color: #E8F0FE;\n",
              "      border: none;\n",
              "      border-radius: 50%;\n",
              "      cursor: pointer;\n",
              "      display: none;\n",
              "      fill: #1967D2;\n",
              "      height: 32px;\n",
              "      padding: 0 0 0 0;\n",
              "      width: 32px;\n",
              "    }\n",
              "\n",
              "    .colab-df-convert:hover {\n",
              "      background-color: #E2EBFA;\n",
              "      box-shadow: 0px 1px 2px rgba(60, 64, 67, 0.3), 0px 1px 3px 1px rgba(60, 64, 67, 0.15);\n",
              "      fill: #174EA6;\n",
              "    }\n",
              "\n",
              "    [theme=dark] .colab-df-convert {\n",
              "      background-color: #3B4455;\n",
              "      fill: #D2E3FC;\n",
              "    }\n",
              "\n",
              "    [theme=dark] .colab-df-convert:hover {\n",
              "      background-color: #434B5C;\n",
              "      box-shadow: 0px 1px 3px 1px rgba(0, 0, 0, 0.15);\n",
              "      filter: drop-shadow(0px 1px 2px rgba(0, 0, 0, 0.3));\n",
              "      fill: #FFFFFF;\n",
              "    }\n",
              "  </style>\n",
              "\n",
              "      <script>\n",
              "        const buttonEl =\n",
              "          document.querySelector('#df-b29fd13b-30e1-4f11-a29c-d06919403b5c button.colab-df-convert');\n",
              "        buttonEl.style.display =\n",
              "          google.colab.kernel.accessAllowed ? 'block' : 'none';\n",
              "\n",
              "        async function convertToInteractive(key) {\n",
              "          const element = document.querySelector('#df-b29fd13b-30e1-4f11-a29c-d06919403b5c');\n",
              "          const dataTable =\n",
              "            await google.colab.kernel.invokeFunction('convertToInteractive',\n",
              "                                                     [key], {});\n",
              "          if (!dataTable) return;\n",
              "\n",
              "          const docLinkHtml = 'Like what you see? Visit the ' +\n",
              "            '<a target=\"_blank\" href=https://colab.research.google.com/notebooks/data_table.ipynb>data table notebook</a>'\n",
              "            + ' to learn more about interactive tables.';\n",
              "          element.innerHTML = '';\n",
              "          dataTable['output_type'] = 'display_data';\n",
              "          await google.colab.output.renderOutput(dataTable, element);\n",
              "          const docLink = document.createElement('div');\n",
              "          docLink.innerHTML = docLinkHtml;\n",
              "          element.appendChild(docLink);\n",
              "        }\n",
              "      </script>\n",
              "    </div>\n",
              "  </div>\n",
              "  "
            ]
          },
          "metadata": {},
          "execution_count": 108
        }
      ]
    },
    {
      "cell_type": "markdown",
      "source": [
        "**Frequencia de usuários (Customer) por dia da semana no ano**"
      ],
      "metadata": {
        "id": "W0D-SIvt7p78"
      }
    },
    {
      "cell_type": "code",
      "source": [
        "plt.figure(figsize=(12,8))\n",
        "sns.barplot(x=\"dia\", y=\"total\", data = freq_cust_dia_was)"
      ],
      "metadata": {
        "colab": {
          "base_uri": "https://localhost:8080/",
          "height": 514
        },
        "id": "P1rlgC3z7kGO",
        "outputId": "d685d822-d924-4d91-c36e-0e823e6b22b3"
      },
      "execution_count": 109,
      "outputs": [
        {
          "output_type": "execute_result",
          "data": {
            "text/plain": [
              "<matplotlib.axes._subplots.AxesSubplot at 0x7fde155753d0>"
            ]
          },
          "metadata": {},
          "execution_count": 109
        },
        {
          "output_type": "display_data",
          "data": {
            "text/plain": [
              "<Figure size 864x576 with 1 Axes>"
            ],
            "image/png": "[encoded data removed]"
          },
          "metadata": {
            "needs_background": "light"
          }
        }
      ]
    },
    {
      "cell_type": "markdown",
      "source": [
        "**Explorando os dias das semanas do primeiro trimestre (meses) de usuários Subscriber**"
      ],
      "metadata": {
        "id": "Imr-SKJU7_X_"
      }
    },
    {
      "cell_type": "code",
      "source": [
        "filtro_sub_jan_was = subscriber_was['mes'] == \"jan\""
      ],
      "metadata": {
        "id": "NljBScrs7-4a"
      },
      "execution_count": 110,
      "outputs": []
    },
    {
      "cell_type": "code",
      "source": [
        "filtro_sub_jan_was = subscriber_was[filtro_sub_jan_was]"
      ],
      "metadata": {
        "id": "pvRv6Ynb7zIj"
      },
      "execution_count": 111,
      "outputs": []
    },
    {
      "cell_type": "code",
      "source": [
        "filtro_sub_jan_was"
      ],
      "metadata": {
        "colab": {
          "base_uri": "https://localhost:8080/",
          "height": 424
        },
        "id": "y3_SnFQg-uZs",
        "outputId": "21263a16-7e34-4f4e-b080-62ca4e8a3e0f"
      },
      "execution_count": 112,
      "outputs": [
        {
          "output_type": "execute_result",
          "data": {
            "text/plain": [
              "         duracao  mes  hora dia_semana tipo_usuario\n",
              "8425    5.674333  jan    23     Sunday   Subscriber\n",
              "8426   15.558917  jan    23     Sunday   Subscriber\n",
              "8427    8.356967  jan    20     Sunday   Subscriber\n",
              "8428   11.574267  jan    20     Sunday   Subscriber\n",
              "8429    7.082417  jan    20     Sunday   Subscriber\n",
              "...          ...  ...   ...        ...          ...\n",
              "10854   7.493617  jan     1     Friday   Subscriber\n",
              "10855   6.542750  jan     1     Friday   Subscriber\n",
              "10856   4.563583  jan     1     Friday   Subscriber\n",
              "10857  11.080450  jan     0     Friday   Subscriber\n",
              "10858   7.564250  jan     0     Friday   Subscriber\n",
              "\n",
              "[2212 rows x 5 columns]"
            ],
            "text/html": [
              "\n",
              "  <div id=\"df-981a87f5-3294-4f89-a274-2690d6736a2f\">\n",
              "    <div class=\"colab-df-container\">\n",
              "      <div>\n",
              "<style scoped>\n",
              "    .dataframe tbody tr th:only-of-type {\n",
              "        vertical-align: middle;\n",
              "    }\n",
              "\n",
              "    .dataframe tbody tr th {\n",
              "        vertical-align: top;\n",
              "    }\n",
              "\n",
              "    .dataframe thead th {\n",
              "        text-align: right;\n",
              "    }\n",
              "</style>\n",
              "<table border=\"1\" class=\"dataframe\">\n",
              "  <thead>\n",
              "    <tr style=\"text-align: right;\">\n",
              "      <th></th>\n",
              "      <th>duracao</th>\n",
              "      <th>mes</th>\n",
              "      <th>hora</th>\n",
              "      <th>dia_semana</th>\n",
              "      <th>tipo_usuario</th>\n",
              "    </tr>\n",
              "  </thead>\n",
              "  <tbody>\n",
              "    <tr>\n",
              "      <th>8425</th>\n",
              "      <td>5.674333</td>\n",
              "      <td>jan</td>\n",
              "      <td>23</td>\n",
              "      <td>Sunday</td>\n",
              "      <td>Subscriber</td>\n",
              "    </tr>\n",
              "    <tr>\n",
              "      <th>8426</th>\n",
              "      <td>15.558917</td>\n",
              "      <td>jan</td>\n",
              "      <td>23</td>\n",
              "      <td>Sunday</td>\n",
              "      <td>Subscriber</td>\n",
              "    </tr>\n",
              "    <tr>\n",
              "      <th>8427</th>\n",
              "      <td>8.356967</td>\n",
              "      <td>jan</td>\n",
              "      <td>20</td>\n",
              "      <td>Sunday</td>\n",
              "      <td>Subscriber</td>\n",
              "    </tr>\n",
              "    <tr>\n",
              "      <th>8428</th>\n",
              "      <td>11.574267</td>\n",
              "      <td>jan</td>\n",
              "      <td>20</td>\n",
              "      <td>Sunday</td>\n",
              "      <td>Subscriber</td>\n",
              "    </tr>\n",
              "    <tr>\n",
              "      <th>8429</th>\n",
              "      <td>7.082417</td>\n",
              "      <td>jan</td>\n",
              "      <td>20</td>\n",
              "      <td>Sunday</td>\n",
              "      <td>Subscriber</td>\n",
              "    </tr>\n",
              "    <tr>\n",
              "      <th>...</th>\n",
              "      <td>...</td>\n",
              "      <td>...</td>\n",
              "      <td>...</td>\n",
              "      <td>...</td>\n",
              "      <td>...</td>\n",
              "    </tr>\n",
              "    <tr>\n",
              "      <th>10854</th>\n",
              "      <td>7.493617</td>\n",
              "      <td>jan</td>\n",
              "      <td>1</td>\n",
              "      <td>Friday</td>\n",
              "      <td>Subscriber</td>\n",
              "    </tr>\n",
              "    <tr>\n",
              "      <th>10855</th>\n",
              "      <td>6.542750</td>\n",
              "      <td>jan</td>\n",
              "      <td>1</td>\n",
              "      <td>Friday</td>\n",
              "      <td>Subscriber</td>\n",
              "    </tr>\n",
              "    <tr>\n",
              "      <th>10856</th>\n",
              "      <td>4.563583</td>\n",
              "      <td>jan</td>\n",
              "      <td>1</td>\n",
              "      <td>Friday</td>\n",
              "      <td>Subscriber</td>\n",
              "    </tr>\n",
              "    <tr>\n",
              "      <th>10857</th>\n",
              "      <td>11.080450</td>\n",
              "      <td>jan</td>\n",
              "      <td>0</td>\n",
              "      <td>Friday</td>\n",
              "      <td>Subscriber</td>\n",
              "    </tr>\n",
              "    <tr>\n",
              "      <th>10858</th>\n",
              "      <td>7.564250</td>\n",
              "      <td>jan</td>\n",
              "      <td>0</td>\n",
              "      <td>Friday</td>\n",
              "      <td>Subscriber</td>\n",
              "    </tr>\n",
              "  </tbody>\n",
              "</table>\n",
              "<p>2212 rows × 5 columns</p>\n",
              "</div>\n",
              "      <button class=\"colab-df-convert\" onclick=\"convertToInteractive('df-981a87f5-3294-4f89-a274-2690d6736a2f')\"\n",
              "              title=\"Convert this dataframe to an interactive table.\"\n",
              "              style=\"display:none;\">\n",
              "        \n",
              "  <svg xmlns=\"http://www.w3.org/2000/svg\" height=\"24px\"viewBox=\"0 0 24 24\"\n",
              "       width=\"24px\">\n",
              "    <path d=\"M0 0h24v24H0V0z\" fill=\"none\"/>\n",
              "    <path d=\"M18.56 5.44l.94 2.06.94-2.06 2.06-.94-2.06-.94-.94-2.06-.94 2.06-2.06.94zm-11 1L8.5 8.5l.94-2.06 2.06-.94-2.06-.94L8.5 2.5l-.94 2.06-2.06.94zm10 10l.94 2.06.94-2.06 2.06-.94-2.06-.94-.94-2.06-.94 2.06-2.06.94z\"/><path d=\"M17.41 7.96l-1.37-1.37c-.4-.4-.92-.59-1.43-.59-.52 0-1.04.2-1.43.59L10.3 9.45l-7.72 7.72c-.78.78-.78 2.05 0 2.83L4 21.41c.39.39.9.59 1.41.59.51 0 1.02-.2 1.41-.59l7.78-7.78 2.81-2.81c.8-.78.8-2.07 0-2.86zM5.41 20L4 18.59l7.72-7.72 1.47 1.35L5.41 20z\"/>\n",
              "  </svg>\n",
              "      </button>\n",
              "      \n",
              "  <style>\n",
              "    .colab-df-container {\n",
              "      display:flex;\n",
              "      flex-wrap:wrap;\n",
              "      gap: 12px;\n",
              "    }\n",
              "\n",
              "    .colab-df-convert {\n",
              "      background-color: #E8F0FE;\n",
              "      border: none;\n",
              "      border-radius: 50%;\n",
              "      cursor: pointer;\n",
              "      display: none;\n",
              "      fill: #1967D2;\n",
              "      height: 32px;\n",
              "      padding: 0 0 0 0;\n",
              "      width: 32px;\n",
              "    }\n",
              "\n",
              "    .colab-df-convert:hover {\n",
              "      background-color: #E2EBFA;\n",
              "      box-shadow: 0px 1px 2px rgba(60, 64, 67, 0.3), 0px 1px 3px 1px rgba(60, 64, 67, 0.15);\n",
              "      fill: #174EA6;\n",
              "    }\n",
              "\n",
              "    [theme=dark] .colab-df-convert {\n",
              "      background-color: #3B4455;\n",
              "      fill: #D2E3FC;\n",
              "    }\n",
              "\n",
              "    [theme=dark] .colab-df-convert:hover {\n",
              "      background-color: #434B5C;\n",
              "      box-shadow: 0px 1px 3px 1px rgba(0, 0, 0, 0.15);\n",
              "      filter: drop-shadow(0px 1px 2px rgba(0, 0, 0, 0.3));\n",
              "      fill: #FFFFFF;\n",
              "    }\n",
              "  </style>\n",
              "\n",
              "      <script>\n",
              "        const buttonEl =\n",
              "          document.querySelector('#df-981a87f5-3294-4f89-a274-2690d6736a2f button.colab-df-convert');\n",
              "        buttonEl.style.display =\n",
              "          google.colab.kernel.accessAllowed ? 'block' : 'none';\n",
              "\n",
              "        async function convertToInteractive(key) {\n",
              "          const element = document.querySelector('#df-981a87f5-3294-4f89-a274-2690d6736a2f');\n",
              "          const dataTable =\n",
              "            await google.colab.kernel.invokeFunction('convertToInteractive',\n",
              "                                                     [key], {});\n",
              "          if (!dataTable) return;\n",
              "\n",
              "          const docLinkHtml = 'Like what you see? Visit the ' +\n",
              "            '<a target=\"_blank\" href=https://colab.research.google.com/notebooks/data_table.ipynb>data table notebook</a>'\n",
              "            + ' to learn more about interactive tables.';\n",
              "          element.innerHTML = '';\n",
              "          dataTable['output_type'] = 'display_data';\n",
              "          await google.colab.output.renderOutput(dataTable, element);\n",
              "          const docLink = document.createElement('div');\n",
              "          docLink.innerHTML = docLinkHtml;\n",
              "          element.appendChild(docLink);\n",
              "        }\n",
              "      </script>\n",
              "    </div>\n",
              "  </div>\n",
              "  "
            ]
          },
          "metadata": {},
          "execution_count": 112
        }
      ]
    },
    {
      "cell_type": "code",
      "source": [
        "filtro_sub_jan_was.dia_semana.value_counts()"
      ],
      "metadata": {
        "colab": {
          "base_uri": "https://localhost:8080/"
        },
        "id": "kBQfYe_n-v2H",
        "outputId": "4f0455f1-0324-48b4-ad63-f9912acc8a47"
      },
      "execution_count": 113,
      "outputs": [
        {
          "output_type": "execute_result",
          "data": {
            "text/plain": [
              "Thursday     408\n",
              "Friday       375\n",
              "Wednesday    312\n",
              "Saturday     307\n",
              "Tuesday      286\n",
              "Sunday       264\n",
              "Monday       260\n",
              "Name: dia_semana, dtype: int64"
            ]
          },
          "metadata": {},
          "execution_count": 113
        }
      ]
    },
    {
      "cell_type": "code",
      "source": [
        "filtro_sub_jan_was = filtro_sub_jan_was.dia_semana.value_counts().to_frame().reset_index()"
      ],
      "metadata": {
        "id": "NruCbPS9-2Sj"
      },
      "execution_count": 114,
      "outputs": []
    },
    {
      "cell_type": "code",
      "source": [
        "filtro_sub_jan_was"
      ],
      "metadata": {
        "colab": {
          "base_uri": "https://localhost:8080/",
          "height": 269
        },
        "id": "QqJL7wFK_CAl",
        "outputId": "db166f7c-9f04-4753-a931-c2240a932126"
      },
      "execution_count": 115,
      "outputs": [
        {
          "output_type": "execute_result",
          "data": {
            "text/plain": [
              "       index  dia_semana\n",
              "0   Thursday         408\n",
              "1     Friday         375\n",
              "2  Wednesday         312\n",
              "3   Saturday         307\n",
              "4    Tuesday         286\n",
              "5     Sunday         264\n",
              "6     Monday         260"
            ],
            "text/html": [
              "\n",
              "  <div id=\"df-0ce37de0-b6a9-4546-b3d8-d02543c22c57\">\n",
              "    <div class=\"colab-df-container\">\n",
              "      <div>\n",
              "<style scoped>\n",
              "    .dataframe tbody tr th:only-of-type {\n",
              "        vertical-align: middle;\n",
              "    }\n",
              "\n",
              "    .dataframe tbody tr th {\n",
              "        vertical-align: top;\n",
              "    }\n",
              "\n",
              "    .dataframe thead th {\n",
              "        text-align: right;\n",
              "    }\n",
              "</style>\n",
              "<table border=\"1\" class=\"dataframe\">\n",
              "  <thead>\n",
              "    <tr style=\"text-align: right;\">\n",
              "      <th></th>\n",
              "      <th>index</th>\n",
              "      <th>dia_semana</th>\n",
              "    </tr>\n",
              "  </thead>\n",
              "  <tbody>\n",
              "    <tr>\n",
              "      <th>0</th>\n",
              "      <td>Thursday</td>\n",
              "      <td>408</td>\n",
              "    </tr>\n",
              "    <tr>\n",
              "      <th>1</th>\n",
              "      <td>Friday</td>\n",
              "      <td>375</td>\n",
              "    </tr>\n",
              "    <tr>\n",
              "      <th>2</th>\n",
              "      <td>Wednesday</td>\n",
              "      <td>312</td>\n",
              "    </tr>\n",
              "    <tr>\n",
              "      <th>3</th>\n",
              "      <td>Saturday</td>\n",
              "      <td>307</td>\n",
              "    </tr>\n",
              "    <tr>\n",
              "      <th>4</th>\n",
              "      <td>Tuesday</td>\n",
              "      <td>286</td>\n",
              "    </tr>\n",
              "    <tr>\n",
              "      <th>5</th>\n",
              "      <td>Sunday</td>\n",
              "      <td>264</td>\n",
              "    </tr>\n",
              "    <tr>\n",
              "      <th>6</th>\n",
              "      <td>Monday</td>\n",
              "      <td>260</td>\n",
              "    </tr>\n",
              "  </tbody>\n",
              "</table>\n",
              "</div>\n",
              "      <button class=\"colab-df-convert\" onclick=\"convertToInteractive('df-0ce37de0-b6a9-4546-b3d8-d02543c22c57')\"\n",
              "              title=\"Convert this dataframe to an interactive table.\"\n",
              "              style=\"display:none;\">\n",
              "        \n",
              "  <svg xmlns=\"http://www.w3.org/2000/svg\" height=\"24px\"viewBox=\"0 0 24 24\"\n",
              "       width=\"24px\">\n",
              "    <path d=\"M0 0h24v24H0V0z\" fill=\"none\"/>\n",
              "    <path d=\"M18.56 5.44l.94 2.06.94-2.06 2.06-.94-2.06-.94-.94-2.06-.94 2.06-2.06.94zm-11 1L8.5 8.5l.94-2.06 2.06-.94-2.06-.94L8.5 2.5l-.94 2.06-2.06.94zm10 10l.94 2.06.94-2.06 2.06-.94-2.06-.94-.94-2.06-.94 2.06-2.06.94z\"/><path d=\"M17.41 7.96l-1.37-1.37c-.4-.4-.92-.59-1.43-.59-.52 0-1.04.2-1.43.59L10.3 9.45l-7.72 7.72c-.78.78-.78 2.05 0 2.83L4 21.41c.39.39.9.59 1.41.59.51 0 1.02-.2 1.41-.59l7.78-7.78 2.81-2.81c.8-.78.8-2.07 0-2.86zM5.41 20L4 18.59l7.72-7.72 1.47 1.35L5.41 20z\"/>\n",
              "  </svg>\n",
              "      </button>\n",
              "      \n",
              "  <style>\n",
              "    .colab-df-container {\n",
              "      display:flex;\n",
              "      flex-wrap:wrap;\n",
              "      gap: 12px;\n",
              "    }\n",
              "\n",
              "    .colab-df-convert {\n",
              "      background-color: #E8F0FE;\n",
              "      border: none;\n",
              "      border-radius: 50%;\n",
              "      cursor: pointer;\n",
              "      display: none;\n",
              "      fill: #1967D2;\n",
              "      height: 32px;\n",
              "      padding: 0 0 0 0;\n",
              "      width: 32px;\n",
              "    }\n",
              "\n",
              "    .colab-df-convert:hover {\n",
              "      background-color: #E2EBFA;\n",
              "      box-shadow: 0px 1px 2px rgba(60, 64, 67, 0.3), 0px 1px 3px 1px rgba(60, 64, 67, 0.15);\n",
              "      fill: #174EA6;\n",
              "    }\n",
              "\n",
              "    [theme=dark] .colab-df-convert {\n",
              "      background-color: #3B4455;\n",
              "      fill: #D2E3FC;\n",
              "    }\n",
              "\n",
              "    [theme=dark] .colab-df-convert:hover {\n",
              "      background-color: #434B5C;\n",
              "      box-shadow: 0px 1px 3px 1px rgba(0, 0, 0, 0.15);\n",
              "      filter: drop-shadow(0px 1px 2px rgba(0, 0, 0, 0.3));\n",
              "      fill: #FFFFFF;\n",
              "    }\n",
              "  </style>\n",
              "\n",
              "      <script>\n",
              "        const buttonEl =\n",
              "          document.querySelector('#df-0ce37de0-b6a9-4546-b3d8-d02543c22c57 button.colab-df-convert');\n",
              "        buttonEl.style.display =\n",
              "          google.colab.kernel.accessAllowed ? 'block' : 'none';\n",
              "\n",
              "        async function convertToInteractive(key) {\n",
              "          const element = document.querySelector('#df-0ce37de0-b6a9-4546-b3d8-d02543c22c57');\n",
              "          const dataTable =\n",
              "            await google.colab.kernel.invokeFunction('convertToInteractive',\n",
              "                                                     [key], {});\n",
              "          if (!dataTable) return;\n",
              "\n",
              "          const docLinkHtml = 'Like what you see? Visit the ' +\n",
              "            '<a target=\"_blank\" href=https://colab.research.google.com/notebooks/data_table.ipynb>data table notebook</a>'\n",
              "            + ' to learn more about interactive tables.';\n",
              "          element.innerHTML = '';\n",
              "          dataTable['output_type'] = 'display_data';\n",
              "          await google.colab.output.renderOutput(dataTable, element);\n",
              "          const docLink = document.createElement('div');\n",
              "          docLink.innerHTML = docLinkHtml;\n",
              "          element.appendChild(docLink);\n",
              "        }\n",
              "      </script>\n",
              "    </div>\n",
              "  </div>\n",
              "  "
            ]
          },
          "metadata": {},
          "execution_count": 115
        }
      ]
    },
    {
      "cell_type": "code",
      "source": [
        "filtro_sub_jan_was.columns = ['dia', 'total']"
      ],
      "metadata": {
        "id": "NP8KmOlp_EtI"
      },
      "execution_count": 116,
      "outputs": []
    },
    {
      "cell_type": "code",
      "source": [
        "filtro_sub_jan_was"
      ],
      "metadata": {
        "colab": {
          "base_uri": "https://localhost:8080/",
          "height": 269
        },
        "id": "j_k_g6KP_L3s",
        "outputId": "23c9fe1e-c824-4379-8b30-cd28ce64c1ce"
      },
      "execution_count": 117,
      "outputs": [
        {
          "output_type": "execute_result",
          "data": {
            "text/plain": [
              "         dia  total\n",
              "0   Thursday    408\n",
              "1     Friday    375\n",
              "2  Wednesday    312\n",
              "3   Saturday    307\n",
              "4    Tuesday    286\n",
              "5     Sunday    264\n",
              "6     Monday    260"
            ],
            "text/html": [
              "\n",
              "  <div id=\"df-cf8050b8-4689-45ec-8d95-2a04c379799e\">\n",
              "    <div class=\"colab-df-container\">\n",
              "      <div>\n",
              "<style scoped>\n",
              "    .dataframe tbody tr th:only-of-type {\n",
              "        vertical-align: middle;\n",
              "    }\n",
              "\n",
              "    .dataframe tbody tr th {\n",
              "        vertical-align: top;\n",
              "    }\n",
              "\n",
              "    .dataframe thead th {\n",
              "        text-align: right;\n",
              "    }\n",
              "</style>\n",
              "<table border=\"1\" class=\"dataframe\">\n",
              "  <thead>\n",
              "    <tr style=\"text-align: right;\">\n",
              "      <th></th>\n",
              "      <th>dia</th>\n",
              "      <th>total</th>\n",
              "    </tr>\n",
              "  </thead>\n",
              "  <tbody>\n",
              "    <tr>\n",
              "      <th>0</th>\n",
              "      <td>Thursday</td>\n",
              "      <td>408</td>\n",
              "    </tr>\n",
              "    <tr>\n",
              "      <th>1</th>\n",
              "      <td>Friday</td>\n",
              "      <td>375</td>\n",
              "    </tr>\n",
              "    <tr>\n",
              "      <th>2</th>\n",
              "      <td>Wednesday</td>\n",
              "      <td>312</td>\n",
              "    </tr>\n",
              "    <tr>\n",
              "      <th>3</th>\n",
              "      <td>Saturday</td>\n",
              "      <td>307</td>\n",
              "    </tr>\n",
              "    <tr>\n",
              "      <th>4</th>\n",
              "      <td>Tuesday</td>\n",
              "      <td>286</td>\n",
              "    </tr>\n",
              "    <tr>\n",
              "      <th>5</th>\n",
              "      <td>Sunday</td>\n",
              "      <td>264</td>\n",
              "    </tr>\n",
              "    <tr>\n",
              "      <th>6</th>\n",
              "      <td>Monday</td>\n",
              "      <td>260</td>\n",
              "    </tr>\n",
              "  </tbody>\n",
              "</table>\n",
              "</div>\n",
              "      <button class=\"colab-df-convert\" onclick=\"convertToInteractive('df-cf8050b8-4689-45ec-8d95-2a04c379799e')\"\n",
              "              title=\"Convert this dataframe to an interactive table.\"\n",
              "              style=\"display:none;\">\n",
              "        \n",
              "  <svg xmlns=\"http://www.w3.org/2000/svg\" height=\"24px\"viewBox=\"0 0 24 24\"\n",
              "       width=\"24px\">\n",
              "    <path d=\"M0 0h24v24H0V0z\" fill=\"none\"/>\n",
              "    <path d=\"M18.56 5.44l.94 2.06.94-2.06 2.06-.94-2.06-.94-.94-2.06-.94 2.06-2.06.94zm-11 1L8.5 8.5l.94-2.06 2.06-.94-2.06-.94L8.5 2.5l-.94 2.06-2.06.94zm10 10l.94 2.06.94-2.06 2.06-.94-2.06-.94-.94-2.06-.94 2.06-2.06.94z\"/><path d=\"M17.41 7.96l-1.37-1.37c-.4-.4-.92-.59-1.43-.59-.52 0-1.04.2-1.43.59L10.3 9.45l-7.72 7.72c-.78.78-.78 2.05 0 2.83L4 21.41c.39.39.9.59 1.41.59.51 0 1.02-.2 1.41-.59l7.78-7.78 2.81-2.81c.8-.78.8-2.07 0-2.86zM5.41 20L4 18.59l7.72-7.72 1.47 1.35L5.41 20z\"/>\n",
              "  </svg>\n",
              "      </button>\n",
              "      \n",
              "  <style>\n",
              "    .colab-df-container {\n",
              "      display:flex;\n",
              "      flex-wrap:wrap;\n",
              "      gap: 12px;\n",
              "    }\n",
              "\n",
              "    .colab-df-convert {\n",
              "      background-color: #E8F0FE;\n",
              "      border: none;\n",
              "      border-radius: 50%;\n",
              "      cursor: pointer;\n",
              "      display: none;\n",
              "      fill: #1967D2;\n",
              "      height: 32px;\n",
              "      padding: 0 0 0 0;\n",
              "      width: 32px;\n",
              "    }\n",
              "\n",
              "    .colab-df-convert:hover {\n",
              "      background-color: #E2EBFA;\n",
              "      box-shadow: 0px 1px 2px rgba(60, 64, 67, 0.3), 0px 1px 3px 1px rgba(60, 64, 67, 0.15);\n",
              "      fill: #174EA6;\n",
              "    }\n",
              "\n",
              "    [theme=dark] .colab-df-convert {\n",
              "      background-color: #3B4455;\n",
              "      fill: #D2E3FC;\n",
              "    }\n",
              "\n",
              "    [theme=dark] .colab-df-convert:hover {\n",
              "      background-color: #434B5C;\n",
              "      box-shadow: 0px 1px 3px 1px rgba(0, 0, 0, 0.15);\n",
              "      filter: drop-shadow(0px 1px 2px rgba(0, 0, 0, 0.3));\n",
              "      fill: #FFFFFF;\n",
              "    }\n",
              "  </style>\n",
              "\n",
              "      <script>\n",
              "        const buttonEl =\n",
              "          document.querySelector('#df-cf8050b8-4689-45ec-8d95-2a04c379799e button.colab-df-convert');\n",
              "        buttonEl.style.display =\n",
              "          google.colab.kernel.accessAllowed ? 'block' : 'none';\n",
              "\n",
              "        async function convertToInteractive(key) {\n",
              "          const element = document.querySelector('#df-cf8050b8-4689-45ec-8d95-2a04c379799e');\n",
              "          const dataTable =\n",
              "            await google.colab.kernel.invokeFunction('convertToInteractive',\n",
              "                                                     [key], {});\n",
              "          if (!dataTable) return;\n",
              "\n",
              "          const docLinkHtml = 'Like what you see? Visit the ' +\n",
              "            '<a target=\"_blank\" href=https://colab.research.google.com/notebooks/data_table.ipynb>data table notebook</a>'\n",
              "            + ' to learn more about interactive tables.';\n",
              "          element.innerHTML = '';\n",
              "          dataTable['output_type'] = 'display_data';\n",
              "          await google.colab.output.renderOutput(dataTable, element);\n",
              "          const docLink = document.createElement('div');\n",
              "          docLink.innerHTML = docLinkHtml;\n",
              "          element.appendChild(docLink);\n",
              "        }\n",
              "      </script>\n",
              "    </div>\n",
              "  </div>\n",
              "  "
            ]
          },
          "metadata": {},
          "execution_count": 117
        }
      ]
    },
    {
      "cell_type": "code",
      "source": [
        "plt.figure(figsize=(12,8))\n",
        "sns.barplot(x=\"dia\", y=\"total\", data = filtro_sub_jan_was)"
      ],
      "metadata": {
        "colab": {
          "base_uri": "https://localhost:8080/",
          "height": 514
        },
        "id": "I9ce761j_Mau",
        "outputId": "fbeff41c-8df9-491f-bd91-5747629ea432"
      },
      "execution_count": 118,
      "outputs": [
        {
          "output_type": "execute_result",
          "data": {
            "text/plain": [
              "<matplotlib.axes._subplots.AxesSubplot at 0x7fde15a684d0>"
            ]
          },
          "metadata": {},
          "execution_count": 118
        },
        {
          "output_type": "display_data",
          "data": {
            "text/plain": [
              "<Figure size 864x576 with 1 Axes>"
            ],
            "image/png": "[encoded data removed]"
          },
          "metadata": {
            "needs_background": "light"
          }
        }
      ]
    },
    {
      "cell_type": "markdown",
      "source": [
        "**Fevereiro**"
      ],
      "metadata": {
        "id": "8zvZjRGs_aSh"
      }
    },
    {
      "cell_type": "code",
      "source": [
        "filtro_sub_fev_was = subscriber_was['mes'] == \"fev\""
      ],
      "metadata": {
        "id": "-BUG18bg_Zmz"
      },
      "execution_count": 119,
      "outputs": []
    },
    {
      "cell_type": "code",
      "source": [
        "filtro_sub_fev_was = subscriber_was[filtro_sub_fev_was]"
      ],
      "metadata": {
        "id": "UYuuFtTC_S4D"
      },
      "execution_count": 120,
      "outputs": []
    },
    {
      "cell_type": "code",
      "source": [
        "filtro_sub_fev_was"
      ],
      "metadata": {
        "colab": {
          "base_uri": "https://localhost:8080/",
          "height": 424
        },
        "id": "aGf2Ti3A_oRs",
        "outputId": "080d1cc3-a32f-4466-d2db-c71c8f47cc1e"
      },
      "execution_count": 121,
      "outputs": [
        {
          "output_type": "execute_result",
          "data": {
            "text/plain": [
              "        duracao  mes  hora dia_semana tipo_usuario\n",
              "5571   7.514917  fev    23     Monday   Subscriber\n",
              "5572  19.111333  fev    23     Monday   Subscriber\n",
              "5573   1.299983  fev    22     Monday   Subscriber\n",
              "5574   4.808983  fev    22     Monday   Subscriber\n",
              "5575  17.798450  fev    22     Monday   Subscriber\n",
              "...         ...  ...   ...        ...          ...\n",
              "8420   5.122833  fev     6     Monday   Subscriber\n",
              "8421  12.389317  fev     6     Monday   Subscriber\n",
              "8422  11.508233  fev     6     Monday   Subscriber\n",
              "8423   7.440017  fev     5     Monday   Subscriber\n",
              "8424   2.135733  fev     5     Monday   Subscriber\n",
              "\n",
              "[2571 rows x 5 columns]"
            ],
            "text/html": [
              "\n",
              "  <div id=\"df-49356944-3a80-412d-8c36-e1b3b6d17d11\">\n",
              "    <div class=\"colab-df-container\">\n",
              "      <div>\n",
              "<style scoped>\n",
              "    .dataframe tbody tr th:only-of-type {\n",
              "        vertical-align: middle;\n",
              "    }\n",
              "\n",
              "    .dataframe tbody tr th {\n",
              "        vertical-align: top;\n",
              "    }\n",
              "\n",
              "    .dataframe thead th {\n",
              "        text-align: right;\n",
              "    }\n",
              "</style>\n",
              "<table border=\"1\" class=\"dataframe\">\n",
              "  <thead>\n",
              "    <tr style=\"text-align: right;\">\n",
              "      <th></th>\n",
              "      <th>duracao</th>\n",
              "      <th>mes</th>\n",
              "      <th>hora</th>\n",
              "      <th>dia_semana</th>\n",
              "      <th>tipo_usuario</th>\n",
              "    </tr>\n",
              "  </thead>\n",
              "  <tbody>\n",
              "    <tr>\n",
              "      <th>5571</th>\n",
              "      <td>7.514917</td>\n",
              "      <td>fev</td>\n",
              "      <td>23</td>\n",
              "      <td>Monday</td>\n",
              "      <td>Subscriber</td>\n",
              "    </tr>\n",
              "    <tr>\n",
              "      <th>5572</th>\n",
              "      <td>19.111333</td>\n",
              "      <td>fev</td>\n",
              "      <td>23</td>\n",
              "      <td>Monday</td>\n",
              "      <td>Subscriber</td>\n",
              "    </tr>\n",
              "    <tr>\n",
              "      <th>5573</th>\n",
              "      <td>1.299983</td>\n",
              "      <td>fev</td>\n",
              "      <td>22</td>\n",
              "      <td>Monday</td>\n",
              "      <td>Subscriber</td>\n",
              "    </tr>\n",
              "    <tr>\n",
              "      <th>5574</th>\n",
              "      <td>4.808983</td>\n",
              "      <td>fev</td>\n",
              "      <td>22</td>\n",
              "      <td>Monday</td>\n",
              "      <td>Subscriber</td>\n",
              "    </tr>\n",
              "    <tr>\n",
              "      <th>5575</th>\n",
              "      <td>17.798450</td>\n",
              "      <td>fev</td>\n",
              "      <td>22</td>\n",
              "      <td>Monday</td>\n",
              "      <td>Subscriber</td>\n",
              "    </tr>\n",
              "    <tr>\n",
              "      <th>...</th>\n",
              "      <td>...</td>\n",
              "      <td>...</td>\n",
              "      <td>...</td>\n",
              "      <td>...</td>\n",
              "      <td>...</td>\n",
              "    </tr>\n",
              "    <tr>\n",
              "      <th>8420</th>\n",
              "      <td>5.122833</td>\n",
              "      <td>fev</td>\n",
              "      <td>6</td>\n",
              "      <td>Monday</td>\n",
              "      <td>Subscriber</td>\n",
              "    </tr>\n",
              "    <tr>\n",
              "      <th>8421</th>\n",
              "      <td>12.389317</td>\n",
              "      <td>fev</td>\n",
              "      <td>6</td>\n",
              "      <td>Monday</td>\n",
              "      <td>Subscriber</td>\n",
              "    </tr>\n",
              "    <tr>\n",
              "      <th>8422</th>\n",
              "      <td>11.508233</td>\n",
              "      <td>fev</td>\n",
              "      <td>6</td>\n",
              "      <td>Monday</td>\n",
              "      <td>Subscriber</td>\n",
              "    </tr>\n",
              "    <tr>\n",
              "      <th>8423</th>\n",
              "      <td>7.440017</td>\n",
              "      <td>fev</td>\n",
              "      <td>5</td>\n",
              "      <td>Monday</td>\n",
              "      <td>Subscriber</td>\n",
              "    </tr>\n",
              "    <tr>\n",
              "      <th>8424</th>\n",
              "      <td>2.135733</td>\n",
              "      <td>fev</td>\n",
              "      <td>5</td>\n",
              "      <td>Monday</td>\n",
              "      <td>Subscriber</td>\n",
              "    </tr>\n",
              "  </tbody>\n",
              "</table>\n",
              "<p>2571 rows × 5 columns</p>\n",
              "</div>\n",
              "      <button class=\"colab-df-convert\" onclick=\"convertToInteractive('df-49356944-3a80-412d-8c36-e1b3b6d17d11')\"\n",
              "              title=\"Convert this dataframe to an interactive table.\"\n",
              "              style=\"display:none;\">\n",
              "        \n",
              "  <svg xmlns=\"http://www.w3.org/2000/svg\" height=\"24px\"viewBox=\"0 0 24 24\"\n",
              "       width=\"24px\">\n",
              "    <path d=\"M0 0h24v24H0V0z\" fill=\"none\"/>\n",
              "    <path d=\"M18.56 5.44l.94 2.06.94-2.06 2.06-.94-2.06-.94-.94-2.06-.94 2.06-2.06.94zm-11 1L8.5 8.5l.94-2.06 2.06-.94-2.06-.94L8.5 2.5l-.94 2.06-2.06.94zm10 10l.94 2.06.94-2.06 2.06-.94-2.06-.94-.94-2.06-.94 2.06-2.06.94z\"/><path d=\"M17.41 7.96l-1.37-1.37c-.4-.4-.92-.59-1.43-.59-.52 0-1.04.2-1.43.59L10.3 9.45l-7.72 7.72c-.78.78-.78 2.05 0 2.83L4 21.41c.39.39.9.59 1.41.59.51 0 1.02-.2 1.41-.59l7.78-7.78 2.81-2.81c.8-.78.8-2.07 0-2.86zM5.41 20L4 18.59l7.72-7.72 1.47 1.35L5.41 20z\"/>\n",
              "  </svg>\n",
              "      </button>\n",
              "      \n",
              "  <style>\n",
              "    .colab-df-container {\n",
              "      display:flex;\n",
              "      flex-wrap:wrap;\n",
              "      gap: 12px;\n",
              "    }\n",
              "\n",
              "    .colab-df-convert {\n",
              "      background-color: #E8F0FE;\n",
              "      border: none;\n",
              "      border-radius: 50%;\n",
              "      cursor: pointer;\n",
              "      display: none;\n",
              "      fill: #1967D2;\n",
              "      height: 32px;\n",
              "      padding: 0 0 0 0;\n",
              "      width: 32px;\n",
              "    }\n",
              "\n",
              "    .colab-df-convert:hover {\n",
              "      background-color: #E2EBFA;\n",
              "      box-shadow: 0px 1px 2px rgba(60, 64, 67, 0.3), 0px 1px 3px 1px rgba(60, 64, 67, 0.15);\n",
              "      fill: #174EA6;\n",
              "    }\n",
              "\n",
              "    [theme=dark] .colab-df-convert {\n",
              "      background-color: #3B4455;\n",
              "      fill: #D2E3FC;\n",
              "    }\n",
              "\n",
              "    [theme=dark] .colab-df-convert:hover {\n",
              "      background-color: #434B5C;\n",
              "      box-shadow: 0px 1px 3px 1px rgba(0, 0, 0, 0.15);\n",
              "      filter: drop-shadow(0px 1px 2px rgba(0, 0, 0, 0.3));\n",
              "      fill: #FFFFFF;\n",
              "    }\n",
              "  </style>\n",
              "\n",
              "      <script>\n",
              "        const buttonEl =\n",
              "          document.querySelector('#df-49356944-3a80-412d-8c36-e1b3b6d17d11 button.colab-df-convert');\n",
              "        buttonEl.style.display =\n",
              "          google.colab.kernel.accessAllowed ? 'block' : 'none';\n",
              "\n",
              "        async function convertToInteractive(key) {\n",
              "          const element = document.querySelector('#df-49356944-3a80-412d-8c36-e1b3b6d17d11');\n",
              "          const dataTable =\n",
              "            await google.colab.kernel.invokeFunction('convertToInteractive',\n",
              "                                                     [key], {});\n",
              "          if (!dataTable) return;\n",
              "\n",
              "          const docLinkHtml = 'Like what you see? Visit the ' +\n",
              "            '<a target=\"_blank\" href=https://colab.research.google.com/notebooks/data_table.ipynb>data table notebook</a>'\n",
              "            + ' to learn more about interactive tables.';\n",
              "          element.innerHTML = '';\n",
              "          dataTable['output_type'] = 'display_data';\n",
              "          await google.colab.output.renderOutput(dataTable, element);\n",
              "          const docLink = document.createElement('div');\n",
              "          docLink.innerHTML = docLinkHtml;\n",
              "          element.appendChild(docLink);\n",
              "        }\n",
              "      </script>\n",
              "    </div>\n",
              "  </div>\n",
              "  "
            ]
          },
          "metadata": {},
          "execution_count": 121
        }
      ]
    },
    {
      "cell_type": "code",
      "source": [
        "filtro_sub_fev_was.dia_semana.value_counts()"
      ],
      "metadata": {
        "colab": {
          "base_uri": "https://localhost:8080/"
        },
        "id": "b1CkxmTc_3tk",
        "outputId": "34518746-994f-4ae1-b91c-02d535ef62cf"
      },
      "execution_count": 122,
      "outputs": [
        {
          "output_type": "execute_result",
          "data": {
            "text/plain": [
              "Monday       470\n",
              "Thursday     448\n",
              "Friday       408\n",
              "Wednesday    331\n",
              "Saturday     310\n",
              "Tuesday      309\n",
              "Sunday       295\n",
              "Name: dia_semana, dtype: int64"
            ]
          },
          "metadata": {},
          "execution_count": 122
        }
      ]
    },
    {
      "cell_type": "code",
      "source": [
        "filtro_sub_fev_was = filtro_sub_fev_was.dia_semana.value_counts().to_frame().reset_index()"
      ],
      "metadata": {
        "id": "cAzhPPOcA22q"
      },
      "execution_count": 123,
      "outputs": []
    },
    {
      "cell_type": "code",
      "source": [
        "filtro_sub_fev_was"
      ],
      "metadata": {
        "colab": {
          "base_uri": "https://localhost:8080/",
          "height": 269
        },
        "id": "uTlRALRVA788",
        "outputId": "705c754d-3b47-4c83-ca5f-1c50fd3b30db"
      },
      "execution_count": 124,
      "outputs": [
        {
          "output_type": "execute_result",
          "data": {
            "text/plain": [
              "       index  dia_semana\n",
              "0     Monday         470\n",
              "1   Thursday         448\n",
              "2     Friday         408\n",
              "3  Wednesday         331\n",
              "4   Saturday         310\n",
              "5    Tuesday         309\n",
              "6     Sunday         295"
            ],
            "text/html": [
              "\n",
              "  <div id=\"df-769f392e-35b8-43cc-9f74-868d5ab593ab\">\n",
              "    <div class=\"colab-df-container\">\n",
              "      <div>\n",
              "<style scoped>\n",
              "    .dataframe tbody tr th:only-of-type {\n",
              "        vertical-align: middle;\n",
              "    }\n",
              "\n",
              "    .dataframe tbody tr th {\n",
              "        vertical-align: top;\n",
              "    }\n",
              "\n",
              "    .dataframe thead th {\n",
              "        text-align: right;\n",
              "    }\n",
              "</style>\n",
              "<table border=\"1\" class=\"dataframe\">\n",
              "  <thead>\n",
              "    <tr style=\"text-align: right;\">\n",
              "      <th></th>\n",
              "      <th>index</th>\n",
              "      <th>dia_semana</th>\n",
              "    </tr>\n",
              "  </thead>\n",
              "  <tbody>\n",
              "    <tr>\n",
              "      <th>0</th>\n",
              "      <td>Monday</td>\n",
              "      <td>470</td>\n",
              "    </tr>\n",
              "    <tr>\n",
              "      <th>1</th>\n",
              "      <td>Thursday</td>\n",
              "      <td>448</td>\n",
              "    </tr>\n",
              "    <tr>\n",
              "      <th>2</th>\n",
              "      <td>Friday</td>\n",
              "      <td>408</td>\n",
              "    </tr>\n",
              "    <tr>\n",
              "      <th>3</th>\n",
              "      <td>Wednesday</td>\n",
              "      <td>331</td>\n",
              "    </tr>\n",
              "    <tr>\n",
              "      <th>4</th>\n",
              "      <td>Saturday</td>\n",
              "      <td>310</td>\n",
              "    </tr>\n",
              "    <tr>\n",
              "      <th>5</th>\n",
              "      <td>Tuesday</td>\n",
              "      <td>309</td>\n",
              "    </tr>\n",
              "    <tr>\n",
              "      <th>6</th>\n",
              "      <td>Sunday</td>\n",
              "      <td>295</td>\n",
              "    </tr>\n",
              "  </tbody>\n",
              "</table>\n",
              "</div>\n",
              "      <button class=\"colab-df-convert\" onclick=\"convertToInteractive('df-769f392e-35b8-43cc-9f74-868d5ab593ab')\"\n",
              "              title=\"Convert this dataframe to an interactive table.\"\n",
              "              style=\"display:none;\">\n",
              "        \n",
              "  <svg xmlns=\"http://www.w3.org/2000/svg\" height=\"24px\"viewBox=\"0 0 24 24\"\n",
              "       width=\"24px\">\n",
              "    <path d=\"M0 0h24v24H0V0z\" fill=\"none\"/>\n",
              "    <path d=\"M18.56 5.44l.94 2.06.94-2.06 2.06-.94-2.06-.94-.94-2.06-.94 2.06-2.06.94zm-11 1L8.5 8.5l.94-2.06 2.06-.94-2.06-.94L8.5 2.5l-.94 2.06-2.06.94zm10 10l.94 2.06.94-2.06 2.06-.94-2.06-.94-.94-2.06-.94 2.06-2.06.94z\"/><path d=\"M17.41 7.96l-1.37-1.37c-.4-.4-.92-.59-1.43-.59-.52 0-1.04.2-1.43.59L10.3 9.45l-7.72 7.72c-.78.78-.78 2.05 0 2.83L4 21.41c.39.39.9.59 1.41.59.51 0 1.02-.2 1.41-.59l7.78-7.78 2.81-2.81c.8-.78.8-2.07 0-2.86zM5.41 20L4 18.59l7.72-7.72 1.47 1.35L5.41 20z\"/>\n",
              "  </svg>\n",
              "      </button>\n",
              "      \n",
              "  <style>\n",
              "    .colab-df-container {\n",
              "      display:flex;\n",
              "      flex-wrap:wrap;\n",
              "      gap: 12px;\n",
              "    }\n",
              "\n",
              "    .colab-df-convert {\n",
              "      background-color: #E8F0FE;\n",
              "      border: none;\n",
              "      border-radius: 50%;\n",
              "      cursor: pointer;\n",
              "      display: none;\n",
              "      fill: #1967D2;\n",
              "      height: 32px;\n",
              "      padding: 0 0 0 0;\n",
              "      width: 32px;\n",
              "    }\n",
              "\n",
              "    .colab-df-convert:hover {\n",
              "      background-color: #E2EBFA;\n",
              "      box-shadow: 0px 1px 2px rgba(60, 64, 67, 0.3), 0px 1px 3px 1px rgba(60, 64, 67, 0.15);\n",
              "      fill: #174EA6;\n",
              "    }\n",
              "\n",
              "    [theme=dark] .colab-df-convert {\n",
              "      background-color: #3B4455;\n",
              "      fill: #D2E3FC;\n",
              "    }\n",
              "\n",
              "    [theme=dark] .colab-df-convert:hover {\n",
              "      background-color: #434B5C;\n",
              "      box-shadow: 0px 1px 3px 1px rgba(0, 0, 0, 0.15);\n",
              "      filter: drop-shadow(0px 1px 2px rgba(0, 0, 0, 0.3));\n",
              "      fill: #FFFFFF;\n",
              "    }\n",
              "  </style>\n",
              "\n",
              "      <script>\n",
              "        const buttonEl =\n",
              "          document.querySelector('#df-769f392e-35b8-43cc-9f74-868d5ab593ab button.colab-df-convert');\n",
              "        buttonEl.style.display =\n",
              "          google.colab.kernel.accessAllowed ? 'block' : 'none';\n",
              "\n",
              "        async function convertToInteractive(key) {\n",
              "          const element = document.querySelector('#df-769f392e-35b8-43cc-9f74-868d5ab593ab');\n",
              "          const dataTable =\n",
              "            await google.colab.kernel.invokeFunction('convertToInteractive',\n",
              "                                                     [key], {});\n",
              "          if (!dataTable) return;\n",
              "\n",
              "          const docLinkHtml = 'Like what you see? Visit the ' +\n",
              "            '<a target=\"_blank\" href=https://colab.research.google.com/notebooks/data_table.ipynb>data table notebook</a>'\n",
              "            + ' to learn more about interactive tables.';\n",
              "          element.innerHTML = '';\n",
              "          dataTable['output_type'] = 'display_data';\n",
              "          await google.colab.output.renderOutput(dataTable, element);\n",
              "          const docLink = document.createElement('div');\n",
              "          docLink.innerHTML = docLinkHtml;\n",
              "          element.appendChild(docLink);\n",
              "        }\n",
              "      </script>\n",
              "    </div>\n",
              "  </div>\n",
              "  "
            ]
          },
          "metadata": {},
          "execution_count": 124
        }
      ]
    },
    {
      "cell_type": "code",
      "source": [
        "filtro_sub_fev_was.columns = ['dia','total']"
      ],
      "metadata": {
        "id": "DC0IHCgKA9f8"
      },
      "execution_count": 125,
      "outputs": []
    },
    {
      "cell_type": "code",
      "source": [
        "filtro_sub_fev_was"
      ],
      "metadata": {
        "colab": {
          "base_uri": "https://localhost:8080/",
          "height": 269
        },
        "id": "walhemCuBFqU",
        "outputId": "316e605b-fbf7-4a0f-bfe7-959b6cf2aa95"
      },
      "execution_count": 126,
      "outputs": [
        {
          "output_type": "execute_result",
          "data": {
            "text/plain": [
              "         dia  total\n",
              "0     Monday    470\n",
              "1   Thursday    448\n",
              "2     Friday    408\n",
              "3  Wednesday    331\n",
              "4   Saturday    310\n",
              "5    Tuesday    309\n",
              "6     Sunday    295"
            ],
            "text/html": [
              "\n",
              "  <div id=\"df-730198a1-0d8b-4030-acf2-ae62ced8e658\">\n",
              "    <div class=\"colab-df-container\">\n",
              "      <div>\n",
              "<style scoped>\n",
              "    .dataframe tbody tr th:only-of-type {\n",
              "        vertical-align: middle;\n",
              "    }\n",
              "\n",
              "    .dataframe tbody tr th {\n",
              "        vertical-align: top;\n",
              "    }\n",
              "\n",
              "    .dataframe thead th {\n",
              "        text-align: right;\n",
              "    }\n",
              "</style>\n",
              "<table border=\"1\" class=\"dataframe\">\n",
              "  <thead>\n",
              "    <tr style=\"text-align: right;\">\n",
              "      <th></th>\n",
              "      <th>dia</th>\n",
              "      <th>total</th>\n",
              "    </tr>\n",
              "  </thead>\n",
              "  <tbody>\n",
              "    <tr>\n",
              "      <th>0</th>\n",
              "      <td>Monday</td>\n",
              "      <td>470</td>\n",
              "    </tr>\n",
              "    <tr>\n",
              "      <th>1</th>\n",
              "      <td>Thursday</td>\n",
              "      <td>448</td>\n",
              "    </tr>\n",
              "    <tr>\n",
              "      <th>2</th>\n",
              "      <td>Friday</td>\n",
              "      <td>408</td>\n",
              "    </tr>\n",
              "    <tr>\n",
              "      <th>3</th>\n",
              "      <td>Wednesday</td>\n",
              "      <td>331</td>\n",
              "    </tr>\n",
              "    <tr>\n",
              "      <th>4</th>\n",
              "      <td>Saturday</td>\n",
              "      <td>310</td>\n",
              "    </tr>\n",
              "    <tr>\n",
              "      <th>5</th>\n",
              "      <td>Tuesday</td>\n",
              "      <td>309</td>\n",
              "    </tr>\n",
              "    <tr>\n",
              "      <th>6</th>\n",
              "      <td>Sunday</td>\n",
              "      <td>295</td>\n",
              "    </tr>\n",
              "  </tbody>\n",
              "</table>\n",
              "</div>\n",
              "      <button class=\"colab-df-convert\" onclick=\"convertToInteractive('df-730198a1-0d8b-4030-acf2-ae62ced8e658')\"\n",
              "              title=\"Convert this dataframe to an interactive table.\"\n",
              "              style=\"display:none;\">\n",
              "        \n",
              "  <svg xmlns=\"http://www.w3.org/2000/svg\" height=\"24px\"viewBox=\"0 0 24 24\"\n",
              "       width=\"24px\">\n",
              "    <path d=\"M0 0h24v24H0V0z\" fill=\"none\"/>\n",
              "    <path d=\"M18.56 5.44l.94 2.06.94-2.06 2.06-.94-2.06-.94-.94-2.06-.94 2.06-2.06.94zm-11 1L8.5 8.5l.94-2.06 2.06-.94-2.06-.94L8.5 2.5l-.94 2.06-2.06.94zm10 10l.94 2.06.94-2.06 2.06-.94-2.06-.94-.94-2.06-.94 2.06-2.06.94z\"/><path d=\"M17.41 7.96l-1.37-1.37c-.4-.4-.92-.59-1.43-.59-.52 0-1.04.2-1.43.59L10.3 9.45l-7.72 7.72c-.78.78-.78 2.05 0 2.83L4 21.41c.39.39.9.59 1.41.59.51 0 1.02-.2 1.41-.59l7.78-7.78 2.81-2.81c.8-.78.8-2.07 0-2.86zM5.41 20L4 18.59l7.72-7.72 1.47 1.35L5.41 20z\"/>\n",
              "  </svg>\n",
              "      </button>\n",
              "      \n",
              "  <style>\n",
              "    .colab-df-container {\n",
              "      display:flex;\n",
              "      flex-wrap:wrap;\n",
              "      gap: 12px;\n",
              "    }\n",
              "\n",
              "    .colab-df-convert {\n",
              "      background-color: #E8F0FE;\n",
              "      border: none;\n",
              "      border-radius: 50%;\n",
              "      cursor: pointer;\n",
              "      display: none;\n",
              "      fill: #1967D2;\n",
              "      height: 32px;\n",
              "      padding: 0 0 0 0;\n",
              "      width: 32px;\n",
              "    }\n",
              "\n",
              "    .colab-df-convert:hover {\n",
              "      background-color: #E2EBFA;\n",
              "      box-shadow: 0px 1px 2px rgba(60, 64, 67, 0.3), 0px 1px 3px 1px rgba(60, 64, 67, 0.15);\n",
              "      fill: #174EA6;\n",
              "    }\n",
              "\n",
              "    [theme=dark] .colab-df-convert {\n",
              "      background-color: #3B4455;\n",
              "      fill: #D2E3FC;\n",
              "    }\n",
              "\n",
              "    [theme=dark] .colab-df-convert:hover {\n",
              "      background-color: #434B5C;\n",
              "      box-shadow: 0px 1px 3px 1px rgba(0, 0, 0, 0.15);\n",
              "      filter: drop-shadow(0px 1px 2px rgba(0, 0, 0, 0.3));\n",
              "      fill: #FFFFFF;\n",
              "    }\n",
              "  </style>\n",
              "\n",
              "      <script>\n",
              "        const buttonEl =\n",
              "          document.querySelector('#df-730198a1-0d8b-4030-acf2-ae62ced8e658 button.colab-df-convert');\n",
              "        buttonEl.style.display =\n",
              "          google.colab.kernel.accessAllowed ? 'block' : 'none';\n",
              "\n",
              "        async function convertToInteractive(key) {\n",
              "          const element = document.querySelector('#df-730198a1-0d8b-4030-acf2-ae62ced8e658');\n",
              "          const dataTable =\n",
              "            await google.colab.kernel.invokeFunction('convertToInteractive',\n",
              "                                                     [key], {});\n",
              "          if (!dataTable) return;\n",
              "\n",
              "          const docLinkHtml = 'Like what you see? Visit the ' +\n",
              "            '<a target=\"_blank\" href=https://colab.research.google.com/notebooks/data_table.ipynb>data table notebook</a>'\n",
              "            + ' to learn more about interactive tables.';\n",
              "          element.innerHTML = '';\n",
              "          dataTable['output_type'] = 'display_data';\n",
              "          await google.colab.output.renderOutput(dataTable, element);\n",
              "          const docLink = document.createElement('div');\n",
              "          docLink.innerHTML = docLinkHtml;\n",
              "          element.appendChild(docLink);\n",
              "        }\n",
              "      </script>\n",
              "    </div>\n",
              "  </div>\n",
              "  "
            ]
          },
          "metadata": {},
          "execution_count": 126
        }
      ]
    },
    {
      "cell_type": "code",
      "source": [
        "plt.figure(figsize=(12,8))\n",
        "sns.barplot(x=\"dia\", y=\"total\", data = filtro_sub_fev_was)"
      ],
      "metadata": {
        "colab": {
          "base_uri": "https://localhost:8080/",
          "height": 514
        },
        "id": "gUYngwrxBKDH",
        "outputId": "6773d32b-d1e2-4317-887b-641a29619b41"
      },
      "execution_count": 127,
      "outputs": [
        {
          "output_type": "execute_result",
          "data": {
            "text/plain": [
              "<matplotlib.axes._subplots.AxesSubplot at 0x7fde1534d510>"
            ]
          },
          "metadata": {},
          "execution_count": 127
        },
        {
          "output_type": "display_data",
          "data": {
            "text/plain": [
              "<Figure size 864x576 with 1 Axes>"
            ],
            "image/png": "[encoded data removed]"
          },
          "metadata": {
            "needs_background": "light"
          }
        }
      ]
    },
    {
      "cell_type": "markdown",
      "source": [
        "**Março**"
      ],
      "metadata": {
        "id": "f2MHO6sIBW_z"
      }
    },
    {
      "cell_type": "code",
      "source": [
        "filtro_sub_mar_was = subscriber_was['mes'] == \"mar\""
      ],
      "metadata": {
        "id": "o5Wfi_AYBRjJ"
      },
      "execution_count": 128,
      "outputs": []
    },
    {
      "cell_type": "code",
      "source": [
        "filtro_sub_mar_was = subscriber_was[filtro_sub_mar_was]"
      ],
      "metadata": {
        "id": "0x802rLwByws"
      },
      "execution_count": 129,
      "outputs": []
    },
    {
      "cell_type": "code",
      "source": [
        "filtro_sub_mar_was"
      ],
      "metadata": {
        "colab": {
          "base_uri": "https://localhost:8080/",
          "height": 424
        },
        "id": "BZH9wk-PB0Hm",
        "outputId": "af03f5e1-a8db-480d-855f-43b10f200620"
      },
      "execution_count": 130,
      "outputs": [
        {
          "output_type": "execute_result",
          "data": {
            "text/plain": [
              "        duracao  mes  hora dia_semana tipo_usuario\n",
              "0      7.123117  mar    22   Thursday   Subscriber\n",
              "1      9.792517  mar    22   Thursday   Subscriber\n",
              "2      6.632983  mar    22   Thursday   Subscriber\n",
              "3      7.404700  mar    22   Thursday   Subscriber\n",
              "4     13.014583  mar    22   Thursday   Subscriber\n",
              "...         ...  ...   ...        ...          ...\n",
              "5566  20.393917  mar     6    Tuesday   Subscriber\n",
              "5567   6.902017  mar     6    Tuesday   Subscriber\n",
              "5568   6.644233  mar     6    Tuesday   Subscriber\n",
              "5569   3.598450  mar     6    Tuesday   Subscriber\n",
              "5570   3.212217  mar     5    Tuesday   Subscriber\n",
              "\n",
              "[4383 rows x 5 columns]"
            ],
            "text/html": [
              "\n",
              "  <div id=\"df-5f63a0b6-f551-4a3a-8e39-df4cad6ef4c0\">\n",
              "    <div class=\"colab-df-container\">\n",
              "      <div>\n",
              "<style scoped>\n",
              "    .dataframe tbody tr th:only-of-type {\n",
              "        vertical-align: middle;\n",
              "    }\n",
              "\n",
              "    .dataframe tbody tr th {\n",
              "        vertical-align: top;\n",
              "    }\n",
              "\n",
              "    .dataframe thead th {\n",
              "        text-align: right;\n",
              "    }\n",
              "</style>\n",
              "<table border=\"1\" class=\"dataframe\">\n",
              "  <thead>\n",
              "    <tr style=\"text-align: right;\">\n",
              "      <th></th>\n",
              "      <th>duracao</th>\n",
              "      <th>mes</th>\n",
              "      <th>hora</th>\n",
              "      <th>dia_semana</th>\n",
              "      <th>tipo_usuario</th>\n",
              "    </tr>\n",
              "  </thead>\n",
              "  <tbody>\n",
              "    <tr>\n",
              "      <th>0</th>\n",
              "      <td>7.123117</td>\n",
              "      <td>mar</td>\n",
              "      <td>22</td>\n",
              "      <td>Thursday</td>\n",
              "      <td>Subscriber</td>\n",
              "    </tr>\n",
              "    <tr>\n",
              "      <th>1</th>\n",
              "      <td>9.792517</td>\n",
              "      <td>mar</td>\n",
              "      <td>22</td>\n",
              "      <td>Thursday</td>\n",
              "      <td>Subscriber</td>\n",
              "    </tr>\n",
              "    <tr>\n",
              "      <th>2</th>\n",
              "      <td>6.632983</td>\n",
              "      <td>mar</td>\n",
              "      <td>22</td>\n",
              "      <td>Thursday</td>\n",
              "      <td>Subscriber</td>\n",
              "    </tr>\n",
              "    <tr>\n",
              "      <th>3</th>\n",
              "      <td>7.404700</td>\n",
              "      <td>mar</td>\n",
              "      <td>22</td>\n",
              "      <td>Thursday</td>\n",
              "      <td>Subscriber</td>\n",
              "    </tr>\n",
              "    <tr>\n",
              "      <th>4</th>\n",
              "      <td>13.014583</td>\n",
              "      <td>mar</td>\n",
              "      <td>22</td>\n",
              "      <td>Thursday</td>\n",
              "      <td>Subscriber</td>\n",
              "    </tr>\n",
              "    <tr>\n",
              "      <th>...</th>\n",
              "      <td>...</td>\n",
              "      <td>...</td>\n",
              "      <td>...</td>\n",
              "      <td>...</td>\n",
              "      <td>...</td>\n",
              "    </tr>\n",
              "    <tr>\n",
              "      <th>5566</th>\n",
              "      <td>20.393917</td>\n",
              "      <td>mar</td>\n",
              "      <td>6</td>\n",
              "      <td>Tuesday</td>\n",
              "      <td>Subscriber</td>\n",
              "    </tr>\n",
              "    <tr>\n",
              "      <th>5567</th>\n",
              "      <td>6.902017</td>\n",
              "      <td>mar</td>\n",
              "      <td>6</td>\n",
              "      <td>Tuesday</td>\n",
              "      <td>Subscriber</td>\n",
              "    </tr>\n",
              "    <tr>\n",
              "      <th>5568</th>\n",
              "      <td>6.644233</td>\n",
              "      <td>mar</td>\n",
              "      <td>6</td>\n",
              "      <td>Tuesday</td>\n",
              "      <td>Subscriber</td>\n",
              "    </tr>\n",
              "    <tr>\n",
              "      <th>5569</th>\n",
              "      <td>3.598450</td>\n",
              "      <td>mar</td>\n",
              "      <td>6</td>\n",
              "      <td>Tuesday</td>\n",
              "      <td>Subscriber</td>\n",
              "    </tr>\n",
              "    <tr>\n",
              "      <th>5570</th>\n",
              "      <td>3.212217</td>\n",
              "      <td>mar</td>\n",
              "      <td>5</td>\n",
              "      <td>Tuesday</td>\n",
              "      <td>Subscriber</td>\n",
              "    </tr>\n",
              "  </tbody>\n",
              "</table>\n",
              "<p>4383 rows × 5 columns</p>\n",
              "</div>\n",
              "      <button class=\"colab-df-convert\" onclick=\"convertToInteractive('df-5f63a0b6-f551-4a3a-8e39-df4cad6ef4c0')\"\n",
              "              title=\"Convert this dataframe to an interactive table.\"\n",
              "              style=\"display:none;\">\n",
              "        \n",
              "  <svg xmlns=\"http://www.w3.org/2000/svg\" height=\"24px\"viewBox=\"0 0 24 24\"\n",
              "       width=\"24px\">\n",
              "    <path d=\"M0 0h24v24H0V0z\" fill=\"none\"/>\n",
              "    <path d=\"M18.56 5.44l.94 2.06.94-2.06 2.06-.94-2.06-.94-.94-2.06-.94 2.06-2.06.94zm-11 1L8.5 8.5l.94-2.06 2.06-.94-2.06-.94L8.5 2.5l-.94 2.06-2.06.94zm10 10l.94 2.06.94-2.06 2.06-.94-2.06-.94-.94-2.06-.94 2.06-2.06.94z\"/><path d=\"M17.41 7.96l-1.37-1.37c-.4-.4-.92-.59-1.43-.59-.52 0-1.04.2-1.43.59L10.3 9.45l-7.72 7.72c-.78.78-.78 2.05 0 2.83L4 21.41c.39.39.9.59 1.41.59.51 0 1.02-.2 1.41-.59l7.78-7.78 2.81-2.81c.8-.78.8-2.07 0-2.86zM5.41 20L4 18.59l7.72-7.72 1.47 1.35L5.41 20z\"/>\n",
              "  </svg>\n",
              "      </button>\n",
              "      \n",
              "  <style>\n",
              "    .colab-df-container {\n",
              "      display:flex;\n",
              "      flex-wrap:wrap;\n",
              "      gap: 12px;\n",
              "    }\n",
              "\n",
              "    .colab-df-convert {\n",
              "      background-color: #E8F0FE;\n",
              "      border: none;\n",
              "      border-radius: 50%;\n",
              "      cursor: pointer;\n",
              "      display: none;\n",
              "      fill: #1967D2;\n",
              "      height: 32px;\n",
              "      padding: 0 0 0 0;\n",
              "      width: 32px;\n",
              "    }\n",
              "\n",
              "    .colab-df-convert:hover {\n",
              "      background-color: #E2EBFA;\n",
              "      box-shadow: 0px 1px 2px rgba(60, 64, 67, 0.3), 0px 1px 3px 1px rgba(60, 64, 67, 0.15);\n",
              "      fill: #174EA6;\n",
              "    }\n",
              "\n",
              "    [theme=dark] .colab-df-convert {\n",
              "      background-color: #3B4455;\n",
              "      fill: #D2E3FC;\n",
              "    }\n",
              "\n",
              "    [theme=dark] .colab-df-convert:hover {\n",
              "      background-color: #434B5C;\n",
              "      box-shadow: 0px 1px 3px 1px rgba(0, 0, 0, 0.15);\n",
              "      filter: drop-shadow(0px 1px 2px rgba(0, 0, 0, 0.3));\n",
              "      fill: #FFFFFF;\n",
              "    }\n",
              "  </style>\n",
              "\n",
              "      <script>\n",
              "        const buttonEl =\n",
              "          document.querySelector('#df-5f63a0b6-f551-4a3a-8e39-df4cad6ef4c0 button.colab-df-convert');\n",
              "        buttonEl.style.display =\n",
              "          google.colab.kernel.accessAllowed ? 'block' : 'none';\n",
              "\n",
              "        async function convertToInteractive(key) {\n",
              "          const element = document.querySelector('#df-5f63a0b6-f551-4a3a-8e39-df4cad6ef4c0');\n",
              "          const dataTable =\n",
              "            await google.colab.kernel.invokeFunction('convertToInteractive',\n",
              "                                                     [key], {});\n",
              "          if (!dataTable) return;\n",
              "\n",
              "          const docLinkHtml = 'Like what you see? Visit the ' +\n",
              "            '<a target=\"_blank\" href=https://colab.research.google.com/notebooks/data_table.ipynb>data table notebook</a>'\n",
              "            + ' to learn more about interactive tables.';\n",
              "          element.innerHTML = '';\n",
              "          dataTable['output_type'] = 'display_data';\n",
              "          await google.colab.output.renderOutput(dataTable, element);\n",
              "          const docLink = document.createElement('div');\n",
              "          docLink.innerHTML = docLinkHtml;\n",
              "          element.appendChild(docLink);\n",
              "        }\n",
              "      </script>\n",
              "    </div>\n",
              "  </div>\n",
              "  "
            ]
          },
          "metadata": {},
          "execution_count": 130
        }
      ]
    },
    {
      "cell_type": "code",
      "source": [
        "filtro_sub_mar_was.dia_semana.value_counts()"
      ],
      "metadata": {
        "colab": {
          "base_uri": "https://localhost:8080/"
        },
        "id": "jHOsOIPgB9Re",
        "outputId": "56672327-0f89-4217-9dde-3856a6bf5023"
      },
      "execution_count": 131,
      "outputs": [
        {
          "output_type": "execute_result",
          "data": {
            "text/plain": [
              "Wednesday    841\n",
              "Thursday     837\n",
              "Tuesday      797\n",
              "Friday       583\n",
              "Monday       579\n",
              "Saturday     428\n",
              "Sunday       318\n",
              "Name: dia_semana, dtype: int64"
            ]
          },
          "metadata": {},
          "execution_count": 131
        }
      ]
    },
    {
      "cell_type": "code",
      "source": [
        "filtro_sub_mar_was = filtro_sub_mar_was.dia_semana.value_counts().to_frame().reset_index()"
      ],
      "metadata": {
        "id": "IXGLMGUeCB3l"
      },
      "execution_count": 132,
      "outputs": []
    },
    {
      "cell_type": "code",
      "source": [
        "filtro_sub_mar_was"
      ],
      "metadata": {
        "colab": {
          "base_uri": "https://localhost:8080/",
          "height": 269
        },
        "id": "GhUZgjgJCRNJ",
        "outputId": "e68b3a20-6d99-4517-be06-085d5766e7b6"
      },
      "execution_count": 133,
      "outputs": [
        {
          "output_type": "execute_result",
          "data": {
            "text/plain": [
              "       index  dia_semana\n",
              "0  Wednesday         841\n",
              "1   Thursday         837\n",
              "2    Tuesday         797\n",
              "3     Friday         583\n",
              "4     Monday         579\n",
              "5   Saturday         428\n",
              "6     Sunday         318"
            ],
            "text/html": [
              "\n",
              "  <div id=\"df-ff1433d5-bdb6-40b5-b47e-1c76f18d144c\">\n",
              "    <div class=\"colab-df-container\">\n",
              "      <div>\n",
              "<style scoped>\n",
              "    .dataframe tbody tr th:only-of-type {\n",
              "        vertical-align: middle;\n",
              "    }\n",
              "\n",
              "    .dataframe tbody tr th {\n",
              "        vertical-align: top;\n",
              "    }\n",
              "\n",
              "    .dataframe thead th {\n",
              "        text-align: right;\n",
              "    }\n",
              "</style>\n",
              "<table border=\"1\" class=\"dataframe\">\n",
              "  <thead>\n",
              "    <tr style=\"text-align: right;\">\n",
              "      <th></th>\n",
              "      <th>index</th>\n",
              "      <th>dia_semana</th>\n",
              "    </tr>\n",
              "  </thead>\n",
              "  <tbody>\n",
              "    <tr>\n",
              "      <th>0</th>\n",
              "      <td>Wednesday</td>\n",
              "      <td>841</td>\n",
              "    </tr>\n",
              "    <tr>\n",
              "      <th>1</th>\n",
              "      <td>Thursday</td>\n",
              "      <td>837</td>\n",
              "    </tr>\n",
              "    <tr>\n",
              "      <th>2</th>\n",
              "      <td>Tuesday</td>\n",
              "      <td>797</td>\n",
              "    </tr>\n",
              "    <tr>\n",
              "      <th>3</th>\n",
              "      <td>Friday</td>\n",
              "      <td>583</td>\n",
              "    </tr>\n",
              "    <tr>\n",
              "      <th>4</th>\n",
              "      <td>Monday</td>\n",
              "      <td>579</td>\n",
              "    </tr>\n",
              "    <tr>\n",
              "      <th>5</th>\n",
              "      <td>Saturday</td>\n",
              "      <td>428</td>\n",
              "    </tr>\n",
              "    <tr>\n",
              "      <th>6</th>\n",
              "      <td>Sunday</td>\n",
              "      <td>318</td>\n",
              "    </tr>\n",
              "  </tbody>\n",
              "</table>\n",
              "</div>\n",
              "      <button class=\"colab-df-convert\" onclick=\"convertToInteractive('df-ff1433d5-bdb6-40b5-b47e-1c76f18d144c')\"\n",
              "              title=\"Convert this dataframe to an interactive table.\"\n",
              "              style=\"display:none;\">\n",
              "        \n",
              "  <svg xmlns=\"http://www.w3.org/2000/svg\" height=\"24px\"viewBox=\"0 0 24 24\"\n",
              "       width=\"24px\">\n",
              "    <path d=\"M0 0h24v24H0V0z\" fill=\"none\"/>\n",
              "    <path d=\"M18.56 5.44l.94 2.06.94-2.06 2.06-.94-2.06-.94-.94-2.06-.94 2.06-2.06.94zm-11 1L8.5 8.5l.94-2.06 2.06-.94-2.06-.94L8.5 2.5l-.94 2.06-2.06.94zm10 10l.94 2.06.94-2.06 2.06-.94-2.06-.94-.94-2.06-.94 2.06-2.06.94z\"/><path d=\"M17.41 7.96l-1.37-1.37c-.4-.4-.92-.59-1.43-.59-.52 0-1.04.2-1.43.59L10.3 9.45l-7.72 7.72c-.78.78-.78 2.05 0 2.83L4 21.41c.39.39.9.59 1.41.59.51 0 1.02-.2 1.41-.59l7.78-7.78 2.81-2.81c.8-.78.8-2.07 0-2.86zM5.41 20L4 18.59l7.72-7.72 1.47 1.35L5.41 20z\"/>\n",
              "  </svg>\n",
              "      </button>\n",
              "      \n",
              "  <style>\n",
              "    .colab-df-container {\n",
              "      display:flex;\n",
              "      flex-wrap:wrap;\n",
              "      gap: 12px;\n",
              "    }\n",
              "\n",
              "    .colab-df-convert {\n",
              "      background-color: #E8F0FE;\n",
              "      border: none;\n",
              "      border-radius: 50%;\n",
              "      cursor: pointer;\n",
              "      display: none;\n",
              "      fill: #1967D2;\n",
              "      height: 32px;\n",
              "      padding: 0 0 0 0;\n",
              "      width: 32px;\n",
              "    }\n",
              "\n",
              "    .colab-df-convert:hover {\n",
              "      background-color: #E2EBFA;\n",
              "      box-shadow: 0px 1px 2px rgba(60, 64, 67, 0.3), 0px 1px 3px 1px rgba(60, 64, 67, 0.15);\n",
              "      fill: #174EA6;\n",
              "    }\n",
              "\n",
              "    [theme=dark] .colab-df-convert {\n",
              "      background-color: #3B4455;\n",
              "      fill: #D2E3FC;\n",
              "    }\n",
              "\n",
              "    [theme=dark] .colab-df-convert:hover {\n",
              "      background-color: #434B5C;\n",
              "      box-shadow: 0px 1px 3px 1px rgba(0, 0, 0, 0.15);\n",
              "      filter: drop-shadow(0px 1px 2px rgba(0, 0, 0, 0.3));\n",
              "      fill: #FFFFFF;\n",
              "    }\n",
              "  </style>\n",
              "\n",
              "      <script>\n",
              "        const buttonEl =\n",
              "          document.querySelector('#df-ff1433d5-bdb6-40b5-b47e-1c76f18d144c button.colab-df-convert');\n",
              "        buttonEl.style.display =\n",
              "          google.colab.kernel.accessAllowed ? 'block' : 'none';\n",
              "\n",
              "        async function convertToInteractive(key) {\n",
              "          const element = document.querySelector('#df-ff1433d5-bdb6-40b5-b47e-1c76f18d144c');\n",
              "          const dataTable =\n",
              "            await google.colab.kernel.invokeFunction('convertToInteractive',\n",
              "                                                     [key], {});\n",
              "          if (!dataTable) return;\n",
              "\n",
              "          const docLinkHtml = 'Like what you see? Visit the ' +\n",
              "            '<a target=\"_blank\" href=https://colab.research.google.com/notebooks/data_table.ipynb>data table notebook</a>'\n",
              "            + ' to learn more about interactive tables.';\n",
              "          element.innerHTML = '';\n",
              "          dataTable['output_type'] = 'display_data';\n",
              "          await google.colab.output.renderOutput(dataTable, element);\n",
              "          const docLink = document.createElement('div');\n",
              "          docLink.innerHTML = docLinkHtml;\n",
              "          element.appendChild(docLink);\n",
              "        }\n",
              "      </script>\n",
              "    </div>\n",
              "  </div>\n",
              "  "
            ]
          },
          "metadata": {},
          "execution_count": 133
        }
      ]
    },
    {
      "cell_type": "code",
      "source": [
        "filtro_sub_mar_was.columns = ['dia', 'total']\n",
        "filtro_sub_mar_was"
      ],
      "metadata": {
        "colab": {
          "base_uri": "https://localhost:8080/",
          "height": 269
        },
        "id": "_u-Ge3TBCXNZ",
        "outputId": "e417f7df-6572-4001-b7f6-edabad4f42b2"
      },
      "execution_count": 134,
      "outputs": [
        {
          "output_type": "execute_result",
          "data": {
            "text/plain": [
              "         dia  total\n",
              "0  Wednesday    841\n",
              "1   Thursday    837\n",
              "2    Tuesday    797\n",
              "3     Friday    583\n",
              "4     Monday    579\n",
              "5   Saturday    428\n",
              "6     Sunday    318"
            ],
            "text/html": [
              "\n",
              "  <div id=\"df-57784412-edb0-4da8-b6bf-26b38a36e468\">\n",
              "    <div class=\"colab-df-container\">\n",
              "      <div>\n",
              "<style scoped>\n",
              "    .dataframe tbody tr th:only-of-type {\n",
              "        vertical-align: middle;\n",
              "    }\n",
              "\n",
              "    .dataframe tbody tr th {\n",
              "        vertical-align: top;\n",
              "    }\n",
              "\n",
              "    .dataframe thead th {\n",
              "        text-align: right;\n",
              "    }\n",
              "</style>\n",
              "<table border=\"1\" class=\"dataframe\">\n",
              "  <thead>\n",
              "    <tr style=\"text-align: right;\">\n",
              "      <th></th>\n",
              "      <th>dia</th>\n",
              "      <th>total</th>\n",
              "    </tr>\n",
              "  </thead>\n",
              "  <tbody>\n",
              "    <tr>\n",
              "      <th>0</th>\n",
              "      <td>Wednesday</td>\n",
              "      <td>841</td>\n",
              "    </tr>\n",
              "    <tr>\n",
              "      <th>1</th>\n",
              "      <td>Thursday</td>\n",
              "      <td>837</td>\n",
              "    </tr>\n",
              "    <tr>\n",
              "      <th>2</th>\n",
              "      <td>Tuesday</td>\n",
              "      <td>797</td>\n",
              "    </tr>\n",
              "    <tr>\n",
              "      <th>3</th>\n",
              "      <td>Friday</td>\n",
              "      <td>583</td>\n",
              "    </tr>\n",
              "    <tr>\n",
              "      <th>4</th>\n",
              "      <td>Monday</td>\n",
              "      <td>579</td>\n",
              "    </tr>\n",
              "    <tr>\n",
              "      <th>5</th>\n",
              "      <td>Saturday</td>\n",
              "      <td>428</td>\n",
              "    </tr>\n",
              "    <tr>\n",
              "      <th>6</th>\n",
              "      <td>Sunday</td>\n",
              "      <td>318</td>\n",
              "    </tr>\n",
              "  </tbody>\n",
              "</table>\n",
              "</div>\n",
              "      <button class=\"colab-df-convert\" onclick=\"convertToInteractive('df-57784412-edb0-4da8-b6bf-26b38a36e468')\"\n",
              "              title=\"Convert this dataframe to an interactive table.\"\n",
              "              style=\"display:none;\">\n",
              "        \n",
              "  <svg xmlns=\"http://www.w3.org/2000/svg\" height=\"24px\"viewBox=\"0 0 24 24\"\n",
              "       width=\"24px\">\n",
              "    <path d=\"M0 0h24v24H0V0z\" fill=\"none\"/>\n",
              "    <path d=\"M18.56 5.44l.94 2.06.94-2.06 2.06-.94-2.06-.94-.94-2.06-.94 2.06-2.06.94zm-11 1L8.5 8.5l.94-2.06 2.06-.94-2.06-.94L8.5 2.5l-.94 2.06-2.06.94zm10 10l.94 2.06.94-2.06 2.06-.94-2.06-.94-.94-2.06-.94 2.06-2.06.94z\"/><path d=\"M17.41 7.96l-1.37-1.37c-.4-.4-.92-.59-1.43-.59-.52 0-1.04.2-1.43.59L10.3 9.45l-7.72 7.72c-.78.78-.78 2.05 0 2.83L4 21.41c.39.39.9.59 1.41.59.51 0 1.02-.2 1.41-.59l7.78-7.78 2.81-2.81c.8-.78.8-2.07 0-2.86zM5.41 20L4 18.59l7.72-7.72 1.47 1.35L5.41 20z\"/>\n",
              "  </svg>\n",
              "      </button>\n",
              "      \n",
              "  <style>\n",
              "    .colab-df-container {\n",
              "      display:flex;\n",
              "      flex-wrap:wrap;\n",
              "      gap: 12px;\n",
              "    }\n",
              "\n",
              "    .colab-df-convert {\n",
              "      background-color: #E8F0FE;\n",
              "      border: none;\n",
              "      border-radius: 50%;\n",
              "      cursor: pointer;\n",
              "      display: none;\n",
              "      fill: #1967D2;\n",
              "      height: 32px;\n",
              "      padding: 0 0 0 0;\n",
              "      width: 32px;\n",
              "    }\n",
              "\n",
              "    .colab-df-convert:hover {\n",
              "      background-color: #E2EBFA;\n",
              "      box-shadow: 0px 1px 2px rgba(60, 64, 67, 0.3), 0px 1px 3px 1px rgba(60, 64, 67, 0.15);\n",
              "      fill: #174EA6;\n",
              "    }\n",
              "\n",
              "    [theme=dark] .colab-df-convert {\n",
              "      background-color: #3B4455;\n",
              "      fill: #D2E3FC;\n",
              "    }\n",
              "\n",
              "    [theme=dark] .colab-df-convert:hover {\n",
              "      background-color: #434B5C;\n",
              "      box-shadow: 0px 1px 3px 1px rgba(0, 0, 0, 0.15);\n",
              "      filter: drop-shadow(0px 1px 2px rgba(0, 0, 0, 0.3));\n",
              "      fill: #FFFFFF;\n",
              "    }\n",
              "  </style>\n",
              "\n",
              "      <script>\n",
              "        const buttonEl =\n",
              "          document.querySelector('#df-57784412-edb0-4da8-b6bf-26b38a36e468 button.colab-df-convert');\n",
              "        buttonEl.style.display =\n",
              "          google.colab.kernel.accessAllowed ? 'block' : 'none';\n",
              "\n",
              "        async function convertToInteractive(key) {\n",
              "          const element = document.querySelector('#df-57784412-edb0-4da8-b6bf-26b38a36e468');\n",
              "          const dataTable =\n",
              "            await google.colab.kernel.invokeFunction('convertToInteractive',\n",
              "                                                     [key], {});\n",
              "          if (!dataTable) return;\n",
              "\n",
              "          const docLinkHtml = 'Like what you see? Visit the ' +\n",
              "            '<a target=\"_blank\" href=https://colab.research.google.com/notebooks/data_table.ipynb>data table notebook</a>'\n",
              "            + ' to learn more about interactive tables.';\n",
              "          element.innerHTML = '';\n",
              "          dataTable['output_type'] = 'display_data';\n",
              "          await google.colab.output.renderOutput(dataTable, element);\n",
              "          const docLink = document.createElement('div');\n",
              "          docLink.innerHTML = docLinkHtml;\n",
              "          element.appendChild(docLink);\n",
              "        }\n",
              "      </script>\n",
              "    </div>\n",
              "  </div>\n",
              "  "
            ]
          },
          "metadata": {},
          "execution_count": 134
        }
      ]
    },
    {
      "cell_type": "code",
      "source": [
        "plt.figure(figsize=(12,8))\n",
        "sns.barplot(x=\"dia\", y=\"total\", data = filtro_sub_mar_was)"
      ],
      "metadata": {
        "colab": {
          "base_uri": "https://localhost:8080/",
          "height": 514
        },
        "id": "RaNPnQGhChup",
        "outputId": "a4d2f732-3af3-4827-adf5-b88a0c2011b8"
      },
      "execution_count": 135,
      "outputs": [
        {
          "output_type": "execute_result",
          "data": {
            "text/plain": [
              "<matplotlib.axes._subplots.AxesSubplot at 0x7fde160eb310>"
            ]
          },
          "metadata": {},
          "execution_count": 135
        },
        {
          "output_type": "display_data",
          "data": {
            "text/plain": [
              "<Figure size 864x576 with 1 Axes>"
            ],
            "image/png": "[encoded data removed]"
          },
          "metadata": {
            "needs_background": "light"
          }
        }
      ]
    },
    {
      "cell_type": "markdown",
      "source": [
        "**Explorando os dias das semanas do primeiro trimestre (meses) de usuários Customer**"
      ],
      "metadata": {
        "id": "onyrVXcmCwxo"
      }
    },
    {
      "cell_type": "markdown",
      "source": [
        "**Janeiro**"
      ],
      "metadata": {
        "id": "NXEvenO1Cx9c"
      }
    },
    {
      "cell_type": "code",
      "source": [
        ""
      ],
      "metadata": {
        "id": "Me6wGSmyC04v"
      },
      "execution_count": 135,
      "outputs": []
    },
    {
      "cell_type": "code",
      "source": [
        ""
      ],
      "metadata": {
        "id": "pkNxgRxLC00r"
      },
      "execution_count": 135,
      "outputs": []
    },
    {
      "cell_type": "code",
      "source": [
        ""
      ],
      "metadata": {
        "id": "RWvb8GV8CsBf"
      },
      "execution_count": 135,
      "outputs": []
    },
    {
      "cell_type": "markdown",
      "source": [
        "Fevereiro"
      ],
      "metadata": {
        "id": "SuVKIJ0BC1pY"
      }
    },
    {
      "cell_type": "code",
      "source": [
        ""
      ],
      "metadata": {
        "id": "F1xN1cBJC39A"
      },
      "execution_count": 135,
      "outputs": []
    },
    {
      "cell_type": "code",
      "source": [
        ""
      ],
      "metadata": {
        "id": "FLkRC9_SC5k7"
      },
      "execution_count": 135,
      "outputs": []
    },
    {
      "cell_type": "code",
      "source": [
        ""
      ],
      "metadata": {
        "id": "rRT7hHJ1C5ae"
      },
      "execution_count": 135,
      "outputs": []
    },
    {
      "cell_type": "code",
      "source": [
        ""
      ],
      "metadata": {
        "id": "8FByGNr7C-k9"
      },
      "execution_count": 135,
      "outputs": []
    },
    {
      "cell_type": "markdown",
      "source": [
        "Março"
      ],
      "metadata": {
        "id": "blqdJMLZC7NC"
      }
    },
    {
      "cell_type": "code",
      "source": [
        ""
      ],
      "metadata": {
        "id": "X1c-KVYAC9Gj"
      },
      "execution_count": 135,
      "outputs": []
    },
    {
      "cell_type": "code",
      "source": [
        ""
      ],
      "metadata": {
        "id": "pNo-8k7HC-W1"
      },
      "execution_count": 135,
      "outputs": []
    },
    {
      "cell_type": "code",
      "source": [
        ""
      ],
      "metadata": {
        "id": "jCmG-jhLC992"
      },
      "execution_count": 135,
      "outputs": []
    }
  ]
}